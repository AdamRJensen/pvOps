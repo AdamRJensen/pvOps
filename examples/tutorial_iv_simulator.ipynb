{
 "cells": [
  {
   "cell_type": "markdown",
   "metadata": {},
   "source": [
    "## Simulator: A python class which simulates PV faults in IV curves\n",
    "\n",
    "### Step 1: Start off by instantiating the object."
   ]
  },
  {
   "cell_type": "code",
   "execution_count": 1,
   "metadata": {},
   "outputs": [],
   "source": [
    "import os\n",
    "import sys\n",
    "sys.path.append('..')\n",
    "IV_path = os.path.join('..', 'pvops', 'iv')\n",
    "sys.path.append(IV_path)\n",
    "\n",
    "from pvops.iv import simulator, extractor\n",
    "\n",
    "sim = simulator.Simulator()"
   ]
  },
  {
   "cell_type": "markdown",
   "metadata": {},
   "source": [
    "## Step 2: Definition of Faults\n",
    "\n",
    "Two methods exist to define a fault.\n",
    "1. Use a preexisting definition (defined by authors) by calling \n",
    "2. Manually define a fault\n"
   ]
  },
  {
   "cell_type": "markdown",
   "metadata": {},
   "source": [
    "## Preset definitions of faults \n",
    "\n",
    "        Parameters\n",
    "        ----------\n",
    "        fault_name: str\n",
    "                1) 'complete': entire module has fault_condition (e.g. Full module shading)\n",
    "                    Requires no other specifications\n",
    "                    e.g. add_preset_conditions('complete', fault_condition)\n",
    "                2) 'landscape': entire rows are affected by fault_condition (e.g. interrow shading)\n",
    "                    Requires specification of rows_aff\n",
    "                    e.g. add_preset_conditions('landscape', fault_condition, rows_aff = 2)\n",
    "                3) 'portrait': entire columns are affected by fault_condition (e.g. vegetation growth shading)\n",
    "                    Requires specification of cols_aff\n",
    "                    e.g. add_preset_conditions('portrait', fault_condition, cols_aff = 2)\n",
    "                4) 'pole': Place pole shadow over module\n",
    "                    Requires specification of width (integer), which designates the width of main shadow and \\\\\n",
    "                    requires light_shading fault_condition specification which specifies less intense shading \\\\\n",
    "                    on edges of shadow\n",
    "                    Optional: pos = (left, right) designates the start and end of the pole shading,\n",
    "                              where left is number in the first column and right is number in last column\n",
    "                        if pos not specified, the positions are chosen randomly\n",
    "                    e.g. add_preset_conditions('pole', fault_condition, light_shading = light_fault_condition, width = 2, pos = (5, 56))\n",
    "                5) 'bird_droppings': Random positions are chosen for bird_dropping simulations\n",
    "                    Optional specification is n_droppings. If not specified, chosen as random number between \n",
    "                    1 and the number of cells in a column\n",
    "                    e.g. add_preset_conditions('bird_droppings', fault_condition, n_droppings = 3)\n",
    "        fault_location: dict\n",
    "                Same dict as one shown in __init__.\n",
    "        **kwargs: variables defined by which fault_name you choose, see above\n",
    "\n",
    "        Tip:\n",
    "        ----\n",
    "        For a wider spectrum of cases, run all of these multiple times. Each time it's run, the case is saved \n",
    "\n",
    "\n",
    "    "
   ]
  },
  {
   "cell_type": "code",
   "execution_count": 2,
   "metadata": {},
   "outputs": [
    {
     "name": "stdout",
     "output_type": "stream",
     "text": [
      "Condition list: (Cell definitions)\n",
      "\t[pristine]: 1 definition(s)\n",
      "\t[heavy_shade]: 1 definition(s)\n",
      "\t[light_shade]: 1 definition(s)\n",
      "\n",
      "Modcell types: (Cell mappings on module)\n",
      "\t[pristine]: 1 definition(s)\n",
      "\t[landscape_2rows]: 1 definition(s)\n",
      "\t[portrait_2cols]: 1 definition(s)\n",
      "\t[pole_2width]: 1 definition(s)\n",
      "\n",
      "String definitions (Series of modcells)\n",
      "\tNo instances.\n",
      "\n"
     ]
    }
   ],
   "source": [
    "heavy_shading = {'identifier':'heavy_shade',\n",
    "                   'E': 400,\n",
    "                   'Tc': 20}\n",
    "light_shading = {'identifier':'light_shade',\n",
    "                    'E': 800}\n",
    "sim.add_preset_conditions('landscape', heavy_shading, rows_aff = 2)\n",
    "sim.add_preset_conditions('portrait', heavy_shading, cols_aff = 2)\n",
    "sim.add_preset_conditions('pole', heavy_shading, light_shading = light_shading, width = 2, pos = None)\n",
    "\n",
    "sim.print_info()"
   ]
  },
  {
   "cell_type": "markdown",
   "metadata": {},
   "source": [
    "## Manual definitions of faults\n",
    "\n",
    "To define a fault manually, you must provide two specifications:\n",
    "1. Mapping of cells onto a module, which we deem a _modcell_\n",
    "2. Definition of cell conditions, stored in _condition_dict_\n",
    "        Parameters:\n",
    "        -----------\n",
    "        modcell: dict\n",
    "                Key: name of the condition\n",
    "                Value: list,\n",
    "                    1D list: Give a single situation for this condition\n",
    "                    2D list: Give multiple situations for this condition\n",
    "                    A list where each value signifies a cell's condition\n",
    "                    See below for example\n",
    "\n",
    "                    If key is same as an existing key, the list is appended to list of scenarios \\\\\n",
    "                    which that key owns\n",
    "        condition_dict: dict\n",
    "                    Define the numerical value written in modcell\n",
    "                    ** If the variable is not defined, values will default to those specified \\\\\n",
    "                       in the pristine condition, defined in __init__.\n",
    "            A full condition is defined as:\n",
    "                {ID: {'identifier': IDENTIFIER_NAME,\n",
    "                      'E': IRRADIANCE,\n",
    "                      'Tc': CELL_TEMPERATURE,\n",
    "                      'Rsh_mult': RSH_MULTIPLIER,\n",
    "                      'Rs_mult': RS_MULTIPLIER,\n",
    "                      'Io_mult': IO_MULTIPLIER,\n",
    "                      'Il_mult': IL_MULTIPLIER,\n",
    "                      'nnsvth_mult': NNSVTH_MULTIPLIER \n",
    "                }\n",
    "\n",
    "            condition_dict PARAMETERS:\n",
    "            --------------------------\n",
    "                ID: int,\n",
    "                    Value corresponding to those in modcell\n",
    "                IDENTIFIER_NAME: str,\n",
    "                    Name used to define condition\n",
    "                IRRADIANCE: numerical,\n",
    "                    Value of irradiance (Watts per meter-squared)\n",
    "                CELL_TEMPERATURE: numerical,\n",
    "                    Value of cell temperature (Celcius)\n",
    "                RSH_MULTIPLIER: numerical,\n",
    "                    Multiplier usually less than 1 to simulate a drop in Rsh\n",
    "                RS_MULTIPLIER: numerical,\n",
    "                    Multiplier usually greater than 1 to simulate increase in Rs\n",
    "                IO_MULTIPLIER: numerical,\n",
    "                    Multiplier usually less than 1 to simulate a drop in IO\n",
    "                IL_MULTIPLIER: numerical,\n",
    "                    Multiplier usually less than 1 to simulate a drop in IL\n",
    "                NNSVTH_MULTIPLIER: numerical,\n",
    "                    Multiplier usually less than 1 to simulate a drop in NNSVTH, and therefore a_ref\n"
   ]
  },
  {
   "cell_type": "code",
   "execution_count": 3,
   "metadata": {},
   "outputs": [
    {
     "name": "stdout",
     "output_type": "stream",
     "text": [
      "Condition list: (Cell definitions)\n",
      "\t[pristine]: 1 definition(s)\n",
      "\t[heavy_shade]: 2 definition(s)\n",
      "\t[light_shade]: 1 definition(s)\n",
      "\n",
      "Modcell types: (Cell mappings on module)\n",
      "\t[pristine]: 1 definition(s)\n",
      "\t[landscape_2rows]: 1 definition(s)\n",
      "\t[portrait_2cols]: 1 definition(s)\n",
      "\t[pole_2width]: 1 definition(s)\n",
      "\t[another_example]: 2 definition(s)\n",
      "\n",
      "String definitions (Series of modcells)\n",
      "\tNo instances.\n",
      "\n"
     ]
    }
   ],
   "source": [
    "modcells = { 'another_example':  [[0,0,0,0,0,0,0,0,0,0,  # Using 2D list (aka, multiple conditions as input)\n",
    "                                    1,1,1,1,1,1,1,1,1,1,\n",
    "                                    1,1,1,0,0,0,0,1,1,1, \n",
    "                                    1,1,1,0,0,0,0,1,1,1,\n",
    "                                    1,1,1,0,0,0,0,1,1,1,  \n",
    "                                    0,0,0,0,0,0,0,0,0,0],\n",
    "\n",
    "                                  [1,1,1,1,1,1,1,1,1,1,  \n",
    "                                    0,0,0,0,0,0,0,0,0,0,\n",
    "                                    0,0,0,1,1,1,1,0,0,0, \n",
    "                                    0,0,0,1,1,1,1,0,0,0,\n",
    "                                    0,0,0,1,1,1,1,0,0,0,  \n",
    "                                    1,1,1,1,1,1,1,1,1,1]]\n",
    "            }\n",
    "condition_dict = {0: {},\n",
    "                  1: {'identifier': 'heavy_shade',\n",
    "                      'E': 405,\n",
    "                     }                              \n",
    "                 }\n",
    "sim.add_manual_conditions(modcells, condition_dict)\n",
    "\n",
    "sim.print_info()"
   ]
  },
  {
   "cell_type": "markdown",
   "metadata": {},
   "source": [
    "## Step 3: Generate many samples via latin hypercube sampling\n",
    "    Pass in dictionaries which describe a distribution.\n",
    "        {PARAMETER: {'mean': MEAN_VAL,\n",
    "                     'std': STDEV_VAL,\n",
    "                     'low': LOW_VAL,\n",
    "                     'upp': UPP_VAL\n",
    "                    }\n",
    "        }\n",
    "\n",
    "    PARAMETER: parameter defined in condition_dict\n",
    "\n",
    "If all values are provided, a truncated gaussian distribution is used\n",
    "\n",
    "If _low_ and _upp_ not specified, then a gaussian distribution is used\n",
    "    "
   ]
  },
  {
   "cell_type": "code",
   "execution_count": 4,
   "metadata": {},
   "outputs": [
    {
     "name": "stdout",
     "output_type": "stream",
     "text": [
      "Condition list: (Cell definitions)\n",
      "\t[pristine]: 1 definition(s)\n",
      "\t[heavy_shade]: 12 definition(s)\n",
      "\t[light_shade]: 11 definition(s)\n",
      "\n",
      "Modcell types: (Cell mappings on module)\n",
      "\t[pristine]: 1 definition(s)\n",
      "\t[landscape_2rows]: 1 definition(s)\n",
      "\t[portrait_2cols]: 1 definition(s)\n",
      "\t[pole_2width]: 1 definition(s)\n",
      "\t[another_example]: 2 definition(s)\n",
      "\n",
      "String definitions (Series of modcells)\n",
      "\tNo instances.\n",
      "\n"
     ]
    }
   ],
   "source": [
    "N = 10\n",
    "dicts = {'E':       {'mean': 400,\n",
    "                        'std': 500,\n",
    "                        'low': 200,\n",
    "                        'upp': 600\n",
    "                    },\n",
    "         'Tc':      {'mean': 30,\n",
    "                      'std': 10,\n",
    "                    }\n",
    "        }\n",
    "\n",
    "\n",
    "sim.generate_many_samples('heavy_shade', N, dicts)\n",
    "\n",
    "dicts = {'E':       {'mean': 800,\n",
    "                        'std': 500,\n",
    "                        'low': 600,\n",
    "                        'upp': 1000\n",
    "                    }\n",
    "        }\n",
    "sim.generate_many_samples('light_shade', N, distributions = dicts)\n",
    "\n",
    "sim.print_info()"
   ]
  },
  {
   "cell_type": "markdown",
   "metadata": {},
   "source": [
    "## Step 4: Define a string as an assimilation of modcells\n",
    "\n",
    "Define a dictionary with `keys` as the string name and values as a list of module names.\n",
    "\n",
    "    {STRING_IDENTIFIER: LIST_OF_MODCELL_NAMES}\n",
    "\n",
    "Use `sim.modcells.keys()` to get list of modules defined thusfar, or look at _modcell types_ list in function call `sim.print_info()`"
   ]
  },
  {
   "cell_type": "code",
   "execution_count": 5,
   "metadata": {},
   "outputs": [],
   "source": [
    "sim.build_strings({'pole_bottom_mods': ['pristine', 'pristine', 'pristine', 'pristine', 'pristine', 'pristine',\n",
    "                                            'pole_2width', 'pole_2width', 'pole_2width', 'pole_2width', 'pole_2width', 'pole_2width'],\n",
    "                   'portrait_2cols_3bottom_mods': ['pristine', 'pristine', 'pristine', 'pristine', 'pristine', 'pristine',\n",
    "                                            'pristine', 'pristine', 'pristine', 'portrait_2cols', 'portrait_2cols', 'portrait_2cols']})"
   ]
  },
  {
   "cell_type": "markdown",
   "metadata": {},
   "source": [
    "## Step 5: Simulate!\n",
    "\n",
    "`sim.simulate()`  simulates all cells, substrings, modules, and strings defined in steps 2 - 4"
   ]
  },
  {
   "cell_type": "code",
   "execution_count": 6,
   "metadata": {},
   "outputs": [
    {
     "name": "stderr",
     "output_type": "stream",
     "text": [
      "Simulating cells:   0%|                                                                          | 0/3 [00:00<?, ?it/s]c:\\users\\mwhopwo\\appdata\\local\\programs\\python\\python36\\lib\\site-packages\\scipy\\optimize\\zeros.py:463: RuntimeWarning: some failed to converge after 100 iterations\n",
      "  warnings.warn(msg, RuntimeWarning)\n",
      "Simulating cells: 100%|██████████████████████████████████████████████████████████████████| 3/3 [00:01<00:00,  2.96it/s]\n",
      "Adding up simulations: 100%|█████████████████████████████████████████████████████████████| 2/2 [00:09<00:00,  4.82s/it]\n",
      "Adding up other definitions: 100%|███████████████████████████████████████████████████████| 5/5 [00:01<00:00,  4.28it/s]"
     ]
    },
    {
     "name": "stdout",
     "output_type": "stream",
     "text": [
      "\n",
      "Simulations completed after 11.85 seconds\n",
      "Condition list: (Cell definitions)\n",
      "\t[pristine]: 1 definition(s)\n",
      "\t[heavy_shade]: 12 definition(s)\n",
      "\t[light_shade]: 11 definition(s)\n",
      "\n",
      "Modcell types: (Cell mappings on module)\n",
      "\t[pristine]: 1 definition(s)\n",
      "\t[landscape_2rows]: 1 definition(s)\n",
      "\t[portrait_2cols]: 1 definition(s)\n",
      "\t[pole_2width]: 1 definition(s)\n",
      "\t[another_example]: 2 definition(s)\n",
      "\n",
      "String definitions (Series of modcells)\n",
      "\t[pole_bottom_mods]: 132 definition(s)\n",
      "\t[portrait_2cols_3bottom_mods]: 12 definition(s)\n",
      "\n"
     ]
    },
    {
     "name": "stderr",
     "output_type": "stream",
     "text": [
      "\n"
     ]
    }
   ],
   "source": [
    "import time\n",
    "start_t = time.time()\n",
    "sim.simulate()\n",
    "print(f'\\nSimulations completed after {round(time.time()-start_t,2)} seconds')\n",
    "\n",
    "sim.print_info()"
   ]
  },
  {
   "cell_type": "markdown",
   "metadata": {},
   "source": [
    "## Step 6: Visualization suite\n",
    "1) Plot distribution of cell-condition parameter definitions defined in steps 2 and 3\n",
    "\n",
    "1a) TODO: The truncated gaussians should show cutoff at tails\n",
    "\n",
    "2) Plot module-level IV curves\n",
    "\n",
    "3) Plot string-level IV curves"
   ]
  },
  {
   "cell_type": "code",
   "execution_count": 7,
   "metadata": {},
   "outputs": [
    {
     "data": {
      "image/png": "[encoded data removed]",
      "text/plain": [
       "<Figure size 432x288 with 1 Axes>"
      ]
     },
     "metadata": {
      "needs_background": "light"
     },
     "output_type": "display_data"
    },
    {
     "data": {
      "image/png": "[encoded data removed]",
      "text/plain": [
       "<Figure size 432x288 with 1 Axes>"
      ]
     },
     "metadata": {
      "needs_background": "light"
     },
     "output_type": "display_data"
    },
    {
     "ename": "UnboundLocalError",
     "evalue": "local variable 'v' referenced before assignment",
     "output_type": "error",
     "traceback": [
      "\u001b[1;31m---------------------------------------------------------------------------\u001b[0m",
      "\u001b[1;31mUnboundLocalError\u001b[0m                         Traceback (most recent call last)",
      "\u001b[1;32m<ipython-input-7-c20c23bc1010>\u001b[0m in \u001b[0;36m<module>\u001b[1;34m\u001b[0m\n\u001b[1;32m----> 1\u001b[1;33m \u001b[0msim\u001b[0m\u001b[1;33m.\u001b[0m\u001b[0mvisualize\u001b[0m\u001b[1;33m(\u001b[0m\u001b[1;33m)\u001b[0m\u001b[1;33m\u001b[0m\u001b[1;33m\u001b[0m\u001b[0m\n\u001b[0m",
      "\u001b[1;32m~\\Desktop\\DuraMAT\\deployed_pvops\\pvOps\\pvops\\iv\\simulator.py\u001b[0m in \u001b[0;36mvisualize\u001b[1;34m(self, lim, correct_gt)\u001b[0m\n\u001b[0;32m   1592\u001b[0m             \u001b[1;32mif\u001b[0m \u001b[0midx\u001b[0m \u001b[1;33m==\u001b[0m \u001b[1;36m0\u001b[0m\u001b[1;33m:\u001b[0m\u001b[1;33m\u001b[0m\u001b[1;33m\u001b[0m\u001b[0m\n\u001b[0;32m   1593\u001b[0m                 ax = self.visualize_specific_iv(\n\u001b[1;32m-> 1594\u001b[1;33m                     string_identifier=None, module_identifier=ident, substring_identifier=None)\n\u001b[0m\u001b[0;32m   1595\u001b[0m             \u001b[1;32melse\u001b[0m\u001b[1;33m:\u001b[0m\u001b[1;33m\u001b[0m\u001b[1;33m\u001b[0m\u001b[0m\n\u001b[0;32m   1596\u001b[0m                 ax = self.visualize_specific_iv(\n",
      "\u001b[1;32m~\\Desktop\\DuraMAT\\deployed_pvops\\pvOps\\pvops\\iv\\simulator.py\u001b[0m in \u001b[0;36mvisualize_specific_iv\u001b[1;34m(self, ax, string_identifier, module_identifier, substring_identifier, cutoff, correct_gt)\u001b[0m\n\u001b[0;32m   1680\u001b[0m \u001b[1;33m\u001b[0m\u001b[0m\n\u001b[0;32m   1681\u001b[0m             \u001b[1;32mif\u001b[0m \u001b[0mcutoff\u001b[0m\u001b[1;33m:\u001b[0m\u001b[1;33m\u001b[0m\u001b[1;33m\u001b[0m\u001b[0m\n\u001b[1;32m-> 1682\u001b[1;33m                 \u001b[0mv\u001b[0m\u001b[1;33m,\u001b[0m \u001b[0mi\u001b[0m \u001b[1;33m=\u001b[0m \u001b[0miv_cutoff\u001b[0m\u001b[1;33m(\u001b[0m\u001b[0mv\u001b[0m\u001b[1;33m,\u001b[0m \u001b[0mi\u001b[0m\u001b[1;33m,\u001b[0m \u001b[1;36m0\u001b[0m\u001b[1;33m)\u001b[0m\u001b[1;33m\u001b[0m\u001b[1;33m\u001b[0m\u001b[0m\n\u001b[0m\u001b[0;32m   1683\u001b[0m \u001b[1;33m\u001b[0m\u001b[0m\n\u001b[0;32m   1684\u001b[0m             \u001b[1;32mif\u001b[0m \u001b[0mcorrect_gt\u001b[0m\u001b[1;33m:\u001b[0m\u001b[1;33m\u001b[0m\u001b[1;33m\u001b[0m\u001b[0m\n",
      "\u001b[1;31mUnboundLocalError\u001b[0m: local variable 'v' referenced before assignment"
     ]
    },
    {
     "data": {
      "image/png": "[encoded data removed]",
      "text/plain": [
       "<Figure size 432x288 with 1 Axes>"
      ]
     },
     "metadata": {
      "needs_background": "light"
     },
     "output_type": "display_data"
    }
   ],
   "source": [
    "sim.visualize()"
   ]
  },
  {
   "cell_type": "markdown",
   "metadata": {},
   "source": [
    "### Step 6 cont'd: Visualize cell IV curves and settings\n",
    "\n",
    "    visualize_cell_level_traces(cell_identifier, cutoff = True, table = True)\n",
    "\n",
    "Automatically turns off table if the cell_identifier's number of definitions > 20\n"
   ]
  },
  {
   "cell_type": "code",
   "execution_count": null,
   "metadata": {},
   "outputs": [],
   "source": [
    "sim.visualize_cell_level_traces('heavy_shade', cutoff = True, table = True)\n",
    "sim.visualize_cell_level_traces('light_shade', cutoff = True, table = True)"
   ]
  },
  {
   "cell_type": "markdown",
   "metadata": {},
   "source": [
    "### Step 6 cont'd: Visualize modcells"
   ]
  },
  {
   "cell_type": "code",
   "execution_count": null,
   "metadata": {},
   "outputs": [],
   "source": [
    "for mod_identifier in sim.modcells.keys():\n",
    "    sim.visualize_module_configurations(mod_identifier, title = mod_identifier)"
   ]
  }
 ],
 "metadata": {
  "kernelspec": {
   "display_name": "Python 3",
   "language": "python",
   "name": "python3"
  },
  "language_info": {
   "codemirror_mode": {
    "name": "ipython",
    "version": 3
   },
   "file_extension": ".py",
   "mimetype": "text/x-python",
   "name": "python",
   "nbconvert_exporter": "python",
   "pygments_lexer": "ipython3",
   "version": "3.6.8"
  }
 },
 "nbformat": 4,
 "nbformat_minor": 4
}
