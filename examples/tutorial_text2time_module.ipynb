{
 "cells": [
  {
   "cell_type": "markdown",
   "metadata": {},
   "source": [
    "# Text2Time Tutorial"
   ]
  },
  {
   "cell_type": "code",
   "execution_count": 1,
   "metadata": {},
   "outputs": [],
   "source": [
    "import numpy as np\n",
    "import pandas as pd\n",
    "import matplotlib.pyplot as plt\n",
    "import shutil\n",
    "import sys\n",
    "import os"
   ]
  },
  {
   "cell_type": "markdown",
   "metadata": {},
   "source": [
    "Set sytem paths"
   ]
  },
  {
   "cell_type": "code",
   "execution_count": 2,
   "metadata": {},
   "outputs": [],
   "source": [
    "T2time_path = os.path.join('..', 'pvops', 'text2time')\n",
    "timeseries_path = os.path.join('..', 'pvops', 'timeseries')\n",
    "sys.path.append('..')\n",
    "sys.path.append(T2time_path)\n",
    "sys.path.append(timeseries_path)"
   ]
  },
  {
   "cell_type": "markdown",
   "metadata": {},
   "source": [
    "Import modules"
   ]
  },
  {
   "cell_type": "code",
   "execution_count": 3,
   "metadata": {},
   "outputs": [],
   "source": [
    "from pvops.text2time import visualize, utils, preprocess\n",
    "from pvops.timeseries.models import linear, iec"
   ]
  },
  {
   "cell_type": "markdown",
   "metadata": {},
   "source": [
    "Define csv paths"
   ]
  },
  {
   "cell_type": "code",
   "execution_count": 4,
   "metadata": {},
   "outputs": [],
   "source": [
    "example_OMpath = os.path.join('example_data', 'example_om_data2.csv')\n",
    "example_prodpath = os.path.join('example_data', 'example_prod_data_cumE2.csv')\n",
    "example_metapath = os.path.join('example_data', 'example_metadata2.csv')"
   ]
  },
  {
   "cell_type": "markdown",
   "metadata": {},
   "source": [
    "Read data"
   ]
  },
  {
   "cell_type": "code",
   "execution_count": 5,
   "metadata": {},
   "outputs": [],
   "source": [
    "prod_data = pd.read_csv(example_prodpath, error_bad_lines=False, engine='python')\n",
    "om_data = pd.read_csv(example_OMpath, error_bad_lines=False, engine='python')\n",
    "metadata = pd.read_csv(example_metapath, error_bad_lines=False, engine='python')"
   ]
  },
  {
   "cell_type": "markdown",
   "metadata": {},
   "source": [
    "Explore production data"
   ]
  },
  {
   "cell_type": "code",
   "execution_count": 6,
   "metadata": {},
   "outputs": [
    {
     "output_type": "execute_result",
     "data": {
      "text/plain": [
       "     randid              Date     Energy  Irradiance\n",
       "0       R23               NaN     1000.0         NaN\n",
       "1       R23    7/19/2018 1:00     1000.0         NaN\n",
       "2       R23    7/19/2018 2:00        0.0         NaN\n",
       "3       R23    7/19/2018 3:00        0.0         NaN\n",
       "4       R23    7/19/2018 4:00     1000.0         NaN\n",
       "...     ...               ...        ...         ...\n",
       "1049    R27  10/13/2018 23:45  5289528.0         NaN\n",
       "1050    R27   10/14/2018 0:00  5289528.0         NaN\n",
       "1051    R27   10/14/2018 0:15  5289528.0         NaN\n",
       "1052    R27   10/14/2018 0:30  5289528.0         NaN\n",
       "1053    R27   10/14/2018 0:45  5289528.0         NaN\n",
       "\n",
       "[1054 rows x 4 columns]"
      ],
      "text/html": "<div>\n<style scoped>\n    .dataframe tbody tr th:only-of-type {\n        vertical-align: middle;\n    }\n\n    .dataframe tbody tr th {\n        vertical-align: top;\n    }\n\n    .dataframe thead th {\n        text-align: right;\n    }\n</style>\n<table border=\"1\" class=\"dataframe\">\n  <thead>\n    <tr style=\"text-align: right;\">\n      <th></th>\n      <th>randid</th>\n      <th>Date</th>\n      <th>Energy</th>\n      <th>Irradiance</th>\n    </tr>\n  </thead>\n  <tbody>\n    <tr>\n      <th>0</th>\n      <td>R23</td>\n      <td>NaN</td>\n      <td>1000.0</td>\n      <td>NaN</td>\n    </tr>\n    <tr>\n      <th>1</th>\n      <td>R23</td>\n      <td>7/19/2018 1:00</td>\n      <td>1000.0</td>\n      <td>NaN</td>\n    </tr>\n    <tr>\n      <th>2</th>\n      <td>R23</td>\n      <td>7/19/2018 2:00</td>\n      <td>0.0</td>\n      <td>NaN</td>\n    </tr>\n    <tr>\n      <th>3</th>\n      <td>R23</td>\n      <td>7/19/2018 3:00</td>\n      <td>0.0</td>\n      <td>NaN</td>\n    </tr>\n    <tr>\n      <th>4</th>\n      <td>R23</td>\n      <td>7/19/2018 4:00</td>\n      <td>1000.0</td>\n      <td>NaN</td>\n    </tr>\n    <tr>\n      <th>...</th>\n      <td>...</td>\n      <td>...</td>\n      <td>...</td>\n      <td>...</td>\n    </tr>\n    <tr>\n      <th>1049</th>\n      <td>R27</td>\n      <td>10/13/2018 23:45</td>\n      <td>5289528.0</td>\n      <td>NaN</td>\n    </tr>\n    <tr>\n      <th>1050</th>\n      <td>R27</td>\n      <td>10/14/2018 0:00</td>\n      <td>5289528.0</td>\n      <td>NaN</td>\n    </tr>\n    <tr>\n      <th>1051</th>\n      <td>R27</td>\n      <td>10/14/2018 0:15</td>\n      <td>5289528.0</td>\n      <td>NaN</td>\n    </tr>\n    <tr>\n      <th>1052</th>\n      <td>R27</td>\n      <td>10/14/2018 0:30</td>\n      <td>5289528.0</td>\n      <td>NaN</td>\n    </tr>\n    <tr>\n      <th>1053</th>\n      <td>R27</td>\n      <td>10/14/2018 0:45</td>\n      <td>5289528.0</td>\n      <td>NaN</td>\n    </tr>\n  </tbody>\n</table>\n<p>1054 rows × 4 columns</p>\n</div>"
     },
     "metadata": {},
     "execution_count": 6
    }
   ],
   "source": [
    "prod_data"
   ]
  },
  {
   "cell_type": "markdown",
   "metadata": {},
   "source": [
    "Explore OM data"
   ]
  },
  {
   "cell_type": "code",
   "execution_count": 7,
   "metadata": {},
   "outputs": [
    {
     "output_type": "execute_result",
     "data": {
      "text/plain": [
       "   randid     Asset        date_start          date_end  WONumber      WOType  \\\n",
       "0     NaN  Inverter    5/2/2018 12:00   5/17/2018 16:00       100  Corrective   \n",
       "1     R23  Facility   5/19/2018 15:44   5/19/2018 13:04       101  Preventive   \n",
       "2     R23  Facility    6/15/2018 6:46   6/15/2018 10:30       102  Corrective   \n",
       "3     R23  Facility   6/18/2018 11:20   6/18/2018 14:03       103  Corrective   \n",
       "4     R23  Facility    7/21/2018 4:45   7/21/2018 13:15       104  Vegetation   \n",
       "5     R23  Inverter   7/21/2018 13:16   7/21/2018 14:25       105  Corrective   \n",
       "6     R23  Inverter   7/25/2018 14:20   7/25/2018 16:40       106  Corrective   \n",
       "7     R23  Inverter    8/1/2018 11:45               NaN       107  Corrective   \n",
       "8     R23  Facility     8/2/2018 1:05     8/2/2018 9:28       108  Corrective   \n",
       "9     R27  Facility   9/14/2018 10:00   9/16/2018 16:00         1  corrective   \n",
       "10    R27  Facility   9/24/2018 10:00   9/16/2018 17:00         2  vegetation   \n",
       "11    R27     Other    9/19/2018 7:00  10/11/2018 20:00         3  corrective   \n",
       "12    R27  Facility  10/13/2018 12:00  10/13/2018 17:00         4  preventive   \n",
       "13    R27     other  10/14/2018 11:00               NaN         5  preventive   \n",
       "\n",
       "                                          GeneralDesc  \n",
       "0   Inverter 1.1 Contactor 7, Inverter 1.2 Contact...  \n",
       "1                Site offline due to grid disturbance  \n",
       "2                  Plant trip due to grid disturbance  \n",
       "3             Site trip due to cause grid disturbance  \n",
       "4                Site tripped due to grid disturbance  \n",
       "5       Inverter failed to start following plant trip  \n",
       "6     inverter offline due to high ambient temp fault  \n",
       "7                    Inverter major underperformance   \n",
       "8                   Site trip due to grid disturbance  \n",
       "9   hurricane florence outages/response. complete ...  \n",
       "10   Vegetation maintenance activities were performed  \n",
       "11  hurricane response. perform site inspection to...  \n",
       "12                          Monthly visual inspection  \n",
       "13                          Monthly visual inspection  "
      ],
      "text/html": "<div>\n<style scoped>\n    .dataframe tbody tr th:only-of-type {\n        vertical-align: middle;\n    }\n\n    .dataframe tbody tr th {\n        vertical-align: top;\n    }\n\n    .dataframe thead th {\n        text-align: right;\n    }\n</style>\n<table border=\"1\" class=\"dataframe\">\n  <thead>\n    <tr style=\"text-align: right;\">\n      <th></th>\n      <th>randid</th>\n      <th>Asset</th>\n      <th>date_start</th>\n      <th>date_end</th>\n      <th>WONumber</th>\n      <th>WOType</th>\n      <th>GeneralDesc</th>\n    </tr>\n  </thead>\n  <tbody>\n    <tr>\n      <th>0</th>\n      <td>NaN</td>\n      <td>Inverter</td>\n      <td>5/2/2018 12:00</td>\n      <td>5/17/2018 16:00</td>\n      <td>100</td>\n      <td>Corrective</td>\n      <td>Inverter 1.1 Contactor 7, Inverter 1.2 Contact...</td>\n    </tr>\n    <tr>\n      <th>1</th>\n      <td>R23</td>\n      <td>Facility</td>\n      <td>5/19/2018 15:44</td>\n      <td>5/19/2018 13:04</td>\n      <td>101</td>\n      <td>Preventive</td>\n      <td>Site offline due to grid disturbance</td>\n    </tr>\n    <tr>\n      <th>2</th>\n      <td>R23</td>\n      <td>Facility</td>\n      <td>6/15/2018 6:46</td>\n      <td>6/15/2018 10:30</td>\n      <td>102</td>\n      <td>Corrective</td>\n      <td>Plant trip due to grid disturbance</td>\n    </tr>\n    <tr>\n      <th>3</th>\n      <td>R23</td>\n      <td>Facility</td>\n      <td>6/18/2018 11:20</td>\n      <td>6/18/2018 14:03</td>\n      <td>103</td>\n      <td>Corrective</td>\n      <td>Site trip due to cause grid disturbance</td>\n    </tr>\n    <tr>\n      <th>4</th>\n      <td>R23</td>\n      <td>Facility</td>\n      <td>7/21/2018 4:45</td>\n      <td>7/21/2018 13:15</td>\n      <td>104</td>\n      <td>Vegetation</td>\n      <td>Site tripped due to grid disturbance</td>\n    </tr>\n    <tr>\n      <th>5</th>\n      <td>R23</td>\n      <td>Inverter</td>\n      <td>7/21/2018 13:16</td>\n      <td>7/21/2018 14:25</td>\n      <td>105</td>\n      <td>Corrective</td>\n      <td>Inverter failed to start following plant trip</td>\n    </tr>\n    <tr>\n      <th>6</th>\n      <td>R23</td>\n      <td>Inverter</td>\n      <td>7/25/2018 14:20</td>\n      <td>7/25/2018 16:40</td>\n      <td>106</td>\n      <td>Corrective</td>\n      <td>inverter offline due to high ambient temp fault</td>\n    </tr>\n    <tr>\n      <th>7</th>\n      <td>R23</td>\n      <td>Inverter</td>\n      <td>8/1/2018 11:45</td>\n      <td>NaN</td>\n      <td>107</td>\n      <td>Corrective</td>\n      <td>Inverter major underperformance</td>\n    </tr>\n    <tr>\n      <th>8</th>\n      <td>R23</td>\n      <td>Facility</td>\n      <td>8/2/2018 1:05</td>\n      <td>8/2/2018 9:28</td>\n      <td>108</td>\n      <td>Corrective</td>\n      <td>Site trip due to grid disturbance</td>\n    </tr>\n    <tr>\n      <th>9</th>\n      <td>R27</td>\n      <td>Facility</td>\n      <td>9/14/2018 10:00</td>\n      <td>9/16/2018 16:00</td>\n      <td>1</td>\n      <td>corrective</td>\n      <td>hurricane florence outages/response. complete ...</td>\n    </tr>\n    <tr>\n      <th>10</th>\n      <td>R27</td>\n      <td>Facility</td>\n      <td>9/24/2018 10:00</td>\n      <td>9/16/2018 17:00</td>\n      <td>2</td>\n      <td>vegetation</td>\n      <td>Vegetation maintenance activities were performed</td>\n    </tr>\n    <tr>\n      <th>11</th>\n      <td>R27</td>\n      <td>Other</td>\n      <td>9/19/2018 7:00</td>\n      <td>10/11/2018 20:00</td>\n      <td>3</td>\n      <td>corrective</td>\n      <td>hurricane response. perform site inspection to...</td>\n    </tr>\n    <tr>\n      <th>12</th>\n      <td>R27</td>\n      <td>Facility</td>\n      <td>10/13/2018 12:00</td>\n      <td>10/13/2018 17:00</td>\n      <td>4</td>\n      <td>preventive</td>\n      <td>Monthly visual inspection</td>\n    </tr>\n    <tr>\n      <th>13</th>\n      <td>R27</td>\n      <td>other</td>\n      <td>10/14/2018 11:00</td>\n      <td>NaN</td>\n      <td>5</td>\n      <td>preventive</td>\n      <td>Monthly visual inspection</td>\n    </tr>\n  </tbody>\n</table>\n</div>"
     },
     "metadata": {},
     "execution_count": 7
    }
   ],
   "source": [
    "om_data"
   ]
  },
  {
   "cell_type": "markdown",
   "metadata": {},
   "source": [
    "Explore metadata"
   ]
  },
  {
   "cell_type": "code",
   "execution_count": 8,
   "metadata": {},
   "outputs": [
    {
     "output_type": "execute_result",
     "data": {
      "text/plain": [
       "  randid  DC_Size_kW         COD  latitude  longitude\n",
       "0    R23        2500  10/20/2013       -80        -35\n",
       "1    R27         475  10/21/2017       -81        -36"
      ],
      "text/html": "<div>\n<style scoped>\n    .dataframe tbody tr th:only-of-type {\n        vertical-align: middle;\n    }\n\n    .dataframe tbody tr th {\n        vertical-align: top;\n    }\n\n    .dataframe thead th {\n        text-align: right;\n    }\n</style>\n<table border=\"1\" class=\"dataframe\">\n  <thead>\n    <tr style=\"text-align: right;\">\n      <th></th>\n      <th>randid</th>\n      <th>DC_Size_kW</th>\n      <th>COD</th>\n      <th>latitude</th>\n      <th>longitude</th>\n    </tr>\n  </thead>\n  <tbody>\n    <tr>\n      <th>0</th>\n      <td>R23</td>\n      <td>2500</td>\n      <td>10/20/2013</td>\n      <td>-80</td>\n      <td>-35</td>\n    </tr>\n    <tr>\n      <th>1</th>\n      <td>R27</td>\n      <td>475</td>\n      <td>10/21/2017</td>\n      <td>-81</td>\n      <td>-36</td>\n    </tr>\n  </tbody>\n</table>\n</div>"
     },
     "metadata": {},
     "execution_count": 8
    }
   ],
   "source": [
    "metadata"
   ]
  },
  {
   "cell_type": "markdown",
   "metadata": {},
   "source": [
    "### 2. Prepare data for analysis\n",
    "\n",
    "Assigning dictionaries to connect pvOps variables with User's column names"
   ]
  },
  {
   "cell_type": "code",
   "execution_count": 9,
   "metadata": {},
   "outputs": [],
   "source": [
    "#Format for dictionaries is {pvops variable: user-specific column names}\n",
    "prod_col_dict = {'siteid': 'randid', \n",
    "                 'timestamp': 'Date', \n",
    "                 'energyprod': 'Energy',\n",
    "                 'irradiance':'Irradiance',\n",
    "                 'baseline': 'IEC_pstep', #user's name choice for new column (baseline expected energy defined by user or calculated based on IEC)\n",
    "                 'dcsize': 'dcsize', #user's name choice for new column (System DC-size, extracted from meta-data)\n",
    "                 'compared': 'Compared',#user's name choice for new column\n",
    "                 'energy_pstep': 'Energy_pstep'} #user's name choice for new column\n",
    "\n",
    "om_col_dict = {'siteid': 'randid', \n",
    "               'datestart': 'date_start',\n",
    "               'dateend': 'date_end',\n",
    "               'workID': 'WONumber',\n",
    "               'worktype': 'WOType',\n",
    "               'asset': 'Asset',\n",
    "               'eventdur': 'EventDur', #user's name choice for new column (Repair Duration)\n",
    "               'modatestart': 'MonthStart', #user's name choice for new column (Month when an event begins)\n",
    "               'agedatestart': 'AgeStart'} #user's name choice for new column (Age of system when event begins)\n",
    "\n",
    "metad_col_dict = {'siteid': 'randid',\n",
    "                  'dcsize': 'DC_Size_kW',\n",
    "                  'COD': 'COD'}"
   ]
  },
  {
   "cell_type": "markdown",
   "metadata": {},
   "source": [
    "### 2.1 Convert date strings to date-time objects"
   ]
  },
  {
   "cell_type": "markdown",
   "metadata": {},
   "source": [
    "#### O&M Data"
   ]
  },
  {
   "cell_type": "code",
   "execution_count": 10,
   "metadata": {},
   "outputs": [
    {
     "output_type": "stream",
     "name": "stdout",
     "text": [
      "----------Original data types\nrandid         object\nAsset          object\ndate_start     object\ndate_end       object\nWONumber        int64\nWOType         object\nGeneralDesc    object\ndtype: object\n\n----------Post-processed data types\nrandid                 object\nAsset                  object\ndate_start     datetime64[ns]\ndate_end       datetime64[ns]\nWONumber                int64\nWOType                 object\nGeneralDesc            object\ndtype: object\n\n----------Converted data frame\n"
     ]
    },
    {
     "output_type": "execute_result",
     "data": {
      "text/plain": [
       "   randid     Asset          date_start            date_end  WONumber  \\\n",
       "0     NaN  Inverter 2018-05-02 12:00:00 2018-05-17 16:00:00       100   \n",
       "1     R23  Facility 2018-05-19 15:44:00 2018-05-19 13:04:00       101   \n",
       "2     R23  Facility 2018-06-15 06:46:00 2018-06-15 10:30:00       102   \n",
       "3     R23  Facility 2018-06-18 11:20:00 2018-06-18 14:03:00       103   \n",
       "4     R23  Facility 2018-07-21 04:45:00 2018-07-21 13:15:00       104   \n",
       "5     R23  Inverter 2018-07-21 13:16:00 2018-07-21 14:25:00       105   \n",
       "6     R23  Inverter 2018-07-25 14:20:00 2018-07-25 16:40:00       106   \n",
       "7     R23  Inverter 2018-08-01 11:45:00                 NaT       107   \n",
       "8     R23  Facility 2018-08-02 01:05:00 2018-08-02 09:28:00       108   \n",
       "9     R27  Facility 2018-09-14 10:00:00 2018-09-16 16:00:00         1   \n",
       "10    R27  Facility 2018-09-24 10:00:00 2018-09-16 17:00:00         2   \n",
       "11    R27     Other 2018-09-19 07:00:00 2018-10-11 20:00:00         3   \n",
       "12    R27  Facility 2018-10-13 12:00:00 2018-10-13 17:00:00         4   \n",
       "13    R27     other 2018-10-14 11:00:00                 NaT         5   \n",
       "\n",
       "        WOType                                        GeneralDesc  \n",
       "0   Corrective  Inverter 1.1 Contactor 7, Inverter 1.2 Contact...  \n",
       "1   Preventive               Site offline due to grid disturbance  \n",
       "2   Corrective                 Plant trip due to grid disturbance  \n",
       "3   Corrective            Site trip due to cause grid disturbance  \n",
       "4   Vegetation               Site tripped due to grid disturbance  \n",
       "5   Corrective      Inverter failed to start following plant trip  \n",
       "6   Corrective    inverter offline due to high ambient temp fault  \n",
       "7   Corrective                   Inverter major underperformance   \n",
       "8   Corrective                  Site trip due to grid disturbance  \n",
       "9   corrective  hurricane florence outages/response. complete ...  \n",
       "10  vegetation   Vegetation maintenance activities were performed  \n",
       "11  corrective  hurricane response. perform site inspection to...  \n",
       "12  preventive                          Monthly visual inspection  \n",
       "13  preventive                          Monthly visual inspection  "
      ],
      "text/html": "<div>\n<style scoped>\n    .dataframe tbody tr th:only-of-type {\n        vertical-align: middle;\n    }\n\n    .dataframe tbody tr th {\n        vertical-align: top;\n    }\n\n    .dataframe thead th {\n        text-align: right;\n    }\n</style>\n<table border=\"1\" class=\"dataframe\">\n  <thead>\n    <tr style=\"text-align: right;\">\n      <th></th>\n      <th>randid</th>\n      <th>Asset</th>\n      <th>date_start</th>\n      <th>date_end</th>\n      <th>WONumber</th>\n      <th>WOType</th>\n      <th>GeneralDesc</th>\n    </tr>\n  </thead>\n  <tbody>\n    <tr>\n      <th>0</th>\n      <td>NaN</td>\n      <td>Inverter</td>\n      <td>2018-05-02 12:00:00</td>\n      <td>2018-05-17 16:00:00</td>\n      <td>100</td>\n      <td>Corrective</td>\n      <td>Inverter 1.1 Contactor 7, Inverter 1.2 Contact...</td>\n    </tr>\n    <tr>\n      <th>1</th>\n      <td>R23</td>\n      <td>Facility</td>\n      <td>2018-05-19 15:44:00</td>\n      <td>2018-05-19 13:04:00</td>\n      <td>101</td>\n      <td>Preventive</td>\n      <td>Site offline due to grid disturbance</td>\n    </tr>\n    <tr>\n      <th>2</th>\n      <td>R23</td>\n      <td>Facility</td>\n      <td>2018-06-15 06:46:00</td>\n      <td>2018-06-15 10:30:00</td>\n      <td>102</td>\n      <td>Corrective</td>\n      <td>Plant trip due to grid disturbance</td>\n    </tr>\n    <tr>\n      <th>3</th>\n      <td>R23</td>\n      <td>Facility</td>\n      <td>2018-06-18 11:20:00</td>\n      <td>2018-06-18 14:03:00</td>\n      <td>103</td>\n      <td>Corrective</td>\n      <td>Site trip due to cause grid disturbance</td>\n    </tr>\n    <tr>\n      <th>4</th>\n      <td>R23</td>\n      <td>Facility</td>\n      <td>2018-07-21 04:45:00</td>\n      <td>2018-07-21 13:15:00</td>\n      <td>104</td>\n      <td>Vegetation</td>\n      <td>Site tripped due to grid disturbance</td>\n    </tr>\n    <tr>\n      <th>5</th>\n      <td>R23</td>\n      <td>Inverter</td>\n      <td>2018-07-21 13:16:00</td>\n      <td>2018-07-21 14:25:00</td>\n      <td>105</td>\n      <td>Corrective</td>\n      <td>Inverter failed to start following plant trip</td>\n    </tr>\n    <tr>\n      <th>6</th>\n      <td>R23</td>\n      <td>Inverter</td>\n      <td>2018-07-25 14:20:00</td>\n      <td>2018-07-25 16:40:00</td>\n      <td>106</td>\n      <td>Corrective</td>\n      <td>inverter offline due to high ambient temp fault</td>\n    </tr>\n    <tr>\n      <th>7</th>\n      <td>R23</td>\n      <td>Inverter</td>\n      <td>2018-08-01 11:45:00</td>\n      <td>NaT</td>\n      <td>107</td>\n      <td>Corrective</td>\n      <td>Inverter major underperformance</td>\n    </tr>\n    <tr>\n      <th>8</th>\n      <td>R23</td>\n      <td>Facility</td>\n      <td>2018-08-02 01:05:00</td>\n      <td>2018-08-02 09:28:00</td>\n      <td>108</td>\n      <td>Corrective</td>\n      <td>Site trip due to grid disturbance</td>\n    </tr>\n    <tr>\n      <th>9</th>\n      <td>R27</td>\n      <td>Facility</td>\n      <td>2018-09-14 10:00:00</td>\n      <td>2018-09-16 16:00:00</td>\n      <td>1</td>\n      <td>corrective</td>\n      <td>hurricane florence outages/response. complete ...</td>\n    </tr>\n    <tr>\n      <th>10</th>\n      <td>R27</td>\n      <td>Facility</td>\n      <td>2018-09-24 10:00:00</td>\n      <td>2018-09-16 17:00:00</td>\n      <td>2</td>\n      <td>vegetation</td>\n      <td>Vegetation maintenance activities were performed</td>\n    </tr>\n    <tr>\n      <th>11</th>\n      <td>R27</td>\n      <td>Other</td>\n      <td>2018-09-19 07:00:00</td>\n      <td>2018-10-11 20:00:00</td>\n      <td>3</td>\n      <td>corrective</td>\n      <td>hurricane response. perform site inspection to...</td>\n    </tr>\n    <tr>\n      <th>12</th>\n      <td>R27</td>\n      <td>Facility</td>\n      <td>2018-10-13 12:00:00</td>\n      <td>2018-10-13 17:00:00</td>\n      <td>4</td>\n      <td>preventive</td>\n      <td>Monthly visual inspection</td>\n    </tr>\n    <tr>\n      <th>13</th>\n      <td>R27</td>\n      <td>other</td>\n      <td>2018-10-14 11:00:00</td>\n      <td>NaT</td>\n      <td>5</td>\n      <td>preventive</td>\n      <td>Monthly visual inspection</td>\n    </tr>\n  </tbody>\n</table>\n</div>"
     },
     "metadata": {},
     "execution_count": 10
    }
   ],
   "source": [
    "#Note:  NaNs are converted to NaTs\n",
    "om_data_converted = preprocess.om_date_convert(om_data, om_col_dict)\n",
    "\n",
    "print('----------Original data types')\n",
    "print(om_data.dtypes)\n",
    "print('\\n----------Post-processed data types')\n",
    "print(om_data_converted.dtypes)\n",
    "print('\\n----------Converted data frame')\n",
    "om_data_converted"
   ]
  },
  {
   "cell_type": "markdown",
   "metadata": {},
   "source": [
    "#### Production data"
   ]
  },
  {
   "cell_type": "code",
   "execution_count": 11,
   "metadata": {},
   "outputs": [
    {
     "output_type": "stream",
     "name": "stdout",
     "text": [
      "Pre-processing\nrandid         object\nDate           object\nEnergy        float64\nIrradiance    float64\ndtype: object\n\nPost-processed\nrandid                object\nDate          datetime64[ns]\nEnergy               float64\nIrradiance           float64\ndtype: object\n"
     ]
    },
    {
     "output_type": "execute_result",
     "data": {
      "text/plain": [
       "     randid                Date     Energy  Irradiance\n",
       "0       R23                 NaT     1000.0         NaN\n",
       "1       R23 2018-07-19 01:00:00     1000.0         NaN\n",
       "2       R23 2018-07-19 02:00:00        0.0         NaN\n",
       "3       R23 2018-07-19 03:00:00        0.0         NaN\n",
       "4       R23 2018-07-19 04:00:00     1000.0         NaN\n",
       "...     ...                 ...        ...         ...\n",
       "1049    R27 2018-10-13 23:45:00  5289528.0         NaN\n",
       "1050    R27 2018-10-14 00:00:00  5289528.0         NaN\n",
       "1051    R27 2018-10-14 00:15:00  5289528.0         NaN\n",
       "1052    R27 2018-10-14 00:30:00  5289528.0         NaN\n",
       "1053    R27 2018-10-14 00:45:00  5289528.0         NaN\n",
       "\n",
       "[1054 rows x 4 columns]"
      ],
      "text/html": "<div>\n<style scoped>\n    .dataframe tbody tr th:only-of-type {\n        vertical-align: middle;\n    }\n\n    .dataframe tbody tr th {\n        vertical-align: top;\n    }\n\n    .dataframe thead th {\n        text-align: right;\n    }\n</style>\n<table border=\"1\" class=\"dataframe\">\n  <thead>\n    <tr style=\"text-align: right;\">\n      <th></th>\n      <th>randid</th>\n      <th>Date</th>\n      <th>Energy</th>\n      <th>Irradiance</th>\n    </tr>\n  </thead>\n  <tbody>\n    <tr>\n      <th>0</th>\n      <td>R23</td>\n      <td>NaT</td>\n      <td>1000.0</td>\n      <td>NaN</td>\n    </tr>\n    <tr>\n      <th>1</th>\n      <td>R23</td>\n      <td>2018-07-19 01:00:00</td>\n      <td>1000.0</td>\n      <td>NaN</td>\n    </tr>\n    <tr>\n      <th>2</th>\n      <td>R23</td>\n      <td>2018-07-19 02:00:00</td>\n      <td>0.0</td>\n      <td>NaN</td>\n    </tr>\n    <tr>\n      <th>3</th>\n      <td>R23</td>\n      <td>2018-07-19 03:00:00</td>\n      <td>0.0</td>\n      <td>NaN</td>\n    </tr>\n    <tr>\n      <th>4</th>\n      <td>R23</td>\n      <td>2018-07-19 04:00:00</td>\n      <td>1000.0</td>\n      <td>NaN</td>\n    </tr>\n    <tr>\n      <th>...</th>\n      <td>...</td>\n      <td>...</td>\n      <td>...</td>\n      <td>...</td>\n    </tr>\n    <tr>\n      <th>1049</th>\n      <td>R27</td>\n      <td>2018-10-13 23:45:00</td>\n      <td>5289528.0</td>\n      <td>NaN</td>\n    </tr>\n    <tr>\n      <th>1050</th>\n      <td>R27</td>\n      <td>2018-10-14 00:00:00</td>\n      <td>5289528.0</td>\n      <td>NaN</td>\n    </tr>\n    <tr>\n      <th>1051</th>\n      <td>R27</td>\n      <td>2018-10-14 00:15:00</td>\n      <td>5289528.0</td>\n      <td>NaN</td>\n    </tr>\n    <tr>\n      <th>1052</th>\n      <td>R27</td>\n      <td>2018-10-14 00:30:00</td>\n      <td>5289528.0</td>\n      <td>NaN</td>\n    </tr>\n    <tr>\n      <th>1053</th>\n      <td>R27</td>\n      <td>2018-10-14 00:45:00</td>\n      <td>5289528.0</td>\n      <td>NaN</td>\n    </tr>\n  </tbody>\n</table>\n<p>1054 rows × 4 columns</p>\n</div>"
     },
     "metadata": {},
     "execution_count": 11
    }
   ],
   "source": [
    "prod_data_converted = preprocess.prod_date_convert(prod_data, prod_col_dict)\n",
    "\n",
    "print('Pre-processing')\n",
    "print(prod_data.dtypes)\n",
    "print('\\nPost-processed')\n",
    "print(prod_data_converted.dtypes)\n",
    "prod_data_converted"
   ]
  },
  {
   "cell_type": "markdown",
   "metadata": {},
   "source": [
    "## 3. Handling issues with data quality"
   ]
  },
  {
   "cell_type": "markdown",
   "metadata": {},
   "source": [
    "### 3.1 Missing site-IDs\n",
    "\n",
    "Drop rows where site-ID is NAN in OM-data (helpful when multiple sites are in O&M data frame and a NAN doesn't identify a specific site)\n"
   ]
  },
  {
   "cell_type": "code",
   "execution_count": 12,
   "metadata": {},
   "outputs": [
    {
     "output_type": "execute_result",
     "data": {
      "text/plain": [
       "  randid     Asset          date_start            date_end  WONumber  \\\n",
       "0    NaN  Inverter 2018-05-02 12:00:00 2018-05-17 16:00:00       100   \n",
       "\n",
       "       WOType                                        GeneralDesc  \n",
       "0  Corrective  Inverter 1.1 Contactor 7, Inverter 1.2 Contact...  "
      ],
      "text/html": "<div>\n<style scoped>\n    .dataframe tbody tr th:only-of-type {\n        vertical-align: middle;\n    }\n\n    .dataframe tbody tr th {\n        vertical-align: top;\n    }\n\n    .dataframe thead th {\n        text-align: right;\n    }\n</style>\n<table border=\"1\" class=\"dataframe\">\n  <thead>\n    <tr style=\"text-align: right;\">\n      <th></th>\n      <th>randid</th>\n      <th>Asset</th>\n      <th>date_start</th>\n      <th>date_end</th>\n      <th>WONumber</th>\n      <th>WOType</th>\n      <th>GeneralDesc</th>\n    </tr>\n  </thead>\n  <tbody>\n    <tr>\n      <th>0</th>\n      <td>NaN</td>\n      <td>Inverter</td>\n      <td>2018-05-02 12:00:00</td>\n      <td>2018-05-17 16:00:00</td>\n      <td>100</td>\n      <td>Corrective</td>\n      <td>Inverter 1.1 Contactor 7, Inverter 1.2 Contact...</td>\n    </tr>\n  </tbody>\n</table>\n</div>"
     },
     "metadata": {},
     "execution_count": 12
    }
   ],
   "source": [
    "om_data_sitena, addressed = preprocess.data_site_na(om_data_converted, om_col_dict)\n",
    "addressed #printing row that was addressed"
   ]
  },
  {
   "cell_type": "markdown",
   "metadata": {},
   "source": [
    "Print post-processed data frame\n"
   ]
  },
  {
   "cell_type": "code",
   "execution_count": 13,
   "metadata": {},
   "outputs": [
    {
     "output_type": "execute_result",
     "data": {
      "text/plain": [
       "   randid     Asset          date_start            date_end  WONumber  \\\n",
       "1     R23  Facility 2018-05-19 15:44:00 2018-05-19 13:04:00       101   \n",
       "2     R23  Facility 2018-06-15 06:46:00 2018-06-15 10:30:00       102   \n",
       "3     R23  Facility 2018-06-18 11:20:00 2018-06-18 14:03:00       103   \n",
       "4     R23  Facility 2018-07-21 04:45:00 2018-07-21 13:15:00       104   \n",
       "5     R23  Inverter 2018-07-21 13:16:00 2018-07-21 14:25:00       105   \n",
       "6     R23  Inverter 2018-07-25 14:20:00 2018-07-25 16:40:00       106   \n",
       "7     R23  Inverter 2018-08-01 11:45:00                 NaT       107   \n",
       "8     R23  Facility 2018-08-02 01:05:00 2018-08-02 09:28:00       108   \n",
       "9     R27  Facility 2018-09-14 10:00:00 2018-09-16 16:00:00         1   \n",
       "10    R27  Facility 2018-09-24 10:00:00 2018-09-16 17:00:00         2   \n",
       "11    R27     Other 2018-09-19 07:00:00 2018-10-11 20:00:00         3   \n",
       "12    R27  Facility 2018-10-13 12:00:00 2018-10-13 17:00:00         4   \n",
       "13    R27     other 2018-10-14 11:00:00                 NaT         5   \n",
       "\n",
       "        WOType                                        GeneralDesc  \n",
       "1   Preventive               Site offline due to grid disturbance  \n",
       "2   Corrective                 Plant trip due to grid disturbance  \n",
       "3   Corrective            Site trip due to cause grid disturbance  \n",
       "4   Vegetation               Site tripped due to grid disturbance  \n",
       "5   Corrective      Inverter failed to start following plant trip  \n",
       "6   Corrective    inverter offline due to high ambient temp fault  \n",
       "7   Corrective                   Inverter major underperformance   \n",
       "8   Corrective                  Site trip due to grid disturbance  \n",
       "9   corrective  hurricane florence outages/response. complete ...  \n",
       "10  vegetation   Vegetation maintenance activities were performed  \n",
       "11  corrective  hurricane response. perform site inspection to...  \n",
       "12  preventive                          Monthly visual inspection  \n",
       "13  preventive                          Monthly visual inspection  "
      ],
      "text/html": "<div>\n<style scoped>\n    .dataframe tbody tr th:only-of-type {\n        vertical-align: middle;\n    }\n\n    .dataframe tbody tr th {\n        vertical-align: top;\n    }\n\n    .dataframe thead th {\n        text-align: right;\n    }\n</style>\n<table border=\"1\" class=\"dataframe\">\n  <thead>\n    <tr style=\"text-align: right;\">\n      <th></th>\n      <th>randid</th>\n      <th>Asset</th>\n      <th>date_start</th>\n      <th>date_end</th>\n      <th>WONumber</th>\n      <th>WOType</th>\n      <th>GeneralDesc</th>\n    </tr>\n  </thead>\n  <tbody>\n    <tr>\n      <th>1</th>\n      <td>R23</td>\n      <td>Facility</td>\n      <td>2018-05-19 15:44:00</td>\n      <td>2018-05-19 13:04:00</td>\n      <td>101</td>\n      <td>Preventive</td>\n      <td>Site offline due to grid disturbance</td>\n    </tr>\n    <tr>\n      <th>2</th>\n      <td>R23</td>\n      <td>Facility</td>\n      <td>2018-06-15 06:46:00</td>\n      <td>2018-06-15 10:30:00</td>\n      <td>102</td>\n      <td>Corrective</td>\n      <td>Plant trip due to grid disturbance</td>\n    </tr>\n    <tr>\n      <th>3</th>\n      <td>R23</td>\n      <td>Facility</td>\n      <td>2018-06-18 11:20:00</td>\n      <td>2018-06-18 14:03:00</td>\n      <td>103</td>\n      <td>Corrective</td>\n      <td>Site trip due to cause grid disturbance</td>\n    </tr>\n    <tr>\n      <th>4</th>\n      <td>R23</td>\n      <td>Facility</td>\n      <td>2018-07-21 04:45:00</td>\n      <td>2018-07-21 13:15:00</td>\n      <td>104</td>\n      <td>Vegetation</td>\n      <td>Site tripped due to grid disturbance</td>\n    </tr>\n    <tr>\n      <th>5</th>\n      <td>R23</td>\n      <td>Inverter</td>\n      <td>2018-07-21 13:16:00</td>\n      <td>2018-07-21 14:25:00</td>\n      <td>105</td>\n      <td>Corrective</td>\n      <td>Inverter failed to start following plant trip</td>\n    </tr>\n    <tr>\n      <th>6</th>\n      <td>R23</td>\n      <td>Inverter</td>\n      <td>2018-07-25 14:20:00</td>\n      <td>2018-07-25 16:40:00</td>\n      <td>106</td>\n      <td>Corrective</td>\n      <td>inverter offline due to high ambient temp fault</td>\n    </tr>\n    <tr>\n      <th>7</th>\n      <td>R23</td>\n      <td>Inverter</td>\n      <td>2018-08-01 11:45:00</td>\n      <td>NaT</td>\n      <td>107</td>\n      <td>Corrective</td>\n      <td>Inverter major underperformance</td>\n    </tr>\n    <tr>\n      <th>8</th>\n      <td>R23</td>\n      <td>Facility</td>\n      <td>2018-08-02 01:05:00</td>\n      <td>2018-08-02 09:28:00</td>\n      <td>108</td>\n      <td>Corrective</td>\n      <td>Site trip due to grid disturbance</td>\n    </tr>\n    <tr>\n      <th>9</th>\n      <td>R27</td>\n      <td>Facility</td>\n      <td>2018-09-14 10:00:00</td>\n      <td>2018-09-16 16:00:00</td>\n      <td>1</td>\n      <td>corrective</td>\n      <td>hurricane florence outages/response. complete ...</td>\n    </tr>\n    <tr>\n      <th>10</th>\n      <td>R27</td>\n      <td>Facility</td>\n      <td>2018-09-24 10:00:00</td>\n      <td>2018-09-16 17:00:00</td>\n      <td>2</td>\n      <td>vegetation</td>\n      <td>Vegetation maintenance activities were performed</td>\n    </tr>\n    <tr>\n      <th>11</th>\n      <td>R27</td>\n      <td>Other</td>\n      <td>2018-09-19 07:00:00</td>\n      <td>2018-10-11 20:00:00</td>\n      <td>3</td>\n      <td>corrective</td>\n      <td>hurricane response. perform site inspection to...</td>\n    </tr>\n    <tr>\n      <th>12</th>\n      <td>R27</td>\n      <td>Facility</td>\n      <td>2018-10-13 12:00:00</td>\n      <td>2018-10-13 17:00:00</td>\n      <td>4</td>\n      <td>preventive</td>\n      <td>Monthly visual inspection</td>\n    </tr>\n    <tr>\n      <th>13</th>\n      <td>R27</td>\n      <td>other</td>\n      <td>2018-10-14 11:00:00</td>\n      <td>NaT</td>\n      <td>5</td>\n      <td>preventive</td>\n      <td>Monthly visual inspection</td>\n    </tr>\n  </tbody>\n</table>\n</div>"
     },
     "metadata": {},
     "execution_count": 13
    }
   ],
   "source": [
    "om_data_sitena"
   ]
  },
  {
   "cell_type": "markdown",
   "metadata": {},
   "source": [
    "### 3.2 O&M Start-dates that occur after concluding date (inverted dates)"
   ]
  },
  {
   "cell_type": "markdown",
   "metadata": {},
   "source": [
    "Addressing issue by swapping dates"
   ]
  },
  {
   "cell_type": "code",
   "execution_count": 14,
   "metadata": {},
   "outputs": [
    {
     "output_type": "execute_result",
     "data": {
      "text/plain": [
       "   randid     Asset          date_start            date_end  WONumber  \\\n",
       "1     R23  Facility 2018-05-19 15:44:00 2018-05-19 13:04:00       101   \n",
       "10    R27  Facility 2018-09-24 10:00:00 2018-09-16 17:00:00         2   \n",
       "\n",
       "        WOType                                       GeneralDesc  \n",
       "1   Preventive              Site offline due to grid disturbance  \n",
       "10  vegetation  Vegetation maintenance activities were performed  "
      ],
      "text/html": "<div>\n<style scoped>\n    .dataframe tbody tr th:only-of-type {\n        vertical-align: middle;\n    }\n\n    .dataframe tbody tr th {\n        vertical-align: top;\n    }\n\n    .dataframe thead th {\n        text-align: right;\n    }\n</style>\n<table border=\"1\" class=\"dataframe\">\n  <thead>\n    <tr style=\"text-align: right;\">\n      <th></th>\n      <th>randid</th>\n      <th>Asset</th>\n      <th>date_start</th>\n      <th>date_end</th>\n      <th>WONumber</th>\n      <th>WOType</th>\n      <th>GeneralDesc</th>\n    </tr>\n  </thead>\n  <tbody>\n    <tr>\n      <th>1</th>\n      <td>R23</td>\n      <td>Facility</td>\n      <td>2018-05-19 15:44:00</td>\n      <td>2018-05-19 13:04:00</td>\n      <td>101</td>\n      <td>Preventive</td>\n      <td>Site offline due to grid disturbance</td>\n    </tr>\n    <tr>\n      <th>10</th>\n      <td>R27</td>\n      <td>Facility</td>\n      <td>2018-09-24 10:00:00</td>\n      <td>2018-09-16 17:00:00</td>\n      <td>2</td>\n      <td>vegetation</td>\n      <td>Vegetation maintenance activities were performed</td>\n    </tr>\n  </tbody>\n</table>\n</div>"
     },
     "metadata": {},
     "execution_count": 14
    }
   ],
   "source": [
    "om_data_checked_s, addressed = preprocess.om_datelogic_check(om_data_sitena, om_col_dict, 'swap')\n",
    "addressed"
   ]
  },
  {
   "cell_type": "markdown",
   "metadata": {},
   "source": [
    "Print post-processed data frame\n"
   ]
  },
  {
   "cell_type": "code",
   "execution_count": 15,
   "metadata": {
    "scrolled": false
   },
   "outputs": [
    {
     "output_type": "execute_result",
     "data": {
      "text/plain": [
       "   randid     Asset          date_start            date_end  WONumber  \\\n",
       "1     R23  Facility 2018-05-19 13:04:00 2018-05-19 15:44:00       101   \n",
       "2     R23  Facility 2018-06-15 06:46:00 2018-06-15 10:30:00       102   \n",
       "3     R23  Facility 2018-06-18 11:20:00 2018-06-18 14:03:00       103   \n",
       "4     R23  Facility 2018-07-21 04:45:00 2018-07-21 13:15:00       104   \n",
       "5     R23  Inverter 2018-07-21 13:16:00 2018-07-21 14:25:00       105   \n",
       "6     R23  Inverter 2018-07-25 14:20:00 2018-07-25 16:40:00       106   \n",
       "7     R23  Inverter 2018-08-01 11:45:00                 NaT       107   \n",
       "8     R23  Facility 2018-08-02 01:05:00 2018-08-02 09:28:00       108   \n",
       "9     R27  Facility 2018-09-14 10:00:00 2018-09-16 16:00:00         1   \n",
       "10    R27  Facility 2018-05-19 13:04:00 2018-05-19 15:44:00         2   \n",
       "11    R27     Other 2018-09-19 07:00:00 2018-10-11 20:00:00         3   \n",
       "12    R27  Facility 2018-10-13 12:00:00 2018-10-13 17:00:00         4   \n",
       "13    R27     other 2018-10-14 11:00:00                 NaT         5   \n",
       "\n",
       "        WOType                                        GeneralDesc  \n",
       "1   Preventive               Site offline due to grid disturbance  \n",
       "2   Corrective                 Plant trip due to grid disturbance  \n",
       "3   Corrective            Site trip due to cause grid disturbance  \n",
       "4   Vegetation               Site tripped due to grid disturbance  \n",
       "5   Corrective      Inverter failed to start following plant trip  \n",
       "6   Corrective    inverter offline due to high ambient temp fault  \n",
       "7   Corrective                   Inverter major underperformance   \n",
       "8   Corrective                  Site trip due to grid disturbance  \n",
       "9   corrective  hurricane florence outages/response. complete ...  \n",
       "10  vegetation   Vegetation maintenance activities were performed  \n",
       "11  corrective  hurricane response. perform site inspection to...  \n",
       "12  preventive                          Monthly visual inspection  \n",
       "13  preventive                          Monthly visual inspection  "
      ],
      "text/html": "<div>\n<style scoped>\n    .dataframe tbody tr th:only-of-type {\n        vertical-align: middle;\n    }\n\n    .dataframe tbody tr th {\n        vertical-align: top;\n    }\n\n    .dataframe thead th {\n        text-align: right;\n    }\n</style>\n<table border=\"1\" class=\"dataframe\">\n  <thead>\n    <tr style=\"text-align: right;\">\n      <th></th>\n      <th>randid</th>\n      <th>Asset</th>\n      <th>date_start</th>\n      <th>date_end</th>\n      <th>WONumber</th>\n      <th>WOType</th>\n      <th>GeneralDesc</th>\n    </tr>\n  </thead>\n  <tbody>\n    <tr>\n      <th>1</th>\n      <td>R23</td>\n      <td>Facility</td>\n      <td>2018-05-19 13:04:00</td>\n      <td>2018-05-19 15:44:00</td>\n      <td>101</td>\n      <td>Preventive</td>\n      <td>Site offline due to grid disturbance</td>\n    </tr>\n    <tr>\n      <th>2</th>\n      <td>R23</td>\n      <td>Facility</td>\n      <td>2018-06-15 06:46:00</td>\n      <td>2018-06-15 10:30:00</td>\n      <td>102</td>\n      <td>Corrective</td>\n      <td>Plant trip due to grid disturbance</td>\n    </tr>\n    <tr>\n      <th>3</th>\n      <td>R23</td>\n      <td>Facility</td>\n      <td>2018-06-18 11:20:00</td>\n      <td>2018-06-18 14:03:00</td>\n      <td>103</td>\n      <td>Corrective</td>\n      <td>Site trip due to cause grid disturbance</td>\n    </tr>\n    <tr>\n      <th>4</th>\n      <td>R23</td>\n      <td>Facility</td>\n      <td>2018-07-21 04:45:00</td>\n      <td>2018-07-21 13:15:00</td>\n      <td>104</td>\n      <td>Vegetation</td>\n      <td>Site tripped due to grid disturbance</td>\n    </tr>\n    <tr>\n      <th>5</th>\n      <td>R23</td>\n      <td>Inverter</td>\n      <td>2018-07-21 13:16:00</td>\n      <td>2018-07-21 14:25:00</td>\n      <td>105</td>\n      <td>Corrective</td>\n      <td>Inverter failed to start following plant trip</td>\n    </tr>\n    <tr>\n      <th>6</th>\n      <td>R23</td>\n      <td>Inverter</td>\n      <td>2018-07-25 14:20:00</td>\n      <td>2018-07-25 16:40:00</td>\n      <td>106</td>\n      <td>Corrective</td>\n      <td>inverter offline due to high ambient temp fault</td>\n    </tr>\n    <tr>\n      <th>7</th>\n      <td>R23</td>\n      <td>Inverter</td>\n      <td>2018-08-01 11:45:00</td>\n      <td>NaT</td>\n      <td>107</td>\n      <td>Corrective</td>\n      <td>Inverter major underperformance</td>\n    </tr>\n    <tr>\n      <th>8</th>\n      <td>R23</td>\n      <td>Facility</td>\n      <td>2018-08-02 01:05:00</td>\n      <td>2018-08-02 09:28:00</td>\n      <td>108</td>\n      <td>Corrective</td>\n      <td>Site trip due to grid disturbance</td>\n    </tr>\n    <tr>\n      <th>9</th>\n      <td>R27</td>\n      <td>Facility</td>\n      <td>2018-09-14 10:00:00</td>\n      <td>2018-09-16 16:00:00</td>\n      <td>1</td>\n      <td>corrective</td>\n      <td>hurricane florence outages/response. complete ...</td>\n    </tr>\n    <tr>\n      <th>10</th>\n      <td>R27</td>\n      <td>Facility</td>\n      <td>2018-05-19 13:04:00</td>\n      <td>2018-05-19 15:44:00</td>\n      <td>2</td>\n      <td>vegetation</td>\n      <td>Vegetation maintenance activities were performed</td>\n    </tr>\n    <tr>\n      <th>11</th>\n      <td>R27</td>\n      <td>Other</td>\n      <td>2018-09-19 07:00:00</td>\n      <td>2018-10-11 20:00:00</td>\n      <td>3</td>\n      <td>corrective</td>\n      <td>hurricane response. perform site inspection to...</td>\n    </tr>\n    <tr>\n      <th>12</th>\n      <td>R27</td>\n      <td>Facility</td>\n      <td>2018-10-13 12:00:00</td>\n      <td>2018-10-13 17:00:00</td>\n      <td>4</td>\n      <td>preventive</td>\n      <td>Monthly visual inspection</td>\n    </tr>\n    <tr>\n      <th>13</th>\n      <td>R27</td>\n      <td>other</td>\n      <td>2018-10-14 11:00:00</td>\n      <td>NaT</td>\n      <td>5</td>\n      <td>preventive</td>\n      <td>Monthly visual inspection</td>\n    </tr>\n  </tbody>\n</table>\n</div>"
     },
     "metadata": {},
     "execution_count": 15
    }
   ],
   "source": [
    "om_data_checked_s"
   ]
  },
  {
   "cell_type": "markdown",
   "metadata": {},
   "source": [
    "Addressing issue by dropping rows instead of swapping dates"
   ]
  },
  {
   "cell_type": "code",
   "execution_count": 16,
   "metadata": {
    "scrolled": true
   },
   "outputs": [
    {
     "output_type": "execute_result",
     "data": {
      "text/plain": [
       "   randid     Asset          date_start            date_end  WONumber  \\\n",
       "2     R23  Facility 2018-06-15 06:46:00 2018-06-15 10:30:00       102   \n",
       "3     R23  Facility 2018-06-18 11:20:00 2018-06-18 14:03:00       103   \n",
       "4     R23  Facility 2018-07-21 04:45:00 2018-07-21 13:15:00       104   \n",
       "5     R23  Inverter 2018-07-21 13:16:00 2018-07-21 14:25:00       105   \n",
       "6     R23  Inverter 2018-07-25 14:20:00 2018-07-25 16:40:00       106   \n",
       "7     R23  Inverter 2018-08-01 11:45:00                 NaT       107   \n",
       "8     R23  Facility 2018-08-02 01:05:00 2018-08-02 09:28:00       108   \n",
       "9     R27  Facility 2018-09-14 10:00:00 2018-09-16 16:00:00         1   \n",
       "11    R27     Other 2018-09-19 07:00:00 2018-10-11 20:00:00         3   \n",
       "12    R27  Facility 2018-10-13 12:00:00 2018-10-13 17:00:00         4   \n",
       "13    R27     other 2018-10-14 11:00:00                 NaT         5   \n",
       "\n",
       "        WOType                                        GeneralDesc  \n",
       "2   Corrective                 Plant trip due to grid disturbance  \n",
       "3   Corrective            Site trip due to cause grid disturbance  \n",
       "4   Vegetation               Site tripped due to grid disturbance  \n",
       "5   Corrective      Inverter failed to start following plant trip  \n",
       "6   Corrective    inverter offline due to high ambient temp fault  \n",
       "7   Corrective                   Inverter major underperformance   \n",
       "8   Corrective                  Site trip due to grid disturbance  \n",
       "9   corrective  hurricane florence outages/response. complete ...  \n",
       "11  corrective  hurricane response. perform site inspection to...  \n",
       "12  preventive                          Monthly visual inspection  \n",
       "13  preventive                          Monthly visual inspection  "
      ],
      "text/html": "<div>\n<style scoped>\n    .dataframe tbody tr th:only-of-type {\n        vertical-align: middle;\n    }\n\n    .dataframe tbody tr th {\n        vertical-align: top;\n    }\n\n    .dataframe thead th {\n        text-align: right;\n    }\n</style>\n<table border=\"1\" class=\"dataframe\">\n  <thead>\n    <tr style=\"text-align: right;\">\n      <th></th>\n      <th>randid</th>\n      <th>Asset</th>\n      <th>date_start</th>\n      <th>date_end</th>\n      <th>WONumber</th>\n      <th>WOType</th>\n      <th>GeneralDesc</th>\n    </tr>\n  </thead>\n  <tbody>\n    <tr>\n      <th>2</th>\n      <td>R23</td>\n      <td>Facility</td>\n      <td>2018-06-15 06:46:00</td>\n      <td>2018-06-15 10:30:00</td>\n      <td>102</td>\n      <td>Corrective</td>\n      <td>Plant trip due to grid disturbance</td>\n    </tr>\n    <tr>\n      <th>3</th>\n      <td>R23</td>\n      <td>Facility</td>\n      <td>2018-06-18 11:20:00</td>\n      <td>2018-06-18 14:03:00</td>\n      <td>103</td>\n      <td>Corrective</td>\n      <td>Site trip due to cause grid disturbance</td>\n    </tr>\n    <tr>\n      <th>4</th>\n      <td>R23</td>\n      <td>Facility</td>\n      <td>2018-07-21 04:45:00</td>\n      <td>2018-07-21 13:15:00</td>\n      <td>104</td>\n      <td>Vegetation</td>\n      <td>Site tripped due to grid disturbance</td>\n    </tr>\n    <tr>\n      <th>5</th>\n      <td>R23</td>\n      <td>Inverter</td>\n      <td>2018-07-21 13:16:00</td>\n      <td>2018-07-21 14:25:00</td>\n      <td>105</td>\n      <td>Corrective</td>\n      <td>Inverter failed to start following plant trip</td>\n    </tr>\n    <tr>\n      <th>6</th>\n      <td>R23</td>\n      <td>Inverter</td>\n      <td>2018-07-25 14:20:00</td>\n      <td>2018-07-25 16:40:00</td>\n      <td>106</td>\n      <td>Corrective</td>\n      <td>inverter offline due to high ambient temp fault</td>\n    </tr>\n    <tr>\n      <th>7</th>\n      <td>R23</td>\n      <td>Inverter</td>\n      <td>2018-08-01 11:45:00</td>\n      <td>NaT</td>\n      <td>107</td>\n      <td>Corrective</td>\n      <td>Inverter major underperformance</td>\n    </tr>\n    <tr>\n      <th>8</th>\n      <td>R23</td>\n      <td>Facility</td>\n      <td>2018-08-02 01:05:00</td>\n      <td>2018-08-02 09:28:00</td>\n      <td>108</td>\n      <td>Corrective</td>\n      <td>Site trip due to grid disturbance</td>\n    </tr>\n    <tr>\n      <th>9</th>\n      <td>R27</td>\n      <td>Facility</td>\n      <td>2018-09-14 10:00:00</td>\n      <td>2018-09-16 16:00:00</td>\n      <td>1</td>\n      <td>corrective</td>\n      <td>hurricane florence outages/response. complete ...</td>\n    </tr>\n    <tr>\n      <th>11</th>\n      <td>R27</td>\n      <td>Other</td>\n      <td>2018-09-19 07:00:00</td>\n      <td>2018-10-11 20:00:00</td>\n      <td>3</td>\n      <td>corrective</td>\n      <td>hurricane response. perform site inspection to...</td>\n    </tr>\n    <tr>\n      <th>12</th>\n      <td>R27</td>\n      <td>Facility</td>\n      <td>2018-10-13 12:00:00</td>\n      <td>2018-10-13 17:00:00</td>\n      <td>4</td>\n      <td>preventive</td>\n      <td>Monthly visual inspection</td>\n    </tr>\n    <tr>\n      <th>13</th>\n      <td>R27</td>\n      <td>other</td>\n      <td>2018-10-14 11:00:00</td>\n      <td>NaT</td>\n      <td>5</td>\n      <td>preventive</td>\n      <td>Monthly visual inspection</td>\n    </tr>\n  </tbody>\n</table>\n</div>"
     },
     "metadata": {},
     "execution_count": 16
    }
   ],
   "source": [
    "om_data_checked_d, date_error = preprocess.om_datelogic_check(om_data_sitena, om_col_dict, 'drop')\n",
    "om_data_checked_d #post-processed data frame"
   ]
  },
  {
   "cell_type": "markdown",
   "metadata": {},
   "source": [
    "### 3.3 Unexpected drops in energy delivered (when collected on cumulative basis)"
   ]
  },
  {
   "cell_type": "markdown",
   "metadata": {},
   "source": [
    "Quick visualization pre-processed data"
   ]
  },
  {
   "cell_type": "code",
   "execution_count": 17,
   "metadata": {
    "scrolled": false
   },
   "outputs": [
    {
     "output_type": "display_data",
     "data": {
      "text/plain": "<Figure size 432x288 with 1 Axes>",
      "image/svg+xml": "<?xml version=\"1.0\" encoding=\"utf-8\" standalone=\"no\"?>\r\n<!DOCTYPE svg PUBLIC \"-//W3C//DTD SVG 1.1//EN\"\r\n  \"http://www.w3.org/Graphics/SVG/1.1/DTD/svg11.dtd\">\r\n<!-- Created with matplotlib (https://matplotlib.org/) -->\r\n<svg height=\"283.475565pt\" version=\"1.1\" viewBox=\"0 0 408.053125 283.475565\" width=\"408.053125pt\" xmlns=\"http://www.w3.org/2000/svg\" xmlns:xlink=\"http://www.w3.org/1999/xlink\">\r\n <defs>\r\n  <style type=\"text/css\">\r\n*{stroke-linecap:butt;stroke-linejoin:round;}\r\n  </style>\r\n </defs>\r\n <g id=\"figure_1\">\r\n  <g id=\"patch_1\">\r\n   <path d=\"M 0 283.475565 \r\nL 408.053125 283.475565 \r\nL 408.053125 0 \r\nL 0 0 \r\nz\r\n\" style=\"fill:none;\"/>\r\n  </g>\r\n  <g id=\"axes_1\">\r\n   <g id=\"patch_2\">\r\n    <path d=\"M 66.053125 218.158125 \r\nL 400.853125 218.158125 \r\nL 400.853125 22.318125 \r\nL 66.053125 22.318125 \r\nz\r\n\" style=\"fill:#ffffff;\"/>\r\n   </g>\r\n   <g id=\"matplotlib.axis_1\">\r\n    <g id=\"xtick_1\">\r\n     <g id=\"line2d_1\">\r\n      <defs>\r\n       <path d=\"M 0 0 \r\nL 0 3.5 \r\n\" id=\"mb86fa3631f\" style=\"stroke:#000000;stroke-width:0.8;\"/>\r\n      </defs>\r\n      <g>\r\n       <use style=\"stroke:#000000;stroke-width:0.8;\" x=\"80.4828\" xlink:href=\"#mb86fa3631f\" y=\"218.158125\"/>\r\n      </g>\r\n     </g>\r\n     <g id=\"text_1\">\r\n      <!-- 2018-07-19 -->\r\n      <defs>\r\n       <path d=\"M 19.1875 8.296875 \r\nL 53.609375 8.296875 \r\nL 53.609375 0 \r\nL 7.328125 0 \r\nL 7.328125 8.296875 \r\nQ 12.9375 14.109375 22.625 23.890625 \r\nQ 32.328125 33.6875 34.8125 36.53125 \r\nQ 39.546875 41.84375 41.421875 45.53125 \r\nQ 43.3125 49.21875 43.3125 52.78125 \r\nQ 43.3125 58.59375 39.234375 62.25 \r\nQ 35.15625 65.921875 28.609375 65.921875 \r\nQ 23.96875 65.921875 18.8125 64.3125 \r\nQ 13.671875 62.703125 7.8125 59.421875 \r\nL 7.8125 69.390625 \r\nQ 13.765625 71.78125 18.9375 73 \r\nQ 24.125 74.21875 28.421875 74.21875 \r\nQ 39.75 74.21875 46.484375 68.546875 \r\nQ 53.21875 62.890625 53.21875 53.421875 \r\nQ 53.21875 48.921875 51.53125 44.890625 \r\nQ 49.859375 40.875 45.40625 35.40625 \r\nQ 44.1875 33.984375 37.640625 27.21875 \r\nQ 31.109375 20.453125 19.1875 8.296875 \r\nz\r\n\" id=\"DejaVuSans-50\"/>\r\n       <path d=\"M 31.78125 66.40625 \r\nQ 24.171875 66.40625 20.328125 58.90625 \r\nQ 16.5 51.421875 16.5 36.375 \r\nQ 16.5 21.390625 20.328125 13.890625 \r\nQ 24.171875 6.390625 31.78125 6.390625 \r\nQ 39.453125 6.390625 43.28125 13.890625 \r\nQ 47.125 21.390625 47.125 36.375 \r\nQ 47.125 51.421875 43.28125 58.90625 \r\nQ 39.453125 66.40625 31.78125 66.40625 \r\nz\r\nM 31.78125 74.21875 \r\nQ 44.046875 74.21875 50.515625 64.515625 \r\nQ 56.984375 54.828125 56.984375 36.375 \r\nQ 56.984375 17.96875 50.515625 8.265625 \r\nQ 44.046875 -1.421875 31.78125 -1.421875 \r\nQ 19.53125 -1.421875 13.0625 8.265625 \r\nQ 6.59375 17.96875 6.59375 36.375 \r\nQ 6.59375 54.828125 13.0625 64.515625 \r\nQ 19.53125 74.21875 31.78125 74.21875 \r\nz\r\n\" id=\"DejaVuSans-48\"/>\r\n       <path d=\"M 12.40625 8.296875 \r\nL 28.515625 8.296875 \r\nL 28.515625 63.921875 \r\nL 10.984375 60.40625 \r\nL 10.984375 69.390625 \r\nL 28.421875 72.90625 \r\nL 38.28125 72.90625 \r\nL 38.28125 8.296875 \r\nL 54.390625 8.296875 \r\nL 54.390625 0 \r\nL 12.40625 0 \r\nz\r\n\" id=\"DejaVuSans-49\"/>\r\n       <path d=\"M 31.78125 34.625 \r\nQ 24.75 34.625 20.71875 30.859375 \r\nQ 16.703125 27.09375 16.703125 20.515625 \r\nQ 16.703125 13.921875 20.71875 10.15625 \r\nQ 24.75 6.390625 31.78125 6.390625 \r\nQ 38.8125 6.390625 42.859375 10.171875 \r\nQ 46.921875 13.96875 46.921875 20.515625 \r\nQ 46.921875 27.09375 42.890625 30.859375 \r\nQ 38.875 34.625 31.78125 34.625 \r\nz\r\nM 21.921875 38.8125 \r\nQ 15.578125 40.375 12.03125 44.71875 \r\nQ 8.5 49.078125 8.5 55.328125 \r\nQ 8.5 64.0625 14.71875 69.140625 \r\nQ 20.953125 74.21875 31.78125 74.21875 \r\nQ 42.671875 74.21875 48.875 69.140625 \r\nQ 55.078125 64.0625 55.078125 55.328125 \r\nQ 55.078125 49.078125 51.53125 44.71875 \r\nQ 48 40.375 41.703125 38.8125 \r\nQ 48.828125 37.15625 52.796875 32.3125 \r\nQ 56.78125 27.484375 56.78125 20.515625 \r\nQ 56.78125 9.90625 50.3125 4.234375 \r\nQ 43.84375 -1.421875 31.78125 -1.421875 \r\nQ 19.734375 -1.421875 13.25 4.234375 \r\nQ 6.78125 9.90625 6.78125 20.515625 \r\nQ 6.78125 27.484375 10.78125 32.3125 \r\nQ 14.796875 37.15625 21.921875 38.8125 \r\nz\r\nM 18.3125 54.390625 \r\nQ 18.3125 48.734375 21.84375 45.5625 \r\nQ 25.390625 42.390625 31.78125 42.390625 \r\nQ 38.140625 42.390625 41.71875 45.5625 \r\nQ 45.3125 48.734375 45.3125 54.390625 \r\nQ 45.3125 60.0625 41.71875 63.234375 \r\nQ 38.140625 66.40625 31.78125 66.40625 \r\nQ 25.390625 66.40625 21.84375 63.234375 \r\nQ 18.3125 60.0625 18.3125 54.390625 \r\nz\r\n\" id=\"DejaVuSans-56\"/>\r\n       <path d=\"M 4.890625 31.390625 \r\nL 31.203125 31.390625 \r\nL 31.203125 23.390625 \r\nL 4.890625 23.390625 \r\nz\r\n\" id=\"DejaVuSans-45\"/>\r\n       <path d=\"M 8.203125 72.90625 \r\nL 55.078125 72.90625 \r\nL 55.078125 68.703125 \r\nL 28.609375 0 \r\nL 18.3125 0 \r\nL 43.21875 64.59375 \r\nL 8.203125 64.59375 \r\nz\r\n\" id=\"DejaVuSans-55\"/>\r\n       <path d=\"M 10.984375 1.515625 \r\nL 10.984375 10.5 \r\nQ 14.703125 8.734375 18.5 7.8125 \r\nQ 22.3125 6.890625 25.984375 6.890625 \r\nQ 35.75 6.890625 40.890625 13.453125 \r\nQ 46.046875 20.015625 46.78125 33.40625 \r\nQ 43.953125 29.203125 39.59375 26.953125 \r\nQ 35.25 24.703125 29.984375 24.703125 \r\nQ 19.046875 24.703125 12.671875 31.3125 \r\nQ 6.296875 37.9375 6.296875 49.421875 \r\nQ 6.296875 60.640625 12.9375 67.421875 \r\nQ 19.578125 74.21875 30.609375 74.21875 \r\nQ 43.265625 74.21875 49.921875 64.515625 \r\nQ 56.59375 54.828125 56.59375 36.375 \r\nQ 56.59375 19.140625 48.40625 8.859375 \r\nQ 40.234375 -1.421875 26.421875 -1.421875 \r\nQ 22.703125 -1.421875 18.890625 -0.6875 \r\nQ 15.09375 0.046875 10.984375 1.515625 \r\nz\r\nM 30.609375 32.421875 \r\nQ 37.25 32.421875 41.125 36.953125 \r\nQ 45.015625 41.5 45.015625 49.421875 \r\nQ 45.015625 57.28125 41.125 61.84375 \r\nQ 37.25 66.40625 30.609375 66.40625 \r\nQ 23.96875 66.40625 20.09375 61.84375 \r\nQ 16.21875 57.28125 16.21875 49.421875 \r\nQ 16.21875 41.5 20.09375 36.953125 \r\nQ 23.96875 32.421875 30.609375 32.421875 \r\nz\r\n\" id=\"DejaVuSans-57\"/>\r\n      </defs>\r\n      <g transform=\"translate(29.113349 260.796377)rotate(-30)scale(0.1 -0.1)\">\r\n       <use xlink:href=\"#DejaVuSans-50\"/>\r\n       <use x=\"63.623047\" xlink:href=\"#DejaVuSans-48\"/>\r\n       <use x=\"127.246094\" xlink:href=\"#DejaVuSans-49\"/>\r\n       <use x=\"190.869141\" xlink:href=\"#DejaVuSans-56\"/>\r\n       <use x=\"254.492188\" xlink:href=\"#DejaVuSans-45\"/>\r\n       <use x=\"290.576172\" xlink:href=\"#DejaVuSans-48\"/>\r\n       <use x=\"354.199219\" xlink:href=\"#DejaVuSans-55\"/>\r\n       <use x=\"417.822266\" xlink:href=\"#DejaVuSans-45\"/>\r\n       <use x=\"453.90625\" xlink:href=\"#DejaVuSans-49\"/>\r\n       <use x=\"517.529297\" xlink:href=\"#DejaVuSans-57\"/>\r\n      </g>\r\n     </g>\r\n    </g>\r\n    <g id=\"xtick_2\">\r\n     <g id=\"line2d_2\">\r\n      <g>\r\n       <use style=\"stroke:#000000;stroke-width:0.8;\" x=\"118.331128\" xlink:href=\"#mb86fa3631f\" y=\"218.158125\"/>\r\n      </g>\r\n     </g>\r\n     <g id=\"text_2\">\r\n      <!-- 2018-07-21 -->\r\n      <g transform=\"translate(66.961676 260.796377)rotate(-30)scale(0.1 -0.1)\">\r\n       <use xlink:href=\"#DejaVuSans-50\"/>\r\n       <use x=\"63.623047\" xlink:href=\"#DejaVuSans-48\"/>\r\n       <use x=\"127.246094\" xlink:href=\"#DejaVuSans-49\"/>\r\n       <use x=\"190.869141\" xlink:href=\"#DejaVuSans-56\"/>\r\n       <use x=\"254.492188\" xlink:href=\"#DejaVuSans-45\"/>\r\n       <use x=\"290.576172\" xlink:href=\"#DejaVuSans-48\"/>\r\n       <use x=\"354.199219\" xlink:href=\"#DejaVuSans-55\"/>\r\n       <use x=\"417.822266\" xlink:href=\"#DejaVuSans-45\"/>\r\n       <use x=\"453.90625\" xlink:href=\"#DejaVuSans-50\"/>\r\n       <use x=\"517.529297\" xlink:href=\"#DejaVuSans-49\"/>\r\n      </g>\r\n     </g>\r\n    </g>\r\n    <g id=\"xtick_3\">\r\n     <g id=\"line2d_3\">\r\n      <g>\r\n       <use style=\"stroke:#000000;stroke-width:0.8;\" x=\"156.179456\" xlink:href=\"#mb86fa3631f\" y=\"218.158125\"/>\r\n      </g>\r\n     </g>\r\n     <g id=\"text_3\">\r\n      <!-- 2018-07-23 -->\r\n      <defs>\r\n       <path d=\"M 40.578125 39.3125 \r\nQ 47.65625 37.796875 51.625 33 \r\nQ 55.609375 28.21875 55.609375 21.1875 \r\nQ 55.609375 10.40625 48.1875 4.484375 \r\nQ 40.765625 -1.421875 27.09375 -1.421875 \r\nQ 22.515625 -1.421875 17.65625 -0.515625 \r\nQ 12.796875 0.390625 7.625 2.203125 \r\nL 7.625 11.71875 \r\nQ 11.71875 9.328125 16.59375 8.109375 \r\nQ 21.484375 6.890625 26.8125 6.890625 \r\nQ 36.078125 6.890625 40.9375 10.546875 \r\nQ 45.796875 14.203125 45.796875 21.1875 \r\nQ 45.796875 27.640625 41.28125 31.265625 \r\nQ 36.765625 34.90625 28.71875 34.90625 \r\nL 20.21875 34.90625 \r\nL 20.21875 43.015625 \r\nL 29.109375 43.015625 \r\nQ 36.375 43.015625 40.234375 45.921875 \r\nQ 44.09375 48.828125 44.09375 54.296875 \r\nQ 44.09375 59.90625 40.109375 62.90625 \r\nQ 36.140625 65.921875 28.71875 65.921875 \r\nQ 24.65625 65.921875 20.015625 65.03125 \r\nQ 15.375 64.15625 9.8125 62.3125 \r\nL 9.8125 71.09375 \r\nQ 15.4375 72.65625 20.34375 73.4375 \r\nQ 25.25 74.21875 29.59375 74.21875 \r\nQ 40.828125 74.21875 47.359375 69.109375 \r\nQ 53.90625 64.015625 53.90625 55.328125 \r\nQ 53.90625 49.265625 50.4375 45.09375 \r\nQ 46.96875 40.921875 40.578125 39.3125 \r\nz\r\n\" id=\"DejaVuSans-51\"/>\r\n      </defs>\r\n      <g transform=\"translate(104.810004 260.796377)rotate(-30)scale(0.1 -0.1)\">\r\n       <use xlink:href=\"#DejaVuSans-50\"/>\r\n       <use x=\"63.623047\" xlink:href=\"#DejaVuSans-48\"/>\r\n       <use x=\"127.246094\" xlink:href=\"#DejaVuSans-49\"/>\r\n       <use x=\"190.869141\" xlink:href=\"#DejaVuSans-56\"/>\r\n       <use x=\"254.492188\" xlink:href=\"#DejaVuSans-45\"/>\r\n       <use x=\"290.576172\" xlink:href=\"#DejaVuSans-48\"/>\r\n       <use x=\"354.199219\" xlink:href=\"#DejaVuSans-55\"/>\r\n       <use x=\"417.822266\" xlink:href=\"#DejaVuSans-45\"/>\r\n       <use x=\"453.90625\" xlink:href=\"#DejaVuSans-50\"/>\r\n       <use x=\"517.529297\" xlink:href=\"#DejaVuSans-51\"/>\r\n      </g>\r\n     </g>\r\n    </g>\r\n    <g id=\"xtick_4\">\r\n     <g id=\"line2d_4\">\r\n      <g>\r\n       <use style=\"stroke:#000000;stroke-width:0.8;\" x=\"194.027784\" xlink:href=\"#mb86fa3631f\" y=\"218.158125\"/>\r\n      </g>\r\n     </g>\r\n     <g id=\"text_4\">\r\n      <!-- 2018-07-25 -->\r\n      <defs>\r\n       <path d=\"M 10.796875 72.90625 \r\nL 49.515625 72.90625 \r\nL 49.515625 64.59375 \r\nL 19.828125 64.59375 \r\nL 19.828125 46.734375 \r\nQ 21.96875 47.46875 24.109375 47.828125 \r\nQ 26.265625 48.1875 28.421875 48.1875 \r\nQ 40.625 48.1875 47.75 41.5 \r\nQ 54.890625 34.8125 54.890625 23.390625 \r\nQ 54.890625 11.625 47.5625 5.09375 \r\nQ 40.234375 -1.421875 26.90625 -1.421875 \r\nQ 22.3125 -1.421875 17.546875 -0.640625 \r\nQ 12.796875 0.140625 7.71875 1.703125 \r\nL 7.71875 11.625 \r\nQ 12.109375 9.234375 16.796875 8.0625 \r\nQ 21.484375 6.890625 26.703125 6.890625 \r\nQ 35.15625 6.890625 40.078125 11.328125 \r\nQ 45.015625 15.765625 45.015625 23.390625 \r\nQ 45.015625 31 40.078125 35.4375 \r\nQ 35.15625 39.890625 26.703125 39.890625 \r\nQ 22.75 39.890625 18.8125 39.015625 \r\nQ 14.890625 38.140625 10.796875 36.28125 \r\nz\r\n\" id=\"DejaVuSans-53\"/>\r\n      </defs>\r\n      <g transform=\"translate(142.658332 260.796377)rotate(-30)scale(0.1 -0.1)\">\r\n       <use xlink:href=\"#DejaVuSans-50\"/>\r\n       <use x=\"63.623047\" xlink:href=\"#DejaVuSans-48\"/>\r\n       <use x=\"127.246094\" xlink:href=\"#DejaVuSans-49\"/>\r\n       <use x=\"190.869141\" xlink:href=\"#DejaVuSans-56\"/>\r\n       <use x=\"254.492188\" xlink:href=\"#DejaVuSans-45\"/>\r\n       <use x=\"290.576172\" xlink:href=\"#DejaVuSans-48\"/>\r\n       <use x=\"354.199219\" xlink:href=\"#DejaVuSans-55\"/>\r\n       <use x=\"417.822266\" xlink:href=\"#DejaVuSans-45\"/>\r\n       <use x=\"453.90625\" xlink:href=\"#DejaVuSans-50\"/>\r\n       <use x=\"517.529297\" xlink:href=\"#DejaVuSans-53\"/>\r\n      </g>\r\n     </g>\r\n    </g>\r\n    <g id=\"xtick_5\">\r\n     <g id=\"line2d_5\">\r\n      <g>\r\n       <use style=\"stroke:#000000;stroke-width:0.8;\" x=\"231.876111\" xlink:href=\"#mb86fa3631f\" y=\"218.158125\"/>\r\n      </g>\r\n     </g>\r\n     <g id=\"text_5\">\r\n      <!-- 2018-07-27 -->\r\n      <g transform=\"translate(180.50666 260.796377)rotate(-30)scale(0.1 -0.1)\">\r\n       <use xlink:href=\"#DejaVuSans-50\"/>\r\n       <use x=\"63.623047\" xlink:href=\"#DejaVuSans-48\"/>\r\n       <use x=\"127.246094\" xlink:href=\"#DejaVuSans-49\"/>\r\n       <use x=\"190.869141\" xlink:href=\"#DejaVuSans-56\"/>\r\n       <use x=\"254.492188\" xlink:href=\"#DejaVuSans-45\"/>\r\n       <use x=\"290.576172\" xlink:href=\"#DejaVuSans-48\"/>\r\n       <use x=\"354.199219\" xlink:href=\"#DejaVuSans-55\"/>\r\n       <use x=\"417.822266\" xlink:href=\"#DejaVuSans-45\"/>\r\n       <use x=\"453.90625\" xlink:href=\"#DejaVuSans-50\"/>\r\n       <use x=\"517.529297\" xlink:href=\"#DejaVuSans-55\"/>\r\n      </g>\r\n     </g>\r\n    </g>\r\n    <g id=\"xtick_6\">\r\n     <g id=\"line2d_6\">\r\n      <g>\r\n       <use style=\"stroke:#000000;stroke-width:0.8;\" x=\"269.724439\" xlink:href=\"#mb86fa3631f\" y=\"218.158125\"/>\r\n      </g>\r\n     </g>\r\n     <g id=\"text_6\">\r\n      <!-- 2018-07-29 -->\r\n      <g transform=\"translate(218.354988 260.796377)rotate(-30)scale(0.1 -0.1)\">\r\n       <use xlink:href=\"#DejaVuSans-50\"/>\r\n       <use x=\"63.623047\" xlink:href=\"#DejaVuSans-48\"/>\r\n       <use x=\"127.246094\" xlink:href=\"#DejaVuSans-49\"/>\r\n       <use x=\"190.869141\" xlink:href=\"#DejaVuSans-56\"/>\r\n       <use x=\"254.492188\" xlink:href=\"#DejaVuSans-45\"/>\r\n       <use x=\"290.576172\" xlink:href=\"#DejaVuSans-48\"/>\r\n       <use x=\"354.199219\" xlink:href=\"#DejaVuSans-55\"/>\r\n       <use x=\"417.822266\" xlink:href=\"#DejaVuSans-45\"/>\r\n       <use x=\"453.90625\" xlink:href=\"#DejaVuSans-50\"/>\r\n       <use x=\"517.529297\" xlink:href=\"#DejaVuSans-57\"/>\r\n      </g>\r\n     </g>\r\n    </g>\r\n    <g id=\"xtick_7\">\r\n     <g id=\"line2d_7\">\r\n      <g>\r\n       <use style=\"stroke:#000000;stroke-width:0.8;\" x=\"307.572767\" xlink:href=\"#mb86fa3631f\" y=\"218.158125\"/>\r\n      </g>\r\n     </g>\r\n     <g id=\"text_7\">\r\n      <!-- 2018-07-31 -->\r\n      <g transform=\"translate(256.203316 260.796377)rotate(-30)scale(0.1 -0.1)\">\r\n       <use xlink:href=\"#DejaVuSans-50\"/>\r\n       <use x=\"63.623047\" xlink:href=\"#DejaVuSans-48\"/>\r\n       <use x=\"127.246094\" xlink:href=\"#DejaVuSans-49\"/>\r\n       <use x=\"190.869141\" xlink:href=\"#DejaVuSans-56\"/>\r\n       <use x=\"254.492188\" xlink:href=\"#DejaVuSans-45\"/>\r\n       <use x=\"290.576172\" xlink:href=\"#DejaVuSans-48\"/>\r\n       <use x=\"354.199219\" xlink:href=\"#DejaVuSans-55\"/>\r\n       <use x=\"417.822266\" xlink:href=\"#DejaVuSans-45\"/>\r\n       <use x=\"453.90625\" xlink:href=\"#DejaVuSans-51\"/>\r\n       <use x=\"517.529297\" xlink:href=\"#DejaVuSans-49\"/>\r\n      </g>\r\n     </g>\r\n    </g>\r\n    <g id=\"xtick_8\">\r\n     <g id=\"line2d_8\">\r\n      <g>\r\n       <use style=\"stroke:#000000;stroke-width:0.8;\" x=\"326.496931\" xlink:href=\"#mb86fa3631f\" y=\"218.158125\"/>\r\n      </g>\r\n     </g>\r\n     <g id=\"text_8\">\r\n      <!-- 2018-08-01 -->\r\n      <g transform=\"translate(275.12748 260.796377)rotate(-30)scale(0.1 -0.1)\">\r\n       <use xlink:href=\"#DejaVuSans-50\"/>\r\n       <use x=\"63.623047\" xlink:href=\"#DejaVuSans-48\"/>\r\n       <use x=\"127.246094\" xlink:href=\"#DejaVuSans-49\"/>\r\n       <use x=\"190.869141\" xlink:href=\"#DejaVuSans-56\"/>\r\n       <use x=\"254.492188\" xlink:href=\"#DejaVuSans-45\"/>\r\n       <use x=\"290.576172\" xlink:href=\"#DejaVuSans-48\"/>\r\n       <use x=\"354.199219\" xlink:href=\"#DejaVuSans-56\"/>\r\n       <use x=\"417.822266\" xlink:href=\"#DejaVuSans-45\"/>\r\n       <use x=\"453.90625\" xlink:href=\"#DejaVuSans-48\"/>\r\n       <use x=\"517.529297\" xlink:href=\"#DejaVuSans-49\"/>\r\n      </g>\r\n     </g>\r\n    </g>\r\n    <g id=\"xtick_9\">\r\n     <g id=\"line2d_9\">\r\n      <g>\r\n       <use style=\"stroke:#000000;stroke-width:0.8;\" x=\"364.345259\" xlink:href=\"#mb86fa3631f\" y=\"218.158125\"/>\r\n      </g>\r\n     </g>\r\n     <g id=\"text_9\">\r\n      <!-- 2018-08-03 -->\r\n      <g transform=\"translate(312.975807 260.796377)rotate(-30)scale(0.1 -0.1)\">\r\n       <use xlink:href=\"#DejaVuSans-50\"/>\r\n       <use x=\"63.623047\" xlink:href=\"#DejaVuSans-48\"/>\r\n       <use x=\"127.246094\" xlink:href=\"#DejaVuSans-49\"/>\r\n       <use x=\"190.869141\" xlink:href=\"#DejaVuSans-56\"/>\r\n       <use x=\"254.492188\" xlink:href=\"#DejaVuSans-45\"/>\r\n       <use x=\"290.576172\" xlink:href=\"#DejaVuSans-48\"/>\r\n       <use x=\"354.199219\" xlink:href=\"#DejaVuSans-56\"/>\r\n       <use x=\"417.822266\" xlink:href=\"#DejaVuSans-45\"/>\r\n       <use x=\"453.90625\" xlink:href=\"#DejaVuSans-48\"/>\r\n       <use x=\"517.529297\" xlink:href=\"#DejaVuSans-51\"/>\r\n      </g>\r\n     </g>\r\n    </g>\r\n    <g id=\"text_10\">\r\n     <!-- Date -->\r\n     <defs>\r\n      <path d=\"M 19.671875 64.796875 \r\nL 19.671875 8.109375 \r\nL 31.59375 8.109375 \r\nQ 46.6875 8.109375 53.6875 14.9375 \r\nQ 60.6875 21.78125 60.6875 36.53125 \r\nQ 60.6875 51.171875 53.6875 57.984375 \r\nQ 46.6875 64.796875 31.59375 64.796875 \r\nz\r\nM 9.8125 72.90625 \r\nL 30.078125 72.90625 \r\nQ 51.265625 72.90625 61.171875 64.09375 \r\nQ 71.09375 55.28125 71.09375 36.53125 \r\nQ 71.09375 17.671875 61.125 8.828125 \r\nQ 51.171875 0 30.078125 0 \r\nL 9.8125 0 \r\nz\r\n\" id=\"DejaVuSans-68\"/>\r\n      <path d=\"M 34.28125 27.484375 \r\nQ 23.390625 27.484375 19.1875 25 \r\nQ 14.984375 22.515625 14.984375 16.5 \r\nQ 14.984375 11.71875 18.140625 8.90625 \r\nQ 21.296875 6.109375 26.703125 6.109375 \r\nQ 34.1875 6.109375 38.703125 11.40625 \r\nQ 43.21875 16.703125 43.21875 25.484375 \r\nL 43.21875 27.484375 \r\nz\r\nM 52.203125 31.203125 \r\nL 52.203125 0 \r\nL 43.21875 0 \r\nL 43.21875 8.296875 \r\nQ 40.140625 3.328125 35.546875 0.953125 \r\nQ 30.953125 -1.421875 24.3125 -1.421875 \r\nQ 15.921875 -1.421875 10.953125 3.296875 \r\nQ 6 8.015625 6 15.921875 \r\nQ 6 25.140625 12.171875 29.828125 \r\nQ 18.359375 34.515625 30.609375 34.515625 \r\nL 43.21875 34.515625 \r\nL 43.21875 35.40625 \r\nQ 43.21875 41.609375 39.140625 45 \r\nQ 35.0625 48.390625 27.6875 48.390625 \r\nQ 23 48.390625 18.546875 47.265625 \r\nQ 14.109375 46.140625 10.015625 43.890625 \r\nL 10.015625 52.203125 \r\nQ 14.9375 54.109375 19.578125 55.046875 \r\nQ 24.21875 56 28.609375 56 \r\nQ 40.484375 56 46.34375 49.84375 \r\nQ 52.203125 43.703125 52.203125 31.203125 \r\nz\r\n\" id=\"DejaVuSans-97\"/>\r\n      <path d=\"M 18.3125 70.21875 \r\nL 18.3125 54.6875 \r\nL 36.8125 54.6875 \r\nL 36.8125 47.703125 \r\nL 18.3125 47.703125 \r\nL 18.3125 18.015625 \r\nQ 18.3125 11.328125 20.140625 9.421875 \r\nQ 21.96875 7.515625 27.59375 7.515625 \r\nL 36.8125 7.515625 \r\nL 36.8125 0 \r\nL 27.59375 0 \r\nQ 17.1875 0 13.234375 3.875 \r\nQ 9.28125 7.765625 9.28125 18.015625 \r\nL 9.28125 47.703125 \r\nL 2.6875 47.703125 \r\nL 2.6875 54.6875 \r\nL 9.28125 54.6875 \r\nL 9.28125 70.21875 \r\nz\r\n\" id=\"DejaVuSans-116\"/>\r\n      <path d=\"M 56.203125 29.59375 \r\nL 56.203125 25.203125 \r\nL 14.890625 25.203125 \r\nQ 15.484375 15.921875 20.484375 11.0625 \r\nQ 25.484375 6.203125 34.421875 6.203125 \r\nQ 39.59375 6.203125 44.453125 7.46875 \r\nQ 49.3125 8.734375 54.109375 11.28125 \r\nL 54.109375 2.78125 \r\nQ 49.265625 0.734375 44.1875 -0.34375 \r\nQ 39.109375 -1.421875 33.890625 -1.421875 \r\nQ 20.796875 -1.421875 13.15625 6.1875 \r\nQ 5.515625 13.8125 5.515625 26.8125 \r\nQ 5.515625 40.234375 12.765625 48.109375 \r\nQ 20.015625 56 32.328125 56 \r\nQ 43.359375 56 49.78125 48.890625 \r\nQ 56.203125 41.796875 56.203125 29.59375 \r\nz\r\nM 47.21875 32.234375 \r\nQ 47.125 39.59375 43.09375 43.984375 \r\nQ 39.0625 48.390625 32.421875 48.390625 \r\nQ 24.90625 48.390625 20.390625 44.140625 \r\nQ 15.875 39.890625 15.1875 32.171875 \r\nz\r\n\" id=\"DejaVuSans-101\"/>\r\n     </defs>\r\n     <g transform=\"translate(221.502344 274.195877)scale(0.1 -0.1)\">\r\n      <use xlink:href=\"#DejaVuSans-68\"/>\r\n      <use x=\"77.001953\" xlink:href=\"#DejaVuSans-97\"/>\r\n      <use x=\"138.28125\" xlink:href=\"#DejaVuSans-116\"/>\r\n      <use x=\"177.490234\" xlink:href=\"#DejaVuSans-101\"/>\r\n     </g>\r\n    </g>\r\n   </g>\r\n   <g id=\"matplotlib.axis_2\">\r\n    <g id=\"ytick_1\">\r\n     <g id=\"line2d_10\">\r\n      <defs>\r\n       <path d=\"M 0 0 \r\nL -3.5 0 \r\n\" id=\"mdda85e629b\" style=\"stroke:#000000;stroke-width:0.8;\"/>\r\n      </defs>\r\n      <g>\r\n       <use style=\"stroke:#000000;stroke-width:0.8;\" x=\"66.053125\" xlink:href=\"#mdda85e629b\" y=\"209.256307\"/>\r\n      </g>\r\n     </g>\r\n     <g id=\"text_11\">\r\n      <!-- 0 -->\r\n      <g transform=\"translate(52.690625 213.055526)scale(0.1 -0.1)\">\r\n       <use xlink:href=\"#DejaVuSans-48\"/>\r\n      </g>\r\n     </g>\r\n    </g>\r\n    <g id=\"ytick_2\">\r\n     <g id=\"line2d_11\">\r\n      <g>\r\n       <use style=\"stroke:#000000;stroke-width:0.8;\" x=\"66.053125\" xlink:href=\"#mdda85e629b\" y=\"169.390679\"/>\r\n      </g>\r\n     </g>\r\n     <g id=\"text_12\">\r\n      <!-- 50000 -->\r\n      <g transform=\"translate(27.240625 173.189898)scale(0.1 -0.1)\">\r\n       <use xlink:href=\"#DejaVuSans-53\"/>\r\n       <use x=\"63.623047\" xlink:href=\"#DejaVuSans-48\"/>\r\n       <use x=\"127.246094\" xlink:href=\"#DejaVuSans-48\"/>\r\n       <use x=\"190.869141\" xlink:href=\"#DejaVuSans-48\"/>\r\n       <use x=\"254.492188\" xlink:href=\"#DejaVuSans-48\"/>\r\n      </g>\r\n     </g>\r\n    </g>\r\n    <g id=\"ytick_3\">\r\n     <g id=\"line2d_12\">\r\n      <g>\r\n       <use style=\"stroke:#000000;stroke-width:0.8;\" x=\"66.053125\" xlink:href=\"#mdda85e629b\" y=\"129.525051\"/>\r\n      </g>\r\n     </g>\r\n     <g id=\"text_13\">\r\n      <!-- 100000 -->\r\n      <g transform=\"translate(20.878125 133.32427)scale(0.1 -0.1)\">\r\n       <use xlink:href=\"#DejaVuSans-49\"/>\r\n       <use x=\"63.623047\" xlink:href=\"#DejaVuSans-48\"/>\r\n       <use x=\"127.246094\" xlink:href=\"#DejaVuSans-48\"/>\r\n       <use x=\"190.869141\" xlink:href=\"#DejaVuSans-48\"/>\r\n       <use x=\"254.492188\" xlink:href=\"#DejaVuSans-48\"/>\r\n       <use x=\"318.115234\" xlink:href=\"#DejaVuSans-48\"/>\r\n      </g>\r\n     </g>\r\n    </g>\r\n    <g id=\"ytick_4\">\r\n     <g id=\"line2d_13\">\r\n      <g>\r\n       <use style=\"stroke:#000000;stroke-width:0.8;\" x=\"66.053125\" xlink:href=\"#mdda85e629b\" y=\"89.659423\"/>\r\n      </g>\r\n     </g>\r\n     <g id=\"text_14\">\r\n      <!-- 150000 -->\r\n      <g transform=\"translate(20.878125 93.458642)scale(0.1 -0.1)\">\r\n       <use xlink:href=\"#DejaVuSans-49\"/>\r\n       <use x=\"63.623047\" xlink:href=\"#DejaVuSans-53\"/>\r\n       <use x=\"127.246094\" xlink:href=\"#DejaVuSans-48\"/>\r\n       <use x=\"190.869141\" xlink:href=\"#DejaVuSans-48\"/>\r\n       <use x=\"254.492188\" xlink:href=\"#DejaVuSans-48\"/>\r\n       <use x=\"318.115234\" xlink:href=\"#DejaVuSans-48\"/>\r\n      </g>\r\n     </g>\r\n    </g>\r\n    <g id=\"ytick_5\">\r\n     <g id=\"line2d_14\">\r\n      <g>\r\n       <use style=\"stroke:#000000;stroke-width:0.8;\" x=\"66.053125\" xlink:href=\"#mdda85e629b\" y=\"49.793795\"/>\r\n      </g>\r\n     </g>\r\n     <g id=\"text_15\">\r\n      <!-- 200000 -->\r\n      <g transform=\"translate(20.878125 53.593014)scale(0.1 -0.1)\">\r\n       <use xlink:href=\"#DejaVuSans-50\"/>\r\n       <use x=\"63.623047\" xlink:href=\"#DejaVuSans-48\"/>\r\n       <use x=\"127.246094\" xlink:href=\"#DejaVuSans-48\"/>\r\n       <use x=\"190.869141\" xlink:href=\"#DejaVuSans-48\"/>\r\n       <use x=\"254.492188\" xlink:href=\"#DejaVuSans-48\"/>\r\n       <use x=\"318.115234\" xlink:href=\"#DejaVuSans-48\"/>\r\n      </g>\r\n     </g>\r\n    </g>\r\n    <g id=\"text_16\">\r\n     <!-- Joules -->\r\n     <defs>\r\n      <path d=\"M 9.8125 72.90625 \r\nL 19.671875 72.90625 \r\nL 19.671875 5.078125 \r\nQ 19.671875 -8.109375 14.671875 -14.0625 \r\nQ 9.671875 -20.015625 -1.421875 -20.015625 \r\nL -5.171875 -20.015625 \r\nL -5.171875 -11.71875 \r\nL -2.09375 -11.71875 \r\nQ 4.4375 -11.71875 7.125 -8.046875 \r\nQ 9.8125 -4.390625 9.8125 5.078125 \r\nz\r\n\" id=\"DejaVuSans-74\"/>\r\n      <path d=\"M 30.609375 48.390625 \r\nQ 23.390625 48.390625 19.1875 42.75 \r\nQ 14.984375 37.109375 14.984375 27.296875 \r\nQ 14.984375 17.484375 19.15625 11.84375 \r\nQ 23.34375 6.203125 30.609375 6.203125 \r\nQ 37.796875 6.203125 41.984375 11.859375 \r\nQ 46.1875 17.53125 46.1875 27.296875 \r\nQ 46.1875 37.015625 41.984375 42.703125 \r\nQ 37.796875 48.390625 30.609375 48.390625 \r\nz\r\nM 30.609375 56 \r\nQ 42.328125 56 49.015625 48.375 \r\nQ 55.71875 40.765625 55.71875 27.296875 \r\nQ 55.71875 13.875 49.015625 6.21875 \r\nQ 42.328125 -1.421875 30.609375 -1.421875 \r\nQ 18.84375 -1.421875 12.171875 6.21875 \r\nQ 5.515625 13.875 5.515625 27.296875 \r\nQ 5.515625 40.765625 12.171875 48.375 \r\nQ 18.84375 56 30.609375 56 \r\nz\r\n\" id=\"DejaVuSans-111\"/>\r\n      <path d=\"M 8.5 21.578125 \r\nL 8.5 54.6875 \r\nL 17.484375 54.6875 \r\nL 17.484375 21.921875 \r\nQ 17.484375 14.15625 20.5 10.265625 \r\nQ 23.53125 6.390625 29.59375 6.390625 \r\nQ 36.859375 6.390625 41.078125 11.03125 \r\nQ 45.3125 15.671875 45.3125 23.6875 \r\nL 45.3125 54.6875 \r\nL 54.296875 54.6875 \r\nL 54.296875 0 \r\nL 45.3125 0 \r\nL 45.3125 8.40625 \r\nQ 42.046875 3.421875 37.71875 1 \r\nQ 33.40625 -1.421875 27.6875 -1.421875 \r\nQ 18.265625 -1.421875 13.375 4.4375 \r\nQ 8.5 10.296875 8.5 21.578125 \r\nz\r\nM 31.109375 56 \r\nz\r\n\" id=\"DejaVuSans-117\"/>\r\n      <path d=\"M 9.421875 75.984375 \r\nL 18.40625 75.984375 \r\nL 18.40625 0 \r\nL 9.421875 0 \r\nz\r\n\" id=\"DejaVuSans-108\"/>\r\n      <path d=\"M 44.28125 53.078125 \r\nL 44.28125 44.578125 \r\nQ 40.484375 46.53125 36.375 47.5 \r\nQ 32.28125 48.484375 27.875 48.484375 \r\nQ 21.1875 48.484375 17.84375 46.4375 \r\nQ 14.5 44.390625 14.5 40.28125 \r\nQ 14.5 37.15625 16.890625 35.375 \r\nQ 19.28125 33.59375 26.515625 31.984375 \r\nL 29.59375 31.296875 \r\nQ 39.15625 29.25 43.1875 25.515625 \r\nQ 47.21875 21.78125 47.21875 15.09375 \r\nQ 47.21875 7.46875 41.1875 3.015625 \r\nQ 35.15625 -1.421875 24.609375 -1.421875 \r\nQ 20.21875 -1.421875 15.453125 -0.5625 \r\nQ 10.6875 0.296875 5.421875 2 \r\nL 5.421875 11.28125 \r\nQ 10.40625 8.6875 15.234375 7.390625 \r\nQ 20.0625 6.109375 24.8125 6.109375 \r\nQ 31.15625 6.109375 34.5625 8.28125 \r\nQ 37.984375 10.453125 37.984375 14.40625 \r\nQ 37.984375 18.0625 35.515625 20.015625 \r\nQ 33.0625 21.96875 24.703125 23.78125 \r\nL 21.578125 24.515625 \r\nQ 13.234375 26.265625 9.515625 29.90625 \r\nQ 5.8125 33.546875 5.8125 39.890625 \r\nQ 5.8125 47.609375 11.28125 51.796875 \r\nQ 16.75 56 26.8125 56 \r\nQ 31.78125 56 36.171875 55.265625 \r\nQ 40.578125 54.546875 44.28125 53.078125 \r\nz\r\n\" id=\"DejaVuSans-115\"/>\r\n     </defs>\r\n     <g transform=\"translate(14.798438 135.011562)rotate(-90)scale(0.1 -0.1)\">\r\n      <use xlink:href=\"#DejaVuSans-74\"/>\r\n      <use x=\"29.492188\" xlink:href=\"#DejaVuSans-111\"/>\r\n      <use x=\"90.673828\" xlink:href=\"#DejaVuSans-117\"/>\r\n      <use x=\"154.052734\" xlink:href=\"#DejaVuSans-108\"/>\r\n      <use x=\"181.835938\" xlink:href=\"#DejaVuSans-101\"/>\r\n      <use x=\"243.359375\" xlink:href=\"#DejaVuSans-115\"/>\r\n     </g>\r\n    </g>\r\n   </g>\r\n   <g id=\"line2d_15\">\r\n    <path clip-path=\"url(#p2966ca8309)\" d=\"M 81.271307 208.458994 \r\nL 82.059814 209.256307 \r\nL 82.84832 209.256307 \r\nL 83.636827 208.458994 \r\nL 86.002348 208.432913 \r\nL 86.790855 208.285562 \r\nL 87.579361 207.749499 \r\nL 88.367868 206.805779 \r\nL 89.156375 205.538904 \r\nL 91.521896 201.235453 \r\nL 92.310402 200.387995 \r\nL 93.098909 198.983329 \r\nL 93.887416 197.867293 \r\nL 94.675923 197.142148 \r\nL 95.46443 196.839901 \r\nL 97.82995 196.8012 \r\nL 104.926512 196.782375 \r\nL 105.715019 196.628435 \r\nL 106.503525 196.092898 \r\nL 107.292032 195.147408 \r\nL 108.080539 193.872453 \r\nL 110.44606 189.175065 \r\nL 112.023073 186.328666 \r\nL 112.81158 185.265476 \r\nL 113.600087 184.572471 \r\nL 114.388594 184.279939 \r\nL 116.754114 184.2427 \r\nL 128.581717 184.2427 \r\nL 129.370223 183.667728 \r\nL 130.947237 181.97509 \r\nL 132.524251 180.46897 \r\nL 133.312758 180.170207 \r\nL 136.466785 180.13428 \r\nL 142.77484 180.109622 \r\nL 143.563346 179.966051 \r\nL 144.351853 179.410857 \r\nL 145.14036 178.435396 \r\nL 146.717374 175.619229 \r\nL 149.082894 171.189442 \r\nL 149.871401 169.829419 \r\nL 150.659908 168.69336 \r\nL 151.448415 167.939193 \r\nL 152.236922 167.627206 \r\nL 155.390949 167.596097 \r\nL 161.699003 167.569504 \r\nL 162.48751 167.424519 \r\nL 163.276017 166.87928 \r\nL 164.064524 165.917791 \r\nL 165.641538 163.118089 \r\nL 168.007058 158.892793 \r\nL 168.795565 157.606076 \r\nL 169.584072 156.552449 \r\nL 170.372579 155.847384 \r\nL 171.949592 155.664403 \r\nL 180.623167 155.637395 \r\nL 181.411674 155.490195 \r\nL 182.200181 154.952792 \r\nL 182.988688 154.002395 \r\nL 184.565702 151.29966 \r\nL 186.931222 147.377244 \r\nL 187.719729 146.428488 \r\nL 188.508236 145.304237 \r\nL 189.296743 144.570833 \r\nL 190.085249 144.418553 \r\nL 193.239277 144.388264 \r\nL 199.547331 144.358924 \r\nL 200.335838 144.205523 \r\nL 201.124345 143.668876 \r\nL 201.912852 142.71818 \r\nL 203.489865 139.988016 \r\nL 205.066879 137.307348 \r\nL 205.855386 136.525966 \r\nL 206.643893 135.91924 \r\nL 208.220906 134.454082 \r\nL 209.009413 134.244823 \r\nL 212.163441 134.210088 \r\nL 218.471495 134.173735 \r\nL 219.260002 134.004793 \r\nL 220.048509 133.458762 \r\nL 220.837016 132.509501 \r\nL 222.414029 129.82042 \r\nL 225.568057 124.559933 \r\nL 226.356564 123.456304 \r\nL 227.14507 122.720343 \r\nL 227.933577 122.408165 \r\nL 230.299098 122.368743 \r\nL 232.664618 122.368743 \r\nL 233.453125 209.256307 \r\nL 234.241632 122.368743 \r\nL 237.395659 122.333357 \r\nL 238.184166 122.157838 \r\nL 238.972673 121.637358 \r\nL 239.76118 120.707949 \r\nL 241.338193 118.000541 \r\nL 244.492221 112.599607 \r\nL 245.280727 111.475751 \r\nL 246.069234 110.758283 \r\nL 246.857741 110.451455 \r\nL 249.223262 110.409433 \r\nL 256.319823 110.376318 \r\nL 257.10833 110.209804 \r\nL 257.896837 109.658157 \r\nL 258.685344 108.694857 \r\nL 260.262357 105.981795 \r\nL 263.416385 100.454807 \r\nL 264.204891 99.356004 \r\nL 264.993398 98.669494 \r\nL 265.781905 98.408768 \r\nL 269.724439 98.382514 \r\nL 275.243987 98.355295 \r\nL 276.032494 98.197635 \r\nL 276.821001 97.658689 \r\nL 277.609507 96.752365 \r\nL 278.398014 95.47263 \r\nL 281.552042 89.674516 \r\nL 282.340548 88.363416 \r\nL 283.129055 87.306509 \r\nL 283.917562 86.639778 \r\nL 284.706069 86.430425 \r\nL 287.071589 86.37618 \r\nL 294.168151 86.351444 \r\nL 295.745165 85.974828 \r\nL 296.533671 85.562673 \r\nL 297.322178 84.932033 \r\nL 298.899192 82.091315 \r\nL 301.264712 77.948048 \r\nL 302.053219 76.867343 \r\nL 302.841726 76.165395 \r\nL 303.630233 75.886786 \r\nL 306.78426 75.857888 \r\nL 313.092315 75.845521 \r\nL 313.880822 75.665006 \r\nL 314.669328 75.304236 \r\nL 315.457835 74.576079 \r\nL 317.823356 71.093173 \r\nL 319.400369 69.105114 \r\nL 320.977383 66.808058 \r\nL 321.76589 65.998813 \r\nL 322.554397 65.726782 \r\nL 326.496931 65.700835 \r\nL 332.016479 65.679219 \r\nL 332.804986 65.528681 \r\nL 333.593492 65.010774 \r\nL 334.381999 64.091621 \r\nL 335.170506 62.857888 \r\nL 339.11304 55.737756 \r\nL 339.901547 54.684215 \r\nL 340.690054 54.130889 \r\nL 341.478561 53.852644 \r\nL 344.632588 53.817477 \r\nL 352.517656 53.817477 \r\nL 353.306163 53.371107 \r\nL 354.09467 52.177993 \r\nL 358.037204 44.8781 \r\nL 358.825711 43.797271 \r\nL 359.614218 43.1105 \r\nL 360.402725 42.846464 \r\nL 364.345259 42.821597 \r\nL 369.864807 42.795908 \r\nL 370.653313 42.645226 \r\nL 371.44182 42.111216 \r\nL 372.230327 41.161934 \r\nL 377.749875 32.255383 \r\nL 378.538382 31.530023 \r\nL 379.326889 31.244339 \r\nL 383.269423 31.219943 \r\nL 385.634943 31.219943 \r\nL 385.634943 31.219943 \r\n\" style=\"fill:none;stroke:#1f77b4;stroke-linecap:square;stroke-width:1.5;\"/>\r\n   </g>\r\n   <g id=\"patch_3\">\r\n    <path d=\"M 66.053125 218.158125 \r\nL 66.053125 22.318125 \r\n\" style=\"fill:none;stroke:#000000;stroke-linecap:square;stroke-linejoin:miter;stroke-width:0.8;\"/>\r\n   </g>\r\n   <g id=\"patch_4\">\r\n    <path d=\"M 400.853125 218.158125 \r\nL 400.853125 22.318125 \r\n\" style=\"fill:none;stroke:#000000;stroke-linecap:square;stroke-linejoin:miter;stroke-width:0.8;\"/>\r\n   </g>\r\n   <g id=\"patch_5\">\r\n    <path d=\"M 66.053125 218.158125 \r\nL 400.853125 218.158125 \r\n\" style=\"fill:none;stroke:#000000;stroke-linecap:square;stroke-linejoin:miter;stroke-width:0.8;\"/>\r\n   </g>\r\n   <g id=\"patch_6\">\r\n    <path d=\"M 66.053125 22.318125 \r\nL 400.853125 22.318125 \r\n\" style=\"fill:none;stroke:#000000;stroke-linecap:square;stroke-linejoin:miter;stroke-width:0.8;\"/>\r\n   </g>\r\n   <g id=\"text_17\">\r\n    <!-- R23 -->\r\n    <defs>\r\n     <path d=\"M 44.390625 34.1875 \r\nQ 47.5625 33.109375 50.5625 29.59375 \r\nQ 53.5625 26.078125 56.59375 19.921875 \r\nL 66.609375 0 \r\nL 56 0 \r\nL 46.6875 18.703125 \r\nQ 43.0625 26.03125 39.671875 28.421875 \r\nQ 36.28125 30.8125 30.421875 30.8125 \r\nL 19.671875 30.8125 \r\nL 19.671875 0 \r\nL 9.8125 0 \r\nL 9.8125 72.90625 \r\nL 32.078125 72.90625 \r\nQ 44.578125 72.90625 50.734375 67.671875 \r\nQ 56.890625 62.453125 56.890625 51.90625 \r\nQ 56.890625 45.015625 53.6875 40.46875 \r\nQ 50.484375 35.9375 44.390625 34.1875 \r\nz\r\nM 19.671875 64.796875 \r\nL 19.671875 38.921875 \r\nL 32.078125 38.921875 \r\nQ 39.203125 38.921875 42.84375 42.21875 \r\nQ 46.484375 45.515625 46.484375 51.90625 \r\nQ 46.484375 58.296875 42.84375 61.546875 \r\nQ 39.203125 64.796875 32.078125 64.796875 \r\nz\r\n\" id=\"DejaVuSans-82\"/>\r\n    </defs>\r\n    <g transform=\"translate(221.649063 16.318125)scale(0.12 -0.12)\">\r\n     <use xlink:href=\"#DejaVuSans-82\"/>\r\n     <use x=\"69.482422\" xlink:href=\"#DejaVuSans-50\"/>\r\n     <use x=\"133.105469\" xlink:href=\"#DejaVuSans-51\"/>\r\n    </g>\r\n   </g>\r\n   <g id=\"legend_1\">\r\n    <g id=\"patch_7\">\r\n     <path d=\"M 73.053125 44.99625 \r\nL 140.065625 44.99625 \r\nQ 142.065625 44.99625 142.065625 42.99625 \r\nL 142.065625 29.318125 \r\nQ 142.065625 27.318125 140.065625 27.318125 \r\nL 73.053125 27.318125 \r\nQ 71.053125 27.318125 71.053125 29.318125 \r\nL 71.053125 42.99625 \r\nQ 71.053125 44.99625 73.053125 44.99625 \r\nz\r\n\" style=\"fill:#ffffff;opacity:0.8;stroke:#cccccc;stroke-linejoin:miter;\"/>\r\n    </g>\r\n    <g id=\"line2d_16\">\r\n     <path d=\"M 75.053125 35.416562 \r\nL 95.053125 35.416562 \r\n\" style=\"fill:none;stroke:#1f77b4;stroke-linecap:square;stroke-width:1.5;\"/>\r\n    </g>\r\n    <g id=\"line2d_17\"/>\r\n    <g id=\"text_18\">\r\n     <!-- Energy -->\r\n     <defs>\r\n      <path d=\"M 9.8125 72.90625 \r\nL 55.90625 72.90625 \r\nL 55.90625 64.59375 \r\nL 19.671875 64.59375 \r\nL 19.671875 43.015625 \r\nL 54.390625 43.015625 \r\nL 54.390625 34.71875 \r\nL 19.671875 34.71875 \r\nL 19.671875 8.296875 \r\nL 56.78125 8.296875 \r\nL 56.78125 0 \r\nL 9.8125 0 \r\nz\r\n\" id=\"DejaVuSans-69\"/>\r\n      <path d=\"M 54.890625 33.015625 \r\nL 54.890625 0 \r\nL 45.90625 0 \r\nL 45.90625 32.71875 \r\nQ 45.90625 40.484375 42.875 44.328125 \r\nQ 39.84375 48.1875 33.796875 48.1875 \r\nQ 26.515625 48.1875 22.3125 43.546875 \r\nQ 18.109375 38.921875 18.109375 30.90625 \r\nL 18.109375 0 \r\nL 9.078125 0 \r\nL 9.078125 54.6875 \r\nL 18.109375 54.6875 \r\nL 18.109375 46.1875 \r\nQ 21.34375 51.125 25.703125 53.5625 \r\nQ 30.078125 56 35.796875 56 \r\nQ 45.21875 56 50.046875 50.171875 \r\nQ 54.890625 44.34375 54.890625 33.015625 \r\nz\r\n\" id=\"DejaVuSans-110\"/>\r\n      <path d=\"M 41.109375 46.296875 \r\nQ 39.59375 47.171875 37.8125 47.578125 \r\nQ 36.03125 48 33.890625 48 \r\nQ 26.265625 48 22.1875 43.046875 \r\nQ 18.109375 38.09375 18.109375 28.8125 \r\nL 18.109375 0 \r\nL 9.078125 0 \r\nL 9.078125 54.6875 \r\nL 18.109375 54.6875 \r\nL 18.109375 46.1875 \r\nQ 20.953125 51.171875 25.484375 53.578125 \r\nQ 30.03125 56 36.53125 56 \r\nQ 37.453125 56 38.578125 55.875 \r\nQ 39.703125 55.765625 41.0625 55.515625 \r\nz\r\n\" id=\"DejaVuSans-114\"/>\r\n      <path d=\"M 45.40625 27.984375 \r\nQ 45.40625 37.75 41.375 43.109375 \r\nQ 37.359375 48.484375 30.078125 48.484375 \r\nQ 22.859375 48.484375 18.828125 43.109375 \r\nQ 14.796875 37.75 14.796875 27.984375 \r\nQ 14.796875 18.265625 18.828125 12.890625 \r\nQ 22.859375 7.515625 30.078125 7.515625 \r\nQ 37.359375 7.515625 41.375 12.890625 \r\nQ 45.40625 18.265625 45.40625 27.984375 \r\nz\r\nM 54.390625 6.78125 \r\nQ 54.390625 -7.171875 48.1875 -13.984375 \r\nQ 42 -20.796875 29.203125 -20.796875 \r\nQ 24.46875 -20.796875 20.265625 -20.09375 \r\nQ 16.0625 -19.390625 12.109375 -17.921875 \r\nL 12.109375 -9.1875 \r\nQ 16.0625 -11.328125 19.921875 -12.34375 \r\nQ 23.78125 -13.375 27.78125 -13.375 \r\nQ 36.625 -13.375 41.015625 -8.765625 \r\nQ 45.40625 -4.15625 45.40625 5.171875 \r\nL 45.40625 9.625 \r\nQ 42.625 4.78125 38.28125 2.390625 \r\nQ 33.9375 0 27.875 0 \r\nQ 17.828125 0 11.671875 7.65625 \r\nQ 5.515625 15.328125 5.515625 27.984375 \r\nQ 5.515625 40.671875 11.671875 48.328125 \r\nQ 17.828125 56 27.875 56 \r\nQ 33.9375 56 38.28125 53.609375 \r\nQ 42.625 51.21875 45.40625 46.390625 \r\nL 45.40625 54.6875 \r\nL 54.390625 54.6875 \r\nz\r\n\" id=\"DejaVuSans-103\"/>\r\n      <path d=\"M 32.171875 -5.078125 \r\nQ 28.375 -14.84375 24.75 -17.8125 \r\nQ 21.140625 -20.796875 15.09375 -20.796875 \r\nL 7.90625 -20.796875 \r\nL 7.90625 -13.28125 \r\nL 13.1875 -13.28125 \r\nQ 16.890625 -13.28125 18.9375 -11.515625 \r\nQ 21 -9.765625 23.484375 -3.21875 \r\nL 25.09375 0.875 \r\nL 2.984375 54.6875 \r\nL 12.5 54.6875 \r\nL 29.59375 11.921875 \r\nL 46.6875 54.6875 \r\nL 56.203125 54.6875 \r\nz\r\n\" id=\"DejaVuSans-121\"/>\r\n     </defs>\r\n     <g transform=\"translate(103.053125 38.916562)scale(0.1 -0.1)\">\r\n      <use xlink:href=\"#DejaVuSans-69\"/>\r\n      <use x=\"63.183594\" xlink:href=\"#DejaVuSans-110\"/>\r\n      <use x=\"126.5625\" xlink:href=\"#DejaVuSans-101\"/>\r\n      <use x=\"188.085938\" xlink:href=\"#DejaVuSans-114\"/>\r\n      <use x=\"227.449219\" xlink:href=\"#DejaVuSans-103\"/>\r\n      <use x=\"290.925781\" xlink:href=\"#DejaVuSans-121\"/>\r\n     </g>\r\n    </g>\r\n   </g>\r\n  </g>\r\n </g>\r\n <defs>\r\n  <clipPath id=\"p2966ca8309\">\r\n   <rect height=\"195.84\" width=\"334.8\" x=\"66.053125\" y=\"22.318125\"/>\r\n  </clipPath>\r\n </defs>\r\n</svg>\r\n",
      "image/png": "[encoded data removed]"
     },
     "metadata": {
      "needs_background": "light"
     }
    },
    {
     "output_type": "display_data",
     "data": {
      "text/plain": "<Figure size 432x288 with 1 Axes>",
      "image/svg+xml": "<?xml version=\"1.0\" encoding=\"utf-8\" standalone=\"no\"?>\r\n<!DOCTYPE svg PUBLIC \"-//W3C//DTD SVG 1.1//EN\"\r\n  \"http://www.w3.org/Graphics/SVG/1.1/DTD/svg11.dtd\">\r\n<!-- Created with matplotlib (https://matplotlib.org/) -->\r\n<svg height=\"283.475565pt\" version=\"1.1\" viewBox=\"0 0 400.380055 283.475565\" width=\"400.380055pt\" xmlns=\"http://www.w3.org/2000/svg\" xmlns:xlink=\"http://www.w3.org/1999/xlink\">\r\n <defs>\r\n  <style type=\"text/css\">\r\n*{stroke-linecap:butt;stroke-linejoin:round;}\r\n  </style>\r\n </defs>\r\n <g id=\"figure_1\">\r\n  <g id=\"patch_1\">\r\n   <path d=\"M 0 283.475565 \r\nL 400.380055 283.475565 \r\nL 400.380055 0 \r\nL 0 0 \r\nz\r\n\" style=\"fill:none;\"/>\r\n  </g>\r\n  <g id=\"axes_1\">\r\n   <g id=\"patch_2\">\r\n    <path d=\"M 58.380055 218.158125 \r\nL 393.180055 218.158125 \r\nL 393.180055 22.318125 \r\nL 58.380055 22.318125 \r\nz\r\n\" style=\"fill:#ffffff;\"/>\r\n   </g>\r\n   <g id=\"matplotlib.axis_1\">\r\n    <g id=\"xtick_1\">\r\n     <g id=\"line2d_1\">\r\n      <defs>\r\n       <path d=\"M 0 0 \r\nL 0 3.5 \r\n\" id=\"me486c431fc\" style=\"stroke:#000000;stroke-width:0.8;\"/>\r\n      </defs>\r\n      <g>\r\n       <use style=\"stroke:#000000;stroke-width:0.8;\" x=\"62.36867\" xlink:href=\"#me486c431fc\" y=\"218.158125\"/>\r\n      </g>\r\n     </g>\r\n     <g id=\"text_1\">\r\n      <!-- 2018-09-13 -->\r\n      <defs>\r\n       <path d=\"M 19.1875 8.296875 \r\nL 53.609375 8.296875 \r\nL 53.609375 0 \r\nL 7.328125 0 \r\nL 7.328125 8.296875 \r\nQ 12.9375 14.109375 22.625 23.890625 \r\nQ 32.328125 33.6875 34.8125 36.53125 \r\nQ 39.546875 41.84375 41.421875 45.53125 \r\nQ 43.3125 49.21875 43.3125 52.78125 \r\nQ 43.3125 58.59375 39.234375 62.25 \r\nQ 35.15625 65.921875 28.609375 65.921875 \r\nQ 23.96875 65.921875 18.8125 64.3125 \r\nQ 13.671875 62.703125 7.8125 59.421875 \r\nL 7.8125 69.390625 \r\nQ 13.765625 71.78125 18.9375 73 \r\nQ 24.125 74.21875 28.421875 74.21875 \r\nQ 39.75 74.21875 46.484375 68.546875 \r\nQ 53.21875 62.890625 53.21875 53.421875 \r\nQ 53.21875 48.921875 51.53125 44.890625 \r\nQ 49.859375 40.875 45.40625 35.40625 \r\nQ 44.1875 33.984375 37.640625 27.21875 \r\nQ 31.109375 20.453125 19.1875 8.296875 \r\nz\r\n\" id=\"DejaVuSans-50\"/>\r\n       <path d=\"M 31.78125 66.40625 \r\nQ 24.171875 66.40625 20.328125 58.90625 \r\nQ 16.5 51.421875 16.5 36.375 \r\nQ 16.5 21.390625 20.328125 13.890625 \r\nQ 24.171875 6.390625 31.78125 6.390625 \r\nQ 39.453125 6.390625 43.28125 13.890625 \r\nQ 47.125 21.390625 47.125 36.375 \r\nQ 47.125 51.421875 43.28125 58.90625 \r\nQ 39.453125 66.40625 31.78125 66.40625 \r\nz\r\nM 31.78125 74.21875 \r\nQ 44.046875 74.21875 50.515625 64.515625 \r\nQ 56.984375 54.828125 56.984375 36.375 \r\nQ 56.984375 17.96875 50.515625 8.265625 \r\nQ 44.046875 -1.421875 31.78125 -1.421875 \r\nQ 19.53125 -1.421875 13.0625 8.265625 \r\nQ 6.59375 17.96875 6.59375 36.375 \r\nQ 6.59375 54.828125 13.0625 64.515625 \r\nQ 19.53125 74.21875 31.78125 74.21875 \r\nz\r\n\" id=\"DejaVuSans-48\"/>\r\n       <path d=\"M 12.40625 8.296875 \r\nL 28.515625 8.296875 \r\nL 28.515625 63.921875 \r\nL 10.984375 60.40625 \r\nL 10.984375 69.390625 \r\nL 28.421875 72.90625 \r\nL 38.28125 72.90625 \r\nL 38.28125 8.296875 \r\nL 54.390625 8.296875 \r\nL 54.390625 0 \r\nL 12.40625 0 \r\nz\r\n\" id=\"DejaVuSans-49\"/>\r\n       <path d=\"M 31.78125 34.625 \r\nQ 24.75 34.625 20.71875 30.859375 \r\nQ 16.703125 27.09375 16.703125 20.515625 \r\nQ 16.703125 13.921875 20.71875 10.15625 \r\nQ 24.75 6.390625 31.78125 6.390625 \r\nQ 38.8125 6.390625 42.859375 10.171875 \r\nQ 46.921875 13.96875 46.921875 20.515625 \r\nQ 46.921875 27.09375 42.890625 30.859375 \r\nQ 38.875 34.625 31.78125 34.625 \r\nz\r\nM 21.921875 38.8125 \r\nQ 15.578125 40.375 12.03125 44.71875 \r\nQ 8.5 49.078125 8.5 55.328125 \r\nQ 8.5 64.0625 14.71875 69.140625 \r\nQ 20.953125 74.21875 31.78125 74.21875 \r\nQ 42.671875 74.21875 48.875 69.140625 \r\nQ 55.078125 64.0625 55.078125 55.328125 \r\nQ 55.078125 49.078125 51.53125 44.71875 \r\nQ 48 40.375 41.703125 38.8125 \r\nQ 48.828125 37.15625 52.796875 32.3125 \r\nQ 56.78125 27.484375 56.78125 20.515625 \r\nQ 56.78125 9.90625 50.3125 4.234375 \r\nQ 43.84375 -1.421875 31.78125 -1.421875 \r\nQ 19.734375 -1.421875 13.25 4.234375 \r\nQ 6.78125 9.90625 6.78125 20.515625 \r\nQ 6.78125 27.484375 10.78125 32.3125 \r\nQ 14.796875 37.15625 21.921875 38.8125 \r\nz\r\nM 18.3125 54.390625 \r\nQ 18.3125 48.734375 21.84375 45.5625 \r\nQ 25.390625 42.390625 31.78125 42.390625 \r\nQ 38.140625 42.390625 41.71875 45.5625 \r\nQ 45.3125 48.734375 45.3125 54.390625 \r\nQ 45.3125 60.0625 41.71875 63.234375 \r\nQ 38.140625 66.40625 31.78125 66.40625 \r\nQ 25.390625 66.40625 21.84375 63.234375 \r\nQ 18.3125 60.0625 18.3125 54.390625 \r\nz\r\n\" id=\"DejaVuSans-56\"/>\r\n       <path d=\"M 4.890625 31.390625 \r\nL 31.203125 31.390625 \r\nL 31.203125 23.390625 \r\nL 4.890625 23.390625 \r\nz\r\n\" id=\"DejaVuSans-45\"/>\r\n       <path d=\"M 10.984375 1.515625 \r\nL 10.984375 10.5 \r\nQ 14.703125 8.734375 18.5 7.8125 \r\nQ 22.3125 6.890625 25.984375 6.890625 \r\nQ 35.75 6.890625 40.890625 13.453125 \r\nQ 46.046875 20.015625 46.78125 33.40625 \r\nQ 43.953125 29.203125 39.59375 26.953125 \r\nQ 35.25 24.703125 29.984375 24.703125 \r\nQ 19.046875 24.703125 12.671875 31.3125 \r\nQ 6.296875 37.9375 6.296875 49.421875 \r\nQ 6.296875 60.640625 12.9375 67.421875 \r\nQ 19.578125 74.21875 30.609375 74.21875 \r\nQ 43.265625 74.21875 49.921875 64.515625 \r\nQ 56.59375 54.828125 56.59375 36.375 \r\nQ 56.59375 19.140625 48.40625 8.859375 \r\nQ 40.234375 -1.421875 26.421875 -1.421875 \r\nQ 22.703125 -1.421875 18.890625 -0.6875 \r\nQ 15.09375 0.046875 10.984375 1.515625 \r\nz\r\nM 30.609375 32.421875 \r\nQ 37.25 32.421875 41.125 36.953125 \r\nQ 45.015625 41.5 45.015625 49.421875 \r\nQ 45.015625 57.28125 41.125 61.84375 \r\nQ 37.25 66.40625 30.609375 66.40625 \r\nQ 23.96875 66.40625 20.09375 61.84375 \r\nQ 16.21875 57.28125 16.21875 49.421875 \r\nQ 16.21875 41.5 20.09375 36.953125 \r\nQ 23.96875 32.421875 30.609375 32.421875 \r\nz\r\n\" id=\"DejaVuSans-57\"/>\r\n       <path d=\"M 40.578125 39.3125 \r\nQ 47.65625 37.796875 51.625 33 \r\nQ 55.609375 28.21875 55.609375 21.1875 \r\nQ 55.609375 10.40625 48.1875 4.484375 \r\nQ 40.765625 -1.421875 27.09375 -1.421875 \r\nQ 22.515625 -1.421875 17.65625 -0.515625 \r\nQ 12.796875 0.390625 7.625 2.203125 \r\nL 7.625 11.71875 \r\nQ 11.71875 9.328125 16.59375 8.109375 \r\nQ 21.484375 6.890625 26.8125 6.890625 \r\nQ 36.078125 6.890625 40.9375 10.546875 \r\nQ 45.796875 14.203125 45.796875 21.1875 \r\nQ 45.796875 27.640625 41.28125 31.265625 \r\nQ 36.765625 34.90625 28.71875 34.90625 \r\nL 20.21875 34.90625 \r\nL 20.21875 43.015625 \r\nL 29.109375 43.015625 \r\nQ 36.375 43.015625 40.234375 45.921875 \r\nQ 44.09375 48.828125 44.09375 54.296875 \r\nQ 44.09375 59.90625 40.109375 62.90625 \r\nQ 36.140625 65.921875 28.71875 65.921875 \r\nQ 24.65625 65.921875 20.015625 65.03125 \r\nQ 15.375 64.15625 9.8125 62.3125 \r\nL 9.8125 71.09375 \r\nQ 15.4375 72.65625 20.34375 73.4375 \r\nQ 25.25 74.21875 29.59375 74.21875 \r\nQ 40.828125 74.21875 47.359375 69.109375 \r\nQ 53.90625 64.015625 53.90625 55.328125 \r\nQ 53.90625 49.265625 50.4375 45.09375 \r\nQ 46.96875 40.921875 40.578125 39.3125 \r\nz\r\n\" id=\"DejaVuSans-51\"/>\r\n      </defs>\r\n      <g transform=\"translate(10.999219 260.796377)rotate(-30)scale(0.1 -0.1)\">\r\n       <use xlink:href=\"#DejaVuSans-50\"/>\r\n       <use x=\"63.623047\" xlink:href=\"#DejaVuSans-48\"/>\r\n       <use x=\"127.246094\" xlink:href=\"#DejaVuSans-49\"/>\r\n       <use x=\"190.869141\" xlink:href=\"#DejaVuSans-56\"/>\r\n       <use x=\"254.492188\" xlink:href=\"#DejaVuSans-45\"/>\r\n       <use x=\"290.576172\" xlink:href=\"#DejaVuSans-48\"/>\r\n       <use x=\"354.199219\" xlink:href=\"#DejaVuSans-57\"/>\r\n       <use x=\"417.822266\" xlink:href=\"#DejaVuSans-45\"/>\r\n       <use x=\"453.90625\" xlink:href=\"#DejaVuSans-49\"/>\r\n       <use x=\"517.529297\" xlink:href=\"#DejaVuSans-51\"/>\r\n      </g>\r\n     </g>\r\n    </g>\r\n    <g id=\"xtick_2\">\r\n     <g id=\"line2d_2\">\r\n      <g>\r\n       <use style=\"stroke:#000000;stroke-width:0.8;\" x=\"103.049365\" xlink:href=\"#me486c431fc\" y=\"218.158125\"/>\r\n      </g>\r\n     </g>\r\n     <g id=\"text_2\">\r\n      <!-- 2018-09-17 -->\r\n      <defs>\r\n       <path d=\"M 8.203125 72.90625 \r\nL 55.078125 72.90625 \r\nL 55.078125 68.703125 \r\nL 28.609375 0 \r\nL 18.3125 0 \r\nL 43.21875 64.59375 \r\nL 8.203125 64.59375 \r\nz\r\n\" id=\"DejaVuSans-55\"/>\r\n      </defs>\r\n      <g transform=\"translate(51.679914 260.796377)rotate(-30)scale(0.1 -0.1)\">\r\n       <use xlink:href=\"#DejaVuSans-50\"/>\r\n       <use x=\"63.623047\" xlink:href=\"#DejaVuSans-48\"/>\r\n       <use x=\"127.246094\" xlink:href=\"#DejaVuSans-49\"/>\r\n       <use x=\"190.869141\" xlink:href=\"#DejaVuSans-56\"/>\r\n       <use x=\"254.492188\" xlink:href=\"#DejaVuSans-45\"/>\r\n       <use x=\"290.576172\" xlink:href=\"#DejaVuSans-48\"/>\r\n       <use x=\"354.199219\" xlink:href=\"#DejaVuSans-57\"/>\r\n       <use x=\"417.822266\" xlink:href=\"#DejaVuSans-45\"/>\r\n       <use x=\"453.90625\" xlink:href=\"#DejaVuSans-49\"/>\r\n       <use x=\"517.529297\" xlink:href=\"#DejaVuSans-55\"/>\r\n      </g>\r\n     </g>\r\n    </g>\r\n    <g id=\"xtick_3\">\r\n     <g id=\"line2d_3\">\r\n      <g>\r\n       <use style=\"stroke:#000000;stroke-width:0.8;\" x=\"143.73006\" xlink:href=\"#me486c431fc\" y=\"218.158125\"/>\r\n      </g>\r\n     </g>\r\n     <g id=\"text_3\">\r\n      <!-- 2018-09-21 -->\r\n      <g transform=\"translate(92.360608 260.796377)rotate(-30)scale(0.1 -0.1)\">\r\n       <use xlink:href=\"#DejaVuSans-50\"/>\r\n       <use x=\"63.623047\" xlink:href=\"#DejaVuSans-48\"/>\r\n       <use x=\"127.246094\" xlink:href=\"#DejaVuSans-49\"/>\r\n       <use x=\"190.869141\" xlink:href=\"#DejaVuSans-56\"/>\r\n       <use x=\"254.492188\" xlink:href=\"#DejaVuSans-45\"/>\r\n       <use x=\"290.576172\" xlink:href=\"#DejaVuSans-48\"/>\r\n       <use x=\"354.199219\" xlink:href=\"#DejaVuSans-57\"/>\r\n       <use x=\"417.822266\" xlink:href=\"#DejaVuSans-45\"/>\r\n       <use x=\"453.90625\" xlink:href=\"#DejaVuSans-50\"/>\r\n       <use x=\"517.529297\" xlink:href=\"#DejaVuSans-49\"/>\r\n      </g>\r\n     </g>\r\n    </g>\r\n    <g id=\"xtick_4\">\r\n     <g id=\"line2d_4\">\r\n      <g>\r\n       <use style=\"stroke:#000000;stroke-width:0.8;\" x=\"184.410755\" xlink:href=\"#me486c431fc\" y=\"218.158125\"/>\r\n      </g>\r\n     </g>\r\n     <g id=\"text_4\">\r\n      <!-- 2018-09-25 -->\r\n      <defs>\r\n       <path d=\"M 10.796875 72.90625 \r\nL 49.515625 72.90625 \r\nL 49.515625 64.59375 \r\nL 19.828125 64.59375 \r\nL 19.828125 46.734375 \r\nQ 21.96875 47.46875 24.109375 47.828125 \r\nQ 26.265625 48.1875 28.421875 48.1875 \r\nQ 40.625 48.1875 47.75 41.5 \r\nQ 54.890625 34.8125 54.890625 23.390625 \r\nQ 54.890625 11.625 47.5625 5.09375 \r\nQ 40.234375 -1.421875 26.90625 -1.421875 \r\nQ 22.3125 -1.421875 17.546875 -0.640625 \r\nQ 12.796875 0.140625 7.71875 1.703125 \r\nL 7.71875 11.625 \r\nQ 12.109375 9.234375 16.796875 8.0625 \r\nQ 21.484375 6.890625 26.703125 6.890625 \r\nQ 35.15625 6.890625 40.078125 11.328125 \r\nQ 45.015625 15.765625 45.015625 23.390625 \r\nQ 45.015625 31 40.078125 35.4375 \r\nQ 35.15625 39.890625 26.703125 39.890625 \r\nQ 22.75 39.890625 18.8125 39.015625 \r\nQ 14.890625 38.140625 10.796875 36.28125 \r\nz\r\n\" id=\"DejaVuSans-53\"/>\r\n      </defs>\r\n      <g transform=\"translate(133.041303 260.796377)rotate(-30)scale(0.1 -0.1)\">\r\n       <use xlink:href=\"#DejaVuSans-50\"/>\r\n       <use x=\"63.623047\" xlink:href=\"#DejaVuSans-48\"/>\r\n       <use x=\"127.246094\" xlink:href=\"#DejaVuSans-49\"/>\r\n       <use x=\"190.869141\" xlink:href=\"#DejaVuSans-56\"/>\r\n       <use x=\"254.492188\" xlink:href=\"#DejaVuSans-45\"/>\r\n       <use x=\"290.576172\" xlink:href=\"#DejaVuSans-48\"/>\r\n       <use x=\"354.199219\" xlink:href=\"#DejaVuSans-57\"/>\r\n       <use x=\"417.822266\" xlink:href=\"#DejaVuSans-45\"/>\r\n       <use x=\"453.90625\" xlink:href=\"#DejaVuSans-50\"/>\r\n       <use x=\"517.529297\" xlink:href=\"#DejaVuSans-53\"/>\r\n      </g>\r\n     </g>\r\n    </g>\r\n    <g id=\"xtick_5\">\r\n     <g id=\"line2d_5\">\r\n      <g>\r\n       <use style=\"stroke:#000000;stroke-width:0.8;\" x=\"225.09145\" xlink:href=\"#me486c431fc\" y=\"218.158125\"/>\r\n      </g>\r\n     </g>\r\n     <g id=\"text_5\">\r\n      <!-- 2018-09-29 -->\r\n      <g transform=\"translate(173.721998 260.796377)rotate(-30)scale(0.1 -0.1)\">\r\n       <use xlink:href=\"#DejaVuSans-50\"/>\r\n       <use x=\"63.623047\" xlink:href=\"#DejaVuSans-48\"/>\r\n       <use x=\"127.246094\" xlink:href=\"#DejaVuSans-49\"/>\r\n       <use x=\"190.869141\" xlink:href=\"#DejaVuSans-56\"/>\r\n       <use x=\"254.492188\" xlink:href=\"#DejaVuSans-45\"/>\r\n       <use x=\"290.576172\" xlink:href=\"#DejaVuSans-48\"/>\r\n       <use x=\"354.199219\" xlink:href=\"#DejaVuSans-57\"/>\r\n       <use x=\"417.822266\" xlink:href=\"#DejaVuSans-45\"/>\r\n       <use x=\"453.90625\" xlink:href=\"#DejaVuSans-50\"/>\r\n       <use x=\"517.529297\" xlink:href=\"#DejaVuSans-57\"/>\r\n      </g>\r\n     </g>\r\n    </g>\r\n    <g id=\"xtick_6\">\r\n     <g id=\"line2d_6\">\r\n      <g>\r\n       <use style=\"stroke:#000000;stroke-width:0.8;\" x=\"245.431797\" xlink:href=\"#me486c431fc\" y=\"218.158125\"/>\r\n      </g>\r\n     </g>\r\n     <g id=\"text_6\">\r\n      <!-- 2018-10-01 -->\r\n      <g transform=\"translate(194.062346 260.796377)rotate(-30)scale(0.1 -0.1)\">\r\n       <use xlink:href=\"#DejaVuSans-50\"/>\r\n       <use x=\"63.623047\" xlink:href=\"#DejaVuSans-48\"/>\r\n       <use x=\"127.246094\" xlink:href=\"#DejaVuSans-49\"/>\r\n       <use x=\"190.869141\" xlink:href=\"#DejaVuSans-56\"/>\r\n       <use x=\"254.492188\" xlink:href=\"#DejaVuSans-45\"/>\r\n       <use x=\"290.576172\" xlink:href=\"#DejaVuSans-49\"/>\r\n       <use x=\"354.199219\" xlink:href=\"#DejaVuSans-48\"/>\r\n       <use x=\"417.822266\" xlink:href=\"#DejaVuSans-45\"/>\r\n       <use x=\"453.90625\" xlink:href=\"#DejaVuSans-48\"/>\r\n       <use x=\"517.529297\" xlink:href=\"#DejaVuSans-49\"/>\r\n      </g>\r\n     </g>\r\n    </g>\r\n    <g id=\"xtick_7\">\r\n     <g id=\"line2d_7\">\r\n      <g>\r\n       <use style=\"stroke:#000000;stroke-width:0.8;\" x=\"286.112492\" xlink:href=\"#me486c431fc\" y=\"218.158125\"/>\r\n      </g>\r\n     </g>\r\n     <g id=\"text_7\">\r\n      <!-- 2018-10-05 -->\r\n      <g transform=\"translate(234.743041 260.796377)rotate(-30)scale(0.1 -0.1)\">\r\n       <use xlink:href=\"#DejaVuSans-50\"/>\r\n       <use x=\"63.623047\" xlink:href=\"#DejaVuSans-48\"/>\r\n       <use x=\"127.246094\" xlink:href=\"#DejaVuSans-49\"/>\r\n       <use x=\"190.869141\" xlink:href=\"#DejaVuSans-56\"/>\r\n       <use x=\"254.492188\" xlink:href=\"#DejaVuSans-45\"/>\r\n       <use x=\"290.576172\" xlink:href=\"#DejaVuSans-49\"/>\r\n       <use x=\"354.199219\" xlink:href=\"#DejaVuSans-48\"/>\r\n       <use x=\"417.822266\" xlink:href=\"#DejaVuSans-45\"/>\r\n       <use x=\"453.90625\" xlink:href=\"#DejaVuSans-48\"/>\r\n       <use x=\"517.529297\" xlink:href=\"#DejaVuSans-53\"/>\r\n      </g>\r\n     </g>\r\n    </g>\r\n    <g id=\"xtick_8\">\r\n     <g id=\"line2d_8\">\r\n      <g>\r\n       <use style=\"stroke:#000000;stroke-width:0.8;\" x=\"326.793187\" xlink:href=\"#me486c431fc\" y=\"218.158125\"/>\r\n      </g>\r\n     </g>\r\n     <g id=\"text_8\">\r\n      <!-- 2018-10-09 -->\r\n      <g transform=\"translate(275.423735 260.796377)rotate(-30)scale(0.1 -0.1)\">\r\n       <use xlink:href=\"#DejaVuSans-50\"/>\r\n       <use x=\"63.623047\" xlink:href=\"#DejaVuSans-48\"/>\r\n       <use x=\"127.246094\" xlink:href=\"#DejaVuSans-49\"/>\r\n       <use x=\"190.869141\" xlink:href=\"#DejaVuSans-56\"/>\r\n       <use x=\"254.492188\" xlink:href=\"#DejaVuSans-45\"/>\r\n       <use x=\"290.576172\" xlink:href=\"#DejaVuSans-49\"/>\r\n       <use x=\"354.199219\" xlink:href=\"#DejaVuSans-48\"/>\r\n       <use x=\"417.822266\" xlink:href=\"#DejaVuSans-45\"/>\r\n       <use x=\"453.90625\" xlink:href=\"#DejaVuSans-48\"/>\r\n       <use x=\"517.529297\" xlink:href=\"#DejaVuSans-57\"/>\r\n      </g>\r\n     </g>\r\n    </g>\r\n    <g id=\"xtick_9\">\r\n     <g id=\"line2d_9\">\r\n      <g>\r\n       <use style=\"stroke:#000000;stroke-width:0.8;\" x=\"367.473882\" xlink:href=\"#me486c431fc\" y=\"218.158125\"/>\r\n      </g>\r\n     </g>\r\n     <g id=\"text_9\">\r\n      <!-- 2018-10-13 -->\r\n      <g transform=\"translate(316.10443 260.796377)rotate(-30)scale(0.1 -0.1)\">\r\n       <use xlink:href=\"#DejaVuSans-50\"/>\r\n       <use x=\"63.623047\" xlink:href=\"#DejaVuSans-48\"/>\r\n       <use x=\"127.246094\" xlink:href=\"#DejaVuSans-49\"/>\r\n       <use x=\"190.869141\" xlink:href=\"#DejaVuSans-56\"/>\r\n       <use x=\"254.492188\" xlink:href=\"#DejaVuSans-45\"/>\r\n       <use x=\"290.576172\" xlink:href=\"#DejaVuSans-49\"/>\r\n       <use x=\"354.199219\" xlink:href=\"#DejaVuSans-48\"/>\r\n       <use x=\"417.822266\" xlink:href=\"#DejaVuSans-45\"/>\r\n       <use x=\"453.90625\" xlink:href=\"#DejaVuSans-49\"/>\r\n       <use x=\"517.529297\" xlink:href=\"#DejaVuSans-51\"/>\r\n      </g>\r\n     </g>\r\n    </g>\r\n    <g id=\"text_10\">\r\n     <!-- Date -->\r\n     <defs>\r\n      <path d=\"M 19.671875 64.796875 \r\nL 19.671875 8.109375 \r\nL 31.59375 8.109375 \r\nQ 46.6875 8.109375 53.6875 14.9375 \r\nQ 60.6875 21.78125 60.6875 36.53125 \r\nQ 60.6875 51.171875 53.6875 57.984375 \r\nQ 46.6875 64.796875 31.59375 64.796875 \r\nz\r\nM 9.8125 72.90625 \r\nL 30.078125 72.90625 \r\nQ 51.265625 72.90625 61.171875 64.09375 \r\nQ 71.09375 55.28125 71.09375 36.53125 \r\nQ 71.09375 17.671875 61.125 8.828125 \r\nQ 51.171875 0 30.078125 0 \r\nL 9.8125 0 \r\nz\r\n\" id=\"DejaVuSans-68\"/>\r\n      <path d=\"M 34.28125 27.484375 \r\nQ 23.390625 27.484375 19.1875 25 \r\nQ 14.984375 22.515625 14.984375 16.5 \r\nQ 14.984375 11.71875 18.140625 8.90625 \r\nQ 21.296875 6.109375 26.703125 6.109375 \r\nQ 34.1875 6.109375 38.703125 11.40625 \r\nQ 43.21875 16.703125 43.21875 25.484375 \r\nL 43.21875 27.484375 \r\nz\r\nM 52.203125 31.203125 \r\nL 52.203125 0 \r\nL 43.21875 0 \r\nL 43.21875 8.296875 \r\nQ 40.140625 3.328125 35.546875 0.953125 \r\nQ 30.953125 -1.421875 24.3125 -1.421875 \r\nQ 15.921875 -1.421875 10.953125 3.296875 \r\nQ 6 8.015625 6 15.921875 \r\nQ 6 25.140625 12.171875 29.828125 \r\nQ 18.359375 34.515625 30.609375 34.515625 \r\nL 43.21875 34.515625 \r\nL 43.21875 35.40625 \r\nQ 43.21875 41.609375 39.140625 45 \r\nQ 35.0625 48.390625 27.6875 48.390625 \r\nQ 23 48.390625 18.546875 47.265625 \r\nQ 14.109375 46.140625 10.015625 43.890625 \r\nL 10.015625 52.203125 \r\nQ 14.9375 54.109375 19.578125 55.046875 \r\nQ 24.21875 56 28.609375 56 \r\nQ 40.484375 56 46.34375 49.84375 \r\nQ 52.203125 43.703125 52.203125 31.203125 \r\nz\r\n\" id=\"DejaVuSans-97\"/>\r\n      <path d=\"M 18.3125 70.21875 \r\nL 18.3125 54.6875 \r\nL 36.8125 54.6875 \r\nL 36.8125 47.703125 \r\nL 18.3125 47.703125 \r\nL 18.3125 18.015625 \r\nQ 18.3125 11.328125 20.140625 9.421875 \r\nQ 21.96875 7.515625 27.59375 7.515625 \r\nL 36.8125 7.515625 \r\nL 36.8125 0 \r\nL 27.59375 0 \r\nQ 17.1875 0 13.234375 3.875 \r\nQ 9.28125 7.765625 9.28125 18.015625 \r\nL 9.28125 47.703125 \r\nL 2.6875 47.703125 \r\nL 2.6875 54.6875 \r\nL 9.28125 54.6875 \r\nL 9.28125 70.21875 \r\nz\r\n\" id=\"DejaVuSans-116\"/>\r\n      <path d=\"M 56.203125 29.59375 \r\nL 56.203125 25.203125 \r\nL 14.890625 25.203125 \r\nQ 15.484375 15.921875 20.484375 11.0625 \r\nQ 25.484375 6.203125 34.421875 6.203125 \r\nQ 39.59375 6.203125 44.453125 7.46875 \r\nQ 49.3125 8.734375 54.109375 11.28125 \r\nL 54.109375 2.78125 \r\nQ 49.265625 0.734375 44.1875 -0.34375 \r\nQ 39.109375 -1.421875 33.890625 -1.421875 \r\nQ 20.796875 -1.421875 13.15625 6.1875 \r\nQ 5.515625 13.8125 5.515625 26.8125 \r\nQ 5.515625 40.234375 12.765625 48.109375 \r\nQ 20.015625 56 32.328125 56 \r\nQ 43.359375 56 49.78125 48.890625 \r\nQ 56.203125 41.796875 56.203125 29.59375 \r\nz\r\nM 47.21875 32.234375 \r\nQ 47.125 39.59375 43.09375 43.984375 \r\nQ 39.0625 48.390625 32.421875 48.390625 \r\nQ 24.90625 48.390625 20.390625 44.140625 \r\nQ 15.875 39.890625 15.1875 32.171875 \r\nz\r\n\" id=\"DejaVuSans-101\"/>\r\n     </defs>\r\n     <g transform=\"translate(213.829274 274.195877)scale(0.1 -0.1)\">\r\n      <use xlink:href=\"#DejaVuSans-68\"/>\r\n      <use x=\"77.001953\" xlink:href=\"#DejaVuSans-97\"/>\r\n      <use x=\"138.28125\" xlink:href=\"#DejaVuSans-116\"/>\r\n      <use x=\"177.490234\" xlink:href=\"#DejaVuSans-101\"/>\r\n     </g>\r\n    </g>\r\n   </g>\r\n   <g id=\"matplotlib.axis_2\">\r\n    <g id=\"ytick_1\">\r\n     <g id=\"line2d_10\">\r\n      <defs>\r\n       <path d=\"M 0 0 \r\nL -3.5 0 \r\n\" id=\"m8e7554ff8c\" style=\"stroke:#000000;stroke-width:0.8;\"/>\r\n      </defs>\r\n      <g>\r\n       <use style=\"stroke:#000000;stroke-width:0.8;\" x=\"58.380055\" xlink:href=\"#m8e7554ff8c\" y=\"209.256307\"/>\r\n      </g>\r\n     </g>\r\n     <g id=\"text_11\">\r\n      <!-- 0 -->\r\n      <g transform=\"translate(45.017555 213.055526)scale(0.1 -0.1)\">\r\n       <use xlink:href=\"#DejaVuSans-48\"/>\r\n      </g>\r\n     </g>\r\n    </g>\r\n    <g id=\"ytick_2\">\r\n     <g id=\"line2d_11\">\r\n      <g>\r\n       <use style=\"stroke:#000000;stroke-width:0.8;\" x=\"58.380055\" xlink:href=\"#m8e7554ff8c\" y=\"175.598036\"/>\r\n      </g>\r\n     </g>\r\n     <g id=\"text_12\">\r\n      <!-- 1 -->\r\n      <g transform=\"translate(45.017555 179.397255)scale(0.1 -0.1)\">\r\n       <use xlink:href=\"#DejaVuSans-49\"/>\r\n      </g>\r\n     </g>\r\n    </g>\r\n    <g id=\"ytick_3\">\r\n     <g id=\"line2d_12\">\r\n      <g>\r\n       <use style=\"stroke:#000000;stroke-width:0.8;\" x=\"58.380055\" xlink:href=\"#m8e7554ff8c\" y=\"141.939766\"/>\r\n      </g>\r\n     </g>\r\n     <g id=\"text_13\">\r\n      <!-- 2 -->\r\n      <g transform=\"translate(45.017555 145.738985)scale(0.1 -0.1)\">\r\n       <use xlink:href=\"#DejaVuSans-50\"/>\r\n      </g>\r\n     </g>\r\n    </g>\r\n    <g id=\"ytick_4\">\r\n     <g id=\"line2d_13\">\r\n      <g>\r\n       <use style=\"stroke:#000000;stroke-width:0.8;\" x=\"58.380055\" xlink:href=\"#m8e7554ff8c\" y=\"108.281496\"/>\r\n      </g>\r\n     </g>\r\n     <g id=\"text_14\">\r\n      <!-- 3 -->\r\n      <g transform=\"translate(45.017555 112.080714)scale(0.1 -0.1)\">\r\n       <use xlink:href=\"#DejaVuSans-51\"/>\r\n      </g>\r\n     </g>\r\n    </g>\r\n    <g id=\"ytick_5\">\r\n     <g id=\"line2d_14\">\r\n      <g>\r\n       <use style=\"stroke:#000000;stroke-width:0.8;\" x=\"58.380055\" xlink:href=\"#m8e7554ff8c\" y=\"74.623225\"/>\r\n      </g>\r\n     </g>\r\n     <g id=\"text_15\">\r\n      <!-- 4 -->\r\n      <defs>\r\n       <path d=\"M 37.796875 64.3125 \r\nL 12.890625 25.390625 \r\nL 37.796875 25.390625 \r\nz\r\nM 35.203125 72.90625 \r\nL 47.609375 72.90625 \r\nL 47.609375 25.390625 \r\nL 58.015625 25.390625 \r\nL 58.015625 17.1875 \r\nL 47.609375 17.1875 \r\nL 47.609375 0 \r\nL 37.796875 0 \r\nL 37.796875 17.1875 \r\nL 4.890625 17.1875 \r\nL 4.890625 26.703125 \r\nz\r\n\" id=\"DejaVuSans-52\"/>\r\n      </defs>\r\n      <g transform=\"translate(45.017555 78.422444)scale(0.1 -0.1)\">\r\n       <use xlink:href=\"#DejaVuSans-52\"/>\r\n      </g>\r\n     </g>\r\n    </g>\r\n    <g id=\"ytick_6\">\r\n     <g id=\"line2d_15\">\r\n      <g>\r\n       <use style=\"stroke:#000000;stroke-width:0.8;\" x=\"58.380055\" xlink:href=\"#m8e7554ff8c\" y=\"40.964955\"/>\r\n      </g>\r\n     </g>\r\n     <g id=\"text_16\">\r\n      <!-- 5 -->\r\n      <g transform=\"translate(45.017555 44.764174)scale(0.1 -0.1)\">\r\n       <use xlink:href=\"#DejaVuSans-53\"/>\r\n      </g>\r\n     </g>\r\n    </g>\r\n    <g id=\"text_17\">\r\n     <!-- Joules -->\r\n     <defs>\r\n      <path d=\"M 9.8125 72.90625 \r\nL 19.671875 72.90625 \r\nL 19.671875 5.078125 \r\nQ 19.671875 -8.109375 14.671875 -14.0625 \r\nQ 9.671875 -20.015625 -1.421875 -20.015625 \r\nL -5.171875 -20.015625 \r\nL -5.171875 -11.71875 \r\nL -2.09375 -11.71875 \r\nQ 4.4375 -11.71875 7.125 -8.046875 \r\nQ 9.8125 -4.390625 9.8125 5.078125 \r\nz\r\n\" id=\"DejaVuSans-74\"/>\r\n      <path d=\"M 30.609375 48.390625 \r\nQ 23.390625 48.390625 19.1875 42.75 \r\nQ 14.984375 37.109375 14.984375 27.296875 \r\nQ 14.984375 17.484375 19.15625 11.84375 \r\nQ 23.34375 6.203125 30.609375 6.203125 \r\nQ 37.796875 6.203125 41.984375 11.859375 \r\nQ 46.1875 17.53125 46.1875 27.296875 \r\nQ 46.1875 37.015625 41.984375 42.703125 \r\nQ 37.796875 48.390625 30.609375 48.390625 \r\nz\r\nM 30.609375 56 \r\nQ 42.328125 56 49.015625 48.375 \r\nQ 55.71875 40.765625 55.71875 27.296875 \r\nQ 55.71875 13.875 49.015625 6.21875 \r\nQ 42.328125 -1.421875 30.609375 -1.421875 \r\nQ 18.84375 -1.421875 12.171875 6.21875 \r\nQ 5.515625 13.875 5.515625 27.296875 \r\nQ 5.515625 40.765625 12.171875 48.375 \r\nQ 18.84375 56 30.609375 56 \r\nz\r\n\" id=\"DejaVuSans-111\"/>\r\n      <path d=\"M 8.5 21.578125 \r\nL 8.5 54.6875 \r\nL 17.484375 54.6875 \r\nL 17.484375 21.921875 \r\nQ 17.484375 14.15625 20.5 10.265625 \r\nQ 23.53125 6.390625 29.59375 6.390625 \r\nQ 36.859375 6.390625 41.078125 11.03125 \r\nQ 45.3125 15.671875 45.3125 23.6875 \r\nL 45.3125 54.6875 \r\nL 54.296875 54.6875 \r\nL 54.296875 0 \r\nL 45.3125 0 \r\nL 45.3125 8.40625 \r\nQ 42.046875 3.421875 37.71875 1 \r\nQ 33.40625 -1.421875 27.6875 -1.421875 \r\nQ 18.265625 -1.421875 13.375 4.4375 \r\nQ 8.5 10.296875 8.5 21.578125 \r\nz\r\nM 31.109375 56 \r\nz\r\n\" id=\"DejaVuSans-117\"/>\r\n      <path d=\"M 9.421875 75.984375 \r\nL 18.40625 75.984375 \r\nL 18.40625 0 \r\nL 9.421875 0 \r\nz\r\n\" id=\"DejaVuSans-108\"/>\r\n      <path d=\"M 44.28125 53.078125 \r\nL 44.28125 44.578125 \r\nQ 40.484375 46.53125 36.375 47.5 \r\nQ 32.28125 48.484375 27.875 48.484375 \r\nQ 21.1875 48.484375 17.84375 46.4375 \r\nQ 14.5 44.390625 14.5 40.28125 \r\nQ 14.5 37.15625 16.890625 35.375 \r\nQ 19.28125 33.59375 26.515625 31.984375 \r\nL 29.59375 31.296875 \r\nQ 39.15625 29.25 43.1875 25.515625 \r\nQ 47.21875 21.78125 47.21875 15.09375 \r\nQ 47.21875 7.46875 41.1875 3.015625 \r\nQ 35.15625 -1.421875 24.609375 -1.421875 \r\nQ 20.21875 -1.421875 15.453125 -0.5625 \r\nQ 10.6875 0.296875 5.421875 2 \r\nL 5.421875 11.28125 \r\nQ 10.40625 8.6875 15.234375 7.390625 \r\nQ 20.0625 6.109375 24.8125 6.109375 \r\nQ 31.15625 6.109375 34.5625 8.28125 \r\nQ 37.984375 10.453125 37.984375 14.40625 \r\nQ 37.984375 18.0625 35.515625 20.015625 \r\nQ 33.0625 21.96875 24.703125 23.78125 \r\nL 21.578125 24.515625 \r\nQ 13.234375 26.265625 9.515625 29.90625 \r\nQ 5.8125 33.546875 5.8125 39.890625 \r\nQ 5.8125 47.609375 11.28125 51.796875 \r\nQ 16.75 56 26.8125 56 \r\nQ 31.78125 56 36.171875 55.265625 \r\nQ 40.578125 54.546875 44.28125 53.078125 \r\nz\r\n\" id=\"DejaVuSans-115\"/>\r\n     </defs>\r\n     <g transform=\"translate(38.937868 135.011562)rotate(-90)scale(0.1 -0.1)\">\r\n      <use xlink:href=\"#DejaVuSans-74\"/>\r\n      <use x=\"29.492188\" xlink:href=\"#DejaVuSans-111\"/>\r\n      <use x=\"90.673828\" xlink:href=\"#DejaVuSans-117\"/>\r\n      <use x=\"154.052734\" xlink:href=\"#DejaVuSans-108\"/>\r\n      <use x=\"181.835938\" xlink:href=\"#DejaVuSans-101\"/>\r\n      <use x=\"243.359375\" xlink:href=\"#DejaVuSans-115\"/>\r\n     </g>\r\n    </g>\r\n    <g id=\"text_18\">\r\n     <!-- 1e6 -->\r\n     <defs>\r\n      <path d=\"M 33.015625 40.375 \r\nQ 26.375 40.375 22.484375 35.828125 \r\nQ 18.609375 31.296875 18.609375 23.390625 \r\nQ 18.609375 15.53125 22.484375 10.953125 \r\nQ 26.375 6.390625 33.015625 6.390625 \r\nQ 39.65625 6.390625 43.53125 10.953125 \r\nQ 47.40625 15.53125 47.40625 23.390625 \r\nQ 47.40625 31.296875 43.53125 35.828125 \r\nQ 39.65625 40.375 33.015625 40.375 \r\nz\r\nM 52.59375 71.296875 \r\nL 52.59375 62.3125 \r\nQ 48.875 64.0625 45.09375 64.984375 \r\nQ 41.3125 65.921875 37.59375 65.921875 \r\nQ 27.828125 65.921875 22.671875 59.328125 \r\nQ 17.53125 52.734375 16.796875 39.40625 \r\nQ 19.671875 43.65625 24.015625 45.921875 \r\nQ 28.375 48.1875 33.59375 48.1875 \r\nQ 44.578125 48.1875 50.953125 41.515625 \r\nQ 57.328125 34.859375 57.328125 23.390625 \r\nQ 57.328125 12.15625 50.6875 5.359375 \r\nQ 44.046875 -1.421875 33.015625 -1.421875 \r\nQ 20.359375 -1.421875 13.671875 8.265625 \r\nQ 6.984375 17.96875 6.984375 36.375 \r\nQ 6.984375 53.65625 15.1875 63.9375 \r\nQ 23.390625 74.21875 37.203125 74.21875 \r\nQ 40.921875 74.21875 44.703125 73.484375 \r\nQ 48.484375 72.75 52.59375 71.296875 \r\nz\r\n\" id=\"DejaVuSans-54\"/>\r\n     </defs>\r\n     <g transform=\"translate(58.380055 19.318125)scale(0.1 -0.1)\">\r\n      <use xlink:href=\"#DejaVuSans-49\"/>\r\n      <use x=\"63.623047\" xlink:href=\"#DejaVuSans-101\"/>\r\n      <use x=\"125.146484\" xlink:href=\"#DejaVuSans-54\"/>\r\n     </g>\r\n    </g>\r\n   </g>\r\n   <g id=\"line2d_16\">\r\n    <path clip-path=\"url(#pf6fd005a0b)\" d=\"M 73.598237 33.532165 \r\nL 74.127933 33.532165 \r\nL 74.233873 209.256307 \r\nL 74.339812 33.532165 \r\nL 74.445751 209.256307 \r\nL 74.65763 33.532165 \r\nL 117.774929 33.422002 \r\nL 123.071894 33.355056 \r\nL 123.389712 33.355056 \r\nL 123.495652 209.256307 \r\nL 123.70753 33.355056 \r\nL 377.961873 31.219943 \r\nL 377.961873 31.219943 \r\n\" style=\"fill:none;stroke:#1f77b4;stroke-linecap:square;stroke-width:1.5;\"/>\r\n   </g>\r\n   <g id=\"patch_3\">\r\n    <path d=\"M 58.380055 218.158125 \r\nL 58.380055 22.318125 \r\n\" style=\"fill:none;stroke:#000000;stroke-linecap:square;stroke-linejoin:miter;stroke-width:0.8;\"/>\r\n   </g>\r\n   <g id=\"patch_4\">\r\n    <path d=\"M 393.180055 218.158125 \r\nL 393.180055 22.318125 \r\n\" style=\"fill:none;stroke:#000000;stroke-linecap:square;stroke-linejoin:miter;stroke-width:0.8;\"/>\r\n   </g>\r\n   <g id=\"patch_5\">\r\n    <path d=\"M 58.380055 218.158125 \r\nL 393.180055 218.158125 \r\n\" style=\"fill:none;stroke:#000000;stroke-linecap:square;stroke-linejoin:miter;stroke-width:0.8;\"/>\r\n   </g>\r\n   <g id=\"patch_6\">\r\n    <path d=\"M 58.380055 22.318125 \r\nL 393.180055 22.318125 \r\n\" style=\"fill:none;stroke:#000000;stroke-linecap:square;stroke-linejoin:miter;stroke-width:0.8;\"/>\r\n   </g>\r\n   <g id=\"text_19\">\r\n    <!-- R27 -->\r\n    <defs>\r\n     <path d=\"M 44.390625 34.1875 \r\nQ 47.5625 33.109375 50.5625 29.59375 \r\nQ 53.5625 26.078125 56.59375 19.921875 \r\nL 66.609375 0 \r\nL 56 0 \r\nL 46.6875 18.703125 \r\nQ 43.0625 26.03125 39.671875 28.421875 \r\nQ 36.28125 30.8125 30.421875 30.8125 \r\nL 19.671875 30.8125 \r\nL 19.671875 0 \r\nL 9.8125 0 \r\nL 9.8125 72.90625 \r\nL 32.078125 72.90625 \r\nQ 44.578125 72.90625 50.734375 67.671875 \r\nQ 56.890625 62.453125 56.890625 51.90625 \r\nQ 56.890625 45.015625 53.6875 40.46875 \r\nQ 50.484375 35.9375 44.390625 34.1875 \r\nz\r\nM 19.671875 64.796875 \r\nL 19.671875 38.921875 \r\nL 32.078125 38.921875 \r\nQ 39.203125 38.921875 42.84375 42.21875 \r\nQ 46.484375 45.515625 46.484375 51.90625 \r\nQ 46.484375 58.296875 42.84375 61.546875 \r\nQ 39.203125 64.796875 32.078125 64.796875 \r\nz\r\n\" id=\"DejaVuSans-82\"/>\r\n    </defs>\r\n    <g transform=\"translate(213.975993 16.318125)scale(0.12 -0.12)\">\r\n     <use xlink:href=\"#DejaVuSans-82\"/>\r\n     <use x=\"69.482422\" xlink:href=\"#DejaVuSans-50\"/>\r\n     <use x=\"133.105469\" xlink:href=\"#DejaVuSans-55\"/>\r\n    </g>\r\n   </g>\r\n   <g id=\"legend_1\">\r\n    <g id=\"patch_7\">\r\n     <path d=\"M 319.167555 213.158125 \r\nL 386.180055 213.158125 \r\nQ 388.180055 213.158125 388.180055 211.158125 \r\nL 388.180055 197.48 \r\nQ 388.180055 195.48 386.180055 195.48 \r\nL 319.167555 195.48 \r\nQ 317.167555 195.48 317.167555 197.48 \r\nL 317.167555 211.158125 \r\nQ 317.167555 213.158125 319.167555 213.158125 \r\nz\r\n\" style=\"fill:#ffffff;opacity:0.8;stroke:#cccccc;stroke-linejoin:miter;\"/>\r\n    </g>\r\n    <g id=\"line2d_17\">\r\n     <path d=\"M 321.167555 203.578437 \r\nL 341.167555 203.578437 \r\n\" style=\"fill:none;stroke:#1f77b4;stroke-linecap:square;stroke-width:1.5;\"/>\r\n    </g>\r\n    <g id=\"line2d_18\"/>\r\n    <g id=\"text_20\">\r\n     <!-- Energy -->\r\n     <defs>\r\n      <path d=\"M 9.8125 72.90625 \r\nL 55.90625 72.90625 \r\nL 55.90625 64.59375 \r\nL 19.671875 64.59375 \r\nL 19.671875 43.015625 \r\nL 54.390625 43.015625 \r\nL 54.390625 34.71875 \r\nL 19.671875 34.71875 \r\nL 19.671875 8.296875 \r\nL 56.78125 8.296875 \r\nL 56.78125 0 \r\nL 9.8125 0 \r\nz\r\n\" id=\"DejaVuSans-69\"/>\r\n      <path d=\"M 54.890625 33.015625 \r\nL 54.890625 0 \r\nL 45.90625 0 \r\nL 45.90625 32.71875 \r\nQ 45.90625 40.484375 42.875 44.328125 \r\nQ 39.84375 48.1875 33.796875 48.1875 \r\nQ 26.515625 48.1875 22.3125 43.546875 \r\nQ 18.109375 38.921875 18.109375 30.90625 \r\nL 18.109375 0 \r\nL 9.078125 0 \r\nL 9.078125 54.6875 \r\nL 18.109375 54.6875 \r\nL 18.109375 46.1875 \r\nQ 21.34375 51.125 25.703125 53.5625 \r\nQ 30.078125 56 35.796875 56 \r\nQ 45.21875 56 50.046875 50.171875 \r\nQ 54.890625 44.34375 54.890625 33.015625 \r\nz\r\n\" id=\"DejaVuSans-110\"/>\r\n      <path d=\"M 41.109375 46.296875 \r\nQ 39.59375 47.171875 37.8125 47.578125 \r\nQ 36.03125 48 33.890625 48 \r\nQ 26.265625 48 22.1875 43.046875 \r\nQ 18.109375 38.09375 18.109375 28.8125 \r\nL 18.109375 0 \r\nL 9.078125 0 \r\nL 9.078125 54.6875 \r\nL 18.109375 54.6875 \r\nL 18.109375 46.1875 \r\nQ 20.953125 51.171875 25.484375 53.578125 \r\nQ 30.03125 56 36.53125 56 \r\nQ 37.453125 56 38.578125 55.875 \r\nQ 39.703125 55.765625 41.0625 55.515625 \r\nz\r\n\" id=\"DejaVuSans-114\"/>\r\n      <path d=\"M 45.40625 27.984375 \r\nQ 45.40625 37.75 41.375 43.109375 \r\nQ 37.359375 48.484375 30.078125 48.484375 \r\nQ 22.859375 48.484375 18.828125 43.109375 \r\nQ 14.796875 37.75 14.796875 27.984375 \r\nQ 14.796875 18.265625 18.828125 12.890625 \r\nQ 22.859375 7.515625 30.078125 7.515625 \r\nQ 37.359375 7.515625 41.375 12.890625 \r\nQ 45.40625 18.265625 45.40625 27.984375 \r\nz\r\nM 54.390625 6.78125 \r\nQ 54.390625 -7.171875 48.1875 -13.984375 \r\nQ 42 -20.796875 29.203125 -20.796875 \r\nQ 24.46875 -20.796875 20.265625 -20.09375 \r\nQ 16.0625 -19.390625 12.109375 -17.921875 \r\nL 12.109375 -9.1875 \r\nQ 16.0625 -11.328125 19.921875 -12.34375 \r\nQ 23.78125 -13.375 27.78125 -13.375 \r\nQ 36.625 -13.375 41.015625 -8.765625 \r\nQ 45.40625 -4.15625 45.40625 5.171875 \r\nL 45.40625 9.625 \r\nQ 42.625 4.78125 38.28125 2.390625 \r\nQ 33.9375 0 27.875 0 \r\nQ 17.828125 0 11.671875 7.65625 \r\nQ 5.515625 15.328125 5.515625 27.984375 \r\nQ 5.515625 40.671875 11.671875 48.328125 \r\nQ 17.828125 56 27.875 56 \r\nQ 33.9375 56 38.28125 53.609375 \r\nQ 42.625 51.21875 45.40625 46.390625 \r\nL 45.40625 54.6875 \r\nL 54.390625 54.6875 \r\nz\r\n\" id=\"DejaVuSans-103\"/>\r\n      <path d=\"M 32.171875 -5.078125 \r\nQ 28.375 -14.84375 24.75 -17.8125 \r\nQ 21.140625 -20.796875 15.09375 -20.796875 \r\nL 7.90625 -20.796875 \r\nL 7.90625 -13.28125 \r\nL 13.1875 -13.28125 \r\nQ 16.890625 -13.28125 18.9375 -11.515625 \r\nQ 21 -9.765625 23.484375 -3.21875 \r\nL 25.09375 0.875 \r\nL 2.984375 54.6875 \r\nL 12.5 54.6875 \r\nL 29.59375 11.921875 \r\nL 46.6875 54.6875 \r\nL 56.203125 54.6875 \r\nz\r\n\" id=\"DejaVuSans-121\"/>\r\n     </defs>\r\n     <g transform=\"translate(349.167555 207.078437)scale(0.1 -0.1)\">\r\n      <use xlink:href=\"#DejaVuSans-69\"/>\r\n      <use x=\"63.183594\" xlink:href=\"#DejaVuSans-110\"/>\r\n      <use x=\"126.5625\" xlink:href=\"#DejaVuSans-101\"/>\r\n      <use x=\"188.085938\" xlink:href=\"#DejaVuSans-114\"/>\r\n      <use x=\"227.449219\" xlink:href=\"#DejaVuSans-103\"/>\r\n      <use x=\"290.925781\" xlink:href=\"#DejaVuSans-121\"/>\r\n     </g>\r\n    </g>\r\n   </g>\r\n  </g>\r\n </g>\r\n <defs>\r\n  <clipPath id=\"pf6fd005a0b\">\r\n   <rect height=\"195.84\" width=\"334.8\" x=\"58.380055\" y=\"22.318125\"/>\r\n  </clipPath>\r\n </defs>\r\n</svg>\r\n",
      "image/png": "[encoded data removed]"
     },
     "metadata": {
      "needs_background": "light"
     }
    }
   ],
   "source": [
    "plotvar = 'Energy'\n",
    "for sid in prod_data_converted.loc[:, 'randid'].unique():\n",
    "    mask = prod_data_converted.loc[:, 'randid']== sid\n",
    "    prod_data_converted.loc[mask].head(n=15)\n",
    "    prod_data_converted.loc[mask].plot(x='Date',y=plotvar, title=sid)\n",
    "    plt.ylabel('Joules')"
   ]
  },
  {
   "cell_type": "markdown",
   "metadata": {},
   "source": [
    "Addressing issue by forward-filling"
   ]
  },
  {
   "cell_type": "code",
   "execution_count": 18,
   "metadata": {},
   "outputs": [
    {
     "output_type": "execute_result",
     "data": {
      "text/plain": [
       "    randid                Date  Energy  Irradiance\n",
       "2      R23 2018-07-19 02:00:00     0.0         NaN\n",
       "3      R23 2018-07-19 03:00:00     0.0         NaN\n",
       "194    R23 2018-07-27 02:00:00     0.0         NaN\n",
       "395    R27 2018-09-14 04:00:00     0.0    0.616897\n",
       "397    R27 2018-09-14 04:30:00     0.0    0.306548\n",
       "860    R27 2018-09-19 00:15:00     0.0    0.000000"
      ],
      "text/html": "<div>\n<style scoped>\n    .dataframe tbody tr th:only-of-type {\n        vertical-align: middle;\n    }\n\n    .dataframe tbody tr th {\n        vertical-align: top;\n    }\n\n    .dataframe thead th {\n        text-align: right;\n    }\n</style>\n<table border=\"1\" class=\"dataframe\">\n  <thead>\n    <tr style=\"text-align: right;\">\n      <th></th>\n      <th>randid</th>\n      <th>Date</th>\n      <th>Energy</th>\n      <th>Irradiance</th>\n    </tr>\n  </thead>\n  <tbody>\n    <tr>\n      <th>2</th>\n      <td>R23</td>\n      <td>2018-07-19 02:00:00</td>\n      <td>0.0</td>\n      <td>NaN</td>\n    </tr>\n    <tr>\n      <th>3</th>\n      <td>R23</td>\n      <td>2018-07-19 03:00:00</td>\n      <td>0.0</td>\n      <td>NaN</td>\n    </tr>\n    <tr>\n      <th>194</th>\n      <td>R23</td>\n      <td>2018-07-27 02:00:00</td>\n      <td>0.0</td>\n      <td>NaN</td>\n    </tr>\n    <tr>\n      <th>395</th>\n      <td>R27</td>\n      <td>2018-09-14 04:00:00</td>\n      <td>0.0</td>\n      <td>0.616897</td>\n    </tr>\n    <tr>\n      <th>397</th>\n      <td>R27</td>\n      <td>2018-09-14 04:30:00</td>\n      <td>0.0</td>\n      <td>0.306548</td>\n    </tr>\n    <tr>\n      <th>860</th>\n      <td>R27</td>\n      <td>2018-09-19 00:15:00</td>\n      <td>0.0</td>\n      <td>0.000000</td>\n    </tr>\n  </tbody>\n</table>\n</div>"
     },
     "metadata": {},
     "execution_count": 18
    }
   ],
   "source": [
    "prod_data_anom, addressed = utils.prod_anomalies(prod_data_converted, prod_col_dict, 1.0, np.nan, ffill=True)\n",
    "addressed"
   ]
  },
  {
   "cell_type": "markdown",
   "metadata": {},
   "source": [
    "Print post-processed data frame\n"
   ]
  },
  {
   "cell_type": "code",
   "execution_count": 19,
   "metadata": {},
   "outputs": [
    {
     "output_type": "execute_result",
     "data": {
      "text/plain": [
       "     randid                Date     Energy  Irradiance\n",
       "0       R23                 NaT     1000.0         NaN\n",
       "1       R23 2018-07-19 01:00:00     1000.0         NaN\n",
       "2       R23 2018-07-19 02:00:00     1000.0         NaN\n",
       "3       R23 2018-07-19 03:00:00     1000.0         NaN\n",
       "4       R23 2018-07-19 04:00:00     1000.0         NaN\n",
       "...     ...                 ...        ...         ...\n",
       "1049    R27 2018-10-13 23:45:00  5289528.0         NaN\n",
       "1050    R27 2018-10-14 00:00:00  5289528.0         NaN\n",
       "1051    R27 2018-10-14 00:15:00  5289528.0         NaN\n",
       "1052    R27 2018-10-14 00:30:00  5289528.0         NaN\n",
       "1053    R27 2018-10-14 00:45:00  5289528.0         NaN\n",
       "\n",
       "[1054 rows x 4 columns]"
      ],
      "text/html": "<div>\n<style scoped>\n    .dataframe tbody tr th:only-of-type {\n        vertical-align: middle;\n    }\n\n    .dataframe tbody tr th {\n        vertical-align: top;\n    }\n\n    .dataframe thead th {\n        text-align: right;\n    }\n</style>\n<table border=\"1\" class=\"dataframe\">\n  <thead>\n    <tr style=\"text-align: right;\">\n      <th></th>\n      <th>randid</th>\n      <th>Date</th>\n      <th>Energy</th>\n      <th>Irradiance</th>\n    </tr>\n  </thead>\n  <tbody>\n    <tr>\n      <th>0</th>\n      <td>R23</td>\n      <td>NaT</td>\n      <td>1000.0</td>\n      <td>NaN</td>\n    </tr>\n    <tr>\n      <th>1</th>\n      <td>R23</td>\n      <td>2018-07-19 01:00:00</td>\n      <td>1000.0</td>\n      <td>NaN</td>\n    </tr>\n    <tr>\n      <th>2</th>\n      <td>R23</td>\n      <td>2018-07-19 02:00:00</td>\n      <td>1000.0</td>\n      <td>NaN</td>\n    </tr>\n    <tr>\n      <th>3</th>\n      <td>R23</td>\n      <td>2018-07-19 03:00:00</td>\n      <td>1000.0</td>\n      <td>NaN</td>\n    </tr>\n    <tr>\n      <th>4</th>\n      <td>R23</td>\n      <td>2018-07-19 04:00:00</td>\n      <td>1000.0</td>\n      <td>NaN</td>\n    </tr>\n    <tr>\n      <th>...</th>\n      <td>...</td>\n      <td>...</td>\n      <td>...</td>\n      <td>...</td>\n    </tr>\n    <tr>\n      <th>1049</th>\n      <td>R27</td>\n      <td>2018-10-13 23:45:00</td>\n      <td>5289528.0</td>\n      <td>NaN</td>\n    </tr>\n    <tr>\n      <th>1050</th>\n      <td>R27</td>\n      <td>2018-10-14 00:00:00</td>\n      <td>5289528.0</td>\n      <td>NaN</td>\n    </tr>\n    <tr>\n      <th>1051</th>\n      <td>R27</td>\n      <td>2018-10-14 00:15:00</td>\n      <td>5289528.0</td>\n      <td>NaN</td>\n    </tr>\n    <tr>\n      <th>1052</th>\n      <td>R27</td>\n      <td>2018-10-14 00:30:00</td>\n      <td>5289528.0</td>\n      <td>NaN</td>\n    </tr>\n    <tr>\n      <th>1053</th>\n      <td>R27</td>\n      <td>2018-10-14 00:45:00</td>\n      <td>5289528.0</td>\n      <td>NaN</td>\n    </tr>\n  </tbody>\n</table>\n<p>1054 rows × 4 columns</p>\n</div>"
     },
     "metadata": {},
     "execution_count": 19
    }
   ],
   "source": [
    "#post-processed data frame\n",
    "prod_data_anom"
   ]
  },
  {
   "cell_type": "markdown",
   "metadata": {},
   "source": [
    "Quick visualization of post-processed data"
   ]
  },
  {
   "cell_type": "code",
   "execution_count": 20,
   "metadata": {},
   "outputs": [
    {
     "output_type": "display_data",
     "data": {
      "text/plain": "<Figure size 432x288 with 1 Axes>",
      "image/svg+xml": "<?xml version=\"1.0\" encoding=\"utf-8\" standalone=\"no\"?>\r\n<!DOCTYPE svg PUBLIC \"-//W3C//DTD SVG 1.1//EN\"\r\n  \"http://www.w3.org/Graphics/SVG/1.1/DTD/svg11.dtd\">\r\n<!-- Created with matplotlib (https://matplotlib.org/) -->\r\n<svg height=\"283.475565pt\" version=\"1.1\" viewBox=\"0 0 408.053125 283.475565\" width=\"408.053125pt\" xmlns=\"http://www.w3.org/2000/svg\" xmlns:xlink=\"http://www.w3.org/1999/xlink\">\r\n <defs>\r\n  <style type=\"text/css\">\r\n*{stroke-linecap:butt;stroke-linejoin:round;}\r\n  </style>\r\n </defs>\r\n <g id=\"figure_1\">\r\n  <g id=\"patch_1\">\r\n   <path d=\"M 0 283.475565 \r\nL 408.053125 283.475565 \r\nL 408.053125 0 \r\nL 0 0 \r\nz\r\n\" style=\"fill:none;\"/>\r\n  </g>\r\n  <g id=\"axes_1\">\r\n   <g id=\"patch_2\">\r\n    <path d=\"M 66.053125 218.158125 \r\nL 400.853125 218.158125 \r\nL 400.853125 22.318125 \r\nL 66.053125 22.318125 \r\nz\r\n\" style=\"fill:#ffffff;\"/>\r\n   </g>\r\n   <g id=\"matplotlib.axis_1\">\r\n    <g id=\"xtick_1\">\r\n     <g id=\"line2d_1\">\r\n      <defs>\r\n       <path d=\"M 0 0 \r\nL 0 3.5 \r\n\" id=\"mf77bc016f9\" style=\"stroke:#000000;stroke-width:0.8;\"/>\r\n      </defs>\r\n      <g>\r\n       <use style=\"stroke:#000000;stroke-width:0.8;\" x=\"80.4828\" xlink:href=\"#mf77bc016f9\" y=\"218.158125\"/>\r\n      </g>\r\n     </g>\r\n     <g id=\"text_1\">\r\n      <!-- 2018-07-19 -->\r\n      <defs>\r\n       <path d=\"M 19.1875 8.296875 \r\nL 53.609375 8.296875 \r\nL 53.609375 0 \r\nL 7.328125 0 \r\nL 7.328125 8.296875 \r\nQ 12.9375 14.109375 22.625 23.890625 \r\nQ 32.328125 33.6875 34.8125 36.53125 \r\nQ 39.546875 41.84375 41.421875 45.53125 \r\nQ 43.3125 49.21875 43.3125 52.78125 \r\nQ 43.3125 58.59375 39.234375 62.25 \r\nQ 35.15625 65.921875 28.609375 65.921875 \r\nQ 23.96875 65.921875 18.8125 64.3125 \r\nQ 13.671875 62.703125 7.8125 59.421875 \r\nL 7.8125 69.390625 \r\nQ 13.765625 71.78125 18.9375 73 \r\nQ 24.125 74.21875 28.421875 74.21875 \r\nQ 39.75 74.21875 46.484375 68.546875 \r\nQ 53.21875 62.890625 53.21875 53.421875 \r\nQ 53.21875 48.921875 51.53125 44.890625 \r\nQ 49.859375 40.875 45.40625 35.40625 \r\nQ 44.1875 33.984375 37.640625 27.21875 \r\nQ 31.109375 20.453125 19.1875 8.296875 \r\nz\r\n\" id=\"DejaVuSans-50\"/>\r\n       <path d=\"M 31.78125 66.40625 \r\nQ 24.171875 66.40625 20.328125 58.90625 \r\nQ 16.5 51.421875 16.5 36.375 \r\nQ 16.5 21.390625 20.328125 13.890625 \r\nQ 24.171875 6.390625 31.78125 6.390625 \r\nQ 39.453125 6.390625 43.28125 13.890625 \r\nQ 47.125 21.390625 47.125 36.375 \r\nQ 47.125 51.421875 43.28125 58.90625 \r\nQ 39.453125 66.40625 31.78125 66.40625 \r\nz\r\nM 31.78125 74.21875 \r\nQ 44.046875 74.21875 50.515625 64.515625 \r\nQ 56.984375 54.828125 56.984375 36.375 \r\nQ 56.984375 17.96875 50.515625 8.265625 \r\nQ 44.046875 -1.421875 31.78125 -1.421875 \r\nQ 19.53125 -1.421875 13.0625 8.265625 \r\nQ 6.59375 17.96875 6.59375 36.375 \r\nQ 6.59375 54.828125 13.0625 64.515625 \r\nQ 19.53125 74.21875 31.78125 74.21875 \r\nz\r\n\" id=\"DejaVuSans-48\"/>\r\n       <path d=\"M 12.40625 8.296875 \r\nL 28.515625 8.296875 \r\nL 28.515625 63.921875 \r\nL 10.984375 60.40625 \r\nL 10.984375 69.390625 \r\nL 28.421875 72.90625 \r\nL 38.28125 72.90625 \r\nL 38.28125 8.296875 \r\nL 54.390625 8.296875 \r\nL 54.390625 0 \r\nL 12.40625 0 \r\nz\r\n\" id=\"DejaVuSans-49\"/>\r\n       <path d=\"M 31.78125 34.625 \r\nQ 24.75 34.625 20.71875 30.859375 \r\nQ 16.703125 27.09375 16.703125 20.515625 \r\nQ 16.703125 13.921875 20.71875 10.15625 \r\nQ 24.75 6.390625 31.78125 6.390625 \r\nQ 38.8125 6.390625 42.859375 10.171875 \r\nQ 46.921875 13.96875 46.921875 20.515625 \r\nQ 46.921875 27.09375 42.890625 30.859375 \r\nQ 38.875 34.625 31.78125 34.625 \r\nz\r\nM 21.921875 38.8125 \r\nQ 15.578125 40.375 12.03125 44.71875 \r\nQ 8.5 49.078125 8.5 55.328125 \r\nQ 8.5 64.0625 14.71875 69.140625 \r\nQ 20.953125 74.21875 31.78125 74.21875 \r\nQ 42.671875 74.21875 48.875 69.140625 \r\nQ 55.078125 64.0625 55.078125 55.328125 \r\nQ 55.078125 49.078125 51.53125 44.71875 \r\nQ 48 40.375 41.703125 38.8125 \r\nQ 48.828125 37.15625 52.796875 32.3125 \r\nQ 56.78125 27.484375 56.78125 20.515625 \r\nQ 56.78125 9.90625 50.3125 4.234375 \r\nQ 43.84375 -1.421875 31.78125 -1.421875 \r\nQ 19.734375 -1.421875 13.25 4.234375 \r\nQ 6.78125 9.90625 6.78125 20.515625 \r\nQ 6.78125 27.484375 10.78125 32.3125 \r\nQ 14.796875 37.15625 21.921875 38.8125 \r\nz\r\nM 18.3125 54.390625 \r\nQ 18.3125 48.734375 21.84375 45.5625 \r\nQ 25.390625 42.390625 31.78125 42.390625 \r\nQ 38.140625 42.390625 41.71875 45.5625 \r\nQ 45.3125 48.734375 45.3125 54.390625 \r\nQ 45.3125 60.0625 41.71875 63.234375 \r\nQ 38.140625 66.40625 31.78125 66.40625 \r\nQ 25.390625 66.40625 21.84375 63.234375 \r\nQ 18.3125 60.0625 18.3125 54.390625 \r\nz\r\n\" id=\"DejaVuSans-56\"/>\r\n       <path d=\"M 4.890625 31.390625 \r\nL 31.203125 31.390625 \r\nL 31.203125 23.390625 \r\nL 4.890625 23.390625 \r\nz\r\n\" id=\"DejaVuSans-45\"/>\r\n       <path d=\"M 8.203125 72.90625 \r\nL 55.078125 72.90625 \r\nL 55.078125 68.703125 \r\nL 28.609375 0 \r\nL 18.3125 0 \r\nL 43.21875 64.59375 \r\nL 8.203125 64.59375 \r\nz\r\n\" id=\"DejaVuSans-55\"/>\r\n       <path d=\"M 10.984375 1.515625 \r\nL 10.984375 10.5 \r\nQ 14.703125 8.734375 18.5 7.8125 \r\nQ 22.3125 6.890625 25.984375 6.890625 \r\nQ 35.75 6.890625 40.890625 13.453125 \r\nQ 46.046875 20.015625 46.78125 33.40625 \r\nQ 43.953125 29.203125 39.59375 26.953125 \r\nQ 35.25 24.703125 29.984375 24.703125 \r\nQ 19.046875 24.703125 12.671875 31.3125 \r\nQ 6.296875 37.9375 6.296875 49.421875 \r\nQ 6.296875 60.640625 12.9375 67.421875 \r\nQ 19.578125 74.21875 30.609375 74.21875 \r\nQ 43.265625 74.21875 49.921875 64.515625 \r\nQ 56.59375 54.828125 56.59375 36.375 \r\nQ 56.59375 19.140625 48.40625 8.859375 \r\nQ 40.234375 -1.421875 26.421875 -1.421875 \r\nQ 22.703125 -1.421875 18.890625 -0.6875 \r\nQ 15.09375 0.046875 10.984375 1.515625 \r\nz\r\nM 30.609375 32.421875 \r\nQ 37.25 32.421875 41.125 36.953125 \r\nQ 45.015625 41.5 45.015625 49.421875 \r\nQ 45.015625 57.28125 41.125 61.84375 \r\nQ 37.25 66.40625 30.609375 66.40625 \r\nQ 23.96875 66.40625 20.09375 61.84375 \r\nQ 16.21875 57.28125 16.21875 49.421875 \r\nQ 16.21875 41.5 20.09375 36.953125 \r\nQ 23.96875 32.421875 30.609375 32.421875 \r\nz\r\n\" id=\"DejaVuSans-57\"/>\r\n      </defs>\r\n      <g transform=\"translate(29.113349 260.796377)rotate(-30)scale(0.1 -0.1)\">\r\n       <use xlink:href=\"#DejaVuSans-50\"/>\r\n       <use x=\"63.623047\" xlink:href=\"#DejaVuSans-48\"/>\r\n       <use x=\"127.246094\" xlink:href=\"#DejaVuSans-49\"/>\r\n       <use x=\"190.869141\" xlink:href=\"#DejaVuSans-56\"/>\r\n       <use x=\"254.492188\" xlink:href=\"#DejaVuSans-45\"/>\r\n       <use x=\"290.576172\" xlink:href=\"#DejaVuSans-48\"/>\r\n       <use x=\"354.199219\" xlink:href=\"#DejaVuSans-55\"/>\r\n       <use x=\"417.822266\" xlink:href=\"#DejaVuSans-45\"/>\r\n       <use x=\"453.90625\" xlink:href=\"#DejaVuSans-49\"/>\r\n       <use x=\"517.529297\" xlink:href=\"#DejaVuSans-57\"/>\r\n      </g>\r\n     </g>\r\n    </g>\r\n    <g id=\"xtick_2\">\r\n     <g id=\"line2d_2\">\r\n      <g>\r\n       <use style=\"stroke:#000000;stroke-width:0.8;\" x=\"118.331128\" xlink:href=\"#mf77bc016f9\" y=\"218.158125\"/>\r\n      </g>\r\n     </g>\r\n     <g id=\"text_2\">\r\n      <!-- 2018-07-21 -->\r\n      <g transform=\"translate(66.961676 260.796377)rotate(-30)scale(0.1 -0.1)\">\r\n       <use xlink:href=\"#DejaVuSans-50\"/>\r\n       <use x=\"63.623047\" xlink:href=\"#DejaVuSans-48\"/>\r\n       <use x=\"127.246094\" xlink:href=\"#DejaVuSans-49\"/>\r\n       <use x=\"190.869141\" xlink:href=\"#DejaVuSans-56\"/>\r\n       <use x=\"254.492188\" xlink:href=\"#DejaVuSans-45\"/>\r\n       <use x=\"290.576172\" xlink:href=\"#DejaVuSans-48\"/>\r\n       <use x=\"354.199219\" xlink:href=\"#DejaVuSans-55\"/>\r\n       <use x=\"417.822266\" xlink:href=\"#DejaVuSans-45\"/>\r\n       <use x=\"453.90625\" xlink:href=\"#DejaVuSans-50\"/>\r\n       <use x=\"517.529297\" xlink:href=\"#DejaVuSans-49\"/>\r\n      </g>\r\n     </g>\r\n    </g>\r\n    <g id=\"xtick_3\">\r\n     <g id=\"line2d_3\">\r\n      <g>\r\n       <use style=\"stroke:#000000;stroke-width:0.8;\" x=\"156.179456\" xlink:href=\"#mf77bc016f9\" y=\"218.158125\"/>\r\n      </g>\r\n     </g>\r\n     <g id=\"text_3\">\r\n      <!-- 2018-07-23 -->\r\n      <defs>\r\n       <path d=\"M 40.578125 39.3125 \r\nQ 47.65625 37.796875 51.625 33 \r\nQ 55.609375 28.21875 55.609375 21.1875 \r\nQ 55.609375 10.40625 48.1875 4.484375 \r\nQ 40.765625 -1.421875 27.09375 -1.421875 \r\nQ 22.515625 -1.421875 17.65625 -0.515625 \r\nQ 12.796875 0.390625 7.625 2.203125 \r\nL 7.625 11.71875 \r\nQ 11.71875 9.328125 16.59375 8.109375 \r\nQ 21.484375 6.890625 26.8125 6.890625 \r\nQ 36.078125 6.890625 40.9375 10.546875 \r\nQ 45.796875 14.203125 45.796875 21.1875 \r\nQ 45.796875 27.640625 41.28125 31.265625 \r\nQ 36.765625 34.90625 28.71875 34.90625 \r\nL 20.21875 34.90625 \r\nL 20.21875 43.015625 \r\nL 29.109375 43.015625 \r\nQ 36.375 43.015625 40.234375 45.921875 \r\nQ 44.09375 48.828125 44.09375 54.296875 \r\nQ 44.09375 59.90625 40.109375 62.90625 \r\nQ 36.140625 65.921875 28.71875 65.921875 \r\nQ 24.65625 65.921875 20.015625 65.03125 \r\nQ 15.375 64.15625 9.8125 62.3125 \r\nL 9.8125 71.09375 \r\nQ 15.4375 72.65625 20.34375 73.4375 \r\nQ 25.25 74.21875 29.59375 74.21875 \r\nQ 40.828125 74.21875 47.359375 69.109375 \r\nQ 53.90625 64.015625 53.90625 55.328125 \r\nQ 53.90625 49.265625 50.4375 45.09375 \r\nQ 46.96875 40.921875 40.578125 39.3125 \r\nz\r\n\" id=\"DejaVuSans-51\"/>\r\n      </defs>\r\n      <g transform=\"translate(104.810004 260.796377)rotate(-30)scale(0.1 -0.1)\">\r\n       <use xlink:href=\"#DejaVuSans-50\"/>\r\n       <use x=\"63.623047\" xlink:href=\"#DejaVuSans-48\"/>\r\n       <use x=\"127.246094\" xlink:href=\"#DejaVuSans-49\"/>\r\n       <use x=\"190.869141\" xlink:href=\"#DejaVuSans-56\"/>\r\n       <use x=\"254.492188\" xlink:href=\"#DejaVuSans-45\"/>\r\n       <use x=\"290.576172\" xlink:href=\"#DejaVuSans-48\"/>\r\n       <use x=\"354.199219\" xlink:href=\"#DejaVuSans-55\"/>\r\n       <use x=\"417.822266\" xlink:href=\"#DejaVuSans-45\"/>\r\n       <use x=\"453.90625\" xlink:href=\"#DejaVuSans-50\"/>\r\n       <use x=\"517.529297\" xlink:href=\"#DejaVuSans-51\"/>\r\n      </g>\r\n     </g>\r\n    </g>\r\n    <g id=\"xtick_4\">\r\n     <g id=\"line2d_4\">\r\n      <g>\r\n       <use style=\"stroke:#000000;stroke-width:0.8;\" x=\"194.027784\" xlink:href=\"#mf77bc016f9\" y=\"218.158125\"/>\r\n      </g>\r\n     </g>\r\n     <g id=\"text_4\">\r\n      <!-- 2018-07-25 -->\r\n      <defs>\r\n       <path d=\"M 10.796875 72.90625 \r\nL 49.515625 72.90625 \r\nL 49.515625 64.59375 \r\nL 19.828125 64.59375 \r\nL 19.828125 46.734375 \r\nQ 21.96875 47.46875 24.109375 47.828125 \r\nQ 26.265625 48.1875 28.421875 48.1875 \r\nQ 40.625 48.1875 47.75 41.5 \r\nQ 54.890625 34.8125 54.890625 23.390625 \r\nQ 54.890625 11.625 47.5625 5.09375 \r\nQ 40.234375 -1.421875 26.90625 -1.421875 \r\nQ 22.3125 -1.421875 17.546875 -0.640625 \r\nQ 12.796875 0.140625 7.71875 1.703125 \r\nL 7.71875 11.625 \r\nQ 12.109375 9.234375 16.796875 8.0625 \r\nQ 21.484375 6.890625 26.703125 6.890625 \r\nQ 35.15625 6.890625 40.078125 11.328125 \r\nQ 45.015625 15.765625 45.015625 23.390625 \r\nQ 45.015625 31 40.078125 35.4375 \r\nQ 35.15625 39.890625 26.703125 39.890625 \r\nQ 22.75 39.890625 18.8125 39.015625 \r\nQ 14.890625 38.140625 10.796875 36.28125 \r\nz\r\n\" id=\"DejaVuSans-53\"/>\r\n      </defs>\r\n      <g transform=\"translate(142.658332 260.796377)rotate(-30)scale(0.1 -0.1)\">\r\n       <use xlink:href=\"#DejaVuSans-50\"/>\r\n       <use x=\"63.623047\" xlink:href=\"#DejaVuSans-48\"/>\r\n       <use x=\"127.246094\" xlink:href=\"#DejaVuSans-49\"/>\r\n       <use x=\"190.869141\" xlink:href=\"#DejaVuSans-56\"/>\r\n       <use x=\"254.492188\" xlink:href=\"#DejaVuSans-45\"/>\r\n       <use x=\"290.576172\" xlink:href=\"#DejaVuSans-48\"/>\r\n       <use x=\"354.199219\" xlink:href=\"#DejaVuSans-55\"/>\r\n       <use x=\"417.822266\" xlink:href=\"#DejaVuSans-45\"/>\r\n       <use x=\"453.90625\" xlink:href=\"#DejaVuSans-50\"/>\r\n       <use x=\"517.529297\" xlink:href=\"#DejaVuSans-53\"/>\r\n      </g>\r\n     </g>\r\n    </g>\r\n    <g id=\"xtick_5\">\r\n     <g id=\"line2d_5\">\r\n      <g>\r\n       <use style=\"stroke:#000000;stroke-width:0.8;\" x=\"231.876111\" xlink:href=\"#mf77bc016f9\" y=\"218.158125\"/>\r\n      </g>\r\n     </g>\r\n     <g id=\"text_5\">\r\n      <!-- 2018-07-27 -->\r\n      <g transform=\"translate(180.50666 260.796377)rotate(-30)scale(0.1 -0.1)\">\r\n       <use xlink:href=\"#DejaVuSans-50\"/>\r\n       <use x=\"63.623047\" xlink:href=\"#DejaVuSans-48\"/>\r\n       <use x=\"127.246094\" xlink:href=\"#DejaVuSans-49\"/>\r\n       <use x=\"190.869141\" xlink:href=\"#DejaVuSans-56\"/>\r\n       <use x=\"254.492188\" xlink:href=\"#DejaVuSans-45\"/>\r\n       <use x=\"290.576172\" xlink:href=\"#DejaVuSans-48\"/>\r\n       <use x=\"354.199219\" xlink:href=\"#DejaVuSans-55\"/>\r\n       <use x=\"417.822266\" xlink:href=\"#DejaVuSans-45\"/>\r\n       <use x=\"453.90625\" xlink:href=\"#DejaVuSans-50\"/>\r\n       <use x=\"517.529297\" xlink:href=\"#DejaVuSans-55\"/>\r\n      </g>\r\n     </g>\r\n    </g>\r\n    <g id=\"xtick_6\">\r\n     <g id=\"line2d_6\">\r\n      <g>\r\n       <use style=\"stroke:#000000;stroke-width:0.8;\" x=\"269.724439\" xlink:href=\"#mf77bc016f9\" y=\"218.158125\"/>\r\n      </g>\r\n     </g>\r\n     <g id=\"text_6\">\r\n      <!-- 2018-07-29 -->\r\n      <g transform=\"translate(218.354988 260.796377)rotate(-30)scale(0.1 -0.1)\">\r\n       <use xlink:href=\"#DejaVuSans-50\"/>\r\n       <use x=\"63.623047\" xlink:href=\"#DejaVuSans-48\"/>\r\n       <use x=\"127.246094\" xlink:href=\"#DejaVuSans-49\"/>\r\n       <use x=\"190.869141\" xlink:href=\"#DejaVuSans-56\"/>\r\n       <use x=\"254.492188\" xlink:href=\"#DejaVuSans-45\"/>\r\n       <use x=\"290.576172\" xlink:href=\"#DejaVuSans-48\"/>\r\n       <use x=\"354.199219\" xlink:href=\"#DejaVuSans-55\"/>\r\n       <use x=\"417.822266\" xlink:href=\"#DejaVuSans-45\"/>\r\n       <use x=\"453.90625\" xlink:href=\"#DejaVuSans-50\"/>\r\n       <use x=\"517.529297\" xlink:href=\"#DejaVuSans-57\"/>\r\n      </g>\r\n     </g>\r\n    </g>\r\n    <g id=\"xtick_7\">\r\n     <g id=\"line2d_7\">\r\n      <g>\r\n       <use style=\"stroke:#000000;stroke-width:0.8;\" x=\"307.572767\" xlink:href=\"#mf77bc016f9\" y=\"218.158125\"/>\r\n      </g>\r\n     </g>\r\n     <g id=\"text_7\">\r\n      <!-- 2018-07-31 -->\r\n      <g transform=\"translate(256.203316 260.796377)rotate(-30)scale(0.1 -0.1)\">\r\n       <use xlink:href=\"#DejaVuSans-50\"/>\r\n       <use x=\"63.623047\" xlink:href=\"#DejaVuSans-48\"/>\r\n       <use x=\"127.246094\" xlink:href=\"#DejaVuSans-49\"/>\r\n       <use x=\"190.869141\" xlink:href=\"#DejaVuSans-56\"/>\r\n       <use x=\"254.492188\" xlink:href=\"#DejaVuSans-45\"/>\r\n       <use x=\"290.576172\" xlink:href=\"#DejaVuSans-48\"/>\r\n       <use x=\"354.199219\" xlink:href=\"#DejaVuSans-55\"/>\r\n       <use x=\"417.822266\" xlink:href=\"#DejaVuSans-45\"/>\r\n       <use x=\"453.90625\" xlink:href=\"#DejaVuSans-51\"/>\r\n       <use x=\"517.529297\" xlink:href=\"#DejaVuSans-49\"/>\r\n      </g>\r\n     </g>\r\n    </g>\r\n    <g id=\"xtick_8\">\r\n     <g id=\"line2d_8\">\r\n      <g>\r\n       <use style=\"stroke:#000000;stroke-width:0.8;\" x=\"326.496931\" xlink:href=\"#mf77bc016f9\" y=\"218.158125\"/>\r\n      </g>\r\n     </g>\r\n     <g id=\"text_8\">\r\n      <!-- 2018-08-01 -->\r\n      <g transform=\"translate(275.12748 260.796377)rotate(-30)scale(0.1 -0.1)\">\r\n       <use xlink:href=\"#DejaVuSans-50\"/>\r\n       <use x=\"63.623047\" xlink:href=\"#DejaVuSans-48\"/>\r\n       <use x=\"127.246094\" xlink:href=\"#DejaVuSans-49\"/>\r\n       <use x=\"190.869141\" xlink:href=\"#DejaVuSans-56\"/>\r\n       <use x=\"254.492188\" xlink:href=\"#DejaVuSans-45\"/>\r\n       <use x=\"290.576172\" xlink:href=\"#DejaVuSans-48\"/>\r\n       <use x=\"354.199219\" xlink:href=\"#DejaVuSans-56\"/>\r\n       <use x=\"417.822266\" xlink:href=\"#DejaVuSans-45\"/>\r\n       <use x=\"453.90625\" xlink:href=\"#DejaVuSans-48\"/>\r\n       <use x=\"517.529297\" xlink:href=\"#DejaVuSans-49\"/>\r\n      </g>\r\n     </g>\r\n    </g>\r\n    <g id=\"xtick_9\">\r\n     <g id=\"line2d_9\">\r\n      <g>\r\n       <use style=\"stroke:#000000;stroke-width:0.8;\" x=\"364.345259\" xlink:href=\"#mf77bc016f9\" y=\"218.158125\"/>\r\n      </g>\r\n     </g>\r\n     <g id=\"text_9\">\r\n      <!-- 2018-08-03 -->\r\n      <g transform=\"translate(312.975807 260.796377)rotate(-30)scale(0.1 -0.1)\">\r\n       <use xlink:href=\"#DejaVuSans-50\"/>\r\n       <use x=\"63.623047\" xlink:href=\"#DejaVuSans-48\"/>\r\n       <use x=\"127.246094\" xlink:href=\"#DejaVuSans-49\"/>\r\n       <use x=\"190.869141\" xlink:href=\"#DejaVuSans-56\"/>\r\n       <use x=\"254.492188\" xlink:href=\"#DejaVuSans-45\"/>\r\n       <use x=\"290.576172\" xlink:href=\"#DejaVuSans-48\"/>\r\n       <use x=\"354.199219\" xlink:href=\"#DejaVuSans-56\"/>\r\n       <use x=\"417.822266\" xlink:href=\"#DejaVuSans-45\"/>\r\n       <use x=\"453.90625\" xlink:href=\"#DejaVuSans-48\"/>\r\n       <use x=\"517.529297\" xlink:href=\"#DejaVuSans-51\"/>\r\n      </g>\r\n     </g>\r\n    </g>\r\n    <g id=\"text_10\">\r\n     <!-- Date -->\r\n     <defs>\r\n      <path d=\"M 19.671875 64.796875 \r\nL 19.671875 8.109375 \r\nL 31.59375 8.109375 \r\nQ 46.6875 8.109375 53.6875 14.9375 \r\nQ 60.6875 21.78125 60.6875 36.53125 \r\nQ 60.6875 51.171875 53.6875 57.984375 \r\nQ 46.6875 64.796875 31.59375 64.796875 \r\nz\r\nM 9.8125 72.90625 \r\nL 30.078125 72.90625 \r\nQ 51.265625 72.90625 61.171875 64.09375 \r\nQ 71.09375 55.28125 71.09375 36.53125 \r\nQ 71.09375 17.671875 61.125 8.828125 \r\nQ 51.171875 0 30.078125 0 \r\nL 9.8125 0 \r\nz\r\n\" id=\"DejaVuSans-68\"/>\r\n      <path d=\"M 34.28125 27.484375 \r\nQ 23.390625 27.484375 19.1875 25 \r\nQ 14.984375 22.515625 14.984375 16.5 \r\nQ 14.984375 11.71875 18.140625 8.90625 \r\nQ 21.296875 6.109375 26.703125 6.109375 \r\nQ 34.1875 6.109375 38.703125 11.40625 \r\nQ 43.21875 16.703125 43.21875 25.484375 \r\nL 43.21875 27.484375 \r\nz\r\nM 52.203125 31.203125 \r\nL 52.203125 0 \r\nL 43.21875 0 \r\nL 43.21875 8.296875 \r\nQ 40.140625 3.328125 35.546875 0.953125 \r\nQ 30.953125 -1.421875 24.3125 -1.421875 \r\nQ 15.921875 -1.421875 10.953125 3.296875 \r\nQ 6 8.015625 6 15.921875 \r\nQ 6 25.140625 12.171875 29.828125 \r\nQ 18.359375 34.515625 30.609375 34.515625 \r\nL 43.21875 34.515625 \r\nL 43.21875 35.40625 \r\nQ 43.21875 41.609375 39.140625 45 \r\nQ 35.0625 48.390625 27.6875 48.390625 \r\nQ 23 48.390625 18.546875 47.265625 \r\nQ 14.109375 46.140625 10.015625 43.890625 \r\nL 10.015625 52.203125 \r\nQ 14.9375 54.109375 19.578125 55.046875 \r\nQ 24.21875 56 28.609375 56 \r\nQ 40.484375 56 46.34375 49.84375 \r\nQ 52.203125 43.703125 52.203125 31.203125 \r\nz\r\n\" id=\"DejaVuSans-97\"/>\r\n      <path d=\"M 18.3125 70.21875 \r\nL 18.3125 54.6875 \r\nL 36.8125 54.6875 \r\nL 36.8125 47.703125 \r\nL 18.3125 47.703125 \r\nL 18.3125 18.015625 \r\nQ 18.3125 11.328125 20.140625 9.421875 \r\nQ 21.96875 7.515625 27.59375 7.515625 \r\nL 36.8125 7.515625 \r\nL 36.8125 0 \r\nL 27.59375 0 \r\nQ 17.1875 0 13.234375 3.875 \r\nQ 9.28125 7.765625 9.28125 18.015625 \r\nL 9.28125 47.703125 \r\nL 2.6875 47.703125 \r\nL 2.6875 54.6875 \r\nL 9.28125 54.6875 \r\nL 9.28125 70.21875 \r\nz\r\n\" id=\"DejaVuSans-116\"/>\r\n      <path d=\"M 56.203125 29.59375 \r\nL 56.203125 25.203125 \r\nL 14.890625 25.203125 \r\nQ 15.484375 15.921875 20.484375 11.0625 \r\nQ 25.484375 6.203125 34.421875 6.203125 \r\nQ 39.59375 6.203125 44.453125 7.46875 \r\nQ 49.3125 8.734375 54.109375 11.28125 \r\nL 54.109375 2.78125 \r\nQ 49.265625 0.734375 44.1875 -0.34375 \r\nQ 39.109375 -1.421875 33.890625 -1.421875 \r\nQ 20.796875 -1.421875 13.15625 6.1875 \r\nQ 5.515625 13.8125 5.515625 26.8125 \r\nQ 5.515625 40.234375 12.765625 48.109375 \r\nQ 20.015625 56 32.328125 56 \r\nQ 43.359375 56 49.78125 48.890625 \r\nQ 56.203125 41.796875 56.203125 29.59375 \r\nz\r\nM 47.21875 32.234375 \r\nQ 47.125 39.59375 43.09375 43.984375 \r\nQ 39.0625 48.390625 32.421875 48.390625 \r\nQ 24.90625 48.390625 20.390625 44.140625 \r\nQ 15.875 39.890625 15.1875 32.171875 \r\nz\r\n\" id=\"DejaVuSans-101\"/>\r\n     </defs>\r\n     <g transform=\"translate(221.502344 274.195877)scale(0.1 -0.1)\">\r\n      <use xlink:href=\"#DejaVuSans-68\"/>\r\n      <use x=\"77.001953\" xlink:href=\"#DejaVuSans-97\"/>\r\n      <use x=\"138.28125\" xlink:href=\"#DejaVuSans-116\"/>\r\n      <use x=\"177.490234\" xlink:href=\"#DejaVuSans-101\"/>\r\n     </g>\r\n    </g>\r\n   </g>\r\n   <g id=\"matplotlib.axis_2\">\r\n    <g id=\"ytick_1\">\r\n     <g id=\"line2d_10\">\r\n      <defs>\r\n       <path d=\"M 0 0 \r\nL -3.5 0 \r\n\" id=\"m5e3bf45422\" style=\"stroke:#000000;stroke-width:0.8;\"/>\r\n      </defs>\r\n      <g>\r\n       <use style=\"stroke:#000000;stroke-width:0.8;\" x=\"66.053125\" xlink:href=\"#m5e3bf45422\" y=\"210.057206\"/>\r\n      </g>\r\n     </g>\r\n     <g id=\"text_11\">\r\n      <!-- 0 -->\r\n      <g transform=\"translate(52.690625 213.856425)scale(0.1 -0.1)\">\r\n       <use xlink:href=\"#DejaVuSans-48\"/>\r\n      </g>\r\n     </g>\r\n    </g>\r\n    <g id=\"ytick_2\">\r\n     <g id=\"line2d_11\">\r\n      <g>\r\n       <use style=\"stroke:#000000;stroke-width:0.8;\" x=\"66.053125\" xlink:href=\"#m5e3bf45422\" y=\"170.012242\"/>\r\n      </g>\r\n     </g>\r\n     <g id=\"text_12\">\r\n      <!-- 50000 -->\r\n      <g transform=\"translate(27.240625 173.811461)scale(0.1 -0.1)\">\r\n       <use xlink:href=\"#DejaVuSans-53\"/>\r\n       <use x=\"63.623047\" xlink:href=\"#DejaVuSans-48\"/>\r\n       <use x=\"127.246094\" xlink:href=\"#DejaVuSans-48\"/>\r\n       <use x=\"190.869141\" xlink:href=\"#DejaVuSans-48\"/>\r\n       <use x=\"254.492188\" xlink:href=\"#DejaVuSans-48\"/>\r\n      </g>\r\n     </g>\r\n    </g>\r\n    <g id=\"ytick_3\">\r\n     <g id=\"line2d_12\">\r\n      <g>\r\n       <use style=\"stroke:#000000;stroke-width:0.8;\" x=\"66.053125\" xlink:href=\"#m5e3bf45422\" y=\"129.967278\"/>\r\n      </g>\r\n     </g>\r\n     <g id=\"text_13\">\r\n      <!-- 100000 -->\r\n      <g transform=\"translate(20.878125 133.766497)scale(0.1 -0.1)\">\r\n       <use xlink:href=\"#DejaVuSans-49\"/>\r\n       <use x=\"63.623047\" xlink:href=\"#DejaVuSans-48\"/>\r\n       <use x=\"127.246094\" xlink:href=\"#DejaVuSans-48\"/>\r\n       <use x=\"190.869141\" xlink:href=\"#DejaVuSans-48\"/>\r\n       <use x=\"254.492188\" xlink:href=\"#DejaVuSans-48\"/>\r\n       <use x=\"318.115234\" xlink:href=\"#DejaVuSans-48\"/>\r\n      </g>\r\n     </g>\r\n    </g>\r\n    <g id=\"ytick_4\">\r\n     <g id=\"line2d_13\">\r\n      <g>\r\n       <use style=\"stroke:#000000;stroke-width:0.8;\" x=\"66.053125\" xlink:href=\"#m5e3bf45422\" y=\"89.922314\"/>\r\n      </g>\r\n     </g>\r\n     <g id=\"text_14\">\r\n      <!-- 150000 -->\r\n      <g transform=\"translate(20.878125 93.721533)scale(0.1 -0.1)\">\r\n       <use xlink:href=\"#DejaVuSans-49\"/>\r\n       <use x=\"63.623047\" xlink:href=\"#DejaVuSans-53\"/>\r\n       <use x=\"127.246094\" xlink:href=\"#DejaVuSans-48\"/>\r\n       <use x=\"190.869141\" xlink:href=\"#DejaVuSans-48\"/>\r\n       <use x=\"254.492188\" xlink:href=\"#DejaVuSans-48\"/>\r\n       <use x=\"318.115234\" xlink:href=\"#DejaVuSans-48\"/>\r\n      </g>\r\n     </g>\r\n    </g>\r\n    <g id=\"ytick_5\">\r\n     <g id=\"line2d_14\">\r\n      <g>\r\n       <use style=\"stroke:#000000;stroke-width:0.8;\" x=\"66.053125\" xlink:href=\"#m5e3bf45422\" y=\"49.87735\"/>\r\n      </g>\r\n     </g>\r\n     <g id=\"text_15\">\r\n      <!-- 200000 -->\r\n      <g transform=\"translate(20.878125 53.676569)scale(0.1 -0.1)\">\r\n       <use xlink:href=\"#DejaVuSans-50\"/>\r\n       <use x=\"63.623047\" xlink:href=\"#DejaVuSans-48\"/>\r\n       <use x=\"127.246094\" xlink:href=\"#DejaVuSans-48\"/>\r\n       <use x=\"190.869141\" xlink:href=\"#DejaVuSans-48\"/>\r\n       <use x=\"254.492188\" xlink:href=\"#DejaVuSans-48\"/>\r\n       <use x=\"318.115234\" xlink:href=\"#DejaVuSans-48\"/>\r\n      </g>\r\n     </g>\r\n    </g>\r\n    <g id=\"text_16\">\r\n     <!-- Joules -->\r\n     <defs>\r\n      <path d=\"M 9.8125 72.90625 \r\nL 19.671875 72.90625 \r\nL 19.671875 5.078125 \r\nQ 19.671875 -8.109375 14.671875 -14.0625 \r\nQ 9.671875 -20.015625 -1.421875 -20.015625 \r\nL -5.171875 -20.015625 \r\nL -5.171875 -11.71875 \r\nL -2.09375 -11.71875 \r\nQ 4.4375 -11.71875 7.125 -8.046875 \r\nQ 9.8125 -4.390625 9.8125 5.078125 \r\nz\r\n\" id=\"DejaVuSans-74\"/>\r\n      <path d=\"M 30.609375 48.390625 \r\nQ 23.390625 48.390625 19.1875 42.75 \r\nQ 14.984375 37.109375 14.984375 27.296875 \r\nQ 14.984375 17.484375 19.15625 11.84375 \r\nQ 23.34375 6.203125 30.609375 6.203125 \r\nQ 37.796875 6.203125 41.984375 11.859375 \r\nQ 46.1875 17.53125 46.1875 27.296875 \r\nQ 46.1875 37.015625 41.984375 42.703125 \r\nQ 37.796875 48.390625 30.609375 48.390625 \r\nz\r\nM 30.609375 56 \r\nQ 42.328125 56 49.015625 48.375 \r\nQ 55.71875 40.765625 55.71875 27.296875 \r\nQ 55.71875 13.875 49.015625 6.21875 \r\nQ 42.328125 -1.421875 30.609375 -1.421875 \r\nQ 18.84375 -1.421875 12.171875 6.21875 \r\nQ 5.515625 13.875 5.515625 27.296875 \r\nQ 5.515625 40.765625 12.171875 48.375 \r\nQ 18.84375 56 30.609375 56 \r\nz\r\n\" id=\"DejaVuSans-111\"/>\r\n      <path d=\"M 8.5 21.578125 \r\nL 8.5 54.6875 \r\nL 17.484375 54.6875 \r\nL 17.484375 21.921875 \r\nQ 17.484375 14.15625 20.5 10.265625 \r\nQ 23.53125 6.390625 29.59375 6.390625 \r\nQ 36.859375 6.390625 41.078125 11.03125 \r\nQ 45.3125 15.671875 45.3125 23.6875 \r\nL 45.3125 54.6875 \r\nL 54.296875 54.6875 \r\nL 54.296875 0 \r\nL 45.3125 0 \r\nL 45.3125 8.40625 \r\nQ 42.046875 3.421875 37.71875 1 \r\nQ 33.40625 -1.421875 27.6875 -1.421875 \r\nQ 18.265625 -1.421875 13.375 4.4375 \r\nQ 8.5 10.296875 8.5 21.578125 \r\nz\r\nM 31.109375 56 \r\nz\r\n\" id=\"DejaVuSans-117\"/>\r\n      <path d=\"M 9.421875 75.984375 \r\nL 18.40625 75.984375 \r\nL 18.40625 0 \r\nL 9.421875 0 \r\nz\r\n\" id=\"DejaVuSans-108\"/>\r\n      <path d=\"M 44.28125 53.078125 \r\nL 44.28125 44.578125 \r\nQ 40.484375 46.53125 36.375 47.5 \r\nQ 32.28125 48.484375 27.875 48.484375 \r\nQ 21.1875 48.484375 17.84375 46.4375 \r\nQ 14.5 44.390625 14.5 40.28125 \r\nQ 14.5 37.15625 16.890625 35.375 \r\nQ 19.28125 33.59375 26.515625 31.984375 \r\nL 29.59375 31.296875 \r\nQ 39.15625 29.25 43.1875 25.515625 \r\nQ 47.21875 21.78125 47.21875 15.09375 \r\nQ 47.21875 7.46875 41.1875 3.015625 \r\nQ 35.15625 -1.421875 24.609375 -1.421875 \r\nQ 20.21875 -1.421875 15.453125 -0.5625 \r\nQ 10.6875 0.296875 5.421875 2 \r\nL 5.421875 11.28125 \r\nQ 10.40625 8.6875 15.234375 7.390625 \r\nQ 20.0625 6.109375 24.8125 6.109375 \r\nQ 31.15625 6.109375 34.5625 8.28125 \r\nQ 37.984375 10.453125 37.984375 14.40625 \r\nQ 37.984375 18.0625 35.515625 20.015625 \r\nQ 33.0625 21.96875 24.703125 23.78125 \r\nL 21.578125 24.515625 \r\nQ 13.234375 26.265625 9.515625 29.90625 \r\nQ 5.8125 33.546875 5.8125 39.890625 \r\nQ 5.8125 47.609375 11.28125 51.796875 \r\nQ 16.75 56 26.8125 56 \r\nQ 31.78125 56 36.171875 55.265625 \r\nQ 40.578125 54.546875 44.28125 53.078125 \r\nz\r\n\" id=\"DejaVuSans-115\"/>\r\n     </defs>\r\n     <g transform=\"translate(14.798438 135.011562)rotate(-90)scale(0.1 -0.1)\">\r\n      <use xlink:href=\"#DejaVuSans-74\"/>\r\n      <use x=\"29.492188\" xlink:href=\"#DejaVuSans-111\"/>\r\n      <use x=\"90.673828\" xlink:href=\"#DejaVuSans-117\"/>\r\n      <use x=\"154.052734\" xlink:href=\"#DejaVuSans-108\"/>\r\n      <use x=\"181.835938\" xlink:href=\"#DejaVuSans-101\"/>\r\n      <use x=\"243.359375\" xlink:href=\"#DejaVuSans-115\"/>\r\n     </g>\r\n    </g>\r\n   </g>\r\n   <g id=\"line2d_15\">\r\n    <path clip-path=\"url(#p0d9df4d1d6)\" d=\"M 81.271307 209.256307 \r\nL 86.002348 209.230108 \r\nL 86.790855 209.082094 \r\nL 87.579361 208.543619 \r\nL 88.367868 207.595654 \r\nL 89.156375 206.32308 \r\nL 91.521896 202.00027 \r\nL 92.310402 201.149 \r\nL 93.098909 199.738015 \r\nL 93.887416 198.616959 \r\nL 94.675923 197.888551 \r\nL 95.46443 197.584945 \r\nL 97.82995 197.546069 \r\nL 104.926512 197.52716 \r\nL 105.715019 197.372528 \r\nL 106.503525 196.834582 \r\nL 107.292032 195.884838 \r\nL 108.080539 194.604148 \r\nL 110.44606 189.885629 \r\nL 112.023073 187.026425 \r\nL 112.81158 185.958452 \r\nL 113.600087 185.262329 \r\nL 114.388594 184.968482 \r\nL 116.754114 184.931075 \r\nL 128.581717 184.931075 \r\nL 129.370223 184.353517 \r\nL 130.947237 182.653265 \r\nL 132.524251 181.140369 \r\nL 133.312758 180.840262 \r\nL 136.466785 180.804173 \r\nL 142.77484 180.779405 \r\nL 143.563346 180.635188 \r\nL 144.351853 180.077497 \r\nL 145.14036 179.097647 \r\nL 146.717374 176.268811 \r\nL 149.082894 171.819096 \r\nL 149.871401 170.452956 \r\nL 150.659908 169.311786 \r\nL 151.448415 168.554227 \r\nL 152.236922 168.240836 \r\nL 155.390949 168.209588 \r\nL 161.699003 168.182874 \r\nL 162.48751 168.037237 \r\nL 163.276017 167.489546 \r\nL 164.064524 166.523731 \r\nL 165.641538 163.711435 \r\nL 168.007058 159.467131 \r\nL 168.795565 158.174626 \r\nL 169.584072 157.11626 \r\nL 170.372579 156.408022 \r\nL 171.949592 156.224219 \r\nL 180.623167 156.197089 \r\nL 181.411674 156.049227 \r\nL 182.200181 155.509407 \r\nL 182.988688 154.554734 \r\nL 184.565702 151.839841 \r\nL 186.931222 147.899779 \r\nL 187.719729 146.946755 \r\nL 188.508236 145.817447 \r\nL 189.296743 145.080744 \r\nL 190.085249 144.927779 \r\nL 193.239277 144.897353 \r\nL 199.547331 144.867881 \r\nL 200.335838 144.71379 \r\nL 201.124345 144.174729 \r\nL 201.912852 143.219757 \r\nL 203.489865 140.477311 \r\nL 205.066879 137.784584 \r\nL 205.855386 136.999687 \r\nL 206.643893 136.390232 \r\nL 208.220906 134.918482 \r\nL 209.009413 134.708282 \r\nL 212.163441 134.673391 \r\nL 218.471495 134.636874 \r\nL 219.260002 134.467172 \r\nL 220.048509 133.918684 \r\nL 220.837016 132.965154 \r\nL 222.414029 130.263976 \r\nL 225.568057 124.979824 \r\nL 226.356564 123.871231 \r\nL 227.14507 123.131959 \r\nL 227.933577 122.818377 \r\nL 230.299098 122.778778 \r\nL 237.395659 122.743232 \r\nL 238.184166 122.566923 \r\nL 238.972673 122.044102 \r\nL 239.76118 121.110512 \r\nL 241.338193 118.390924 \r\nL 244.492221 112.965694 \r\nL 245.280727 111.836783 \r\nL 246.069234 111.116087 \r\nL 246.857741 110.80788 \r\nL 249.223262 110.765668 \r\nL 256.319823 110.732404 \r\nL 257.10833 110.565141 \r\nL 257.896837 110.011013 \r\nL 258.685344 109.043379 \r\nL 260.262357 106.318112 \r\nL 263.416385 100.766261 \r\nL 264.204891 99.662515 \r\nL 264.993398 98.972916 \r\nL 265.781905 98.711018 \r\nL 269.724439 98.684646 \r\nL 275.243987 98.657304 \r\nL 276.032494 98.498935 \r\nL 276.821001 97.957565 \r\nL 277.609507 97.047164 \r\nL 278.398014 95.761672 \r\nL 281.552042 89.937475 \r\nL 282.340548 88.620476 \r\nL 283.129055 87.558815 \r\nL 283.917562 86.889085 \r\nL 284.706069 86.67879 \r\nL 287.071589 86.624301 \r\nL 294.168151 86.599454 \r\nL 295.745165 86.221144 \r\nL 296.533671 85.807134 \r\nL 297.322178 85.173657 \r\nL 298.899192 82.32016 \r\nL 301.264712 78.158255 \r\nL 302.053219 77.072688 \r\nL 302.841726 76.367583 \r\nL 303.630233 76.08772 \r\nL 306.78426 76.058692 \r\nL 313.092315 76.046269 \r\nL 313.880822 75.864943 \r\nL 314.669328 75.50255 \r\nL 315.457835 74.771117 \r\nL 317.823356 71.272544 \r\nL 319.400369 69.275541 \r\nL 320.977383 66.968151 \r\nL 321.76589 66.155266 \r\nL 322.554397 65.882011 \r\nL 326.496931 65.855947 \r\nL 332.016479 65.834235 \r\nL 332.804986 65.68302 \r\nL 333.593492 65.162783 \r\nL 334.381999 64.239495 \r\nL 335.170506 63.000211 \r\nL 339.11304 55.848049 \r\nL 339.901547 54.78977 \r\nL 340.690054 54.233955 \r\nL 341.478561 53.954458 \r\nL 344.632588 53.919132 \r\nL 352.517656 53.919132 \r\nL 353.306163 53.470754 \r\nL 354.09467 52.272273 \r\nL 358.037204 44.939542 \r\nL 358.825711 43.85385 \r\nL 359.614218 43.16399 \r\nL 360.402725 42.898766 \r\nL 364.345259 42.873787 \r\nL 369.864807 42.847983 \r\nL 370.653313 42.696623 \r\nL 371.44182 42.160211 \r\nL 372.230327 41.206658 \r\nL 377.749875 32.260041 \r\nL 378.538382 31.531418 \r\nL 379.326889 31.244449 \r\nL 383.269423 31.219943 \r\nL 385.634943 31.219943 \r\nL 385.634943 31.219943 \r\n\" style=\"fill:none;stroke:#1f77b4;stroke-linecap:square;stroke-width:1.5;\"/>\r\n   </g>\r\n   <g id=\"patch_3\">\r\n    <path d=\"M 66.053125 218.158125 \r\nL 66.053125 22.318125 \r\n\" style=\"fill:none;stroke:#000000;stroke-linecap:square;stroke-linejoin:miter;stroke-width:0.8;\"/>\r\n   </g>\r\n   <g id=\"patch_4\">\r\n    <path d=\"M 400.853125 218.158125 \r\nL 400.853125 22.318125 \r\n\" style=\"fill:none;stroke:#000000;stroke-linecap:square;stroke-linejoin:miter;stroke-width:0.8;\"/>\r\n   </g>\r\n   <g id=\"patch_5\">\r\n    <path d=\"M 66.053125 218.158125 \r\nL 400.853125 218.158125 \r\n\" style=\"fill:none;stroke:#000000;stroke-linecap:square;stroke-linejoin:miter;stroke-width:0.8;\"/>\r\n   </g>\r\n   <g id=\"patch_6\">\r\n    <path d=\"M 66.053125 22.318125 \r\nL 400.853125 22.318125 \r\n\" style=\"fill:none;stroke:#000000;stroke-linecap:square;stroke-linejoin:miter;stroke-width:0.8;\"/>\r\n   </g>\r\n   <g id=\"text_17\">\r\n    <!-- R23 -->\r\n    <defs>\r\n     <path d=\"M 44.390625 34.1875 \r\nQ 47.5625 33.109375 50.5625 29.59375 \r\nQ 53.5625 26.078125 56.59375 19.921875 \r\nL 66.609375 0 \r\nL 56 0 \r\nL 46.6875 18.703125 \r\nQ 43.0625 26.03125 39.671875 28.421875 \r\nQ 36.28125 30.8125 30.421875 30.8125 \r\nL 19.671875 30.8125 \r\nL 19.671875 0 \r\nL 9.8125 0 \r\nL 9.8125 72.90625 \r\nL 32.078125 72.90625 \r\nQ 44.578125 72.90625 50.734375 67.671875 \r\nQ 56.890625 62.453125 56.890625 51.90625 \r\nQ 56.890625 45.015625 53.6875 40.46875 \r\nQ 50.484375 35.9375 44.390625 34.1875 \r\nz\r\nM 19.671875 64.796875 \r\nL 19.671875 38.921875 \r\nL 32.078125 38.921875 \r\nQ 39.203125 38.921875 42.84375 42.21875 \r\nQ 46.484375 45.515625 46.484375 51.90625 \r\nQ 46.484375 58.296875 42.84375 61.546875 \r\nQ 39.203125 64.796875 32.078125 64.796875 \r\nz\r\n\" id=\"DejaVuSans-82\"/>\r\n    </defs>\r\n    <g transform=\"translate(221.649063 16.318125)scale(0.12 -0.12)\">\r\n     <use xlink:href=\"#DejaVuSans-82\"/>\r\n     <use x=\"69.482422\" xlink:href=\"#DejaVuSans-50\"/>\r\n     <use x=\"133.105469\" xlink:href=\"#DejaVuSans-51\"/>\r\n    </g>\r\n   </g>\r\n   <g id=\"legend_1\">\r\n    <g id=\"patch_7\">\r\n     <path d=\"M 73.053125 44.99625 \r\nL 140.065625 44.99625 \r\nQ 142.065625 44.99625 142.065625 42.99625 \r\nL 142.065625 29.318125 \r\nQ 142.065625 27.318125 140.065625 27.318125 \r\nL 73.053125 27.318125 \r\nQ 71.053125 27.318125 71.053125 29.318125 \r\nL 71.053125 42.99625 \r\nQ 71.053125 44.99625 73.053125 44.99625 \r\nz\r\n\" style=\"fill:#ffffff;opacity:0.8;stroke:#cccccc;stroke-linejoin:miter;\"/>\r\n    </g>\r\n    <g id=\"line2d_16\">\r\n     <path d=\"M 75.053125 35.416562 \r\nL 95.053125 35.416562 \r\n\" style=\"fill:none;stroke:#1f77b4;stroke-linecap:square;stroke-width:1.5;\"/>\r\n    </g>\r\n    <g id=\"line2d_17\"/>\r\n    <g id=\"text_18\">\r\n     <!-- Energy -->\r\n     <defs>\r\n      <path d=\"M 9.8125 72.90625 \r\nL 55.90625 72.90625 \r\nL 55.90625 64.59375 \r\nL 19.671875 64.59375 \r\nL 19.671875 43.015625 \r\nL 54.390625 43.015625 \r\nL 54.390625 34.71875 \r\nL 19.671875 34.71875 \r\nL 19.671875 8.296875 \r\nL 56.78125 8.296875 \r\nL 56.78125 0 \r\nL 9.8125 0 \r\nz\r\n\" id=\"DejaVuSans-69\"/>\r\n      <path d=\"M 54.890625 33.015625 \r\nL 54.890625 0 \r\nL 45.90625 0 \r\nL 45.90625 32.71875 \r\nQ 45.90625 40.484375 42.875 44.328125 \r\nQ 39.84375 48.1875 33.796875 48.1875 \r\nQ 26.515625 48.1875 22.3125 43.546875 \r\nQ 18.109375 38.921875 18.109375 30.90625 \r\nL 18.109375 0 \r\nL 9.078125 0 \r\nL 9.078125 54.6875 \r\nL 18.109375 54.6875 \r\nL 18.109375 46.1875 \r\nQ 21.34375 51.125 25.703125 53.5625 \r\nQ 30.078125 56 35.796875 56 \r\nQ 45.21875 56 50.046875 50.171875 \r\nQ 54.890625 44.34375 54.890625 33.015625 \r\nz\r\n\" id=\"DejaVuSans-110\"/>\r\n      <path d=\"M 41.109375 46.296875 \r\nQ 39.59375 47.171875 37.8125 47.578125 \r\nQ 36.03125 48 33.890625 48 \r\nQ 26.265625 48 22.1875 43.046875 \r\nQ 18.109375 38.09375 18.109375 28.8125 \r\nL 18.109375 0 \r\nL 9.078125 0 \r\nL 9.078125 54.6875 \r\nL 18.109375 54.6875 \r\nL 18.109375 46.1875 \r\nQ 20.953125 51.171875 25.484375 53.578125 \r\nQ 30.03125 56 36.53125 56 \r\nQ 37.453125 56 38.578125 55.875 \r\nQ 39.703125 55.765625 41.0625 55.515625 \r\nz\r\n\" id=\"DejaVuSans-114\"/>\r\n      <path d=\"M 45.40625 27.984375 \r\nQ 45.40625 37.75 41.375 43.109375 \r\nQ 37.359375 48.484375 30.078125 48.484375 \r\nQ 22.859375 48.484375 18.828125 43.109375 \r\nQ 14.796875 37.75 14.796875 27.984375 \r\nQ 14.796875 18.265625 18.828125 12.890625 \r\nQ 22.859375 7.515625 30.078125 7.515625 \r\nQ 37.359375 7.515625 41.375 12.890625 \r\nQ 45.40625 18.265625 45.40625 27.984375 \r\nz\r\nM 54.390625 6.78125 \r\nQ 54.390625 -7.171875 48.1875 -13.984375 \r\nQ 42 -20.796875 29.203125 -20.796875 \r\nQ 24.46875 -20.796875 20.265625 -20.09375 \r\nQ 16.0625 -19.390625 12.109375 -17.921875 \r\nL 12.109375 -9.1875 \r\nQ 16.0625 -11.328125 19.921875 -12.34375 \r\nQ 23.78125 -13.375 27.78125 -13.375 \r\nQ 36.625 -13.375 41.015625 -8.765625 \r\nQ 45.40625 -4.15625 45.40625 5.171875 \r\nL 45.40625 9.625 \r\nQ 42.625 4.78125 38.28125 2.390625 \r\nQ 33.9375 0 27.875 0 \r\nQ 17.828125 0 11.671875 7.65625 \r\nQ 5.515625 15.328125 5.515625 27.984375 \r\nQ 5.515625 40.671875 11.671875 48.328125 \r\nQ 17.828125 56 27.875 56 \r\nQ 33.9375 56 38.28125 53.609375 \r\nQ 42.625 51.21875 45.40625 46.390625 \r\nL 45.40625 54.6875 \r\nL 54.390625 54.6875 \r\nz\r\n\" id=\"DejaVuSans-103\"/>\r\n      <path d=\"M 32.171875 -5.078125 \r\nQ 28.375 -14.84375 24.75 -17.8125 \r\nQ 21.140625 -20.796875 15.09375 -20.796875 \r\nL 7.90625 -20.796875 \r\nL 7.90625 -13.28125 \r\nL 13.1875 -13.28125 \r\nQ 16.890625 -13.28125 18.9375 -11.515625 \r\nQ 21 -9.765625 23.484375 -3.21875 \r\nL 25.09375 0.875 \r\nL 2.984375 54.6875 \r\nL 12.5 54.6875 \r\nL 29.59375 11.921875 \r\nL 46.6875 54.6875 \r\nL 56.203125 54.6875 \r\nz\r\n\" id=\"DejaVuSans-121\"/>\r\n     </defs>\r\n     <g transform=\"translate(103.053125 38.916562)scale(0.1 -0.1)\">\r\n      <use xlink:href=\"#DejaVuSans-69\"/>\r\n      <use x=\"63.183594\" xlink:href=\"#DejaVuSans-110\"/>\r\n      <use x=\"126.5625\" xlink:href=\"#DejaVuSans-101\"/>\r\n      <use x=\"188.085938\" xlink:href=\"#DejaVuSans-114\"/>\r\n      <use x=\"227.449219\" xlink:href=\"#DejaVuSans-103\"/>\r\n      <use x=\"290.925781\" xlink:href=\"#DejaVuSans-121\"/>\r\n     </g>\r\n    </g>\r\n   </g>\r\n  </g>\r\n </g>\r\n <defs>\r\n  <clipPath id=\"p0d9df4d1d6\">\r\n   <rect height=\"195.84\" width=\"334.8\" x=\"66.053125\" y=\"22.318125\"/>\r\n  </clipPath>\r\n </defs>\r\n</svg>\r\n",
      "image/png": "[encoded data removed]"
     },
     "metadata": {
      "needs_background": "light"
     }
    },
    {
     "output_type": "display_data",
     "data": {
      "text/plain": "<Figure size 432x288 with 1 Axes>",
      "image/svg+xml": "<?xml version=\"1.0\" encoding=\"utf-8\" standalone=\"no\"?>\r\n<!DOCTYPE svg PUBLIC \"-//W3C//DTD SVG 1.1//EN\"\r\n  \"http://www.w3.org/Graphics/SVG/1.1/DTD/svg11.dtd\">\r\n<!-- Created with matplotlib (https://matplotlib.org/) -->\r\n<svg height=\"283.475565pt\" version=\"1.1\" viewBox=\"0 0 400.380055 283.475565\" width=\"400.380055pt\" xmlns=\"http://www.w3.org/2000/svg\" xmlns:xlink=\"http://www.w3.org/1999/xlink\">\r\n <defs>\r\n  <style type=\"text/css\">\r\n*{stroke-linecap:butt;stroke-linejoin:round;}\r\n  </style>\r\n </defs>\r\n <g id=\"figure_1\">\r\n  <g id=\"patch_1\">\r\n   <path d=\"M 0 283.475565 \r\nL 400.380055 283.475565 \r\nL 400.380055 0 \r\nL 0 0 \r\nz\r\n\" style=\"fill:none;\"/>\r\n  </g>\r\n  <g id=\"axes_1\">\r\n   <g id=\"patch_2\">\r\n    <path d=\"M 58.380055 218.158125 \r\nL 393.180055 218.158125 \r\nL 393.180055 22.318125 \r\nL 58.380055 22.318125 \r\nz\r\n\" style=\"fill:#ffffff;\"/>\r\n   </g>\r\n   <g id=\"matplotlib.axis_1\">\r\n    <g id=\"xtick_1\">\r\n     <g id=\"line2d_1\">\r\n      <defs>\r\n       <path d=\"M 0 0 \r\nL 0 3.5 \r\n\" id=\"mde51e60ba7\" style=\"stroke:#000000;stroke-width:0.8;\"/>\r\n      </defs>\r\n      <g>\r\n       <use style=\"stroke:#000000;stroke-width:0.8;\" x=\"62.36867\" xlink:href=\"#mde51e60ba7\" y=\"218.158125\"/>\r\n      </g>\r\n     </g>\r\n     <g id=\"text_1\">\r\n      <!-- 2018-09-13 -->\r\n      <defs>\r\n       <path d=\"M 19.1875 8.296875 \r\nL 53.609375 8.296875 \r\nL 53.609375 0 \r\nL 7.328125 0 \r\nL 7.328125 8.296875 \r\nQ 12.9375 14.109375 22.625 23.890625 \r\nQ 32.328125 33.6875 34.8125 36.53125 \r\nQ 39.546875 41.84375 41.421875 45.53125 \r\nQ 43.3125 49.21875 43.3125 52.78125 \r\nQ 43.3125 58.59375 39.234375 62.25 \r\nQ 35.15625 65.921875 28.609375 65.921875 \r\nQ 23.96875 65.921875 18.8125 64.3125 \r\nQ 13.671875 62.703125 7.8125 59.421875 \r\nL 7.8125 69.390625 \r\nQ 13.765625 71.78125 18.9375 73 \r\nQ 24.125 74.21875 28.421875 74.21875 \r\nQ 39.75 74.21875 46.484375 68.546875 \r\nQ 53.21875 62.890625 53.21875 53.421875 \r\nQ 53.21875 48.921875 51.53125 44.890625 \r\nQ 49.859375 40.875 45.40625 35.40625 \r\nQ 44.1875 33.984375 37.640625 27.21875 \r\nQ 31.109375 20.453125 19.1875 8.296875 \r\nz\r\n\" id=\"DejaVuSans-50\"/>\r\n       <path d=\"M 31.78125 66.40625 \r\nQ 24.171875 66.40625 20.328125 58.90625 \r\nQ 16.5 51.421875 16.5 36.375 \r\nQ 16.5 21.390625 20.328125 13.890625 \r\nQ 24.171875 6.390625 31.78125 6.390625 \r\nQ 39.453125 6.390625 43.28125 13.890625 \r\nQ 47.125 21.390625 47.125 36.375 \r\nQ 47.125 51.421875 43.28125 58.90625 \r\nQ 39.453125 66.40625 31.78125 66.40625 \r\nz\r\nM 31.78125 74.21875 \r\nQ 44.046875 74.21875 50.515625 64.515625 \r\nQ 56.984375 54.828125 56.984375 36.375 \r\nQ 56.984375 17.96875 50.515625 8.265625 \r\nQ 44.046875 -1.421875 31.78125 -1.421875 \r\nQ 19.53125 -1.421875 13.0625 8.265625 \r\nQ 6.59375 17.96875 6.59375 36.375 \r\nQ 6.59375 54.828125 13.0625 64.515625 \r\nQ 19.53125 74.21875 31.78125 74.21875 \r\nz\r\n\" id=\"DejaVuSans-48\"/>\r\n       <path d=\"M 12.40625 8.296875 \r\nL 28.515625 8.296875 \r\nL 28.515625 63.921875 \r\nL 10.984375 60.40625 \r\nL 10.984375 69.390625 \r\nL 28.421875 72.90625 \r\nL 38.28125 72.90625 \r\nL 38.28125 8.296875 \r\nL 54.390625 8.296875 \r\nL 54.390625 0 \r\nL 12.40625 0 \r\nz\r\n\" id=\"DejaVuSans-49\"/>\r\n       <path d=\"M 31.78125 34.625 \r\nQ 24.75 34.625 20.71875 30.859375 \r\nQ 16.703125 27.09375 16.703125 20.515625 \r\nQ 16.703125 13.921875 20.71875 10.15625 \r\nQ 24.75 6.390625 31.78125 6.390625 \r\nQ 38.8125 6.390625 42.859375 10.171875 \r\nQ 46.921875 13.96875 46.921875 20.515625 \r\nQ 46.921875 27.09375 42.890625 30.859375 \r\nQ 38.875 34.625 31.78125 34.625 \r\nz\r\nM 21.921875 38.8125 \r\nQ 15.578125 40.375 12.03125 44.71875 \r\nQ 8.5 49.078125 8.5 55.328125 \r\nQ 8.5 64.0625 14.71875 69.140625 \r\nQ 20.953125 74.21875 31.78125 74.21875 \r\nQ 42.671875 74.21875 48.875 69.140625 \r\nQ 55.078125 64.0625 55.078125 55.328125 \r\nQ 55.078125 49.078125 51.53125 44.71875 \r\nQ 48 40.375 41.703125 38.8125 \r\nQ 48.828125 37.15625 52.796875 32.3125 \r\nQ 56.78125 27.484375 56.78125 20.515625 \r\nQ 56.78125 9.90625 50.3125 4.234375 \r\nQ 43.84375 -1.421875 31.78125 -1.421875 \r\nQ 19.734375 -1.421875 13.25 4.234375 \r\nQ 6.78125 9.90625 6.78125 20.515625 \r\nQ 6.78125 27.484375 10.78125 32.3125 \r\nQ 14.796875 37.15625 21.921875 38.8125 \r\nz\r\nM 18.3125 54.390625 \r\nQ 18.3125 48.734375 21.84375 45.5625 \r\nQ 25.390625 42.390625 31.78125 42.390625 \r\nQ 38.140625 42.390625 41.71875 45.5625 \r\nQ 45.3125 48.734375 45.3125 54.390625 \r\nQ 45.3125 60.0625 41.71875 63.234375 \r\nQ 38.140625 66.40625 31.78125 66.40625 \r\nQ 25.390625 66.40625 21.84375 63.234375 \r\nQ 18.3125 60.0625 18.3125 54.390625 \r\nz\r\n\" id=\"DejaVuSans-56\"/>\r\n       <path d=\"M 4.890625 31.390625 \r\nL 31.203125 31.390625 \r\nL 31.203125 23.390625 \r\nL 4.890625 23.390625 \r\nz\r\n\" id=\"DejaVuSans-45\"/>\r\n       <path d=\"M 10.984375 1.515625 \r\nL 10.984375 10.5 \r\nQ 14.703125 8.734375 18.5 7.8125 \r\nQ 22.3125 6.890625 25.984375 6.890625 \r\nQ 35.75 6.890625 40.890625 13.453125 \r\nQ 46.046875 20.015625 46.78125 33.40625 \r\nQ 43.953125 29.203125 39.59375 26.953125 \r\nQ 35.25 24.703125 29.984375 24.703125 \r\nQ 19.046875 24.703125 12.671875 31.3125 \r\nQ 6.296875 37.9375 6.296875 49.421875 \r\nQ 6.296875 60.640625 12.9375 67.421875 \r\nQ 19.578125 74.21875 30.609375 74.21875 \r\nQ 43.265625 74.21875 49.921875 64.515625 \r\nQ 56.59375 54.828125 56.59375 36.375 \r\nQ 56.59375 19.140625 48.40625 8.859375 \r\nQ 40.234375 -1.421875 26.421875 -1.421875 \r\nQ 22.703125 -1.421875 18.890625 -0.6875 \r\nQ 15.09375 0.046875 10.984375 1.515625 \r\nz\r\nM 30.609375 32.421875 \r\nQ 37.25 32.421875 41.125 36.953125 \r\nQ 45.015625 41.5 45.015625 49.421875 \r\nQ 45.015625 57.28125 41.125 61.84375 \r\nQ 37.25 66.40625 30.609375 66.40625 \r\nQ 23.96875 66.40625 20.09375 61.84375 \r\nQ 16.21875 57.28125 16.21875 49.421875 \r\nQ 16.21875 41.5 20.09375 36.953125 \r\nQ 23.96875 32.421875 30.609375 32.421875 \r\nz\r\n\" id=\"DejaVuSans-57\"/>\r\n       <path d=\"M 40.578125 39.3125 \r\nQ 47.65625 37.796875 51.625 33 \r\nQ 55.609375 28.21875 55.609375 21.1875 \r\nQ 55.609375 10.40625 48.1875 4.484375 \r\nQ 40.765625 -1.421875 27.09375 -1.421875 \r\nQ 22.515625 -1.421875 17.65625 -0.515625 \r\nQ 12.796875 0.390625 7.625 2.203125 \r\nL 7.625 11.71875 \r\nQ 11.71875 9.328125 16.59375 8.109375 \r\nQ 21.484375 6.890625 26.8125 6.890625 \r\nQ 36.078125 6.890625 40.9375 10.546875 \r\nQ 45.796875 14.203125 45.796875 21.1875 \r\nQ 45.796875 27.640625 41.28125 31.265625 \r\nQ 36.765625 34.90625 28.71875 34.90625 \r\nL 20.21875 34.90625 \r\nL 20.21875 43.015625 \r\nL 29.109375 43.015625 \r\nQ 36.375 43.015625 40.234375 45.921875 \r\nQ 44.09375 48.828125 44.09375 54.296875 \r\nQ 44.09375 59.90625 40.109375 62.90625 \r\nQ 36.140625 65.921875 28.71875 65.921875 \r\nQ 24.65625 65.921875 20.015625 65.03125 \r\nQ 15.375 64.15625 9.8125 62.3125 \r\nL 9.8125 71.09375 \r\nQ 15.4375 72.65625 20.34375 73.4375 \r\nQ 25.25 74.21875 29.59375 74.21875 \r\nQ 40.828125 74.21875 47.359375 69.109375 \r\nQ 53.90625 64.015625 53.90625 55.328125 \r\nQ 53.90625 49.265625 50.4375 45.09375 \r\nQ 46.96875 40.921875 40.578125 39.3125 \r\nz\r\n\" id=\"DejaVuSans-51\"/>\r\n      </defs>\r\n      <g transform=\"translate(10.999219 260.796377)rotate(-30)scale(0.1 -0.1)\">\r\n       <use xlink:href=\"#DejaVuSans-50\"/>\r\n       <use x=\"63.623047\" xlink:href=\"#DejaVuSans-48\"/>\r\n       <use x=\"127.246094\" xlink:href=\"#DejaVuSans-49\"/>\r\n       <use x=\"190.869141\" xlink:href=\"#DejaVuSans-56\"/>\r\n       <use x=\"254.492188\" xlink:href=\"#DejaVuSans-45\"/>\r\n       <use x=\"290.576172\" xlink:href=\"#DejaVuSans-48\"/>\r\n       <use x=\"354.199219\" xlink:href=\"#DejaVuSans-57\"/>\r\n       <use x=\"417.822266\" xlink:href=\"#DejaVuSans-45\"/>\r\n       <use x=\"453.90625\" xlink:href=\"#DejaVuSans-49\"/>\r\n       <use x=\"517.529297\" xlink:href=\"#DejaVuSans-51\"/>\r\n      </g>\r\n     </g>\r\n    </g>\r\n    <g id=\"xtick_2\">\r\n     <g id=\"line2d_2\">\r\n      <g>\r\n       <use style=\"stroke:#000000;stroke-width:0.8;\" x=\"103.049365\" xlink:href=\"#mde51e60ba7\" y=\"218.158125\"/>\r\n      </g>\r\n     </g>\r\n     <g id=\"text_2\">\r\n      <!-- 2018-09-17 -->\r\n      <defs>\r\n       <path d=\"M 8.203125 72.90625 \r\nL 55.078125 72.90625 \r\nL 55.078125 68.703125 \r\nL 28.609375 0 \r\nL 18.3125 0 \r\nL 43.21875 64.59375 \r\nL 8.203125 64.59375 \r\nz\r\n\" id=\"DejaVuSans-55\"/>\r\n      </defs>\r\n      <g transform=\"translate(51.679914 260.796377)rotate(-30)scale(0.1 -0.1)\">\r\n       <use xlink:href=\"#DejaVuSans-50\"/>\r\n       <use x=\"63.623047\" xlink:href=\"#DejaVuSans-48\"/>\r\n       <use x=\"127.246094\" xlink:href=\"#DejaVuSans-49\"/>\r\n       <use x=\"190.869141\" xlink:href=\"#DejaVuSans-56\"/>\r\n       <use x=\"254.492188\" xlink:href=\"#DejaVuSans-45\"/>\r\n       <use x=\"290.576172\" xlink:href=\"#DejaVuSans-48\"/>\r\n       <use x=\"354.199219\" xlink:href=\"#DejaVuSans-57\"/>\r\n       <use x=\"417.822266\" xlink:href=\"#DejaVuSans-45\"/>\r\n       <use x=\"453.90625\" xlink:href=\"#DejaVuSans-49\"/>\r\n       <use x=\"517.529297\" xlink:href=\"#DejaVuSans-55\"/>\r\n      </g>\r\n     </g>\r\n    </g>\r\n    <g id=\"xtick_3\">\r\n     <g id=\"line2d_3\">\r\n      <g>\r\n       <use style=\"stroke:#000000;stroke-width:0.8;\" x=\"143.73006\" xlink:href=\"#mde51e60ba7\" y=\"218.158125\"/>\r\n      </g>\r\n     </g>\r\n     <g id=\"text_3\">\r\n      <!-- 2018-09-21 -->\r\n      <g transform=\"translate(92.360608 260.796377)rotate(-30)scale(0.1 -0.1)\">\r\n       <use xlink:href=\"#DejaVuSans-50\"/>\r\n       <use x=\"63.623047\" xlink:href=\"#DejaVuSans-48\"/>\r\n       <use x=\"127.246094\" xlink:href=\"#DejaVuSans-49\"/>\r\n       <use x=\"190.869141\" xlink:href=\"#DejaVuSans-56\"/>\r\n       <use x=\"254.492188\" xlink:href=\"#DejaVuSans-45\"/>\r\n       <use x=\"290.576172\" xlink:href=\"#DejaVuSans-48\"/>\r\n       <use x=\"354.199219\" xlink:href=\"#DejaVuSans-57\"/>\r\n       <use x=\"417.822266\" xlink:href=\"#DejaVuSans-45\"/>\r\n       <use x=\"453.90625\" xlink:href=\"#DejaVuSans-50\"/>\r\n       <use x=\"517.529297\" xlink:href=\"#DejaVuSans-49\"/>\r\n      </g>\r\n     </g>\r\n    </g>\r\n    <g id=\"xtick_4\">\r\n     <g id=\"line2d_4\">\r\n      <g>\r\n       <use style=\"stroke:#000000;stroke-width:0.8;\" x=\"184.410755\" xlink:href=\"#mde51e60ba7\" y=\"218.158125\"/>\r\n      </g>\r\n     </g>\r\n     <g id=\"text_4\">\r\n      <!-- 2018-09-25 -->\r\n      <defs>\r\n       <path d=\"M 10.796875 72.90625 \r\nL 49.515625 72.90625 \r\nL 49.515625 64.59375 \r\nL 19.828125 64.59375 \r\nL 19.828125 46.734375 \r\nQ 21.96875 47.46875 24.109375 47.828125 \r\nQ 26.265625 48.1875 28.421875 48.1875 \r\nQ 40.625 48.1875 47.75 41.5 \r\nQ 54.890625 34.8125 54.890625 23.390625 \r\nQ 54.890625 11.625 47.5625 5.09375 \r\nQ 40.234375 -1.421875 26.90625 -1.421875 \r\nQ 22.3125 -1.421875 17.546875 -0.640625 \r\nQ 12.796875 0.140625 7.71875 1.703125 \r\nL 7.71875 11.625 \r\nQ 12.109375 9.234375 16.796875 8.0625 \r\nQ 21.484375 6.890625 26.703125 6.890625 \r\nQ 35.15625 6.890625 40.078125 11.328125 \r\nQ 45.015625 15.765625 45.015625 23.390625 \r\nQ 45.015625 31 40.078125 35.4375 \r\nQ 35.15625 39.890625 26.703125 39.890625 \r\nQ 22.75 39.890625 18.8125 39.015625 \r\nQ 14.890625 38.140625 10.796875 36.28125 \r\nz\r\n\" id=\"DejaVuSans-53\"/>\r\n      </defs>\r\n      <g transform=\"translate(133.041303 260.796377)rotate(-30)scale(0.1 -0.1)\">\r\n       <use xlink:href=\"#DejaVuSans-50\"/>\r\n       <use x=\"63.623047\" xlink:href=\"#DejaVuSans-48\"/>\r\n       <use x=\"127.246094\" xlink:href=\"#DejaVuSans-49\"/>\r\n       <use x=\"190.869141\" xlink:href=\"#DejaVuSans-56\"/>\r\n       <use x=\"254.492188\" xlink:href=\"#DejaVuSans-45\"/>\r\n       <use x=\"290.576172\" xlink:href=\"#DejaVuSans-48\"/>\r\n       <use x=\"354.199219\" xlink:href=\"#DejaVuSans-57\"/>\r\n       <use x=\"417.822266\" xlink:href=\"#DejaVuSans-45\"/>\r\n       <use x=\"453.90625\" xlink:href=\"#DejaVuSans-50\"/>\r\n       <use x=\"517.529297\" xlink:href=\"#DejaVuSans-53\"/>\r\n      </g>\r\n     </g>\r\n    </g>\r\n    <g id=\"xtick_5\">\r\n     <g id=\"line2d_5\">\r\n      <g>\r\n       <use style=\"stroke:#000000;stroke-width:0.8;\" x=\"225.09145\" xlink:href=\"#mde51e60ba7\" y=\"218.158125\"/>\r\n      </g>\r\n     </g>\r\n     <g id=\"text_5\">\r\n      <!-- 2018-09-29 -->\r\n      <g transform=\"translate(173.721998 260.796377)rotate(-30)scale(0.1 -0.1)\">\r\n       <use xlink:href=\"#DejaVuSans-50\"/>\r\n       <use x=\"63.623047\" xlink:href=\"#DejaVuSans-48\"/>\r\n       <use x=\"127.246094\" xlink:href=\"#DejaVuSans-49\"/>\r\n       <use x=\"190.869141\" xlink:href=\"#DejaVuSans-56\"/>\r\n       <use x=\"254.492188\" xlink:href=\"#DejaVuSans-45\"/>\r\n       <use x=\"290.576172\" xlink:href=\"#DejaVuSans-48\"/>\r\n       <use x=\"354.199219\" xlink:href=\"#DejaVuSans-57\"/>\r\n       <use x=\"417.822266\" xlink:href=\"#DejaVuSans-45\"/>\r\n       <use x=\"453.90625\" xlink:href=\"#DejaVuSans-50\"/>\r\n       <use x=\"517.529297\" xlink:href=\"#DejaVuSans-57\"/>\r\n      </g>\r\n     </g>\r\n    </g>\r\n    <g id=\"xtick_6\">\r\n     <g id=\"line2d_6\">\r\n      <g>\r\n       <use style=\"stroke:#000000;stroke-width:0.8;\" x=\"245.431797\" xlink:href=\"#mde51e60ba7\" y=\"218.158125\"/>\r\n      </g>\r\n     </g>\r\n     <g id=\"text_6\">\r\n      <!-- 2018-10-01 -->\r\n      <g transform=\"translate(194.062346 260.796377)rotate(-30)scale(0.1 -0.1)\">\r\n       <use xlink:href=\"#DejaVuSans-50\"/>\r\n       <use x=\"63.623047\" xlink:href=\"#DejaVuSans-48\"/>\r\n       <use x=\"127.246094\" xlink:href=\"#DejaVuSans-49\"/>\r\n       <use x=\"190.869141\" xlink:href=\"#DejaVuSans-56\"/>\r\n       <use x=\"254.492188\" xlink:href=\"#DejaVuSans-45\"/>\r\n       <use x=\"290.576172\" xlink:href=\"#DejaVuSans-49\"/>\r\n       <use x=\"354.199219\" xlink:href=\"#DejaVuSans-48\"/>\r\n       <use x=\"417.822266\" xlink:href=\"#DejaVuSans-45\"/>\r\n       <use x=\"453.90625\" xlink:href=\"#DejaVuSans-48\"/>\r\n       <use x=\"517.529297\" xlink:href=\"#DejaVuSans-49\"/>\r\n      </g>\r\n     </g>\r\n    </g>\r\n    <g id=\"xtick_7\">\r\n     <g id=\"line2d_7\">\r\n      <g>\r\n       <use style=\"stroke:#000000;stroke-width:0.8;\" x=\"286.112492\" xlink:href=\"#mde51e60ba7\" y=\"218.158125\"/>\r\n      </g>\r\n     </g>\r\n     <g id=\"text_7\">\r\n      <!-- 2018-10-05 -->\r\n      <g transform=\"translate(234.743041 260.796377)rotate(-30)scale(0.1 -0.1)\">\r\n       <use xlink:href=\"#DejaVuSans-50\"/>\r\n       <use x=\"63.623047\" xlink:href=\"#DejaVuSans-48\"/>\r\n       <use x=\"127.246094\" xlink:href=\"#DejaVuSans-49\"/>\r\n       <use x=\"190.869141\" xlink:href=\"#DejaVuSans-56\"/>\r\n       <use x=\"254.492188\" xlink:href=\"#DejaVuSans-45\"/>\r\n       <use x=\"290.576172\" xlink:href=\"#DejaVuSans-49\"/>\r\n       <use x=\"354.199219\" xlink:href=\"#DejaVuSans-48\"/>\r\n       <use x=\"417.822266\" xlink:href=\"#DejaVuSans-45\"/>\r\n       <use x=\"453.90625\" xlink:href=\"#DejaVuSans-48\"/>\r\n       <use x=\"517.529297\" xlink:href=\"#DejaVuSans-53\"/>\r\n      </g>\r\n     </g>\r\n    </g>\r\n    <g id=\"xtick_8\">\r\n     <g id=\"line2d_8\">\r\n      <g>\r\n       <use style=\"stroke:#000000;stroke-width:0.8;\" x=\"326.793187\" xlink:href=\"#mde51e60ba7\" y=\"218.158125\"/>\r\n      </g>\r\n     </g>\r\n     <g id=\"text_8\">\r\n      <!-- 2018-10-09 -->\r\n      <g transform=\"translate(275.423735 260.796377)rotate(-30)scale(0.1 -0.1)\">\r\n       <use xlink:href=\"#DejaVuSans-50\"/>\r\n       <use x=\"63.623047\" xlink:href=\"#DejaVuSans-48\"/>\r\n       <use x=\"127.246094\" xlink:href=\"#DejaVuSans-49\"/>\r\n       <use x=\"190.869141\" xlink:href=\"#DejaVuSans-56\"/>\r\n       <use x=\"254.492188\" xlink:href=\"#DejaVuSans-45\"/>\r\n       <use x=\"290.576172\" xlink:href=\"#DejaVuSans-49\"/>\r\n       <use x=\"354.199219\" xlink:href=\"#DejaVuSans-48\"/>\r\n       <use x=\"417.822266\" xlink:href=\"#DejaVuSans-45\"/>\r\n       <use x=\"453.90625\" xlink:href=\"#DejaVuSans-48\"/>\r\n       <use x=\"517.529297\" xlink:href=\"#DejaVuSans-57\"/>\r\n      </g>\r\n     </g>\r\n    </g>\r\n    <g id=\"xtick_9\">\r\n     <g id=\"line2d_9\">\r\n      <g>\r\n       <use style=\"stroke:#000000;stroke-width:0.8;\" x=\"367.473882\" xlink:href=\"#mde51e60ba7\" y=\"218.158125\"/>\r\n      </g>\r\n     </g>\r\n     <g id=\"text_9\">\r\n      <!-- 2018-10-13 -->\r\n      <g transform=\"translate(316.10443 260.796377)rotate(-30)scale(0.1 -0.1)\">\r\n       <use xlink:href=\"#DejaVuSans-50\"/>\r\n       <use x=\"63.623047\" xlink:href=\"#DejaVuSans-48\"/>\r\n       <use x=\"127.246094\" xlink:href=\"#DejaVuSans-49\"/>\r\n       <use x=\"190.869141\" xlink:href=\"#DejaVuSans-56\"/>\r\n       <use x=\"254.492188\" xlink:href=\"#DejaVuSans-45\"/>\r\n       <use x=\"290.576172\" xlink:href=\"#DejaVuSans-49\"/>\r\n       <use x=\"354.199219\" xlink:href=\"#DejaVuSans-48\"/>\r\n       <use x=\"417.822266\" xlink:href=\"#DejaVuSans-45\"/>\r\n       <use x=\"453.90625\" xlink:href=\"#DejaVuSans-49\"/>\r\n       <use x=\"517.529297\" xlink:href=\"#DejaVuSans-51\"/>\r\n      </g>\r\n     </g>\r\n    </g>\r\n    <g id=\"text_10\">\r\n     <!-- Date -->\r\n     <defs>\r\n      <path d=\"M 19.671875 64.796875 \r\nL 19.671875 8.109375 \r\nL 31.59375 8.109375 \r\nQ 46.6875 8.109375 53.6875 14.9375 \r\nQ 60.6875 21.78125 60.6875 36.53125 \r\nQ 60.6875 51.171875 53.6875 57.984375 \r\nQ 46.6875 64.796875 31.59375 64.796875 \r\nz\r\nM 9.8125 72.90625 \r\nL 30.078125 72.90625 \r\nQ 51.265625 72.90625 61.171875 64.09375 \r\nQ 71.09375 55.28125 71.09375 36.53125 \r\nQ 71.09375 17.671875 61.125 8.828125 \r\nQ 51.171875 0 30.078125 0 \r\nL 9.8125 0 \r\nz\r\n\" id=\"DejaVuSans-68\"/>\r\n      <path d=\"M 34.28125 27.484375 \r\nQ 23.390625 27.484375 19.1875 25 \r\nQ 14.984375 22.515625 14.984375 16.5 \r\nQ 14.984375 11.71875 18.140625 8.90625 \r\nQ 21.296875 6.109375 26.703125 6.109375 \r\nQ 34.1875 6.109375 38.703125 11.40625 \r\nQ 43.21875 16.703125 43.21875 25.484375 \r\nL 43.21875 27.484375 \r\nz\r\nM 52.203125 31.203125 \r\nL 52.203125 0 \r\nL 43.21875 0 \r\nL 43.21875 8.296875 \r\nQ 40.140625 3.328125 35.546875 0.953125 \r\nQ 30.953125 -1.421875 24.3125 -1.421875 \r\nQ 15.921875 -1.421875 10.953125 3.296875 \r\nQ 6 8.015625 6 15.921875 \r\nQ 6 25.140625 12.171875 29.828125 \r\nQ 18.359375 34.515625 30.609375 34.515625 \r\nL 43.21875 34.515625 \r\nL 43.21875 35.40625 \r\nQ 43.21875 41.609375 39.140625 45 \r\nQ 35.0625 48.390625 27.6875 48.390625 \r\nQ 23 48.390625 18.546875 47.265625 \r\nQ 14.109375 46.140625 10.015625 43.890625 \r\nL 10.015625 52.203125 \r\nQ 14.9375 54.109375 19.578125 55.046875 \r\nQ 24.21875 56 28.609375 56 \r\nQ 40.484375 56 46.34375 49.84375 \r\nQ 52.203125 43.703125 52.203125 31.203125 \r\nz\r\n\" id=\"DejaVuSans-97\"/>\r\n      <path d=\"M 18.3125 70.21875 \r\nL 18.3125 54.6875 \r\nL 36.8125 54.6875 \r\nL 36.8125 47.703125 \r\nL 18.3125 47.703125 \r\nL 18.3125 18.015625 \r\nQ 18.3125 11.328125 20.140625 9.421875 \r\nQ 21.96875 7.515625 27.59375 7.515625 \r\nL 36.8125 7.515625 \r\nL 36.8125 0 \r\nL 27.59375 0 \r\nQ 17.1875 0 13.234375 3.875 \r\nQ 9.28125 7.765625 9.28125 18.015625 \r\nL 9.28125 47.703125 \r\nL 2.6875 47.703125 \r\nL 2.6875 54.6875 \r\nL 9.28125 54.6875 \r\nL 9.28125 70.21875 \r\nz\r\n\" id=\"DejaVuSans-116\"/>\r\n      <path d=\"M 56.203125 29.59375 \r\nL 56.203125 25.203125 \r\nL 14.890625 25.203125 \r\nQ 15.484375 15.921875 20.484375 11.0625 \r\nQ 25.484375 6.203125 34.421875 6.203125 \r\nQ 39.59375 6.203125 44.453125 7.46875 \r\nQ 49.3125 8.734375 54.109375 11.28125 \r\nL 54.109375 2.78125 \r\nQ 49.265625 0.734375 44.1875 -0.34375 \r\nQ 39.109375 -1.421875 33.890625 -1.421875 \r\nQ 20.796875 -1.421875 13.15625 6.1875 \r\nQ 5.515625 13.8125 5.515625 26.8125 \r\nQ 5.515625 40.234375 12.765625 48.109375 \r\nQ 20.015625 56 32.328125 56 \r\nQ 43.359375 56 49.78125 48.890625 \r\nQ 56.203125 41.796875 56.203125 29.59375 \r\nz\r\nM 47.21875 32.234375 \r\nQ 47.125 39.59375 43.09375 43.984375 \r\nQ 39.0625 48.390625 32.421875 48.390625 \r\nQ 24.90625 48.390625 20.390625 44.140625 \r\nQ 15.875 39.890625 15.1875 32.171875 \r\nz\r\n\" id=\"DejaVuSans-101\"/>\r\n     </defs>\r\n     <g transform=\"translate(213.829274 274.195877)scale(0.1 -0.1)\">\r\n      <use xlink:href=\"#DejaVuSans-68\"/>\r\n      <use x=\"77.001953\" xlink:href=\"#DejaVuSans-97\"/>\r\n      <use x=\"138.28125\" xlink:href=\"#DejaVuSans-116\"/>\r\n      <use x=\"177.490234\" xlink:href=\"#DejaVuSans-101\"/>\r\n     </g>\r\n    </g>\r\n   </g>\r\n   <g id=\"matplotlib.axis_2\">\r\n    <g id=\"ytick_1\">\r\n     <g id=\"line2d_10\">\r\n      <defs>\r\n       <path d=\"M 0 0 \r\nL -3.5 0 \r\n\" id=\"m6712d69707\" style=\"stroke:#000000;stroke-width:0.8;\"/>\r\n      </defs>\r\n      <g>\r\n       <use style=\"stroke:#000000;stroke-width:0.8;\" x=\"58.380055\" xlink:href=\"#m6712d69707\" y=\"211.409941\"/>\r\n      </g>\r\n     </g>\r\n     <g id=\"text_11\">\r\n      <!-- 5.22 -->\r\n      <defs>\r\n       <path d=\"M 10.6875 12.40625 \r\nL 21 12.40625 \r\nL 21 0 \r\nL 10.6875 0 \r\nz\r\n\" id=\"DejaVuSans-46\"/>\r\n      </defs>\r\n      <g transform=\"translate(29.11443 215.20916)scale(0.1 -0.1)\">\r\n       <use xlink:href=\"#DejaVuSans-53\"/>\r\n       <use x=\"63.623047\" xlink:href=\"#DejaVuSans-46\"/>\r\n       <use x=\"95.410156\" xlink:href=\"#DejaVuSans-50\"/>\r\n       <use x=\"159.033203\" xlink:href=\"#DejaVuSans-50\"/>\r\n      </g>\r\n     </g>\r\n    </g>\r\n    <g id=\"ytick_2\">\r\n     <g id=\"line2d_11\">\r\n      <g>\r\n       <use style=\"stroke:#000000;stroke-width:0.8;\" x=\"58.380055\" xlink:href=\"#m6712d69707\" y=\"185.493764\"/>\r\n      </g>\r\n     </g>\r\n     <g id=\"text_12\">\r\n      <!-- 5.23 -->\r\n      <g transform=\"translate(29.11443 189.292983)scale(0.1 -0.1)\">\r\n       <use xlink:href=\"#DejaVuSans-53\"/>\r\n       <use x=\"63.623047\" xlink:href=\"#DejaVuSans-46\"/>\r\n       <use x=\"95.410156\" xlink:href=\"#DejaVuSans-50\"/>\r\n       <use x=\"159.033203\" xlink:href=\"#DejaVuSans-51\"/>\r\n      </g>\r\n     </g>\r\n    </g>\r\n    <g id=\"ytick_3\">\r\n     <g id=\"line2d_12\">\r\n      <g>\r\n       <use style=\"stroke:#000000;stroke-width:0.8;\" x=\"58.380055\" xlink:href=\"#m6712d69707\" y=\"159.577586\"/>\r\n      </g>\r\n     </g>\r\n     <g id=\"text_13\">\r\n      <!-- 5.24 -->\r\n      <defs>\r\n       <path d=\"M 37.796875 64.3125 \r\nL 12.890625 25.390625 \r\nL 37.796875 25.390625 \r\nz\r\nM 35.203125 72.90625 \r\nL 47.609375 72.90625 \r\nL 47.609375 25.390625 \r\nL 58.015625 25.390625 \r\nL 58.015625 17.1875 \r\nL 47.609375 17.1875 \r\nL 47.609375 0 \r\nL 37.796875 0 \r\nL 37.796875 17.1875 \r\nL 4.890625 17.1875 \r\nL 4.890625 26.703125 \r\nz\r\n\" id=\"DejaVuSans-52\"/>\r\n      </defs>\r\n      <g transform=\"translate(29.11443 163.376805)scale(0.1 -0.1)\">\r\n       <use xlink:href=\"#DejaVuSans-53\"/>\r\n       <use x=\"63.623047\" xlink:href=\"#DejaVuSans-46\"/>\r\n       <use x=\"95.410156\" xlink:href=\"#DejaVuSans-50\"/>\r\n       <use x=\"159.033203\" xlink:href=\"#DejaVuSans-52\"/>\r\n      </g>\r\n     </g>\r\n    </g>\r\n    <g id=\"ytick_4\">\r\n     <g id=\"line2d_13\">\r\n      <g>\r\n       <use style=\"stroke:#000000;stroke-width:0.8;\" x=\"58.380055\" xlink:href=\"#m6712d69707\" y=\"133.661409\"/>\r\n      </g>\r\n     </g>\r\n     <g id=\"text_14\">\r\n      <!-- 5.25 -->\r\n      <g transform=\"translate(29.11443 137.460628)scale(0.1 -0.1)\">\r\n       <use xlink:href=\"#DejaVuSans-53\"/>\r\n       <use x=\"63.623047\" xlink:href=\"#DejaVuSans-46\"/>\r\n       <use x=\"95.410156\" xlink:href=\"#DejaVuSans-50\"/>\r\n       <use x=\"159.033203\" xlink:href=\"#DejaVuSans-53\"/>\r\n      </g>\r\n     </g>\r\n    </g>\r\n    <g id=\"ytick_5\">\r\n     <g id=\"line2d_14\">\r\n      <g>\r\n       <use style=\"stroke:#000000;stroke-width:0.8;\" x=\"58.380055\" xlink:href=\"#m6712d69707\" y=\"107.745232\"/>\r\n      </g>\r\n     </g>\r\n     <g id=\"text_15\">\r\n      <!-- 5.26 -->\r\n      <defs>\r\n       <path d=\"M 33.015625 40.375 \r\nQ 26.375 40.375 22.484375 35.828125 \r\nQ 18.609375 31.296875 18.609375 23.390625 \r\nQ 18.609375 15.53125 22.484375 10.953125 \r\nQ 26.375 6.390625 33.015625 6.390625 \r\nQ 39.65625 6.390625 43.53125 10.953125 \r\nQ 47.40625 15.53125 47.40625 23.390625 \r\nQ 47.40625 31.296875 43.53125 35.828125 \r\nQ 39.65625 40.375 33.015625 40.375 \r\nz\r\nM 52.59375 71.296875 \r\nL 52.59375 62.3125 \r\nQ 48.875 64.0625 45.09375 64.984375 \r\nQ 41.3125 65.921875 37.59375 65.921875 \r\nQ 27.828125 65.921875 22.671875 59.328125 \r\nQ 17.53125 52.734375 16.796875 39.40625 \r\nQ 19.671875 43.65625 24.015625 45.921875 \r\nQ 28.375 48.1875 33.59375 48.1875 \r\nQ 44.578125 48.1875 50.953125 41.515625 \r\nQ 57.328125 34.859375 57.328125 23.390625 \r\nQ 57.328125 12.15625 50.6875 5.359375 \r\nQ 44.046875 -1.421875 33.015625 -1.421875 \r\nQ 20.359375 -1.421875 13.671875 8.265625 \r\nQ 6.984375 17.96875 6.984375 36.375 \r\nQ 6.984375 53.65625 15.1875 63.9375 \r\nQ 23.390625 74.21875 37.203125 74.21875 \r\nQ 40.921875 74.21875 44.703125 73.484375 \r\nQ 48.484375 72.75 52.59375 71.296875 \r\nz\r\n\" id=\"DejaVuSans-54\"/>\r\n      </defs>\r\n      <g transform=\"translate(29.11443 111.54445)scale(0.1 -0.1)\">\r\n       <use xlink:href=\"#DejaVuSans-53\"/>\r\n       <use x=\"63.623047\" xlink:href=\"#DejaVuSans-46\"/>\r\n       <use x=\"95.410156\" xlink:href=\"#DejaVuSans-50\"/>\r\n       <use x=\"159.033203\" xlink:href=\"#DejaVuSans-54\"/>\r\n      </g>\r\n     </g>\r\n    </g>\r\n    <g id=\"ytick_6\">\r\n     <g id=\"line2d_15\">\r\n      <g>\r\n       <use style=\"stroke:#000000;stroke-width:0.8;\" x=\"58.380055\" xlink:href=\"#m6712d69707\" y=\"81.829054\"/>\r\n      </g>\r\n     </g>\r\n     <g id=\"text_16\">\r\n      <!-- 5.27 -->\r\n      <g transform=\"translate(29.11443 85.628273)scale(0.1 -0.1)\">\r\n       <use xlink:href=\"#DejaVuSans-53\"/>\r\n       <use x=\"63.623047\" xlink:href=\"#DejaVuSans-46\"/>\r\n       <use x=\"95.410156\" xlink:href=\"#DejaVuSans-50\"/>\r\n       <use x=\"159.033203\" xlink:href=\"#DejaVuSans-55\"/>\r\n      </g>\r\n     </g>\r\n    </g>\r\n    <g id=\"ytick_7\">\r\n     <g id=\"line2d_16\">\r\n      <g>\r\n       <use style=\"stroke:#000000;stroke-width:0.8;\" x=\"58.380055\" xlink:href=\"#m6712d69707\" y=\"55.912877\"/>\r\n      </g>\r\n     </g>\r\n     <g id=\"text_17\">\r\n      <!-- 5.28 -->\r\n      <g transform=\"translate(29.11443 59.712096)scale(0.1 -0.1)\">\r\n       <use xlink:href=\"#DejaVuSans-53\"/>\r\n       <use x=\"63.623047\" xlink:href=\"#DejaVuSans-46\"/>\r\n       <use x=\"95.410156\" xlink:href=\"#DejaVuSans-50\"/>\r\n       <use x=\"159.033203\" xlink:href=\"#DejaVuSans-56\"/>\r\n      </g>\r\n     </g>\r\n    </g>\r\n    <g id=\"ytick_8\">\r\n     <g id=\"line2d_17\">\r\n      <g>\r\n       <use style=\"stroke:#000000;stroke-width:0.8;\" x=\"58.380055\" xlink:href=\"#m6712d69707\" y=\"29.9967\"/>\r\n      </g>\r\n     </g>\r\n     <g id=\"text_18\">\r\n      <!-- 5.29 -->\r\n      <g transform=\"translate(29.11443 33.795918)scale(0.1 -0.1)\">\r\n       <use xlink:href=\"#DejaVuSans-53\"/>\r\n       <use x=\"63.623047\" xlink:href=\"#DejaVuSans-46\"/>\r\n       <use x=\"95.410156\" xlink:href=\"#DejaVuSans-50\"/>\r\n       <use x=\"159.033203\" xlink:href=\"#DejaVuSans-57\"/>\r\n      </g>\r\n     </g>\r\n    </g>\r\n    <g id=\"text_19\">\r\n     <!-- Joules -->\r\n     <defs>\r\n      <path d=\"M 9.8125 72.90625 \r\nL 19.671875 72.90625 \r\nL 19.671875 5.078125 \r\nQ 19.671875 -8.109375 14.671875 -14.0625 \r\nQ 9.671875 -20.015625 -1.421875 -20.015625 \r\nL -5.171875 -20.015625 \r\nL -5.171875 -11.71875 \r\nL -2.09375 -11.71875 \r\nQ 4.4375 -11.71875 7.125 -8.046875 \r\nQ 9.8125 -4.390625 9.8125 5.078125 \r\nz\r\n\" id=\"DejaVuSans-74\"/>\r\n      <path d=\"M 30.609375 48.390625 \r\nQ 23.390625 48.390625 19.1875 42.75 \r\nQ 14.984375 37.109375 14.984375 27.296875 \r\nQ 14.984375 17.484375 19.15625 11.84375 \r\nQ 23.34375 6.203125 30.609375 6.203125 \r\nQ 37.796875 6.203125 41.984375 11.859375 \r\nQ 46.1875 17.53125 46.1875 27.296875 \r\nQ 46.1875 37.015625 41.984375 42.703125 \r\nQ 37.796875 48.390625 30.609375 48.390625 \r\nz\r\nM 30.609375 56 \r\nQ 42.328125 56 49.015625 48.375 \r\nQ 55.71875 40.765625 55.71875 27.296875 \r\nQ 55.71875 13.875 49.015625 6.21875 \r\nQ 42.328125 -1.421875 30.609375 -1.421875 \r\nQ 18.84375 -1.421875 12.171875 6.21875 \r\nQ 5.515625 13.875 5.515625 27.296875 \r\nQ 5.515625 40.765625 12.171875 48.375 \r\nQ 18.84375 56 30.609375 56 \r\nz\r\n\" id=\"DejaVuSans-111\"/>\r\n      <path d=\"M 8.5 21.578125 \r\nL 8.5 54.6875 \r\nL 17.484375 54.6875 \r\nL 17.484375 21.921875 \r\nQ 17.484375 14.15625 20.5 10.265625 \r\nQ 23.53125 6.390625 29.59375 6.390625 \r\nQ 36.859375 6.390625 41.078125 11.03125 \r\nQ 45.3125 15.671875 45.3125 23.6875 \r\nL 45.3125 54.6875 \r\nL 54.296875 54.6875 \r\nL 54.296875 0 \r\nL 45.3125 0 \r\nL 45.3125 8.40625 \r\nQ 42.046875 3.421875 37.71875 1 \r\nQ 33.40625 -1.421875 27.6875 -1.421875 \r\nQ 18.265625 -1.421875 13.375 4.4375 \r\nQ 8.5 10.296875 8.5 21.578125 \r\nz\r\nM 31.109375 56 \r\nz\r\n\" id=\"DejaVuSans-117\"/>\r\n      <path d=\"M 9.421875 75.984375 \r\nL 18.40625 75.984375 \r\nL 18.40625 0 \r\nL 9.421875 0 \r\nz\r\n\" id=\"DejaVuSans-108\"/>\r\n      <path d=\"M 44.28125 53.078125 \r\nL 44.28125 44.578125 \r\nQ 40.484375 46.53125 36.375 47.5 \r\nQ 32.28125 48.484375 27.875 48.484375 \r\nQ 21.1875 48.484375 17.84375 46.4375 \r\nQ 14.5 44.390625 14.5 40.28125 \r\nQ 14.5 37.15625 16.890625 35.375 \r\nQ 19.28125 33.59375 26.515625 31.984375 \r\nL 29.59375 31.296875 \r\nQ 39.15625 29.25 43.1875 25.515625 \r\nQ 47.21875 21.78125 47.21875 15.09375 \r\nQ 47.21875 7.46875 41.1875 3.015625 \r\nQ 35.15625 -1.421875 24.609375 -1.421875 \r\nQ 20.21875 -1.421875 15.453125 -0.5625 \r\nQ 10.6875 0.296875 5.421875 2 \r\nL 5.421875 11.28125 \r\nQ 10.40625 8.6875 15.234375 7.390625 \r\nQ 20.0625 6.109375 24.8125 6.109375 \r\nQ 31.15625 6.109375 34.5625 8.28125 \r\nQ 37.984375 10.453125 37.984375 14.40625 \r\nQ 37.984375 18.0625 35.515625 20.015625 \r\nQ 33.0625 21.96875 24.703125 23.78125 \r\nL 21.578125 24.515625 \r\nQ 13.234375 26.265625 9.515625 29.90625 \r\nQ 5.8125 33.546875 5.8125 39.890625 \r\nQ 5.8125 47.609375 11.28125 51.796875 \r\nQ 16.75 56 26.8125 56 \r\nQ 31.78125 56 36.171875 55.265625 \r\nQ 40.578125 54.546875 44.28125 53.078125 \r\nz\r\n\" id=\"DejaVuSans-115\"/>\r\n     </defs>\r\n     <g transform=\"translate(23.034743 135.011562)rotate(-90)scale(0.1 -0.1)\">\r\n      <use xlink:href=\"#DejaVuSans-74\"/>\r\n      <use x=\"29.492188\" xlink:href=\"#DejaVuSans-111\"/>\r\n      <use x=\"90.673828\" xlink:href=\"#DejaVuSans-117\"/>\r\n      <use x=\"154.052734\" xlink:href=\"#DejaVuSans-108\"/>\r\n      <use x=\"181.835938\" xlink:href=\"#DejaVuSans-101\"/>\r\n      <use x=\"243.359375\" xlink:href=\"#DejaVuSans-115\"/>\r\n     </g>\r\n    </g>\r\n    <g id=\"text_20\">\r\n     <!-- 1e6 -->\r\n     <g transform=\"translate(58.380055 19.318125)scale(0.1 -0.1)\">\r\n      <use xlink:href=\"#DejaVuSans-49\"/>\r\n      <use x=\"63.623047\" xlink:href=\"#DejaVuSans-101\"/>\r\n      <use x=\"125.146484\" xlink:href=\"#DejaVuSans-54\"/>\r\n     </g>\r\n    </g>\r\n   </g>\r\n   <g id=\"line2d_18\">\r\n    <path clip-path=\"url(#p6115ee19f0)\" d=\"M 73.598237 209.256307 \r\nL 106.439423 209.155234 \r\nL 107.075059 208.779449 \r\nL 107.498816 208.266309 \r\nL 108.45227 206.340737 \r\nL 108.876027 205.407754 \r\nL 109.193845 204.938672 \r\nL 109.93542 203.409617 \r\nL 110.359177 202.891294 \r\nL 111.206692 202.80577 \r\nL 116.609597 202.707289 \r\nL 117.033354 202.29263 \r\nL 117.56305 201.281899 \r\nL 119.893715 196.088297 \r\nL 120.423412 195.795444 \r\nL 121.270926 195.619214 \r\nL 123.70753 195.619214 \r\nL 357.939344 48.959567 \r\nL 360.693766 48.861085 \r\nL 361.011584 48.537133 \r\nL 361.435341 47.762239 \r\nL 362.176916 45.782243 \r\nL 363.977884 40.710447 \r\nL 364.507581 39.813748 \r\nL 364.825399 39.557177 \r\nL 365.355095 39.531261 \r\nL 370.969879 39.461288 \r\nL 371.499575 39.152885 \r\nL 372.135211 37.57459 \r\nL 373.618362 33.500567 \r\nL 373.724301 33.420227 \r\nL 374.677755 31.517979 \r\nL 375.101512 31.23031 \r\nL 376.266844 31.219943 \r\nL 377.961873 31.219943 \r\nL 377.961873 31.219943 \r\n\" style=\"fill:none;stroke:#1f77b4;stroke-linecap:square;stroke-width:1.5;\"/>\r\n   </g>\r\n   <g id=\"patch_3\">\r\n    <path d=\"M 58.380055 218.158125 \r\nL 58.380055 22.318125 \r\n\" style=\"fill:none;stroke:#000000;stroke-linecap:square;stroke-linejoin:miter;stroke-width:0.8;\"/>\r\n   </g>\r\n   <g id=\"patch_4\">\r\n    <path d=\"M 393.180055 218.158125 \r\nL 393.180055 22.318125 \r\n\" style=\"fill:none;stroke:#000000;stroke-linecap:square;stroke-linejoin:miter;stroke-width:0.8;\"/>\r\n   </g>\r\n   <g id=\"patch_5\">\r\n    <path d=\"M 58.380055 218.158125 \r\nL 393.180055 218.158125 \r\n\" style=\"fill:none;stroke:#000000;stroke-linecap:square;stroke-linejoin:miter;stroke-width:0.8;\"/>\r\n   </g>\r\n   <g id=\"patch_6\">\r\n    <path d=\"M 58.380055 22.318125 \r\nL 393.180055 22.318125 \r\n\" style=\"fill:none;stroke:#000000;stroke-linecap:square;stroke-linejoin:miter;stroke-width:0.8;\"/>\r\n   </g>\r\n   <g id=\"text_21\">\r\n    <!-- R27 -->\r\n    <defs>\r\n     <path d=\"M 44.390625 34.1875 \r\nQ 47.5625 33.109375 50.5625 29.59375 \r\nQ 53.5625 26.078125 56.59375 19.921875 \r\nL 66.609375 0 \r\nL 56 0 \r\nL 46.6875 18.703125 \r\nQ 43.0625 26.03125 39.671875 28.421875 \r\nQ 36.28125 30.8125 30.421875 30.8125 \r\nL 19.671875 30.8125 \r\nL 19.671875 0 \r\nL 9.8125 0 \r\nL 9.8125 72.90625 \r\nL 32.078125 72.90625 \r\nQ 44.578125 72.90625 50.734375 67.671875 \r\nQ 56.890625 62.453125 56.890625 51.90625 \r\nQ 56.890625 45.015625 53.6875 40.46875 \r\nQ 50.484375 35.9375 44.390625 34.1875 \r\nz\r\nM 19.671875 64.796875 \r\nL 19.671875 38.921875 \r\nL 32.078125 38.921875 \r\nQ 39.203125 38.921875 42.84375 42.21875 \r\nQ 46.484375 45.515625 46.484375 51.90625 \r\nQ 46.484375 58.296875 42.84375 61.546875 \r\nQ 39.203125 64.796875 32.078125 64.796875 \r\nz\r\n\" id=\"DejaVuSans-82\"/>\r\n    </defs>\r\n    <g transform=\"translate(213.975993 16.318125)scale(0.12 -0.12)\">\r\n     <use xlink:href=\"#DejaVuSans-82\"/>\r\n     <use x=\"69.482422\" xlink:href=\"#DejaVuSans-50\"/>\r\n     <use x=\"133.105469\" xlink:href=\"#DejaVuSans-55\"/>\r\n    </g>\r\n   </g>\r\n   <g id=\"legend_1\">\r\n    <g id=\"patch_7\">\r\n     <path d=\"M 65.380055 44.99625 \r\nL 132.392555 44.99625 \r\nQ 134.392555 44.99625 134.392555 42.99625 \r\nL 134.392555 29.318125 \r\nQ 134.392555 27.318125 132.392555 27.318125 \r\nL 65.380055 27.318125 \r\nQ 63.380055 27.318125 63.380055 29.318125 \r\nL 63.380055 42.99625 \r\nQ 63.380055 44.99625 65.380055 44.99625 \r\nz\r\n\" style=\"fill:#ffffff;opacity:0.8;stroke:#cccccc;stroke-linejoin:miter;\"/>\r\n    </g>\r\n    <g id=\"line2d_19\">\r\n     <path d=\"M 67.380055 35.416562 \r\nL 87.380055 35.416562 \r\n\" style=\"fill:none;stroke:#1f77b4;stroke-linecap:square;stroke-width:1.5;\"/>\r\n    </g>\r\n    <g id=\"line2d_20\"/>\r\n    <g id=\"text_22\">\r\n     <!-- Energy -->\r\n     <defs>\r\n      <path d=\"M 9.8125 72.90625 \r\nL 55.90625 72.90625 \r\nL 55.90625 64.59375 \r\nL 19.671875 64.59375 \r\nL 19.671875 43.015625 \r\nL 54.390625 43.015625 \r\nL 54.390625 34.71875 \r\nL 19.671875 34.71875 \r\nL 19.671875 8.296875 \r\nL 56.78125 8.296875 \r\nL 56.78125 0 \r\nL 9.8125 0 \r\nz\r\n\" id=\"DejaVuSans-69\"/>\r\n      <path d=\"M 54.890625 33.015625 \r\nL 54.890625 0 \r\nL 45.90625 0 \r\nL 45.90625 32.71875 \r\nQ 45.90625 40.484375 42.875 44.328125 \r\nQ 39.84375 48.1875 33.796875 48.1875 \r\nQ 26.515625 48.1875 22.3125 43.546875 \r\nQ 18.109375 38.921875 18.109375 30.90625 \r\nL 18.109375 0 \r\nL 9.078125 0 \r\nL 9.078125 54.6875 \r\nL 18.109375 54.6875 \r\nL 18.109375 46.1875 \r\nQ 21.34375 51.125 25.703125 53.5625 \r\nQ 30.078125 56 35.796875 56 \r\nQ 45.21875 56 50.046875 50.171875 \r\nQ 54.890625 44.34375 54.890625 33.015625 \r\nz\r\n\" id=\"DejaVuSans-110\"/>\r\n      <path d=\"M 41.109375 46.296875 \r\nQ 39.59375 47.171875 37.8125 47.578125 \r\nQ 36.03125 48 33.890625 48 \r\nQ 26.265625 48 22.1875 43.046875 \r\nQ 18.109375 38.09375 18.109375 28.8125 \r\nL 18.109375 0 \r\nL 9.078125 0 \r\nL 9.078125 54.6875 \r\nL 18.109375 54.6875 \r\nL 18.109375 46.1875 \r\nQ 20.953125 51.171875 25.484375 53.578125 \r\nQ 30.03125 56 36.53125 56 \r\nQ 37.453125 56 38.578125 55.875 \r\nQ 39.703125 55.765625 41.0625 55.515625 \r\nz\r\n\" id=\"DejaVuSans-114\"/>\r\n      <path d=\"M 45.40625 27.984375 \r\nQ 45.40625 37.75 41.375 43.109375 \r\nQ 37.359375 48.484375 30.078125 48.484375 \r\nQ 22.859375 48.484375 18.828125 43.109375 \r\nQ 14.796875 37.75 14.796875 27.984375 \r\nQ 14.796875 18.265625 18.828125 12.890625 \r\nQ 22.859375 7.515625 30.078125 7.515625 \r\nQ 37.359375 7.515625 41.375 12.890625 \r\nQ 45.40625 18.265625 45.40625 27.984375 \r\nz\r\nM 54.390625 6.78125 \r\nQ 54.390625 -7.171875 48.1875 -13.984375 \r\nQ 42 -20.796875 29.203125 -20.796875 \r\nQ 24.46875 -20.796875 20.265625 -20.09375 \r\nQ 16.0625 -19.390625 12.109375 -17.921875 \r\nL 12.109375 -9.1875 \r\nQ 16.0625 -11.328125 19.921875 -12.34375 \r\nQ 23.78125 -13.375 27.78125 -13.375 \r\nQ 36.625 -13.375 41.015625 -8.765625 \r\nQ 45.40625 -4.15625 45.40625 5.171875 \r\nL 45.40625 9.625 \r\nQ 42.625 4.78125 38.28125 2.390625 \r\nQ 33.9375 0 27.875 0 \r\nQ 17.828125 0 11.671875 7.65625 \r\nQ 5.515625 15.328125 5.515625 27.984375 \r\nQ 5.515625 40.671875 11.671875 48.328125 \r\nQ 17.828125 56 27.875 56 \r\nQ 33.9375 56 38.28125 53.609375 \r\nQ 42.625 51.21875 45.40625 46.390625 \r\nL 45.40625 54.6875 \r\nL 54.390625 54.6875 \r\nz\r\n\" id=\"DejaVuSans-103\"/>\r\n      <path d=\"M 32.171875 -5.078125 \r\nQ 28.375 -14.84375 24.75 -17.8125 \r\nQ 21.140625 -20.796875 15.09375 -20.796875 \r\nL 7.90625 -20.796875 \r\nL 7.90625 -13.28125 \r\nL 13.1875 -13.28125 \r\nQ 16.890625 -13.28125 18.9375 -11.515625 \r\nQ 21 -9.765625 23.484375 -3.21875 \r\nL 25.09375 0.875 \r\nL 2.984375 54.6875 \r\nL 12.5 54.6875 \r\nL 29.59375 11.921875 \r\nL 46.6875 54.6875 \r\nL 56.203125 54.6875 \r\nz\r\n\" id=\"DejaVuSans-121\"/>\r\n     </defs>\r\n     <g transform=\"translate(95.380055 38.916562)scale(0.1 -0.1)\">\r\n      <use xlink:href=\"#DejaVuSans-69\"/>\r\n      <use x=\"63.183594\" xlink:href=\"#DejaVuSans-110\"/>\r\n      <use x=\"126.5625\" xlink:href=\"#DejaVuSans-101\"/>\r\n      <use x=\"188.085938\" xlink:href=\"#DejaVuSans-114\"/>\r\n      <use x=\"227.449219\" xlink:href=\"#DejaVuSans-103\"/>\r\n      <use x=\"290.925781\" xlink:href=\"#DejaVuSans-121\"/>\r\n     </g>\r\n    </g>\r\n   </g>\r\n  </g>\r\n </g>\r\n <defs>\r\n  <clipPath id=\"p6115ee19f0\">\r\n   <rect height=\"195.84\" width=\"334.8\" x=\"58.380055\" y=\"22.318125\"/>\r\n  </clipPath>\r\n </defs>\r\n</svg>\r\n",
      "image/png": "[encoded data removed]"
     },
     "metadata": {
      "needs_background": "light"
     }
    }
   ],
   "source": [
    "plotvar = 'Energy'\n",
    "for sid in prod_data_anom.loc[:, 'randid'].unique():\n",
    "    mask = prod_data_anom.loc[:, 'randid']== sid\n",
    "    prod_data_anom.loc[mask].head(n=15)\n",
    "    prod_data_anom.loc[mask].plot(x='Date',y=plotvar, title=sid)\n",
    "    plt.ylabel('Joules')"
   ]
  },
  {
   "cell_type": "markdown",
   "metadata": {},
   "source": [
    "### 3.4 Missing time-stamps in data"
   ]
  },
  {
   "cell_type": "markdown",
   "metadata": {},
   "source": [
    "#### Production Data\n",
    "\n",
    "Dropping rows with missing time-stamps"
   ]
  },
  {
   "cell_type": "code",
   "execution_count": 21,
   "metadata": {},
   "outputs": [
    {
     "output_type": "execute_result",
     "data": {
      "text/plain": [
       "    randid Date     Energy  Irradiance\n",
       "0      R23  NaT     1000.0         NaN\n",
       "388    R27  NaT  5220831.0    0.095835"
      ],
      "text/html": "<div>\n<style scoped>\n    .dataframe tbody tr th:only-of-type {\n        vertical-align: middle;\n    }\n\n    .dataframe tbody tr th {\n        vertical-align: top;\n    }\n\n    .dataframe thead th {\n        text-align: right;\n    }\n</style>\n<table border=\"1\" class=\"dataframe\">\n  <thead>\n    <tr style=\"text-align: right;\">\n      <th></th>\n      <th>randid</th>\n      <th>Date</th>\n      <th>Energy</th>\n      <th>Irradiance</th>\n    </tr>\n  </thead>\n  <tbody>\n    <tr>\n      <th>0</th>\n      <td>R23</td>\n      <td>NaT</td>\n      <td>1000.0</td>\n      <td>NaN</td>\n    </tr>\n    <tr>\n      <th>388</th>\n      <td>R27</td>\n      <td>NaT</td>\n      <td>5220831.0</td>\n      <td>0.095835</td>\n    </tr>\n  </tbody>\n</table>\n</div>"
     },
     "metadata": {},
     "execution_count": 21
    }
   ],
   "source": [
    "prod_data_datena_d, addressed = preprocess.prod_nadate_process(prod_data_anom, prod_col_dict, pnadrop=True)\n",
    "addressed"
   ]
  },
  {
   "cell_type": "markdown",
   "metadata": {},
   "source": [
    "Print post-processed data frame\n"
   ]
  },
  {
   "cell_type": "code",
   "execution_count": 22,
   "metadata": {},
   "outputs": [
    {
     "output_type": "execute_result",
     "data": {
      "text/plain": [
       "     randid                Date     Energy  Irradiance\n",
       "1       R23 2018-07-19 01:00:00     1000.0         NaN\n",
       "2       R23 2018-07-19 02:00:00     1000.0         NaN\n",
       "3       R23 2018-07-19 03:00:00     1000.0         NaN\n",
       "4       R23 2018-07-19 04:00:00     1000.0         NaN\n",
       "5       R23 2018-07-19 05:00:00     1000.0         NaN\n",
       "...     ...                 ...        ...         ...\n",
       "1049    R27 2018-10-13 23:45:00  5289528.0         NaN\n",
       "1050    R27 2018-10-14 00:00:00  5289528.0         NaN\n",
       "1051    R27 2018-10-14 00:15:00  5289528.0         NaN\n",
       "1052    R27 2018-10-14 00:30:00  5289528.0         NaN\n",
       "1053    R27 2018-10-14 00:45:00  5289528.0         NaN\n",
       "\n",
       "[1052 rows x 4 columns]"
      ],
      "text/html": "<div>\n<style scoped>\n    .dataframe tbody tr th:only-of-type {\n        vertical-align: middle;\n    }\n\n    .dataframe tbody tr th {\n        vertical-align: top;\n    }\n\n    .dataframe thead th {\n        text-align: right;\n    }\n</style>\n<table border=\"1\" class=\"dataframe\">\n  <thead>\n    <tr style=\"text-align: right;\">\n      <th></th>\n      <th>randid</th>\n      <th>Date</th>\n      <th>Energy</th>\n      <th>Irradiance</th>\n    </tr>\n  </thead>\n  <tbody>\n    <tr>\n      <th>1</th>\n      <td>R23</td>\n      <td>2018-07-19 01:00:00</td>\n      <td>1000.0</td>\n      <td>NaN</td>\n    </tr>\n    <tr>\n      <th>2</th>\n      <td>R23</td>\n      <td>2018-07-19 02:00:00</td>\n      <td>1000.0</td>\n      <td>NaN</td>\n    </tr>\n    <tr>\n      <th>3</th>\n      <td>R23</td>\n      <td>2018-07-19 03:00:00</td>\n      <td>1000.0</td>\n      <td>NaN</td>\n    </tr>\n    <tr>\n      <th>4</th>\n      <td>R23</td>\n      <td>2018-07-19 04:00:00</td>\n      <td>1000.0</td>\n      <td>NaN</td>\n    </tr>\n    <tr>\n      <th>5</th>\n      <td>R23</td>\n      <td>2018-07-19 05:00:00</td>\n      <td>1000.0</td>\n      <td>NaN</td>\n    </tr>\n    <tr>\n      <th>...</th>\n      <td>...</td>\n      <td>...</td>\n      <td>...</td>\n      <td>...</td>\n    </tr>\n    <tr>\n      <th>1049</th>\n      <td>R27</td>\n      <td>2018-10-13 23:45:00</td>\n      <td>5289528.0</td>\n      <td>NaN</td>\n    </tr>\n    <tr>\n      <th>1050</th>\n      <td>R27</td>\n      <td>2018-10-14 00:00:00</td>\n      <td>5289528.0</td>\n      <td>NaN</td>\n    </tr>\n    <tr>\n      <th>1051</th>\n      <td>R27</td>\n      <td>2018-10-14 00:15:00</td>\n      <td>5289528.0</td>\n      <td>NaN</td>\n    </tr>\n    <tr>\n      <th>1052</th>\n      <td>R27</td>\n      <td>2018-10-14 00:30:00</td>\n      <td>5289528.0</td>\n      <td>NaN</td>\n    </tr>\n    <tr>\n      <th>1053</th>\n      <td>R27</td>\n      <td>2018-10-14 00:45:00</td>\n      <td>5289528.0</td>\n      <td>NaN</td>\n    </tr>\n  </tbody>\n</table>\n<p>1052 rows × 4 columns</p>\n</div>"
     },
     "metadata": {},
     "execution_count": 22
    }
   ],
   "source": [
    "prod_data_datena_d"
   ]
  },
  {
   "cell_type": "markdown",
   "metadata": {},
   "source": [
    "Identifying rows with missing time-stamps but not dropping them\n"
   ]
  },
  {
   "cell_type": "code",
   "execution_count": 23,
   "metadata": {},
   "outputs": [
    {
     "output_type": "execute_result",
     "data": {
      "text/plain": [
       "     randid                Date     Energy  Irradiance\n",
       "0       R23                 NaT     1000.0         NaN\n",
       "1       R23 2018-07-19 01:00:00     1000.0         NaN\n",
       "2       R23 2018-07-19 02:00:00     1000.0         NaN\n",
       "3       R23 2018-07-19 03:00:00     1000.0         NaN\n",
       "4       R23 2018-07-19 04:00:00     1000.0         NaN\n",
       "...     ...                 ...        ...         ...\n",
       "1049    R27 2018-10-13 23:45:00  5289528.0         NaN\n",
       "1050    R27 2018-10-14 00:00:00  5289528.0         NaN\n",
       "1051    R27 2018-10-14 00:15:00  5289528.0         NaN\n",
       "1052    R27 2018-10-14 00:30:00  5289528.0         NaN\n",
       "1053    R27 2018-10-14 00:45:00  5289528.0         NaN\n",
       "\n",
       "[1054 rows x 4 columns]"
      ],
      "text/html": "<div>\n<style scoped>\n    .dataframe tbody tr th:only-of-type {\n        vertical-align: middle;\n    }\n\n    .dataframe tbody tr th {\n        vertical-align: top;\n    }\n\n    .dataframe thead th {\n        text-align: right;\n    }\n</style>\n<table border=\"1\" class=\"dataframe\">\n  <thead>\n    <tr style=\"text-align: right;\">\n      <th></th>\n      <th>randid</th>\n      <th>Date</th>\n      <th>Energy</th>\n      <th>Irradiance</th>\n    </tr>\n  </thead>\n  <tbody>\n    <tr>\n      <th>0</th>\n      <td>R23</td>\n      <td>NaT</td>\n      <td>1000.0</td>\n      <td>NaN</td>\n    </tr>\n    <tr>\n      <th>1</th>\n      <td>R23</td>\n      <td>2018-07-19 01:00:00</td>\n      <td>1000.0</td>\n      <td>NaN</td>\n    </tr>\n    <tr>\n      <th>2</th>\n      <td>R23</td>\n      <td>2018-07-19 02:00:00</td>\n      <td>1000.0</td>\n      <td>NaN</td>\n    </tr>\n    <tr>\n      <th>3</th>\n      <td>R23</td>\n      <td>2018-07-19 03:00:00</td>\n      <td>1000.0</td>\n      <td>NaN</td>\n    </tr>\n    <tr>\n      <th>4</th>\n      <td>R23</td>\n      <td>2018-07-19 04:00:00</td>\n      <td>1000.0</td>\n      <td>NaN</td>\n    </tr>\n    <tr>\n      <th>...</th>\n      <td>...</td>\n      <td>...</td>\n      <td>...</td>\n      <td>...</td>\n    </tr>\n    <tr>\n      <th>1049</th>\n      <td>R27</td>\n      <td>2018-10-13 23:45:00</td>\n      <td>5289528.0</td>\n      <td>NaN</td>\n    </tr>\n    <tr>\n      <th>1050</th>\n      <td>R27</td>\n      <td>2018-10-14 00:00:00</td>\n      <td>5289528.0</td>\n      <td>NaN</td>\n    </tr>\n    <tr>\n      <th>1051</th>\n      <td>R27</td>\n      <td>2018-10-14 00:15:00</td>\n      <td>5289528.0</td>\n      <td>NaN</td>\n    </tr>\n    <tr>\n      <th>1052</th>\n      <td>R27</td>\n      <td>2018-10-14 00:30:00</td>\n      <td>5289528.0</td>\n      <td>NaN</td>\n    </tr>\n    <tr>\n      <th>1053</th>\n      <td>R27</td>\n      <td>2018-10-14 00:45:00</td>\n      <td>5289528.0</td>\n      <td>NaN</td>\n    </tr>\n  </tbody>\n</table>\n<p>1054 rows × 4 columns</p>\n</div>"
     },
     "metadata": {},
     "execution_count": 23
    }
   ],
   "source": [
    "prod_data_datena_id, addressed = preprocess.prod_nadate_process(prod_data_anom, prod_col_dict, pnadrop=False)\n",
    "prod_data_datena_id"
   ]
  },
  {
   "cell_type": "markdown",
   "metadata": {},
   "source": [
    "#### O&M Data"
   ]
  },
  {
   "cell_type": "markdown",
   "metadata": {},
   "source": [
    "Dropping rows when end-date of an event is missing"
   ]
  },
  {
   "cell_type": "code",
   "execution_count": 24,
   "metadata": {},
   "outputs": [
    {
     "output_type": "execute_result",
     "data": {
      "text/plain": [
       "   randid     Asset          date_start date_end  WONumber      WOType  \\\n",
       "7     R23  Inverter 2018-08-01 11:45:00      NaT       107  Corrective   \n",
       "13    R27     other 2018-10-14 11:00:00      NaT         5  preventive   \n",
       "\n",
       "                         GeneralDesc  \n",
       "7   Inverter major underperformance   \n",
       "13         Monthly visual inspection  "
      ],
      "text/html": "<div>\n<style scoped>\n    .dataframe tbody tr th:only-of-type {\n        vertical-align: middle;\n    }\n\n    .dataframe tbody tr th {\n        vertical-align: top;\n    }\n\n    .dataframe thead th {\n        text-align: right;\n    }\n</style>\n<table border=\"1\" class=\"dataframe\">\n  <thead>\n    <tr style=\"text-align: right;\">\n      <th></th>\n      <th>randid</th>\n      <th>Asset</th>\n      <th>date_start</th>\n      <th>date_end</th>\n      <th>WONumber</th>\n      <th>WOType</th>\n      <th>GeneralDesc</th>\n    </tr>\n  </thead>\n  <tbody>\n    <tr>\n      <th>7</th>\n      <td>R23</td>\n      <td>Inverter</td>\n      <td>2018-08-01 11:45:00</td>\n      <td>NaT</td>\n      <td>107</td>\n      <td>Corrective</td>\n      <td>Inverter major underperformance</td>\n    </tr>\n    <tr>\n      <th>13</th>\n      <td>R27</td>\n      <td>other</td>\n      <td>2018-10-14 11:00:00</td>\n      <td>NaT</td>\n      <td>5</td>\n      <td>preventive</td>\n      <td>Monthly visual inspection</td>\n    </tr>\n  </tbody>\n</table>\n</div>"
     },
     "metadata": {},
     "execution_count": 24
    }
   ],
   "source": [
    "om_data_datena_d, addressed = preprocess.om_nadate_process(om_data_checked_s, om_col_dict, om_dendflag='drop')\n",
    "addressed"
   ]
  },
  {
   "cell_type": "markdown",
   "metadata": {},
   "source": [
    "Print post-processed data frame\n"
   ]
  },
  {
   "cell_type": "code",
   "execution_count": 25,
   "metadata": {},
   "outputs": [
    {
     "output_type": "execute_result",
     "data": {
      "text/plain": [
       "   randid     Asset          date_start            date_end  WONumber  \\\n",
       "1     R23  Facility 2018-05-19 13:04:00 2018-05-19 15:44:00       101   \n",
       "2     R23  Facility 2018-06-15 06:46:00 2018-06-15 10:30:00       102   \n",
       "3     R23  Facility 2018-06-18 11:20:00 2018-06-18 14:03:00       103   \n",
       "4     R23  Facility 2018-07-21 04:45:00 2018-07-21 13:15:00       104   \n",
       "5     R23  Inverter 2018-07-21 13:16:00 2018-07-21 14:25:00       105   \n",
       "6     R23  Inverter 2018-07-25 14:20:00 2018-07-25 16:40:00       106   \n",
       "8     R23  Facility 2018-08-02 01:05:00 2018-08-02 09:28:00       108   \n",
       "9     R27  Facility 2018-09-14 10:00:00 2018-09-16 16:00:00         1   \n",
       "10    R27  Facility 2018-05-19 13:04:00 2018-05-19 15:44:00         2   \n",
       "11    R27     Other 2018-09-19 07:00:00 2018-10-11 20:00:00         3   \n",
       "12    R27  Facility 2018-10-13 12:00:00 2018-10-13 17:00:00         4   \n",
       "\n",
       "        WOType                                        GeneralDesc  \n",
       "1   Preventive               Site offline due to grid disturbance  \n",
       "2   Corrective                 Plant trip due to grid disturbance  \n",
       "3   Corrective            Site trip due to cause grid disturbance  \n",
       "4   Vegetation               Site tripped due to grid disturbance  \n",
       "5   Corrective      Inverter failed to start following plant trip  \n",
       "6   Corrective    inverter offline due to high ambient temp fault  \n",
       "8   Corrective                  Site trip due to grid disturbance  \n",
       "9   corrective  hurricane florence outages/response. complete ...  \n",
       "10  vegetation   Vegetation maintenance activities were performed  \n",
       "11  corrective  hurricane response. perform site inspection to...  \n",
       "12  preventive                          Monthly visual inspection  "
      ],
      "text/html": "<div>\n<style scoped>\n    .dataframe tbody tr th:only-of-type {\n        vertical-align: middle;\n    }\n\n    .dataframe tbody tr th {\n        vertical-align: top;\n    }\n\n    .dataframe thead th {\n        text-align: right;\n    }\n</style>\n<table border=\"1\" class=\"dataframe\">\n  <thead>\n    <tr style=\"text-align: right;\">\n      <th></th>\n      <th>randid</th>\n      <th>Asset</th>\n      <th>date_start</th>\n      <th>date_end</th>\n      <th>WONumber</th>\n      <th>WOType</th>\n      <th>GeneralDesc</th>\n    </tr>\n  </thead>\n  <tbody>\n    <tr>\n      <th>1</th>\n      <td>R23</td>\n      <td>Facility</td>\n      <td>2018-05-19 13:04:00</td>\n      <td>2018-05-19 15:44:00</td>\n      <td>101</td>\n      <td>Preventive</td>\n      <td>Site offline due to grid disturbance</td>\n    </tr>\n    <tr>\n      <th>2</th>\n      <td>R23</td>\n      <td>Facility</td>\n      <td>2018-06-15 06:46:00</td>\n      <td>2018-06-15 10:30:00</td>\n      <td>102</td>\n      <td>Corrective</td>\n      <td>Plant trip due to grid disturbance</td>\n    </tr>\n    <tr>\n      <th>3</th>\n      <td>R23</td>\n      <td>Facility</td>\n      <td>2018-06-18 11:20:00</td>\n      <td>2018-06-18 14:03:00</td>\n      <td>103</td>\n      <td>Corrective</td>\n      <td>Site trip due to cause grid disturbance</td>\n    </tr>\n    <tr>\n      <th>4</th>\n      <td>R23</td>\n      <td>Facility</td>\n      <td>2018-07-21 04:45:00</td>\n      <td>2018-07-21 13:15:00</td>\n      <td>104</td>\n      <td>Vegetation</td>\n      <td>Site tripped due to grid disturbance</td>\n    </tr>\n    <tr>\n      <th>5</th>\n      <td>R23</td>\n      <td>Inverter</td>\n      <td>2018-07-21 13:16:00</td>\n      <td>2018-07-21 14:25:00</td>\n      <td>105</td>\n      <td>Corrective</td>\n      <td>Inverter failed to start following plant trip</td>\n    </tr>\n    <tr>\n      <th>6</th>\n      <td>R23</td>\n      <td>Inverter</td>\n      <td>2018-07-25 14:20:00</td>\n      <td>2018-07-25 16:40:00</td>\n      <td>106</td>\n      <td>Corrective</td>\n      <td>inverter offline due to high ambient temp fault</td>\n    </tr>\n    <tr>\n      <th>8</th>\n      <td>R23</td>\n      <td>Facility</td>\n      <td>2018-08-02 01:05:00</td>\n      <td>2018-08-02 09:28:00</td>\n      <td>108</td>\n      <td>Corrective</td>\n      <td>Site trip due to grid disturbance</td>\n    </tr>\n    <tr>\n      <th>9</th>\n      <td>R27</td>\n      <td>Facility</td>\n      <td>2018-09-14 10:00:00</td>\n      <td>2018-09-16 16:00:00</td>\n      <td>1</td>\n      <td>corrective</td>\n      <td>hurricane florence outages/response. complete ...</td>\n    </tr>\n    <tr>\n      <th>10</th>\n      <td>R27</td>\n      <td>Facility</td>\n      <td>2018-05-19 13:04:00</td>\n      <td>2018-05-19 15:44:00</td>\n      <td>2</td>\n      <td>vegetation</td>\n      <td>Vegetation maintenance activities were performed</td>\n    </tr>\n    <tr>\n      <th>11</th>\n      <td>R27</td>\n      <td>Other</td>\n      <td>2018-09-19 07:00:00</td>\n      <td>2018-10-11 20:00:00</td>\n      <td>3</td>\n      <td>corrective</td>\n      <td>hurricane response. perform site inspection to...</td>\n    </tr>\n    <tr>\n      <th>12</th>\n      <td>R27</td>\n      <td>Facility</td>\n      <td>2018-10-13 12:00:00</td>\n      <td>2018-10-13 17:00:00</td>\n      <td>4</td>\n      <td>preventive</td>\n      <td>Monthly visual inspection</td>\n    </tr>\n  </tbody>\n</table>\n</div>"
     },
     "metadata": {},
     "execution_count": 25
    }
   ],
   "source": [
    "om_data_datena_d"
   ]
  },
  {
   "cell_type": "markdown",
   "metadata": {},
   "source": [
    "Rather than dropping rows, assigning \"today's\" time-stamp for missing end-dates to consider an open ticket"
   ]
  },
  {
   "cell_type": "code",
   "execution_count": 26,
   "metadata": {},
   "outputs": [
    {
     "output_type": "execute_result",
     "data": {
      "text/plain": [
       "   randid     Asset          date_start            date_end  WONumber  \\\n",
       "1     R23  Facility 2018-05-19 13:04:00 2018-05-19 15:44:00       101   \n",
       "2     R23  Facility 2018-06-15 06:46:00 2018-06-15 10:30:00       102   \n",
       "3     R23  Facility 2018-06-18 11:20:00 2018-06-18 14:03:00       103   \n",
       "4     R23  Facility 2018-07-21 04:45:00 2018-07-21 13:15:00       104   \n",
       "5     R23  Inverter 2018-07-21 13:16:00 2018-07-21 14:25:00       105   \n",
       "6     R23  Inverter 2018-07-25 14:20:00 2018-07-25 16:40:00       106   \n",
       "7     R23  Inverter 2018-08-01 11:45:00 2021-06-16 09:44:20       107   \n",
       "8     R23  Facility 2018-08-02 01:05:00 2018-08-02 09:28:00       108   \n",
       "9     R27  Facility 2018-09-14 10:00:00 2018-09-16 16:00:00         1   \n",
       "10    R27  Facility 2018-05-19 13:04:00 2018-05-19 15:44:00         2   \n",
       "11    R27     Other 2018-09-19 07:00:00 2018-10-11 20:00:00         3   \n",
       "12    R27  Facility 2018-10-13 12:00:00 2018-10-13 17:00:00         4   \n",
       "13    R27     other 2018-10-14 11:00:00 2021-06-16 09:44:20         5   \n",
       "\n",
       "        WOType                                        GeneralDesc  \n",
       "1   Preventive               Site offline due to grid disturbance  \n",
       "2   Corrective                 Plant trip due to grid disturbance  \n",
       "3   Corrective            Site trip due to cause grid disturbance  \n",
       "4   Vegetation               Site tripped due to grid disturbance  \n",
       "5   Corrective      Inverter failed to start following plant trip  \n",
       "6   Corrective    inverter offline due to high ambient temp fault  \n",
       "7   Corrective                   Inverter major underperformance   \n",
       "8   Corrective                  Site trip due to grid disturbance  \n",
       "9   corrective  hurricane florence outages/response. complete ...  \n",
       "10  vegetation   Vegetation maintenance activities were performed  \n",
       "11  corrective  hurricane response. perform site inspection to...  \n",
       "12  preventive                          Monthly visual inspection  \n",
       "13  preventive                          Monthly visual inspection  "
      ],
      "text/html": "<div>\n<style scoped>\n    .dataframe tbody tr th:only-of-type {\n        vertical-align: middle;\n    }\n\n    .dataframe tbody tr th {\n        vertical-align: top;\n    }\n\n    .dataframe thead th {\n        text-align: right;\n    }\n</style>\n<table border=\"1\" class=\"dataframe\">\n  <thead>\n    <tr style=\"text-align: right;\">\n      <th></th>\n      <th>randid</th>\n      <th>Asset</th>\n      <th>date_start</th>\n      <th>date_end</th>\n      <th>WONumber</th>\n      <th>WOType</th>\n      <th>GeneralDesc</th>\n    </tr>\n  </thead>\n  <tbody>\n    <tr>\n      <th>1</th>\n      <td>R23</td>\n      <td>Facility</td>\n      <td>2018-05-19 13:04:00</td>\n      <td>2018-05-19 15:44:00</td>\n      <td>101</td>\n      <td>Preventive</td>\n      <td>Site offline due to grid disturbance</td>\n    </tr>\n    <tr>\n      <th>2</th>\n      <td>R23</td>\n      <td>Facility</td>\n      <td>2018-06-15 06:46:00</td>\n      <td>2018-06-15 10:30:00</td>\n      <td>102</td>\n      <td>Corrective</td>\n      <td>Plant trip due to grid disturbance</td>\n    </tr>\n    <tr>\n      <th>3</th>\n      <td>R23</td>\n      <td>Facility</td>\n      <td>2018-06-18 11:20:00</td>\n      <td>2018-06-18 14:03:00</td>\n      <td>103</td>\n      <td>Corrective</td>\n      <td>Site trip due to cause grid disturbance</td>\n    </tr>\n    <tr>\n      <th>4</th>\n      <td>R23</td>\n      <td>Facility</td>\n      <td>2018-07-21 04:45:00</td>\n      <td>2018-07-21 13:15:00</td>\n      <td>104</td>\n      <td>Vegetation</td>\n      <td>Site tripped due to grid disturbance</td>\n    </tr>\n    <tr>\n      <th>5</th>\n      <td>R23</td>\n      <td>Inverter</td>\n      <td>2018-07-21 13:16:00</td>\n      <td>2018-07-21 14:25:00</td>\n      <td>105</td>\n      <td>Corrective</td>\n      <td>Inverter failed to start following plant trip</td>\n    </tr>\n    <tr>\n      <th>6</th>\n      <td>R23</td>\n      <td>Inverter</td>\n      <td>2018-07-25 14:20:00</td>\n      <td>2018-07-25 16:40:00</td>\n      <td>106</td>\n      <td>Corrective</td>\n      <td>inverter offline due to high ambient temp fault</td>\n    </tr>\n    <tr>\n      <th>7</th>\n      <td>R23</td>\n      <td>Inverter</td>\n      <td>2018-08-01 11:45:00</td>\n      <td>2021-06-16 09:44:20</td>\n      <td>107</td>\n      <td>Corrective</td>\n      <td>Inverter major underperformance</td>\n    </tr>\n    <tr>\n      <th>8</th>\n      <td>R23</td>\n      <td>Facility</td>\n      <td>2018-08-02 01:05:00</td>\n      <td>2018-08-02 09:28:00</td>\n      <td>108</td>\n      <td>Corrective</td>\n      <td>Site trip due to grid disturbance</td>\n    </tr>\n    <tr>\n      <th>9</th>\n      <td>R27</td>\n      <td>Facility</td>\n      <td>2018-09-14 10:00:00</td>\n      <td>2018-09-16 16:00:00</td>\n      <td>1</td>\n      <td>corrective</td>\n      <td>hurricane florence outages/response. complete ...</td>\n    </tr>\n    <tr>\n      <th>10</th>\n      <td>R27</td>\n      <td>Facility</td>\n      <td>2018-05-19 13:04:00</td>\n      <td>2018-05-19 15:44:00</td>\n      <td>2</td>\n      <td>vegetation</td>\n      <td>Vegetation maintenance activities were performed</td>\n    </tr>\n    <tr>\n      <th>11</th>\n      <td>R27</td>\n      <td>Other</td>\n      <td>2018-09-19 07:00:00</td>\n      <td>2018-10-11 20:00:00</td>\n      <td>3</td>\n      <td>corrective</td>\n      <td>hurricane response. perform site inspection to...</td>\n    </tr>\n    <tr>\n      <th>12</th>\n      <td>R27</td>\n      <td>Facility</td>\n      <td>2018-10-13 12:00:00</td>\n      <td>2018-10-13 17:00:00</td>\n      <td>4</td>\n      <td>preventive</td>\n      <td>Monthly visual inspection</td>\n    </tr>\n    <tr>\n      <th>13</th>\n      <td>R27</td>\n      <td>other</td>\n      <td>2018-10-14 11:00:00</td>\n      <td>2021-06-16 09:44:20</td>\n      <td>5</td>\n      <td>preventive</td>\n      <td>Monthly visual inspection</td>\n    </tr>\n  </tbody>\n</table>\n</div>"
     },
     "metadata": {},
     "execution_count": 26
    }
   ],
   "source": [
    "om_data_datena_t, addressed = preprocess.om_nadate_process(om_data_checked_s, om_col_dict, om_dendflag='today')\n",
    "om_data_datena_t"
   ]
  },
  {
   "cell_type": "markdown",
   "metadata": {},
   "source": [
    "## 4. Pre-visualizing preparation\n",
    "\n",
    "### 4.1 Print out overview of data frames"
   ]
  },
  {
   "cell_type": "markdown",
   "metadata": {},
   "source": [
    "#### Production"
   ]
  },
  {
   "cell_type": "code",
   "execution_count": 27,
   "metadata": {},
   "outputs": [
    {
     "output_type": "execute_result",
     "data": {
      "text/plain": [
       "        Actual # Time Stamps  Max # Time Stamps\n",
       "randid                                         \n",
       "R23                      387                387\n",
       "R27                      665                665"
      ],
      "text/html": "<div>\n<style scoped>\n    .dataframe tbody tr th:only-of-type {\n        vertical-align: middle;\n    }\n\n    .dataframe tbody tr th {\n        vertical-align: top;\n    }\n\n    .dataframe thead th {\n        text-align: right;\n    }\n</style>\n<table border=\"1\" class=\"dataframe\">\n  <thead>\n    <tr style=\"text-align: right;\">\n      <th></th>\n      <th>Actual # Time Stamps</th>\n      <th>Max # Time Stamps</th>\n    </tr>\n    <tr>\n      <th>randid</th>\n      <th></th>\n      <th></th>\n    </tr>\n  </thead>\n  <tbody>\n    <tr>\n      <th>R23</th>\n      <td>387</td>\n      <td>387</td>\n    </tr>\n    <tr>\n      <th>R27</th>\n      <td>665</td>\n      <td>665</td>\n    </tr>\n  </tbody>\n</table>\n</div>"
     },
     "metadata": {},
     "execution_count": 27
    }
   ],
   "source": [
    "prod_summary, om_summary = utils.summarize_overlaps(prod_data_datena_d, om_data_datena_t, prod_col_dict, om_col_dict)\n",
    "prod_summary"
   ]
  },
  {
   "cell_type": "markdown",
   "metadata": {},
   "source": [
    "#### O&M "
   ]
  },
  {
   "cell_type": "code",
   "execution_count": 28,
   "metadata": {
    "scrolled": true
   },
   "outputs": [
    {
     "output_type": "execute_result",
     "data": {
      "text/plain": [
       "       Earliest Event Start    Latest Event End  Total Events\n",
       "randid                                                       \n",
       "R23     2018-07-21 04:45:00 2021-06-16 09:44:20             5\n",
       "R27     2018-09-14 10:00:00 2018-10-13 17:00:00             3"
      ],
      "text/html": "<div>\n<style scoped>\n    .dataframe tbody tr th:only-of-type {\n        vertical-align: middle;\n    }\n\n    .dataframe tbody tr th {\n        vertical-align: top;\n    }\n\n    .dataframe thead th {\n        text-align: right;\n    }\n</style>\n<table border=\"1\" class=\"dataframe\">\n  <thead>\n    <tr style=\"text-align: right;\">\n      <th></th>\n      <th>Earliest Event Start</th>\n      <th>Latest Event End</th>\n      <th>Total Events</th>\n    </tr>\n    <tr>\n      <th>randid</th>\n      <th></th>\n      <th></th>\n      <th></th>\n    </tr>\n  </thead>\n  <tbody>\n    <tr>\n      <th>R23</th>\n      <td>2018-07-21 04:45:00</td>\n      <td>2021-06-16 09:44:20</td>\n      <td>5</td>\n    </tr>\n    <tr>\n      <th>R27</th>\n      <td>2018-09-14 10:00:00</td>\n      <td>2018-10-13 17:00:00</td>\n      <td>3</td>\n    </tr>\n  </tbody>\n</table>\n</div>"
     },
     "metadata": {},
     "execution_count": 28
    }
   ],
   "source": [
    "om_summary"
   ]
  },
  {
   "cell_type": "markdown",
   "metadata": {},
   "source": [
    "### 4.2 Extract overlapping data "
   ]
  },
  {
   "cell_type": "code",
   "execution_count": 29,
   "metadata": {},
   "outputs": [],
   "source": [
    "prod_data_clean, om_data_clean = utils.overlapping_data(prod_data_datena_d, om_data_datena_d, prod_col_dict, om_col_dict)"
   ]
  },
  {
   "cell_type": "markdown",
   "metadata": {},
   "source": [
    "Print post-processed production data frame\n"
   ]
  },
  {
   "cell_type": "code",
   "execution_count": 30,
   "metadata": {},
   "outputs": [
    {
     "output_type": "execute_result",
     "data": {
      "text/plain": [
       "     randid                Date     Energy  Irradiance\n",
       "0       R23 2018-07-19 01:00:00     1000.0         NaN\n",
       "1       R23 2018-07-19 02:00:00     1000.0         NaN\n",
       "2       R23 2018-07-19 03:00:00     1000.0         NaN\n",
       "3       R23 2018-07-19 04:00:00     1000.0         NaN\n",
       "4       R23 2018-07-19 05:00:00     1000.0         NaN\n",
       "...     ...                 ...        ...         ...\n",
       "1015    R27 2018-10-13 22:45:00  5289528.0         0.0\n",
       "1016    R27 2018-10-13 23:00:00  5289528.0         0.0\n",
       "1017    R27 2018-10-13 23:15:00  5289528.0         NaN\n",
       "1018    R27 2018-10-13 23:30:00  5289528.0         NaN\n",
       "1019    R27 2018-10-13 23:45:00  5289528.0         NaN\n",
       "\n",
       "[1020 rows x 4 columns]"
      ],
      "text/html": "<div>\n<style scoped>\n    .dataframe tbody tr th:only-of-type {\n        vertical-align: middle;\n    }\n\n    .dataframe tbody tr th {\n        vertical-align: top;\n    }\n\n    .dataframe thead th {\n        text-align: right;\n    }\n</style>\n<table border=\"1\" class=\"dataframe\">\n  <thead>\n    <tr style=\"text-align: right;\">\n      <th></th>\n      <th>randid</th>\n      <th>Date</th>\n      <th>Energy</th>\n      <th>Irradiance</th>\n    </tr>\n  </thead>\n  <tbody>\n    <tr>\n      <th>0</th>\n      <td>R23</td>\n      <td>2018-07-19 01:00:00</td>\n      <td>1000.0</td>\n      <td>NaN</td>\n    </tr>\n    <tr>\n      <th>1</th>\n      <td>R23</td>\n      <td>2018-07-19 02:00:00</td>\n      <td>1000.0</td>\n      <td>NaN</td>\n    </tr>\n    <tr>\n      <th>2</th>\n      <td>R23</td>\n      <td>2018-07-19 03:00:00</td>\n      <td>1000.0</td>\n      <td>NaN</td>\n    </tr>\n    <tr>\n      <th>3</th>\n      <td>R23</td>\n      <td>2018-07-19 04:00:00</td>\n      <td>1000.0</td>\n      <td>NaN</td>\n    </tr>\n    <tr>\n      <th>4</th>\n      <td>R23</td>\n      <td>2018-07-19 05:00:00</td>\n      <td>1000.0</td>\n      <td>NaN</td>\n    </tr>\n    <tr>\n      <th>...</th>\n      <td>...</td>\n      <td>...</td>\n      <td>...</td>\n      <td>...</td>\n    </tr>\n    <tr>\n      <th>1015</th>\n      <td>R27</td>\n      <td>2018-10-13 22:45:00</td>\n      <td>5289528.0</td>\n      <td>0.0</td>\n    </tr>\n    <tr>\n      <th>1016</th>\n      <td>R27</td>\n      <td>2018-10-13 23:00:00</td>\n      <td>5289528.0</td>\n      <td>0.0</td>\n    </tr>\n    <tr>\n      <th>1017</th>\n      <td>R27</td>\n      <td>2018-10-13 23:15:00</td>\n      <td>5289528.0</td>\n      <td>NaN</td>\n    </tr>\n    <tr>\n      <th>1018</th>\n      <td>R27</td>\n      <td>2018-10-13 23:30:00</td>\n      <td>5289528.0</td>\n      <td>NaN</td>\n    </tr>\n    <tr>\n      <th>1019</th>\n      <td>R27</td>\n      <td>2018-10-13 23:45:00</td>\n      <td>5289528.0</td>\n      <td>NaN</td>\n    </tr>\n  </tbody>\n</table>\n<p>1020 rows × 4 columns</p>\n</div>"
     },
     "metadata": {},
     "execution_count": 30
    }
   ],
   "source": [
    "prod_data_clean "
   ]
  },
  {
   "cell_type": "markdown",
   "metadata": {},
   "source": [
    "Print post-processed O&M data frame\n"
   ]
  },
  {
   "cell_type": "code",
   "execution_count": 31,
   "metadata": {},
   "outputs": [
    {
     "output_type": "execute_result",
     "data": {
      "text/plain": [
       "  randid     Asset          date_start            date_end  WONumber  \\\n",
       "0    R23  Facility 2018-07-21 04:45:00 2018-07-21 13:15:00       104   \n",
       "1    R23  Inverter 2018-07-21 13:16:00 2018-07-21 14:25:00       105   \n",
       "2    R23  Inverter 2018-07-25 14:20:00 2018-07-25 16:40:00       106   \n",
       "3    R23  Facility 2018-08-02 01:05:00 2018-08-02 09:28:00       108   \n",
       "4    R27  Facility 2018-09-14 10:00:00 2018-09-16 16:00:00         1   \n",
       "5    R27     Other 2018-09-19 07:00:00 2018-10-11 20:00:00         3   \n",
       "6    R27  Facility 2018-10-13 12:00:00 2018-10-13 17:00:00         4   \n",
       "\n",
       "       WOType                                        GeneralDesc  \n",
       "0  Vegetation               Site tripped due to grid disturbance  \n",
       "1  Corrective      Inverter failed to start following plant trip  \n",
       "2  Corrective    inverter offline due to high ambient temp fault  \n",
       "3  Corrective                  Site trip due to grid disturbance  \n",
       "4  corrective  hurricane florence outages/response. complete ...  \n",
       "5  corrective  hurricane response. perform site inspection to...  \n",
       "6  preventive                          Monthly visual inspection  "
      ],
      "text/html": "<div>\n<style scoped>\n    .dataframe tbody tr th:only-of-type {\n        vertical-align: middle;\n    }\n\n    .dataframe tbody tr th {\n        vertical-align: top;\n    }\n\n    .dataframe thead th {\n        text-align: right;\n    }\n</style>\n<table border=\"1\" class=\"dataframe\">\n  <thead>\n    <tr style=\"text-align: right;\">\n      <th></th>\n      <th>randid</th>\n      <th>Asset</th>\n      <th>date_start</th>\n      <th>date_end</th>\n      <th>WONumber</th>\n      <th>WOType</th>\n      <th>GeneralDesc</th>\n    </tr>\n  </thead>\n  <tbody>\n    <tr>\n      <th>0</th>\n      <td>R23</td>\n      <td>Facility</td>\n      <td>2018-07-21 04:45:00</td>\n      <td>2018-07-21 13:15:00</td>\n      <td>104</td>\n      <td>Vegetation</td>\n      <td>Site tripped due to grid disturbance</td>\n    </tr>\n    <tr>\n      <th>1</th>\n      <td>R23</td>\n      <td>Inverter</td>\n      <td>2018-07-21 13:16:00</td>\n      <td>2018-07-21 14:25:00</td>\n      <td>105</td>\n      <td>Corrective</td>\n      <td>Inverter failed to start following plant trip</td>\n    </tr>\n    <tr>\n      <th>2</th>\n      <td>R23</td>\n      <td>Inverter</td>\n      <td>2018-07-25 14:20:00</td>\n      <td>2018-07-25 16:40:00</td>\n      <td>106</td>\n      <td>Corrective</td>\n      <td>inverter offline due to high ambient temp fault</td>\n    </tr>\n    <tr>\n      <th>3</th>\n      <td>R23</td>\n      <td>Facility</td>\n      <td>2018-08-02 01:05:00</td>\n      <td>2018-08-02 09:28:00</td>\n      <td>108</td>\n      <td>Corrective</td>\n      <td>Site trip due to grid disturbance</td>\n    </tr>\n    <tr>\n      <th>4</th>\n      <td>R27</td>\n      <td>Facility</td>\n      <td>2018-09-14 10:00:00</td>\n      <td>2018-09-16 16:00:00</td>\n      <td>1</td>\n      <td>corrective</td>\n      <td>hurricane florence outages/response. complete ...</td>\n    </tr>\n    <tr>\n      <th>5</th>\n      <td>R27</td>\n      <td>Other</td>\n      <td>2018-09-19 07:00:00</td>\n      <td>2018-10-11 20:00:00</td>\n      <td>3</td>\n      <td>corrective</td>\n      <td>hurricane response. perform site inspection to...</td>\n    </tr>\n    <tr>\n      <th>6</th>\n      <td>R27</td>\n      <td>Facility</td>\n      <td>2018-10-13 12:00:00</td>\n      <td>2018-10-13 17:00:00</td>\n      <td>4</td>\n      <td>preventive</td>\n      <td>Monthly visual inspection</td>\n    </tr>\n  </tbody>\n</table>\n</div>"
     },
     "metadata": {},
     "execution_count": 31
    }
   ],
   "source": [
    "om_data_clean"
   ]
  },
  {
   "cell_type": "markdown",
   "metadata": {},
   "source": [
    "### 4.3 Calculate reference production data (IEC in this case)"
   ]
  },
  {
   "cell_type": "code",
   "execution_count": 32,
   "metadata": {},
   "outputs": [],
   "source": [
    "prod_data_clean_iec = iec.iec_calc(prod_data_clean, prod_col_dict, metadata, metad_col_dict, gi_ref=1000.)"
   ]
  },
  {
   "cell_type": "markdown",
   "metadata": {},
   "source": [
    "Print head of post-processed data frame\n"
   ]
  },
  {
   "cell_type": "code",
   "execution_count": 33,
   "metadata": {},
   "outputs": [
    {
     "output_type": "execute_result",
     "data": {
      "text/plain": [
       "   randid                Date     Energy  Irradiance   IEC_pstep\n",
       "0     R23 2018-07-19 01:00:00   1000.000         NaN         NaN\n",
       "1     R23 2018-07-19 02:00:00   1000.000         NaN         NaN\n",
       "2     R23 2018-07-19 03:00:00   1000.000         NaN         NaN\n",
       "3     R23 2018-07-19 04:00:00   1000.000         NaN         NaN\n",
       "4     R23 2018-07-19 05:00:00   1000.000         NaN         NaN\n",
       "5     R23 2018-07-19 06:00:00   1000.000         NaN         NaN\n",
       "6     R23 2018-07-19 07:00:00   1032.712     28.6245    71.56125\n",
       "7     R23 2018-07-19 08:00:00   1217.521    136.8305   342.07625\n",
       "8     R23 2018-07-19 09:00:00   1889.859    347.5645   868.91125\n",
       "9     R23 2018-07-19 10:00:00   3073.485    565.9015  1414.75375\n",
       "10    R23 2018-07-19 11:00:00   4662.416    754.6965  1886.74125\n",
       "11    R23 2018-07-19 12:00:00   6518.864    896.4945  2241.23625\n",
       "12    R23 2018-07-19 13:00:00   8469.309    984.3710  2460.92750\n",
       "13    R23 2018-07-19 14:00:00  10059.862   1018.6565  2546.64125\n",
       "14    R23 2018-07-19 15:00:00  11122.754    339.1815   847.95375"
      ],
      "text/html": "<div>\n<style scoped>\n    .dataframe tbody tr th:only-of-type {\n        vertical-align: middle;\n    }\n\n    .dataframe tbody tr th {\n        vertical-align: top;\n    }\n\n    .dataframe thead th {\n        text-align: right;\n    }\n</style>\n<table border=\"1\" class=\"dataframe\">\n  <thead>\n    <tr style=\"text-align: right;\">\n      <th></th>\n      <th>randid</th>\n      <th>Date</th>\n      <th>Energy</th>\n      <th>Irradiance</th>\n      <th>IEC_pstep</th>\n    </tr>\n  </thead>\n  <tbody>\n    <tr>\n      <th>0</th>\n      <td>R23</td>\n      <td>2018-07-19 01:00:00</td>\n      <td>1000.000</td>\n      <td>NaN</td>\n      <td>NaN</td>\n    </tr>\n    <tr>\n      <th>1</th>\n      <td>R23</td>\n      <td>2018-07-19 02:00:00</td>\n      <td>1000.000</td>\n      <td>NaN</td>\n      <td>NaN</td>\n    </tr>\n    <tr>\n      <th>2</th>\n      <td>R23</td>\n      <td>2018-07-19 03:00:00</td>\n      <td>1000.000</td>\n      <td>NaN</td>\n      <td>NaN</td>\n    </tr>\n    <tr>\n      <th>3</th>\n      <td>R23</td>\n      <td>2018-07-19 04:00:00</td>\n      <td>1000.000</td>\n      <td>NaN</td>\n      <td>NaN</td>\n    </tr>\n    <tr>\n      <th>4</th>\n      <td>R23</td>\n      <td>2018-07-19 05:00:00</td>\n      <td>1000.000</td>\n      <td>NaN</td>\n      <td>NaN</td>\n    </tr>\n    <tr>\n      <th>5</th>\n      <td>R23</td>\n      <td>2018-07-19 06:00:00</td>\n      <td>1000.000</td>\n      <td>NaN</td>\n      <td>NaN</td>\n    </tr>\n    <tr>\n      <th>6</th>\n      <td>R23</td>\n      <td>2018-07-19 07:00:00</td>\n      <td>1032.712</td>\n      <td>28.6245</td>\n      <td>71.56125</td>\n    </tr>\n    <tr>\n      <th>7</th>\n      <td>R23</td>\n      <td>2018-07-19 08:00:00</td>\n      <td>1217.521</td>\n      <td>136.8305</td>\n      <td>342.07625</td>\n    </tr>\n    <tr>\n      <th>8</th>\n      <td>R23</td>\n      <td>2018-07-19 09:00:00</td>\n      <td>1889.859</td>\n      <td>347.5645</td>\n      <td>868.91125</td>\n    </tr>\n    <tr>\n      <th>9</th>\n      <td>R23</td>\n      <td>2018-07-19 10:00:00</td>\n      <td>3073.485</td>\n      <td>565.9015</td>\n      <td>1414.75375</td>\n    </tr>\n    <tr>\n      <th>10</th>\n      <td>R23</td>\n      <td>2018-07-19 11:00:00</td>\n      <td>4662.416</td>\n      <td>754.6965</td>\n      <td>1886.74125</td>\n    </tr>\n    <tr>\n      <th>11</th>\n      <td>R23</td>\n      <td>2018-07-19 12:00:00</td>\n      <td>6518.864</td>\n      <td>896.4945</td>\n      <td>2241.23625</td>\n    </tr>\n    <tr>\n      <th>12</th>\n      <td>R23</td>\n      <td>2018-07-19 13:00:00</td>\n      <td>8469.309</td>\n      <td>984.3710</td>\n      <td>2460.92750</td>\n    </tr>\n    <tr>\n      <th>13</th>\n      <td>R23</td>\n      <td>2018-07-19 14:00:00</td>\n      <td>10059.862</td>\n      <td>1018.6565</td>\n      <td>2546.64125</td>\n    </tr>\n    <tr>\n      <th>14</th>\n      <td>R23</td>\n      <td>2018-07-19 15:00:00</td>\n      <td>11122.754</td>\n      <td>339.1815</td>\n      <td>847.95375</td>\n    </tr>\n  </tbody>\n</table>\n</div>"
     },
     "metadata": {},
     "execution_count": 33
    }
   ],
   "source": [
    "prod_data_clean_iec.head(n=15)"
   ]
  },
  {
   "cell_type": "markdown",
   "metadata": {},
   "source": [
    "### 4.4 Calculating a comparison of production data relative to baseline"
   ]
  },
  {
   "cell_type": "markdown",
   "metadata": {},
   "source": [
    "Calculate as a ratio (actual/baseline)"
   ]
  },
  {
   "cell_type": "code",
   "execution_count": 34,
   "metadata": {},
   "outputs": [
    {
     "output_type": "execute_result",
     "data": {
      "text/plain": [
       "     randid                Date     Energy  Irradiance  IEC_pstep  \\\n",
       "0       R23 2018-07-19 01:00:00     1000.0         NaN        NaN   \n",
       "1       R23 2018-07-19 02:00:00     1000.0         NaN        NaN   \n",
       "2       R23 2018-07-19 03:00:00     1000.0         NaN        NaN   \n",
       "3       R23 2018-07-19 04:00:00     1000.0         NaN        NaN   \n",
       "4       R23 2018-07-19 05:00:00     1000.0         NaN        NaN   \n",
       "...     ...                 ...        ...         ...        ...   \n",
       "1015    R27 2018-10-13 22:45:00  5289528.0         0.0        0.0   \n",
       "1016    R27 2018-10-13 23:00:00  5289528.0         0.0        0.0   \n",
       "1017    R27 2018-10-13 23:15:00  5289528.0         NaN        NaN   \n",
       "1018    R27 2018-10-13 23:30:00  5289528.0         NaN        NaN   \n",
       "1019    R27 2018-10-13 23:45:00  5289528.0         NaN        NaN   \n",
       "\n",
       "      Energy_pstep  Compared  \n",
       "0              NaN       NaN  \n",
       "1              0.0       NaN  \n",
       "2              0.0       NaN  \n",
       "3              0.0       NaN  \n",
       "4              0.0       NaN  \n",
       "...            ...       ...  \n",
       "1015           0.0       NaN  \n",
       "1016           0.0       NaN  \n",
       "1017           0.0       NaN  \n",
       "1018           0.0       NaN  \n",
       "1019           0.0       NaN  \n",
       "\n",
       "[1020 rows x 7 columns]"
      ],
      "text/html": "<div>\n<style scoped>\n    .dataframe tbody tr th:only-of-type {\n        vertical-align: middle;\n    }\n\n    .dataframe tbody tr th {\n        vertical-align: top;\n    }\n\n    .dataframe thead th {\n        text-align: right;\n    }\n</style>\n<table border=\"1\" class=\"dataframe\">\n  <thead>\n    <tr style=\"text-align: right;\">\n      <th></th>\n      <th>randid</th>\n      <th>Date</th>\n      <th>Energy</th>\n      <th>Irradiance</th>\n      <th>IEC_pstep</th>\n      <th>Energy_pstep</th>\n      <th>Compared</th>\n    </tr>\n  </thead>\n  <tbody>\n    <tr>\n      <th>0</th>\n      <td>R23</td>\n      <td>2018-07-19 01:00:00</td>\n      <td>1000.0</td>\n      <td>NaN</td>\n      <td>NaN</td>\n      <td>NaN</td>\n      <td>NaN</td>\n    </tr>\n    <tr>\n      <th>1</th>\n      <td>R23</td>\n      <td>2018-07-19 02:00:00</td>\n      <td>1000.0</td>\n      <td>NaN</td>\n      <td>NaN</td>\n      <td>0.0</td>\n      <td>NaN</td>\n    </tr>\n    <tr>\n      <th>2</th>\n      <td>R23</td>\n      <td>2018-07-19 03:00:00</td>\n      <td>1000.0</td>\n      <td>NaN</td>\n      <td>NaN</td>\n      <td>0.0</td>\n      <td>NaN</td>\n    </tr>\n    <tr>\n      <th>3</th>\n      <td>R23</td>\n      <td>2018-07-19 04:00:00</td>\n      <td>1000.0</td>\n      <td>NaN</td>\n      <td>NaN</td>\n      <td>0.0</td>\n      <td>NaN</td>\n    </tr>\n    <tr>\n      <th>4</th>\n      <td>R23</td>\n      <td>2018-07-19 05:00:00</td>\n      <td>1000.0</td>\n      <td>NaN</td>\n      <td>NaN</td>\n      <td>0.0</td>\n      <td>NaN</td>\n    </tr>\n    <tr>\n      <th>...</th>\n      <td>...</td>\n      <td>...</td>\n      <td>...</td>\n      <td>...</td>\n      <td>...</td>\n      <td>...</td>\n      <td>...</td>\n    </tr>\n    <tr>\n      <th>1015</th>\n      <td>R27</td>\n      <td>2018-10-13 22:45:00</td>\n      <td>5289528.0</td>\n      <td>0.0</td>\n      <td>0.0</td>\n      <td>0.0</td>\n      <td>NaN</td>\n    </tr>\n    <tr>\n      <th>1016</th>\n      <td>R27</td>\n      <td>2018-10-13 23:00:00</td>\n      <td>5289528.0</td>\n      <td>0.0</td>\n      <td>0.0</td>\n      <td>0.0</td>\n      <td>NaN</td>\n    </tr>\n    <tr>\n      <th>1017</th>\n      <td>R27</td>\n      <td>2018-10-13 23:15:00</td>\n      <td>5289528.0</td>\n      <td>NaN</td>\n      <td>NaN</td>\n      <td>0.0</td>\n      <td>NaN</td>\n    </tr>\n    <tr>\n      <th>1018</th>\n      <td>R27</td>\n      <td>2018-10-13 23:30:00</td>\n      <td>5289528.0</td>\n      <td>NaN</td>\n      <td>NaN</td>\n      <td>0.0</td>\n      <td>NaN</td>\n    </tr>\n    <tr>\n      <th>1019</th>\n      <td>R27</td>\n      <td>2018-10-13 23:45:00</td>\n      <td>5289528.0</td>\n      <td>NaN</td>\n      <td>NaN</td>\n      <td>0.0</td>\n      <td>NaN</td>\n    </tr>\n  </tbody>\n</table>\n<p>1020 rows × 7 columns</p>\n</div>"
     },
     "metadata": {},
     "execution_count": 34
    }
   ],
   "source": [
    "prod_data_quant = utils.prod_quant(prod_data_clean_iec, prod_col_dict, comp_type='norm', ecumu=True)\n",
    "prod_data_quant #Quick look at post-processed data"
   ]
  },
  {
   "cell_type": "markdown",
   "metadata": {},
   "source": [
    "Calculate as a difference (baseline-actual)"
   ]
  },
  {
   "cell_type": "code",
   "execution_count": 35,
   "metadata": {},
   "outputs": [
    {
     "output_type": "execute_result",
     "data": {
      "text/plain": [
       "     randid                Date     Energy  Irradiance  IEC_pstep  \\\n",
       "0       R23 2018-07-19 01:00:00     1000.0         NaN        NaN   \n",
       "1       R23 2018-07-19 02:00:00     1000.0         NaN        NaN   \n",
       "2       R23 2018-07-19 03:00:00     1000.0         NaN        NaN   \n",
       "3       R23 2018-07-19 04:00:00     1000.0         NaN        NaN   \n",
       "4       R23 2018-07-19 05:00:00     1000.0         NaN        NaN   \n",
       "...     ...                 ...        ...         ...        ...   \n",
       "1015    R27 2018-10-13 22:45:00  5289528.0         0.0        0.0   \n",
       "1016    R27 2018-10-13 23:00:00  5289528.0         0.0        0.0   \n",
       "1017    R27 2018-10-13 23:15:00  5289528.0         NaN        NaN   \n",
       "1018    R27 2018-10-13 23:30:00  5289528.0         NaN        NaN   \n",
       "1019    R27 2018-10-13 23:45:00  5289528.0         NaN        NaN   \n",
       "\n",
       "      Energy_pstep  Compared  \n",
       "0              NaN       NaN  \n",
       "1              0.0       NaN  \n",
       "2              0.0       NaN  \n",
       "3              0.0       NaN  \n",
       "4              0.0       NaN  \n",
       "...            ...       ...  \n",
       "1015           0.0       0.0  \n",
       "1016           0.0       0.0  \n",
       "1017           0.0       NaN  \n",
       "1018           0.0       NaN  \n",
       "1019           0.0       NaN  \n",
       "\n",
       "[1020 rows x 7 columns]"
      ],
      "text/html": "<div>\n<style scoped>\n    .dataframe tbody tr th:only-of-type {\n        vertical-align: middle;\n    }\n\n    .dataframe tbody tr th {\n        vertical-align: top;\n    }\n\n    .dataframe thead th {\n        text-align: right;\n    }\n</style>\n<table border=\"1\" class=\"dataframe\">\n  <thead>\n    <tr style=\"text-align: right;\">\n      <th></th>\n      <th>randid</th>\n      <th>Date</th>\n      <th>Energy</th>\n      <th>Irradiance</th>\n      <th>IEC_pstep</th>\n      <th>Energy_pstep</th>\n      <th>Compared</th>\n    </tr>\n  </thead>\n  <tbody>\n    <tr>\n      <th>0</th>\n      <td>R23</td>\n      <td>2018-07-19 01:00:00</td>\n      <td>1000.0</td>\n      <td>NaN</td>\n      <td>NaN</td>\n      <td>NaN</td>\n      <td>NaN</td>\n    </tr>\n    <tr>\n      <th>1</th>\n      <td>R23</td>\n      <td>2018-07-19 02:00:00</td>\n      <td>1000.0</td>\n      <td>NaN</td>\n      <td>NaN</td>\n      <td>0.0</td>\n      <td>NaN</td>\n    </tr>\n    <tr>\n      <th>2</th>\n      <td>R23</td>\n      <td>2018-07-19 03:00:00</td>\n      <td>1000.0</td>\n      <td>NaN</td>\n      <td>NaN</td>\n      <td>0.0</td>\n      <td>NaN</td>\n    </tr>\n    <tr>\n      <th>3</th>\n      <td>R23</td>\n      <td>2018-07-19 04:00:00</td>\n      <td>1000.0</td>\n      <td>NaN</td>\n      <td>NaN</td>\n      <td>0.0</td>\n      <td>NaN</td>\n    </tr>\n    <tr>\n      <th>4</th>\n      <td>R23</td>\n      <td>2018-07-19 05:00:00</td>\n      <td>1000.0</td>\n      <td>NaN</td>\n      <td>NaN</td>\n      <td>0.0</td>\n      <td>NaN</td>\n    </tr>\n    <tr>\n      <th>...</th>\n      <td>...</td>\n      <td>...</td>\n      <td>...</td>\n      <td>...</td>\n      <td>...</td>\n      <td>...</td>\n      <td>...</td>\n    </tr>\n    <tr>\n      <th>1015</th>\n      <td>R27</td>\n      <td>2018-10-13 22:45:00</td>\n      <td>5289528.0</td>\n      <td>0.0</td>\n      <td>0.0</td>\n      <td>0.0</td>\n      <td>0.0</td>\n    </tr>\n    <tr>\n      <th>1016</th>\n      <td>R27</td>\n      <td>2018-10-13 23:00:00</td>\n      <td>5289528.0</td>\n      <td>0.0</td>\n      <td>0.0</td>\n      <td>0.0</td>\n      <td>0.0</td>\n    </tr>\n    <tr>\n      <th>1017</th>\n      <td>R27</td>\n      <td>2018-10-13 23:15:00</td>\n      <td>5289528.0</td>\n      <td>NaN</td>\n      <td>NaN</td>\n      <td>0.0</td>\n      <td>NaN</td>\n    </tr>\n    <tr>\n      <th>1018</th>\n      <td>R27</td>\n      <td>2018-10-13 23:30:00</td>\n      <td>5289528.0</td>\n      <td>NaN</td>\n      <td>NaN</td>\n      <td>0.0</td>\n      <td>NaN</td>\n    </tr>\n    <tr>\n      <th>1019</th>\n      <td>R27</td>\n      <td>2018-10-13 23:45:00</td>\n      <td>5289528.0</td>\n      <td>NaN</td>\n      <td>NaN</td>\n      <td>0.0</td>\n      <td>NaN</td>\n    </tr>\n  </tbody>\n</table>\n<p>1020 rows × 7 columns</p>\n</div>"
     },
     "metadata": {},
     "execution_count": 35
    }
   ],
   "source": [
    "prod_data_quant = utils.prod_quant(prod_data_clean_iec, prod_col_dict, comp_type='diff', ecumu=True)\n",
    "prod_data_quant #Quick look at post-processed data"
   ]
  },
  {
   "cell_type": "markdown",
   "metadata": {},
   "source": [
    "## 5. Visualizations\n",
    "### 5.1 Visualizing overlapping production and O&M data"
   ]
  },
  {
   "cell_type": "markdown",
   "metadata": {},
   "source": [
    "Making directories to store generated visualizations.  "
   ]
  },
  {
   "cell_type": "code",
   "execution_count": 36,
   "metadata": {},
   "outputs": [],
   "source": [
    "#User should modify paths as needed\n",
    "main_fldr = 'analysis'\n",
    "if os.path.isdir(main_fldr):\n",
    "    shutil.rmtree(main_fldr)\n",
    "prod_fldr = os.path.join(main_fldr, 'perf_plots')\n",
    "site_fldr = os.path.join(main_fldr, 'site_plots')\n",
    "os.makedirs(prod_fldr)\n",
    "os.makedirs(site_fldr)"
   ]
  },
  {
   "cell_type": "markdown",
   "metadata": {},
   "source": [
    "Making visualizations"
   ]
  },
  {
   "cell_type": "code",
   "execution_count": 37,
   "metadata": {},
   "outputs": [],
   "source": [
    "figs = visualize.visualize_om_prod_overlap(prod_data_quant, om_data_clean, prod_col_dict, om_col_dict, prod_fldr=prod_fldr, e_cumu=True, be_cumu=False, samp_freq='H', pshift=0.0, baselineflag=True)"
   ]
  },
  {
   "cell_type": "markdown",
   "metadata": {},
   "source": [
    "Display figure handles of overlapping data (\"figs\" contains one figure per site in overlapping data frames)"
   ]
  },
  {
   "cell_type": "code",
   "execution_count": 38,
   "metadata": {},
   "outputs": [
    {
     "output_type": "display_data",
     "data": {
      "application/vnd.plotly.v1+json": {
       "config": {
        "plotlyServerURL": "https://plot.ly"
       },
       "data": [
        {
         "name": "Hourly Energy",
         "type": "scatter",
         "x": [
          "2018-07-19T01:00:00",
          "2018-07-19T02:00:00",
          "2018-07-19T03:00:00",
          "2018-07-19T04:00:00",
          "2018-07-19T05:00:00",
          "2018-07-19T06:00:00",
          "2018-07-19T07:00:00",
          "2018-07-19T08:00:00",
          "2018-07-19T09:00:00",
          "2018-07-19T10:00:00",
          "2018-07-19T11:00:00",
          "2018-07-19T12:00:00",
          "2018-07-19T13:00:00",
          "2018-07-19T14:00:00",
          "2018-07-19T15:00:00",
          "2018-07-19T16:00:00",
          "2018-07-19T17:00:00",
          "2018-07-19T18:00:00",
          "2018-07-19T19:00:00",
          "2018-07-19T20:00:00",
          "2018-07-19T21:00:00",
          "2018-07-19T22:00:00",
          "2018-07-19T23:00:00",
          "2018-07-20T00:00:00",
          "2018-07-20T01:00:00",
          "2018-07-20T02:00:00",
          "2018-07-20T03:00:00",
          "2018-07-20T04:00:00",
          "2018-07-20T05:00:00",
          "2018-07-20T06:00:00",
          "2018-07-20T07:00:00",
          "2018-07-20T08:00:00",
          "2018-07-20T09:00:00",
          "2018-07-20T10:00:00",
          "2018-07-20T11:00:00",
          "2018-07-20T12:00:00",
          "2018-07-20T13:00:00",
          "2018-07-20T14:00:00",
          "2018-07-20T15:00:00",
          "2018-07-20T16:00:00",
          "2018-07-20T17:00:00",
          "2018-07-20T18:00:00",
          "2018-07-20T19:00:00",
          "2018-07-20T20:00:00",
          "2018-07-20T21:00:00",
          "2018-07-20T22:00:00",
          "2018-07-20T23:00:00",
          "2018-07-21T00:00:00",
          "2018-07-21T01:00:00",
          "2018-07-21T02:00:00",
          "2018-07-21T03:00:00",
          "2018-07-21T04:00:00",
          "2018-07-21T05:00:00",
          "2018-07-21T06:00:00",
          "2018-07-21T07:00:00",
          "2018-07-21T08:00:00",
          "2018-07-21T09:00:00",
          "2018-07-21T10:00:00",
          "2018-07-21T11:00:00",
          "2018-07-21T12:00:00",
          "2018-07-21T13:00:00",
          "2018-07-21T14:00:00",
          "2018-07-21T15:00:00",
          "2018-07-21T16:00:00",
          "2018-07-21T17:00:00",
          "2018-07-21T18:00:00",
          "2018-07-21T19:00:00",
          "2018-07-21T20:00:00",
          "2018-07-21T21:00:00",
          "2018-07-21T22:00:00",
          "2018-07-21T23:00:00",
          "2018-07-22T00:00:00",
          "2018-07-22T01:00:00",
          "2018-07-22T02:00:00",
          "2018-07-22T03:00:00",
          "2018-07-22T04:00:00",
          "2018-07-22T05:00:00",
          "2018-07-22T06:00:00",
          "2018-07-22T07:00:00",
          "2018-07-22T08:00:00",
          "2018-07-22T09:00:00",
          "2018-07-22T10:00:00",
          "2018-07-22T11:00:00",
          "2018-07-22T12:00:00",
          "2018-07-22T13:00:00",
          "2018-07-22T14:00:00",
          "2018-07-22T15:00:00",
          "2018-07-22T16:00:00",
          "2018-07-22T17:00:00",
          "2018-07-22T18:00:00",
          "2018-07-22T19:00:00",
          "2018-07-22T20:00:00",
          "2018-07-22T21:00:00",
          "2018-07-22T22:00:00",
          "2018-07-22T23:00:00",
          "2018-07-23T00:00:00",
          "2018-07-23T01:00:00",
          "2018-07-23T02:00:00",
          "2018-07-23T03:00:00",
          "2018-07-23T04:00:00",
          "2018-07-23T05:00:00",
          "2018-07-23T06:00:00",
          "2018-07-23T07:00:00",
          "2018-07-23T08:00:00",
          "2018-07-23T09:00:00",
          "2018-07-23T10:00:00",
          "2018-07-23T11:00:00",
          "2018-07-23T12:00:00",
          "2018-07-23T13:00:00",
          "2018-07-23T14:00:00",
          "2018-07-23T15:00:00",
          "2018-07-23T16:00:00",
          "2018-07-23T17:00:00",
          "2018-07-23T18:00:00",
          "2018-07-23T19:00:00",
          "2018-07-23T20:00:00",
          "2018-07-23T21:00:00",
          "2018-07-23T22:00:00",
          "2018-07-23T23:00:00",
          "2018-07-24T00:00:00",
          "2018-07-24T01:00:00",
          "2018-07-24T02:00:00",
          "2018-07-24T03:00:00",
          "2018-07-24T04:00:00",
          "2018-07-24T05:00:00",
          "2018-07-24T06:00:00",
          "2018-07-24T07:00:00",
          "2018-07-24T08:00:00",
          "2018-07-24T09:00:00",
          "2018-07-24T10:00:00",
          "2018-07-24T11:00:00",
          "2018-07-24T12:00:00",
          "2018-07-24T13:00:00",
          "2018-07-24T14:00:00",
          "2018-07-24T15:00:00",
          "2018-07-24T16:00:00",
          "2018-07-24T17:00:00",
          "2018-07-24T18:00:00",
          "2018-07-24T19:00:00",
          "2018-07-24T20:00:00",
          "2018-07-24T21:00:00",
          "2018-07-24T22:00:00",
          "2018-07-24T23:00:00",
          "2018-07-25T00:00:00",
          "2018-07-25T01:00:00",
          "2018-07-25T02:00:00",
          "2018-07-25T03:00:00",
          "2018-07-25T04:00:00",
          "2018-07-25T05:00:00",
          "2018-07-25T06:00:00",
          "2018-07-25T07:00:00",
          "2018-07-25T08:00:00",
          "2018-07-25T09:00:00",
          "2018-07-25T10:00:00",
          "2018-07-25T11:00:00",
          "2018-07-25T12:00:00",
          "2018-07-25T13:00:00",
          "2018-07-25T14:00:00",
          "2018-07-25T15:00:00",
          "2018-07-25T16:00:00",
          "2018-07-25T17:00:00",
          "2018-07-25T18:00:00",
          "2018-07-25T19:00:00",
          "2018-07-25T20:00:00",
          "2018-07-25T21:00:00",
          "2018-07-25T22:00:00",
          "2018-07-25T23:00:00",
          "2018-07-26T00:00:00",
          "2018-07-26T01:00:00",
          "2018-07-26T02:00:00",
          "2018-07-26T03:00:00",
          "2018-07-26T04:00:00",
          "2018-07-26T05:00:00",
          "2018-07-26T06:00:00",
          "2018-07-26T07:00:00",
          "2018-07-26T08:00:00",
          "2018-07-26T09:00:00",
          "2018-07-26T10:00:00",
          "2018-07-26T11:00:00",
          "2018-07-26T12:00:00",
          "2018-07-26T13:00:00",
          "2018-07-26T14:00:00",
          "2018-07-26T15:00:00",
          "2018-07-26T16:00:00",
          "2018-07-26T17:00:00",
          "2018-07-26T18:00:00",
          "2018-07-26T19:00:00",
          "2018-07-26T20:00:00",
          "2018-07-26T21:00:00",
          "2018-07-26T22:00:00",
          "2018-07-26T23:00:00",
          "2018-07-27T00:00:00",
          "2018-07-27T01:00:00",
          "2018-07-27T02:00:00",
          "2018-07-27T03:00:00",
          "2018-07-27T04:00:00",
          "2018-07-27T05:00:00",
          "2018-07-27T06:00:00",
          "2018-07-27T07:00:00",
          "2018-07-27T08:00:00",
          "2018-07-27T09:00:00",
          "2018-07-27T10:00:00",
          "2018-07-27T11:00:00",
          "2018-07-27T12:00:00",
          "2018-07-27T13:00:00",
          "2018-07-27T14:00:00",
          "2018-07-27T15:00:00",
          "2018-07-27T16:00:00",
          "2018-07-27T17:00:00",
          "2018-07-27T18:00:00",
          "2018-07-27T19:00:00",
          "2018-07-27T20:00:00",
          "2018-07-27T21:00:00",
          "2018-07-27T22:00:00",
          "2018-07-27T23:00:00",
          "2018-07-28T00:00:00",
          "2018-07-28T01:00:00",
          "2018-07-28T02:00:00",
          "2018-07-28T03:00:00",
          "2018-07-28T04:00:00",
          "2018-07-28T05:00:00",
          "2018-07-28T06:00:00",
          "2018-07-28T07:00:00",
          "2018-07-28T08:00:00",
          "2018-07-28T09:00:00",
          "2018-07-28T10:00:00",
          "2018-07-28T11:00:00",
          "2018-07-28T12:00:00",
          "2018-07-28T13:00:00",
          "2018-07-28T14:00:00",
          "2018-07-28T15:00:00",
          "2018-07-28T16:00:00",
          "2018-07-28T17:00:00",
          "2018-07-28T18:00:00",
          "2018-07-28T19:00:00",
          "2018-07-28T20:00:00",
          "2018-07-28T21:00:00",
          "2018-07-28T22:00:00",
          "2018-07-28T23:00:00",
          "2018-07-29T00:00:00",
          "2018-07-29T01:00:00",
          "2018-07-29T02:00:00",
          "2018-07-29T03:00:00",
          "2018-07-29T04:00:00",
          "2018-07-29T05:00:00",
          "2018-07-29T06:00:00",
          "2018-07-29T07:00:00",
          "2018-07-29T08:00:00",
          "2018-07-29T09:00:00",
          "2018-07-29T10:00:00",
          "2018-07-29T11:00:00",
          "2018-07-29T12:00:00",
          "2018-07-29T13:00:00",
          "2018-07-29T14:00:00",
          "2018-07-29T15:00:00",
          "2018-07-29T16:00:00",
          "2018-07-29T17:00:00",
          "2018-07-29T18:00:00",
          "2018-07-29T19:00:00",
          "2018-07-29T20:00:00",
          "2018-07-29T21:00:00",
          "2018-07-29T22:00:00",
          "2018-07-29T23:00:00",
          "2018-07-30T00:00:00",
          "2018-07-30T01:00:00",
          "2018-07-30T02:00:00",
          "2018-07-30T03:00:00",
          "2018-07-30T04:00:00",
          "2018-07-30T05:00:00",
          "2018-07-30T06:00:00",
          "2018-07-30T07:00:00",
          "2018-07-30T08:00:00",
          "2018-07-30T09:00:00",
          "2018-07-30T10:00:00",
          "2018-07-30T11:00:00",
          "2018-07-30T12:00:00",
          "2018-07-30T13:00:00",
          "2018-07-30T14:00:00",
          "2018-07-30T15:00:00",
          "2018-07-30T16:00:00",
          "2018-07-30T17:00:00",
          "2018-07-30T18:00:00",
          "2018-07-30T19:00:00",
          "2018-07-30T20:00:00",
          "2018-07-30T21:00:00",
          "2018-07-30T22:00:00",
          "2018-07-30T23:00:00",
          "2018-07-31T00:00:00",
          "2018-07-31T01:00:00",
          "2018-07-31T02:00:00",
          "2018-07-31T03:00:00",
          "2018-07-31T04:00:00",
          "2018-07-31T05:00:00",
          "2018-07-31T06:00:00",
          "2018-07-31T07:00:00",
          "2018-07-31T08:00:00",
          "2018-07-31T09:00:00",
          "2018-07-31T10:00:00",
          "2018-07-31T11:00:00",
          "2018-07-31T12:00:00",
          "2018-07-31T13:00:00",
          "2018-07-31T14:00:00",
          "2018-07-31T15:00:00",
          "2018-07-31T16:00:00",
          "2018-07-31T17:00:00",
          "2018-07-31T18:00:00",
          "2018-07-31T19:00:00",
          "2018-07-31T20:00:00",
          "2018-07-31T21:00:00",
          "2018-07-31T22:00:00",
          "2018-07-31T23:00:00",
          "2018-08-01T00:00:00",
          "2018-08-01T01:00:00",
          "2018-08-01T02:00:00",
          "2018-08-01T03:00:00",
          "2018-08-01T04:00:00",
          "2018-08-01T05:00:00",
          "2018-08-01T06:00:00",
          "2018-08-01T07:00:00",
          "2018-08-01T08:00:00",
          "2018-08-01T09:00:00",
          "2018-08-01T10:00:00",
          "2018-08-01T11:00:00",
          "2018-08-01T12:00:00",
          "2018-08-01T13:00:00",
          "2018-08-01T14:00:00",
          "2018-08-01T15:00:00",
          "2018-08-01T16:00:00",
          "2018-08-01T17:00:00",
          "2018-08-01T18:00:00",
          "2018-08-01T19:00:00",
          "2018-08-01T20:00:00",
          "2018-08-01T21:00:00",
          "2018-08-01T22:00:00",
          "2018-08-01T23:00:00",
          "2018-08-02T00:00:00",
          "2018-08-02T01:00:00",
          "2018-08-02T02:00:00",
          "2018-08-02T03:00:00",
          "2018-08-02T04:00:00",
          "2018-08-02T05:00:00",
          "2018-08-02T06:00:00",
          "2018-08-02T07:00:00",
          "2018-08-02T08:00:00",
          "2018-08-02T09:00:00",
          "2018-08-02T10:00:00",
          "2018-08-02T11:00:00",
          "2018-08-02T12:00:00",
          "2018-08-02T13:00:00",
          "2018-08-02T14:00:00",
          "2018-08-02T15:00:00",
          "2018-08-02T16:00:00",
          "2018-08-02T17:00:00",
          "2018-08-02T18:00:00",
          "2018-08-02T19:00:00",
          "2018-08-02T20:00:00",
          "2018-08-02T21:00:00",
          "2018-08-02T22:00:00",
          "2018-08-02T23:00:00"
         ],
         "y": [
          null,
          0,
          0,
          0,
          0,
          0,
          32.71199999999999,
          184.80899999999997,
          672.338,
          1183.6260000000002,
          1588.931,
          1856.4480000000003,
          1950.4450000000006,
          1590.552999999998,
          1062.8919999999998,
          1761.7510000000002,
          1399.7470000000012,
          909.4869999999992,
          379.08200000000215,
          48.539999999999054,
          0,
          0,
          0,
          0,
          0,
          0,
          0,
          0,
          0,
          0,
          23.610000000000582,
          193.0729999999985,
          671.6779999999981,
          1185.8460000000014,
          1599.065999999999,
          1864.8199999999997,
          2015.1130000000048,
          2011.5929999999971,
          1900.071,
          1669.921000000002,
          1333.466999999997,
          869.1759999999995,
          366.8970000000045,
          46.705999999994674,
          0,
          0,
          0,
          0,
          0,
          0,
          0,
          0,
          0,
          0,
          0,
          0,
          0,
          0,
          0,
          0,
          0,
          721.1370000000024,
          1150.4450000000033,
          972.4839999999967,
          1015.5009999999966,
          873.4950000000026,
          374.7129999999961,
          45.06000000000495,
          0,
          0,
          0,
          0,
          0,
          0,
          0,
          0,
          0,
          0,
          30.925999999999476,
          180.06899999999587,
          696.3310000000056,
          1223.436999999998,
          1634.721000000005,
          1897.3529999999955,
          1936.6809999999969,
          1828.9380000000092,
          1790.278999999995,
          1705.7579999999944,
          1424.8610000000044,
          945.8859999999986,
          391.2979999999952,
          39.0170000000071,
          0,
          0,
          0,
          0,
          0,
          0,
          0,
          0,
          0,
          0,
          33.35399999999936,
          181.8420000000042,
          683.8459999999977,
          1205.9119999999966,
          1623.2589999999982,
          1888.1640000000043,
          1848.877999999997,
          1744.024000000005,
          1706.5209999999934,
          1613.8170000000027,
          1321.4729999999981,
          884.3029999999999,
          183.89999999999418,
          45.596000000005006,
          0,
          0,
          0,
          0,
          0,
          0,
          0,
          0,
          0,
          0,
          33.87399999999616,
          184.6200000000099,
          674.0179999999964,
          1192.0010000000038,
          1587.8129999999946,
          1801.9930000000022,
          1710.7369999999937,
          1692.899000000005,
          1515.9110000000073,
          1189.9419999999955,
          1410.050000000003,
          919.8450000000012,
          190.99199999999837,
          37.988999999986845,
          0,
          0,
          0,
          0,
          0,
          0,
          0,
          0,
          0,
          0,
          36.79900000001362,
          192.3969999999972,
          673.070000000007,
          1192.375,
          1593.025999999998,
          1831.1820000000007,
          1722.8129999999946,
          1639.3169999999955,
          980.0190000000002,
          760.9640000000072,
          969.9909999999945,
          867.6300000000047,
          262.45500000000175,
          43.56500000000233,
          0,
          0,
          0,
          0,
          0,
          0,
          0,
          0,
          0,
          0,
          45.595000000001164,
          211.88899999999558,
          684.8399999999965,
          1190.5750000000116,
          1580.6269999999931,
          1792.0540000000037,
          1695.3059999999969,
          1620.9609999999957,
          1677.1070000000036,
          1604.3989999999903,
          1384.186000000016,
          923.0519999999815,
          391.538000000015,
          49.44299999998475,
          0,
          0,
          0,
          0,
          0,
          0,
          0,
          0,
          0,
          0,
          44.38200000001234,
          220.13899999998102,
          652.7930000000197,
          1165.6769999999815,
          1583.913000000015,
          1811.7540000000008,
          1694.869000000006,
          1715.8499999999913,
          1707.7920000000013,
          1655.4119999999966,
          1409.554999999993,
          899.8580000000075,
          384.8269999999902,
          52.705000000001746,
          0,
          0,
          0,
          0,
          0,
          0,
          0,
          0,
          0,
          0,
          41.53300000001036,
          208.84399999999732,
          691.8829999999871,
          1208.1840000000084,
          1604.4790000000066,
          1798.2799999999988,
          1803.2580000000162,
          1764.3469999999797,
          1698.0860000000102,
          1666.3299999999872,
          1378.13400000002,
          861.0299999999988,
          327.00599999999395,
          32.92699999999604,
          0,
          0,
          0,
          0,
          0,
          0,
          0,
          0,
          0,
          0,
          34.138999999995576,
          197.7390000000014,
          675.9530000000086,
          1136.7239999999874,
          1605.061000000016,
          1874.261999999988,
          1830.1120000000228,
          1801.4059999999881,
          1766.2909999999974,
          1644.3999999999942,
          1325.5859999999811,
          836.2230000000272,
          262.57299999997485,
          68.03500000000349,
          0,
          0,
          0,
          0,
          0,
          0,
          0,
          0,
          0,
          0,
          31.02400000000489,
          173.04800000000978,
          299.3090000000084,
          516.9309999999823,
          790.9569999999949,
          1662.027000000031,
          1900.8389999999781,
          1796.8479999999981,
          1707.2880000000005,
          1692.4040000000095,
          1355.4349999999977,
          880.3919999999925,
          349.43600000001607,
          36.244000000006054,
          0,
          0,
          0,
          0,
          0,
          0,
          0,
          0,
          0,
          0,
          15.5109999999695,
          226.40400000000955,
          452.48200000001816,
          913.265000000014,
          1479.4279999999562,
          1492.5010000000184,
          1396.3769999999786,
          1223.7920000000158,
          1269.6579999999958,
          1467.2540000000154,
          1413.7449999999953,
          1014.9659999999858,
          341.1849999999977,
          32.54300000000512,
          0,
          0,
          0,
          0,
          0,
          0,
          0,
          0,
          0,
          0,
          27.110000000015134,
          188.8069999999716,
          649.5660000000207,
          1152.813999999984,
          1547.3650000000198,
          1810.6719999999914,
          1841.5740000000224,
          1829.4579999999842,
          1769.6820000000007,
          1678.7780000000203,
          1321.3639999999723,
          693.9890000000014,
          348.9790000000212,
          44.10699999998906,
          0,
          0,
          0,
          0,
          0,
          0,
          0,
          0,
          0,
          0,
          0,
          0,
          0,
          559.8429999999935,
          1496.4200000000128,
          1803.8189999999886,
          1950.1540000000095,
          1896.5779999999795,
          1803.314000000013,
          1701.7569999999832,
          1355.591000000015,
          861.3570000000182,
          331.1569999999774,
          31.188999999983935,
          0,
          0,
          0
         ]
        },
        {
         "name": "Hourly Baseline",
         "type": "scatter",
         "x": [
          "2018-07-19T01:00:00",
          "2018-07-19T02:00:00",
          "2018-07-19T03:00:00",
          "2018-07-19T04:00:00",
          "2018-07-19T05:00:00",
          "2018-07-19T06:00:00",
          "2018-07-19T07:00:00",
          "2018-07-19T08:00:00",
          "2018-07-19T09:00:00",
          "2018-07-19T10:00:00",
          "2018-07-19T11:00:00",
          "2018-07-19T12:00:00",
          "2018-07-19T13:00:00",
          "2018-07-19T14:00:00",
          "2018-07-19T15:00:00",
          "2018-07-19T16:00:00",
          "2018-07-19T17:00:00",
          "2018-07-19T18:00:00",
          "2018-07-19T19:00:00",
          "2018-07-19T20:00:00",
          "2018-07-19T21:00:00",
          "2018-07-19T22:00:00",
          "2018-07-19T23:00:00",
          "2018-07-20T00:00:00",
          "2018-07-20T01:00:00",
          "2018-07-20T02:00:00",
          "2018-07-20T03:00:00",
          "2018-07-20T04:00:00",
          "2018-07-20T05:00:00",
          "2018-07-20T06:00:00",
          "2018-07-20T07:00:00",
          "2018-07-20T08:00:00",
          "2018-07-20T09:00:00",
          "2018-07-20T10:00:00",
          "2018-07-20T11:00:00",
          "2018-07-20T12:00:00",
          "2018-07-20T13:00:00",
          "2018-07-20T14:00:00",
          "2018-07-20T15:00:00",
          "2018-07-20T16:00:00",
          "2018-07-20T17:00:00",
          "2018-07-20T18:00:00",
          "2018-07-20T19:00:00",
          "2018-07-20T20:00:00",
          "2018-07-20T21:00:00",
          "2018-07-20T22:00:00",
          "2018-07-20T23:00:00",
          "2018-07-21T00:00:00",
          "2018-07-21T01:00:00",
          "2018-07-21T02:00:00",
          "2018-07-21T03:00:00",
          "2018-07-21T04:00:00",
          "2018-07-21T05:00:00",
          "2018-07-21T06:00:00",
          "2018-07-21T07:00:00",
          "2018-07-21T08:00:00",
          "2018-07-21T09:00:00",
          "2018-07-21T10:00:00",
          "2018-07-21T11:00:00",
          "2018-07-21T12:00:00",
          "2018-07-21T13:00:00",
          "2018-07-21T14:00:00",
          "2018-07-21T15:00:00",
          "2018-07-21T16:00:00",
          "2018-07-21T17:00:00",
          "2018-07-21T18:00:00",
          "2018-07-21T19:00:00",
          "2018-07-21T20:00:00",
          "2018-07-21T21:00:00",
          "2018-07-21T22:00:00",
          "2018-07-21T23:00:00",
          "2018-07-22T00:00:00",
          "2018-07-22T01:00:00",
          "2018-07-22T02:00:00",
          "2018-07-22T03:00:00",
          "2018-07-22T04:00:00",
          "2018-07-22T05:00:00",
          "2018-07-22T06:00:00",
          "2018-07-22T07:00:00",
          "2018-07-22T08:00:00",
          "2018-07-22T09:00:00",
          "2018-07-22T10:00:00",
          "2018-07-22T11:00:00",
          "2018-07-22T12:00:00",
          "2018-07-22T13:00:00",
          "2018-07-22T14:00:00",
          "2018-07-22T15:00:00",
          "2018-07-22T16:00:00",
          "2018-07-22T17:00:00",
          "2018-07-22T18:00:00",
          "2018-07-22T19:00:00",
          "2018-07-22T20:00:00",
          "2018-07-22T21:00:00",
          "2018-07-22T22:00:00",
          "2018-07-22T23:00:00",
          "2018-07-23T00:00:00",
          "2018-07-23T01:00:00",
          "2018-07-23T02:00:00",
          "2018-07-23T03:00:00",
          "2018-07-23T04:00:00",
          "2018-07-23T05:00:00",
          "2018-07-23T06:00:00",
          "2018-07-23T07:00:00",
          "2018-07-23T08:00:00",
          "2018-07-23T09:00:00",
          "2018-07-23T10:00:00",
          "2018-07-23T11:00:00",
          "2018-07-23T12:00:00",
          "2018-07-23T13:00:00",
          "2018-07-23T14:00:00",
          "2018-07-23T15:00:00",
          "2018-07-23T16:00:00",
          "2018-07-23T17:00:00",
          "2018-07-23T18:00:00",
          "2018-07-23T19:00:00",
          "2018-07-23T20:00:00",
          "2018-07-23T21:00:00",
          "2018-07-23T22:00:00",
          "2018-07-23T23:00:00",
          "2018-07-24T00:00:00",
          "2018-07-24T01:00:00",
          "2018-07-24T02:00:00",
          "2018-07-24T03:00:00",
          "2018-07-24T04:00:00",
          "2018-07-24T05:00:00",
          "2018-07-24T06:00:00",
          "2018-07-24T07:00:00",
          "2018-07-24T08:00:00",
          "2018-07-24T09:00:00",
          "2018-07-24T10:00:00",
          "2018-07-24T11:00:00",
          "2018-07-24T12:00:00",
          "2018-07-24T13:00:00",
          "2018-07-24T14:00:00",
          "2018-07-24T15:00:00",
          "2018-07-24T16:00:00",
          "2018-07-24T17:00:00",
          "2018-07-24T18:00:00",
          "2018-07-24T19:00:00",
          "2018-07-24T20:00:00",
          "2018-07-24T21:00:00",
          "2018-07-24T22:00:00",
          "2018-07-24T23:00:00",
          "2018-07-25T00:00:00",
          "2018-07-25T01:00:00",
          "2018-07-25T02:00:00",
          "2018-07-25T03:00:00",
          "2018-07-25T04:00:00",
          "2018-07-25T05:00:00",
          "2018-07-25T06:00:00",
          "2018-07-25T07:00:00",
          "2018-07-25T08:00:00",
          "2018-07-25T09:00:00",
          "2018-07-25T10:00:00",
          "2018-07-25T11:00:00",
          "2018-07-25T12:00:00",
          "2018-07-25T13:00:00",
          "2018-07-25T14:00:00",
          "2018-07-25T15:00:00",
          "2018-07-25T16:00:00",
          "2018-07-25T17:00:00",
          "2018-07-25T18:00:00",
          "2018-07-25T19:00:00",
          "2018-07-25T20:00:00",
          "2018-07-25T21:00:00",
          "2018-07-25T22:00:00",
          "2018-07-25T23:00:00",
          "2018-07-26T00:00:00",
          "2018-07-26T01:00:00",
          "2018-07-26T02:00:00",
          "2018-07-26T03:00:00",
          "2018-07-26T04:00:00",
          "2018-07-26T05:00:00",
          "2018-07-26T06:00:00",
          "2018-07-26T07:00:00",
          "2018-07-26T08:00:00",
          "2018-07-26T09:00:00",
          "2018-07-26T10:00:00",
          "2018-07-26T11:00:00",
          "2018-07-26T12:00:00",
          "2018-07-26T13:00:00",
          "2018-07-26T14:00:00",
          "2018-07-26T15:00:00",
          "2018-07-26T16:00:00",
          "2018-07-26T17:00:00",
          "2018-07-26T18:00:00",
          "2018-07-26T19:00:00",
          "2018-07-26T20:00:00",
          "2018-07-26T21:00:00",
          "2018-07-26T22:00:00",
          "2018-07-26T23:00:00",
          "2018-07-27T00:00:00",
          "2018-07-27T01:00:00",
          "2018-07-27T02:00:00",
          "2018-07-27T03:00:00",
          "2018-07-27T04:00:00",
          "2018-07-27T05:00:00",
          "2018-07-27T06:00:00",
          "2018-07-27T07:00:00",
          "2018-07-27T08:00:00",
          "2018-07-27T09:00:00",
          "2018-07-27T10:00:00",
          "2018-07-27T11:00:00",
          "2018-07-27T12:00:00",
          "2018-07-27T13:00:00",
          "2018-07-27T14:00:00",
          "2018-07-27T15:00:00",
          "2018-07-27T16:00:00",
          "2018-07-27T17:00:00",
          "2018-07-27T18:00:00",
          "2018-07-27T19:00:00",
          "2018-07-27T20:00:00",
          "2018-07-27T21:00:00",
          "2018-07-27T22:00:00",
          "2018-07-27T23:00:00",
          "2018-07-28T00:00:00",
          "2018-07-28T01:00:00",
          "2018-07-28T02:00:00",
          "2018-07-28T03:00:00",
          "2018-07-28T04:00:00",
          "2018-07-28T05:00:00",
          "2018-07-28T06:00:00",
          "2018-07-28T07:00:00",
          "2018-07-28T08:00:00",
          "2018-07-28T09:00:00",
          "2018-07-28T10:00:00",
          "2018-07-28T11:00:00",
          "2018-07-28T12:00:00",
          "2018-07-28T13:00:00",
          "2018-07-28T14:00:00",
          "2018-07-28T15:00:00",
          "2018-07-28T16:00:00",
          "2018-07-28T17:00:00",
          "2018-07-28T18:00:00",
          "2018-07-28T19:00:00",
          "2018-07-28T20:00:00",
          "2018-07-28T21:00:00",
          "2018-07-28T22:00:00",
          "2018-07-28T23:00:00",
          "2018-07-29T00:00:00",
          "2018-07-29T01:00:00",
          "2018-07-29T02:00:00",
          "2018-07-29T03:00:00",
          "2018-07-29T04:00:00",
          "2018-07-29T05:00:00",
          "2018-07-29T06:00:00",
          "2018-07-29T07:00:00",
          "2018-07-29T08:00:00",
          "2018-07-29T09:00:00",
          "2018-07-29T10:00:00",
          "2018-07-29T11:00:00",
          "2018-07-29T12:00:00",
          "2018-07-29T13:00:00",
          "2018-07-29T14:00:00",
          "2018-07-29T15:00:00",
          "2018-07-29T16:00:00",
          "2018-07-29T17:00:00",
          "2018-07-29T18:00:00",
          "2018-07-29T19:00:00",
          "2018-07-29T20:00:00",
          "2018-07-29T21:00:00",
          "2018-07-29T22:00:00",
          "2018-07-29T23:00:00",
          "2018-07-30T00:00:00",
          "2018-07-30T01:00:00",
          "2018-07-30T02:00:00",
          "2018-07-30T03:00:00",
          "2018-07-30T04:00:00",
          "2018-07-30T05:00:00",
          "2018-07-30T06:00:00",
          "2018-07-30T07:00:00",
          "2018-07-30T08:00:00",
          "2018-07-30T09:00:00",
          "2018-07-30T10:00:00",
          "2018-07-30T11:00:00",
          "2018-07-30T12:00:00",
          "2018-07-30T13:00:00",
          "2018-07-30T14:00:00",
          "2018-07-30T15:00:00",
          "2018-07-30T16:00:00",
          "2018-07-30T17:00:00",
          "2018-07-30T18:00:00",
          "2018-07-30T19:00:00",
          "2018-07-30T20:00:00",
          "2018-07-30T21:00:00",
          "2018-07-30T22:00:00",
          "2018-07-30T23:00:00",
          "2018-07-31T00:00:00",
          "2018-07-31T01:00:00",
          "2018-07-31T02:00:00",
          "2018-07-31T03:00:00",
          "2018-07-31T04:00:00",
          "2018-07-31T05:00:00",
          "2018-07-31T06:00:00",
          "2018-07-31T07:00:00",
          "2018-07-31T08:00:00",
          "2018-07-31T09:00:00",
          "2018-07-31T10:00:00",
          "2018-07-31T11:00:00",
          "2018-07-31T12:00:00",
          "2018-07-31T13:00:00",
          "2018-07-31T14:00:00",
          "2018-07-31T15:00:00",
          "2018-07-31T16:00:00",
          "2018-07-31T17:00:00",
          "2018-07-31T18:00:00",
          "2018-07-31T19:00:00",
          "2018-07-31T20:00:00",
          "2018-07-31T21:00:00",
          "2018-07-31T22:00:00",
          "2018-07-31T23:00:00",
          "2018-08-01T00:00:00",
          "2018-08-01T01:00:00",
          "2018-08-01T02:00:00",
          "2018-08-01T03:00:00",
          "2018-08-01T04:00:00",
          "2018-08-01T05:00:00",
          "2018-08-01T06:00:00",
          "2018-08-01T07:00:00",
          "2018-08-01T08:00:00",
          "2018-08-01T09:00:00",
          "2018-08-01T10:00:00",
          "2018-08-01T11:00:00",
          "2018-08-01T12:00:00",
          "2018-08-01T13:00:00",
          "2018-08-01T14:00:00",
          "2018-08-01T15:00:00",
          "2018-08-01T16:00:00",
          "2018-08-01T17:00:00",
          "2018-08-01T18:00:00",
          "2018-08-01T19:00:00",
          "2018-08-01T20:00:00",
          "2018-08-01T21:00:00",
          "2018-08-01T22:00:00",
          "2018-08-01T23:00:00",
          "2018-08-02T00:00:00",
          "2018-08-02T01:00:00",
          "2018-08-02T02:00:00",
          "2018-08-02T03:00:00",
          "2018-08-02T04:00:00",
          "2018-08-02T05:00:00",
          "2018-08-02T06:00:00",
          "2018-08-02T07:00:00",
          "2018-08-02T08:00:00",
          "2018-08-02T09:00:00",
          "2018-08-02T10:00:00",
          "2018-08-02T11:00:00",
          "2018-08-02T12:00:00",
          "2018-08-02T13:00:00",
          "2018-08-02T14:00:00",
          "2018-08-02T15:00:00",
          "2018-08-02T16:00:00",
          "2018-08-02T17:00:00",
          "2018-08-02T18:00:00",
          "2018-08-02T19:00:00",
          "2018-08-02T20:00:00",
          "2018-08-02T21:00:00",
          "2018-08-02T22:00:00",
          "2018-08-02T23:00:00"
         ],
         "y": [
          0,
          0,
          0,
          0,
          0,
          0,
          71.56125,
          342.07625,
          868.91125,
          1414.7537500000003,
          1886.74125,
          2241.23625,
          2460.9275000000007,
          2546.64125,
          847.9537500000001,
          2071.595,
          1603.8999999999999,
          1024.615,
          467.04875,
          69.795,
          0,
          0,
          0,
          0,
          0,
          0,
          0,
          0,
          0,
          2.1275,
          54.807500000000005,
          331.8775,
          855.92125,
          1413.0675,
          1902.26125,
          2234.43375,
          2458.21875,
          2481.42625,
          2352.08875,
          2023.7875,
          1563.02875,
          1011.0912500000002,
          454.105,
          66.85625,
          0,
          0,
          0,
          0,
          0,
          0,
          0,
          0,
          0,
          0,
          0,
          0,
          0,
          0,
          0,
          0,
          0,
          2399.65625,
          1717.2525000000003,
          1061.66875,
          1084.305,
          1005.1674999999999,
          474.09,
          66.62875,
          0,
          0,
          0,
          0,
          0,
          0,
          0,
          0,
          0,
          1.155,
          64.09625,
          340.7800000000001,
          887.46875,
          1441.53125,
          1945.6825,
          2298.20125,
          2528.58375,
          2548.82875,
          2386.9125,
          2112.485,
          1628.7912499999998,
          1057.8975,
          475.3475,
          55.44125,
          0,
          0,
          0,
          0,
          0,
          0,
          0,
          0,
          0,
          0,
          66.56625,
          344.8025,
          893.0149999999999,
          1440.10625,
          1929.9125,
          2285.3925,
          2491.3375,
          2526.0425,
          2376.6425,
          2087.35625,
          1615.48375,
          1005.65375,
          191.98250000000002,
          67.0925,
          0,
          0,
          0,
          0,
          0,
          0,
          0,
          0,
          0,
          0,
          67.49625,
          344.71875,
          881.64625,
          1443.6450000000002,
          1924.8825,
          2279.2425,
          2490.145,
          2519.47875,
          2375.5425,
          1702.89875,
          1625.49625,
          1052.93125,
          228.35,
          61.206250000000004,
          0,
          0,
          0,
          0,
          0,
          0,
          0,
          0,
          0,
          0,
          69.27125,
          343.02750000000003,
          881.1425,
          1436.31125,
          1927.65375,
          2282.92,
          2483.07125,
          2488.94,
          2409.17625,
          2076.055,
          1608.28,
          1049.86375,
          319.07875,
          60.29625,
          0,
          0,
          0,
          0,
          0,
          0,
          0,
          0,
          0,
          0,
          74.08125,
          349.685,
          874.99875,
          1437.52375,
          1911.9125,
          2279.22125,
          2455.9599999999996,
          2512.05125,
          2359.02625,
          2071.3525000000004,
          1573.53375,
          1050.07,
          471.995,
          61.842499999999994,
          0,
          0,
          0,
          0,
          0,
          0,
          0,
          0,
          0,
          0,
          69.52000000000001,
          316.43625,
          821.02375,
          1394.82125,
          1900.29125,
          2293.2325,
          2493.58,
          2535.76875,
          2425.855,
          2066.15125,
          1605.20875,
          1013.27125,
          462.33500000000004,
          67.54375,
          0,
          0,
          0,
          0,
          0,
          0,
          0,
          0,
          0,
          0,
          69.3375,
          351.51625,
          893.04875,
          1450.1274999999998,
          1938.49625,
          2295.0875,
          2487.3225,
          2524.59875,
          2330.8075,
          2036.7525,
          1555.0924999999997,
          949.875,
          401.33,
          47.04375,
          0,
          0,
          0,
          0,
          0,
          0,
          0,
          0,
          0,
          0,
          66.45,
          333.92125,
          878.1999999999999,
          1365.11125,
          1926.2312499999998,
          2273.35375,
          2466.83375,
          2459.08,
          2349.85125,
          2019.63,
          1446.69125,
          1003.44375,
          294.3925,
          92.09875,
          0,
          0,
          0,
          0,
          0,
          0,
          0,
          0,
          0,
          0,
          51.1025,
          207.1475,
          350.91625,
          454.09375,
          866.89875,
          2218.96875,
          2470.935,
          2508.02625,
          2226.6375,
          2006.1474999999998,
          1544.0475,
          992.6549999999999,
          421.2975,
          52.73,
          0,
          0,
          0,
          0,
          0,
          0,
          0,
          0,
          0,
          0,
          37.60625,
          238.7625,
          425.3525,
          926.7524999999998,
          1836.70625,
          1930.6175,
          1674.5675,
          1579.7975,
          1002.5212500000001,
          1995.5275,
          1609.1674999999998,
          1206.66,
          372.21375,
          46.00875,
          0,
          0,
          0,
          0,
          0,
          0,
          0,
          0,
          0,
          0,
          58.28625,
          321.01375,
          849.51875,
          1358.0587499999997,
          1866.8150000000003,
          2220.2025,
          2439.845,
          2471.16125,
          2287.70875,
          1989.815,
          1463.5025,
          731.57,
          425.4925,
          54.81499999999999,
          0,
          0,
          0,
          0,
          0,
          0,
          0,
          0,
          0,
          0,
          0,
          0,
          0,
          1331.4625,
          1889.4674999999997,
          2242.85375,
          2528.78875,
          2566.18375,
          2321.7425,
          1980.28625,
          1532.99125,
          967.1549999999999,
          411.31125,
          42.89125,
          0,
          0,
          0
         ]
        },
        {
         "fill": "tozeroy",
         "fillcolor": "rgba(190,0,0,.15)",
         "hoverinfo": "none",
         "line": {
          "width": 0
         },
         "marker": {
          "size": [
           0,
           0
          ]
         },
         "mode": "markers+lines",
         "name": "OM Ticket",
         "showlegend": false,
         "type": "scatter",
         "x": [
          "2018-07-21T04:45:00",
          "2018-07-21T13:15:00"
         ],
         "y": [
          2694.4929375000006,
          2694.4929375000006
         ]
        },
        {
         "fill": "tozeroy",
         "fillcolor": "rgba(190,0,0,.15)",
         "hoverinfo": "none",
         "line": {
          "width": 0
         },
         "marker": {
          "size": [
           0,
           0
          ]
         },
         "mode": "markers+lines",
         "name": "OM Ticket",
         "showlegend": false,
         "type": "scatter",
         "x": [
          "2018-07-21T13:16:00",
          "2018-07-21T14:25:00"
         ],
         "y": [
          2694.4929375000006,
          2694.4929375000006
         ]
        },
        {
         "fill": "tozeroy",
         "fillcolor": "rgba(190,0,0,.15)",
         "hoverinfo": "none",
         "line": {
          "width": 0
         },
         "marker": {
          "size": [
           0,
           0
          ]
         },
         "mode": "markers+lines",
         "name": "OM Ticket",
         "showlegend": false,
         "type": "scatter",
         "x": [
          "2018-07-25T14:20:00",
          "2018-07-25T16:40:00"
         ],
         "y": [
          2694.4929375000006,
          2694.4929375000006
         ]
        },
        {
         "fill": "tozeroy",
         "fillcolor": "rgba(190,0,0,.15)",
         "hoverinfo": "none",
         "line": {
          "width": 0
         },
         "marker": {
          "size": [
           0,
           0
          ]
         },
         "mode": "markers+lines",
         "name": "OM Ticket",
         "showlegend": false,
         "type": "scatter",
         "x": [
          "2018-08-02T01:05:00",
          "2018-08-02T09:28:00"
         ],
         "y": [
          2694.4929375000006,
          2694.4929375000006
         ]
        },
        {
         "hovertemplate": [
          "Start: %{x} <br>WO#: 104<br>Type: Vegetation<br>Asset: Facility<br>Nearest Prod Dip:  Jul 21, 2018",
          "Start: %{x} <br>WO#: 105<br>Type: Corrective<br>Asset: Inverter<br>Nearest Prod Dip:  Jul 21, 2018",
          "Start: %{x} <br>WO#: 106<br>Type: Corrective<br>Asset: Inverter<br>Nearest Prod Dip:  Jul 25, 2018",
          "Start: %{x} <br>WO#: 108<br>Type: Corrective<br>Asset: Facility<br>Nearest Prod Dip:  Aug 02, 2018"
         ],
         "mode": "markers",
         "name": "OM_start",
         "type": "scatter",
         "x": [
          "2018-07-21T04:45:00",
          "2018-07-21T13:16:00",
          "2018-07-25T14:20:00",
          "2018-08-02T01:05:00"
         ],
         "y": [
          1511.3347500000036,
          1511.3347500000036,
          1511.3347500000036,
          1511.3347500000036
         ]
        },
        {
         "hovertemplate": [
          "End: %{x} <br>WO#: 104<br>Type: Vegetation<br>Asset: Facility",
          "End: %{x} <br>WO#: 105<br>Type: Corrective<br>Asset: Inverter",
          "End: %{x} <br>WO#: 106<br>Type: Corrective<br>Asset: Inverter",
          "End: %{x} <br>WO#: 108<br>Type: Corrective<br>Asset: Facility"
         ],
         "mode": "markers",
         "name": "OM_end",
         "type": "scatter",
         "x": [
          "2018-07-21T13:15:00",
          "2018-07-21T14:25:00",
          "2018-07-25T16:40:00",
          "2018-08-02T09:28:00"
         ],
         "y": [
          1007.5565000000024,
          1007.5565000000024,
          1007.5565000000024,
          1007.5565000000024
         ]
        }
       ],
       "layout": {
        "template": {
         "data": {
          "bar": [
           {
            "error_x": {
             "color": "#2a3f5f"
            },
            "error_y": {
             "color": "#2a3f5f"
            },
            "marker": {
             "line": {
              "color": "#E5ECF6",
              "width": 0.5
             }
            },
            "type": "bar"
           }
          ],
          "barpolar": [
           {
            "marker": {
             "line": {
              "color": "#E5ECF6",
              "width": 0.5
             }
            },
            "type": "barpolar"
           }
          ],
          "carpet": [
           {
            "aaxis": {
             "endlinecolor": "#2a3f5f",
             "gridcolor": "white",
             "linecolor": "white",
             "minorgridcolor": "white",
             "startlinecolor": "#2a3f5f"
            },
            "baxis": {
             "endlinecolor": "#2a3f5f",
             "gridcolor": "white",
             "linecolor": "white",
             "minorgridcolor": "white",
             "startlinecolor": "#2a3f5f"
            },
            "type": "carpet"
           }
          ],
          "choropleth": [
           {
            "colorbar": {
             "outlinewidth": 0,
             "ticks": ""
            },
            "type": "choropleth"
           }
          ],
          "contour": [
           {
            "colorbar": {
             "outlinewidth": 0,
             "ticks": ""
            },
            "colorscale": [
             [
              0,
              "#0d0887"
             ],
             [
              0.1111111111111111,
              "#46039f"
             ],
             [
              0.2222222222222222,
              "#7201a8"
             ],
             [
              0.3333333333333333,
              "#9c179e"
             ],
             [
              0.4444444444444444,
              "#bd3786"
             ],
             [
              0.5555555555555556,
              "#d8576b"
             ],
             [
              0.6666666666666666,
              "#ed7953"
             ],
             [
              0.7777777777777778,
              "#fb9f3a"
             ],
             [
              0.8888888888888888,
              "#fdca26"
             ],
             [
              1,
              "#f0f921"
             ]
            ],
            "type": "contour"
           }
          ],
          "contourcarpet": [
           {
            "colorbar": {
             "outlinewidth": 0,
             "ticks": ""
            },
            "type": "contourcarpet"
           }
          ],
          "heatmap": [
           {
            "colorbar": {
             "outlinewidth": 0,
             "ticks": ""
            },
            "colorscale": [
             [
              0,
              "#0d0887"
             ],
             [
              0.1111111111111111,
              "#46039f"
             ],
             [
              0.2222222222222222,
              "#7201a8"
             ],
             [
              0.3333333333333333,
              "#9c179e"
             ],
             [
              0.4444444444444444,
              "#bd3786"
             ],
             [
              0.5555555555555556,
              "#d8576b"
             ],
             [
              0.6666666666666666,
              "#ed7953"
             ],
             [
              0.7777777777777778,
              "#fb9f3a"
             ],
             [
              0.8888888888888888,
              "#fdca26"
             ],
             [
              1,
              "#f0f921"
             ]
            ],
            "type": "heatmap"
           }
          ],
          "heatmapgl": [
           {
            "colorbar": {
             "outlinewidth": 0,
             "ticks": ""
            },
            "colorscale": [
             [
              0,
              "#0d0887"
             ],
             [
              0.1111111111111111,
              "#46039f"
             ],
             [
              0.2222222222222222,
              "#7201a8"
             ],
             [
              0.3333333333333333,
              "#9c179e"
             ],
             [
              0.4444444444444444,
              "#bd3786"
             ],
             [
              0.5555555555555556,
              "#d8576b"
             ],
             [
              0.6666666666666666,
              "#ed7953"
             ],
             [
              0.7777777777777778,
              "#fb9f3a"
             ],
             [
              0.8888888888888888,
              "#fdca26"
             ],
             [
              1,
              "#f0f921"
             ]
            ],
            "type": "heatmapgl"
           }
          ],
          "histogram": [
           {
            "marker": {
             "colorbar": {
              "outlinewidth": 0,
              "ticks": ""
             }
            },
            "type": "histogram"
           }
          ],
          "histogram2d": [
           {
            "colorbar": {
             "outlinewidth": 0,
             "ticks": ""
            },
            "colorscale": [
             [
              0,
              "#0d0887"
             ],
             [
              0.1111111111111111,
              "#46039f"
             ],
             [
              0.2222222222222222,
              "#7201a8"
             ],
             [
              0.3333333333333333,
              "#9c179e"
             ],
             [
              0.4444444444444444,
              "#bd3786"
             ],
             [
              0.5555555555555556,
              "#d8576b"
             ],
             [
              0.6666666666666666,
              "#ed7953"
             ],
             [
              0.7777777777777778,
              "#fb9f3a"
             ],
             [
              0.8888888888888888,
              "#fdca26"
             ],
             [
              1,
              "#f0f921"
             ]
            ],
            "type": "histogram2d"
           }
          ],
          "histogram2dcontour": [
           {
            "colorbar": {
             "outlinewidth": 0,
             "ticks": ""
            },
            "colorscale": [
             [
              0,
              "#0d0887"
             ],
             [
              0.1111111111111111,
              "#46039f"
             ],
             [
              0.2222222222222222,
              "#7201a8"
             ],
             [
              0.3333333333333333,
              "#9c179e"
             ],
             [
              0.4444444444444444,
              "#bd3786"
             ],
             [
              0.5555555555555556,
              "#d8576b"
             ],
             [
              0.6666666666666666,
              "#ed7953"
             ],
             [
              0.7777777777777778,
              "#fb9f3a"
             ],
             [
              0.8888888888888888,
              "#fdca26"
             ],
             [
              1,
              "#f0f921"
             ]
            ],
            "type": "histogram2dcontour"
           }
          ],
          "mesh3d": [
           {
            "colorbar": {
             "outlinewidth": 0,
             "ticks": ""
            },
            "type": "mesh3d"
           }
          ],
          "parcoords": [
           {
            "line": {
             "colorbar": {
              "outlinewidth": 0,
              "ticks": ""
             }
            },
            "type": "parcoords"
           }
          ],
          "pie": [
           {
            "automargin": true,
            "type": "pie"
           }
          ],
          "scatter": [
           {
            "marker": {
             "colorbar": {
              "outlinewidth": 0,
              "ticks": ""
             }
            },
            "type": "scatter"
           }
          ],
          "scatter3d": [
           {
            "line": {
             "colorbar": {
              "outlinewidth": 0,
              "ticks": ""
             }
            },
            "marker": {
             "colorbar": {
              "outlinewidth": 0,
              "ticks": ""
             }
            },
            "type": "scatter3d"
           }
          ],
          "scattercarpet": [
           {
            "marker": {
             "colorbar": {
              "outlinewidth": 0,
              "ticks": ""
             }
            },
            "type": "scattercarpet"
           }
          ],
          "scattergeo": [
           {
            "marker": {
             "colorbar": {
              "outlinewidth": 0,
              "ticks": ""
             }
            },
            "type": "scattergeo"
           }
          ],
          "scattergl": [
           {
            "marker": {
             "colorbar": {
              "outlinewidth": 0,
              "ticks": ""
             }
            },
            "type": "scattergl"
           }
          ],
          "scattermapbox": [
           {
            "marker": {
             "colorbar": {
              "outlinewidth": 0,
              "ticks": ""
             }
            },
            "type": "scattermapbox"
           }
          ],
          "scatterpolar": [
           {
            "marker": {
             "colorbar": {
              "outlinewidth": 0,
              "ticks": ""
             }
            },
            "type": "scatterpolar"
           }
          ],
          "scatterpolargl": [
           {
            "marker": {
             "colorbar": {
              "outlinewidth": 0,
              "ticks": ""
             }
            },
            "type": "scatterpolargl"
           }
          ],
          "scatterternary": [
           {
            "marker": {
             "colorbar": {
              "outlinewidth": 0,
              "ticks": ""
             }
            },
            "type": "scatterternary"
           }
          ],
          "surface": [
           {
            "colorbar": {
             "outlinewidth": 0,
             "ticks": ""
            },
            "colorscale": [
             [
              0,
              "#0d0887"
             ],
             [
              0.1111111111111111,
              "#46039f"
             ],
             [
              0.2222222222222222,
              "#7201a8"
             ],
             [
              0.3333333333333333,
              "#9c179e"
             ],
             [
              0.4444444444444444,
              "#bd3786"
             ],
             [
              0.5555555555555556,
              "#d8576b"
             ],
             [
              0.6666666666666666,
              "#ed7953"
             ],
             [
              0.7777777777777778,
              "#fb9f3a"
             ],
             [
              0.8888888888888888,
              "#fdca26"
             ],
             [
              1,
              "#f0f921"
             ]
            ],
            "type": "surface"
           }
          ],
          "table": [
           {
            "cells": {
             "fill": {
              "color": "#EBF0F8"
             },
             "line": {
              "color": "white"
             }
            },
            "header": {
             "fill": {
              "color": "#C8D4E3"
             },
             "line": {
              "color": "white"
             }
            },
            "type": "table"
           }
          ]
         },
         "layout": {
          "annotationdefaults": {
           "arrowcolor": "#2a3f5f",
           "arrowhead": 0,
           "arrowwidth": 1
          },
          "coloraxis": {
           "colorbar": {
            "outlinewidth": 0,
            "ticks": ""
           }
          },
          "colorscale": {
           "diverging": [
            [
             0,
             "#8e0152"
            ],
            [
             0.1,
             "#c51b7d"
            ],
            [
             0.2,
             "#de77ae"
            ],
            [
             0.3,
             "#f1b6da"
            ],
            [
             0.4,
             "#fde0ef"
            ],
            [
             0.5,
             "#f7f7f7"
            ],
            [
             0.6,
             "#e6f5d0"
            ],
            [
             0.7,
             "#b8e186"
            ],
            [
             0.8,
             "#7fbc41"
            ],
            [
             0.9,
             "#4d9221"
            ],
            [
             1,
             "#276419"
            ]
           ],
           "sequential": [
            [
             0,
             "#0d0887"
            ],
            [
             0.1111111111111111,
             "#46039f"
            ],
            [
             0.2222222222222222,
             "#7201a8"
            ],
            [
             0.3333333333333333,
             "#9c179e"
            ],
            [
             0.4444444444444444,
             "#bd3786"
            ],
            [
             0.5555555555555556,
             "#d8576b"
            ],
            [
             0.6666666666666666,
             "#ed7953"
            ],
            [
             0.7777777777777778,
             "#fb9f3a"
            ],
            [
             0.8888888888888888,
             "#fdca26"
            ],
            [
             1,
             "#f0f921"
            ]
           ],
           "sequentialminus": [
            [
             0,
             "#0d0887"
            ],
            [
             0.1111111111111111,
             "#46039f"
            ],
            [
             0.2222222222222222,
             "#7201a8"
            ],
            [
             0.3333333333333333,
             "#9c179e"
            ],
            [
             0.4444444444444444,
             "#bd3786"
            ],
            [
             0.5555555555555556,
             "#d8576b"
            ],
            [
             0.6666666666666666,
             "#ed7953"
            ],
            [
             0.7777777777777778,
             "#fb9f3a"
            ],
            [
             0.8888888888888888,
             "#fdca26"
            ],
            [
             1,
             "#f0f921"
            ]
           ]
          },
          "colorway": [
           "#636efa",
           "#EF553B",
           "#00cc96",
           "#ab63fa",
           "#FFA15A",
           "#19d3f3",
           "#FF6692",
           "#B6E880",
           "#FF97FF",
           "#FECB52"
          ],
          "font": {
           "color": "#2a3f5f"
          },
          "geo": {
           "bgcolor": "white",
           "lakecolor": "white",
           "landcolor": "#E5ECF6",
           "showlakes": true,
           "showland": true,
           "subunitcolor": "white"
          },
          "hoverlabel": {
           "align": "left"
          },
          "hovermode": "closest",
          "mapbox": {
           "style": "light"
          },
          "paper_bgcolor": "white",
          "plot_bgcolor": "#E5ECF6",
          "polar": {
           "angularaxis": {
            "gridcolor": "white",
            "linecolor": "white",
            "ticks": ""
           },
           "bgcolor": "#E5ECF6",
           "radialaxis": {
            "gridcolor": "white",
            "linecolor": "white",
            "ticks": ""
           }
          },
          "scene": {
           "xaxis": {
            "backgroundcolor": "#E5ECF6",
            "gridcolor": "white",
            "gridwidth": 2,
            "linecolor": "white",
            "showbackground": true,
            "ticks": "",
            "zerolinecolor": "white"
           },
           "yaxis": {
            "backgroundcolor": "#E5ECF6",
            "gridcolor": "white",
            "gridwidth": 2,
            "linecolor": "white",
            "showbackground": true,
            "ticks": "",
            "zerolinecolor": "white"
           },
           "zaxis": {
            "backgroundcolor": "#E5ECF6",
            "gridcolor": "white",
            "gridwidth": 2,
            "linecolor": "white",
            "showbackground": true,
            "ticks": "",
            "zerolinecolor": "white"
           }
          },
          "shapedefaults": {
           "line": {
            "color": "#2a3f5f"
           }
          },
          "ternary": {
           "aaxis": {
            "gridcolor": "white",
            "linecolor": "white",
            "ticks": ""
           },
           "baxis": {
            "gridcolor": "white",
            "linecolor": "white",
            "ticks": ""
           },
           "bgcolor": "#E5ECF6",
           "caxis": {
            "gridcolor": "white",
            "linecolor": "white",
            "ticks": ""
           }
          },
          "title": {
           "x": 0.05
          },
          "xaxis": {
           "automargin": true,
           "gridcolor": "white",
           "linecolor": "white",
           "ticks": "",
           "title": {
            "standoff": 15
           },
           "zerolinecolor": "white",
           "zerolinewidth": 2
          },
          "yaxis": {
           "automargin": true,
           "gridcolor": "white",
           "linecolor": "white",
           "ticks": "",
           "title": {
            "standoff": 15
           },
           "zerolinecolor": "white",
           "zerolinewidth": 2
          }
         }
        },
        "title": {
         "text": "Site: R23"
        },
        "yaxis": {
         "range": [
          -5,
          2694.4929375000006
         ],
         "title": {
          "text": "Energy Delivered (kWh)"
         }
        }
       }
      }
     },
     "metadata": {}
    },
    {
     "output_type": "display_data",
     "data": {
      "application/vnd.plotly.v1+json": {
       "config": {
        "plotlyServerURL": "https://plot.ly"
       },
       "data": [
        {
         "name": "Hourly Energy",
         "type": "scatter",
         "x": [
          "2018-09-14T02:00:00",
          "2018-09-14T03:00:00",
          "2018-09-14T04:00:00",
          "2018-09-14T05:00:00",
          "2018-09-14T06:00:00",
          "2018-09-14T07:00:00",
          "2018-09-14T08:00:00",
          "2018-09-14T09:00:00",
          "2018-09-14T10:00:00",
          "2018-09-14T11:00:00",
          "2018-09-14T12:00:00",
          "2018-09-14T13:00:00",
          "2018-09-14T14:00:00",
          "2018-09-14T15:00:00",
          "2018-09-14T16:00:00",
          "2018-09-14T17:00:00",
          "2018-09-14T18:00:00",
          "2018-09-14T19:00:00",
          "2018-09-14T20:00:00",
          "2018-09-14T21:00:00",
          "2018-09-14T22:00:00",
          "2018-09-14T23:00:00",
          "2018-09-15T00:00:00",
          "2018-09-15T01:00:00",
          "2018-09-15T02:00:00",
          "2018-09-15T03:00:00",
          "2018-09-15T04:00:00",
          "2018-09-15T05:00:00",
          "2018-09-15T06:00:00",
          "2018-09-15T07:00:00",
          "2018-09-15T08:00:00",
          "2018-09-15T09:00:00",
          "2018-09-15T10:00:00",
          "2018-09-15T11:00:00",
          "2018-09-15T12:00:00",
          "2018-09-15T13:00:00",
          "2018-09-15T14:00:00",
          "2018-09-15T15:00:00",
          "2018-09-15T16:00:00",
          "2018-09-15T17:00:00",
          "2018-09-15T18:00:00",
          "2018-09-15T19:00:00",
          "2018-09-15T20:00:00",
          "2018-09-15T21:00:00",
          "2018-09-15T22:00:00",
          "2018-09-15T23:00:00",
          "2018-09-16T00:00:00",
          "2018-09-16T01:00:00",
          "2018-09-16T02:00:00",
          "2018-09-16T03:00:00",
          "2018-09-16T04:00:00",
          "2018-09-16T05:00:00",
          "2018-09-16T06:00:00",
          "2018-09-16T07:00:00",
          "2018-09-16T08:00:00",
          "2018-09-16T09:00:00",
          "2018-09-16T10:00:00",
          "2018-09-16T11:00:00",
          "2018-09-16T12:00:00",
          "2018-09-16T13:00:00",
          "2018-09-16T14:00:00",
          "2018-09-16T15:00:00",
          "2018-09-16T16:00:00",
          "2018-09-16T17:00:00",
          "2018-09-16T18:00:00",
          "2018-09-16T19:00:00",
          "2018-09-16T20:00:00",
          "2018-09-16T21:00:00",
          "2018-09-16T22:00:00",
          "2018-09-16T23:00:00",
          "2018-09-17T00:00:00",
          "2018-09-17T01:00:00",
          "2018-09-17T02:00:00",
          "2018-09-17T03:00:00",
          "2018-09-17T04:00:00",
          "2018-09-17T05:00:00",
          "2018-09-17T06:00:00",
          "2018-09-17T07:00:00",
          "2018-09-17T08:00:00",
          "2018-09-17T09:00:00",
          "2018-09-17T10:00:00",
          "2018-09-17T11:00:00",
          "2018-09-17T12:00:00",
          "2018-09-17T13:00:00",
          "2018-09-17T14:00:00",
          "2018-09-17T15:00:00",
          "2018-09-17T16:00:00",
          "2018-09-17T17:00:00",
          "2018-09-17T18:00:00",
          "2018-09-17T19:00:00",
          "2018-09-17T20:00:00",
          "2018-09-17T21:00:00",
          "2018-09-17T22:00:00",
          "2018-09-17T23:00:00",
          "2018-09-18T00:00:00",
          "2018-09-18T01:00:00",
          "2018-09-18T02:00:00",
          "2018-09-18T03:00:00",
          "2018-09-18T04:00:00",
          "2018-09-18T05:00:00",
          "2018-09-18T06:00:00",
          "2018-09-18T07:00:00",
          "2018-09-18T08:00:00",
          "2018-09-18T09:00:00",
          "2018-09-18T10:00:00",
          "2018-09-18T11:00:00",
          "2018-09-18T12:00:00",
          "2018-09-18T13:00:00",
          "2018-09-18T14:00:00",
          "2018-09-18T15:00:00",
          "2018-09-18T16:00:00",
          "2018-09-18T17:00:00",
          "2018-09-18T18:00:00",
          "2018-09-18T19:00:00",
          "2018-09-18T20:00:00",
          "2018-09-18T21:00:00",
          "2018-09-18T22:00:00",
          "2018-09-18T23:00:00",
          "2018-09-19T00:00:00",
          "2018-09-19T01:00:00",
          "2018-09-19T02:00:00",
          "2018-09-19T03:00:00",
          "2018-09-19T04:00:00",
          "2018-09-19T05:00:00",
          "2018-09-19T06:00:00",
          "2018-09-19T07:00:00",
          "2018-09-19T08:00:00",
          "2018-09-19T09:00:00",
          "2018-09-19T10:00:00",
          "2018-09-19T11:00:00",
          "2018-09-19T12:00:00",
          "2018-09-19T13:00:00",
          "2018-09-19T14:00:00",
          "2018-09-19T15:00:00",
          "2018-09-19T16:00:00",
          "2018-09-19T17:00:00",
          "2018-09-19T18:00:00",
          "2018-09-19T19:00:00",
          "2018-09-19T20:00:00",
          "2018-09-19T21:00:00",
          "2018-09-19T22:00:00",
          "2018-09-19T23:00:00",
          "2018-09-20T00:00:00",
          "2018-09-20T01:00:00",
          "2018-09-20T02:00:00",
          "2018-09-20T03:00:00",
          "2018-09-20T04:00:00",
          "2018-09-20T05:00:00",
          "2018-09-20T06:00:00",
          "2018-09-20T07:00:00",
          "2018-09-20T08:00:00",
          "2018-09-20T09:00:00",
          "2018-09-20T10:00:00",
          "2018-09-20T11:00:00",
          "2018-09-20T12:00:00",
          "2018-09-20T13:00:00",
          "2018-09-20T14:00:00",
          "2018-09-20T15:00:00",
          "2018-09-20T16:00:00",
          "2018-09-20T17:00:00",
          "2018-09-20T18:00:00",
          "2018-09-20T19:00:00",
          "2018-09-20T20:00:00",
          "2018-09-20T21:00:00",
          "2018-09-20T22:00:00",
          "2018-09-20T23:00:00",
          "2018-09-21T00:00:00",
          "2018-09-21T01:00:00",
          "2018-09-21T02:00:00",
          "2018-09-21T03:00:00",
          "2018-09-21T04:00:00",
          "2018-09-21T05:00:00",
          "2018-09-21T06:00:00",
          "2018-09-21T07:00:00",
          "2018-09-21T08:00:00",
          "2018-09-21T09:00:00",
          "2018-09-21T10:00:00",
          "2018-09-21T11:00:00",
          "2018-09-21T12:00:00",
          "2018-09-21T13:00:00",
          "2018-09-21T14:00:00",
          "2018-09-21T15:00:00",
          "2018-09-21T16:00:00",
          "2018-09-21T17:00:00",
          "2018-09-21T18:00:00",
          "2018-09-21T19:00:00",
          "2018-09-21T20:00:00",
          "2018-09-21T21:00:00",
          "2018-09-21T22:00:00",
          "2018-09-21T23:00:00",
          "2018-09-22T00:00:00",
          "2018-09-22T01:00:00",
          "2018-09-22T02:00:00",
          "2018-09-22T03:00:00",
          "2018-09-22T04:00:00",
          "2018-09-22T05:00:00",
          "2018-09-22T06:00:00",
          "2018-09-22T07:00:00",
          "2018-09-22T08:00:00",
          "2018-09-22T09:00:00",
          "2018-09-22T10:00:00",
          "2018-09-22T11:00:00",
          "2018-09-22T12:00:00",
          "2018-09-22T13:00:00",
          "2018-09-22T14:00:00",
          "2018-09-22T15:00:00",
          "2018-09-22T16:00:00",
          "2018-09-22T17:00:00",
          "2018-09-22T18:00:00",
          "2018-09-22T19:00:00",
          "2018-09-22T20:00:00",
          "2018-09-22T21:00:00",
          "2018-09-22T22:00:00",
          "2018-09-22T23:00:00",
          "2018-09-23T00:00:00",
          "2018-09-23T01:00:00",
          "2018-09-23T02:00:00",
          "2018-09-23T03:00:00",
          "2018-09-23T04:00:00",
          "2018-09-23T05:00:00",
          "2018-09-23T06:00:00",
          "2018-09-23T07:00:00",
          "2018-09-23T08:00:00",
          "2018-09-23T09:00:00",
          "2018-09-23T10:00:00",
          "2018-09-23T11:00:00",
          "2018-09-23T12:00:00",
          "2018-09-23T13:00:00",
          "2018-09-23T14:00:00",
          "2018-09-23T15:00:00",
          "2018-09-23T16:00:00",
          "2018-09-23T17:00:00",
          "2018-09-23T18:00:00",
          "2018-09-23T19:00:00",
          "2018-09-23T20:00:00",
          "2018-09-23T21:00:00",
          "2018-09-23T22:00:00",
          "2018-09-23T23:00:00",
          "2018-09-24T00:00:00",
          "2018-09-24T01:00:00",
          "2018-09-24T02:00:00",
          "2018-09-24T03:00:00",
          "2018-09-24T04:00:00",
          "2018-09-24T05:00:00",
          "2018-09-24T06:00:00",
          "2018-09-24T07:00:00",
          "2018-09-24T08:00:00",
          "2018-09-24T09:00:00",
          "2018-09-24T10:00:00",
          "2018-09-24T11:00:00",
          "2018-09-24T12:00:00",
          "2018-09-24T13:00:00",
          "2018-09-24T14:00:00",
          "2018-09-24T15:00:00",
          "2018-09-24T16:00:00",
          "2018-09-24T17:00:00",
          "2018-09-24T18:00:00",
          "2018-09-24T19:00:00",
          "2018-09-24T20:00:00",
          "2018-09-24T21:00:00",
          "2018-09-24T22:00:00",
          "2018-09-24T23:00:00",
          "2018-09-25T00:00:00",
          "2018-09-25T01:00:00",
          "2018-09-25T02:00:00",
          "2018-09-25T03:00:00",
          "2018-09-25T04:00:00",
          "2018-09-25T05:00:00",
          "2018-09-25T06:00:00",
          "2018-09-25T07:00:00",
          "2018-09-25T08:00:00",
          "2018-09-25T09:00:00",
          "2018-09-25T10:00:00",
          "2018-09-25T11:00:00",
          "2018-09-25T12:00:00",
          "2018-09-25T13:00:00",
          "2018-09-25T14:00:00",
          "2018-09-25T15:00:00",
          "2018-09-25T16:00:00",
          "2018-09-25T17:00:00",
          "2018-09-25T18:00:00",
          "2018-09-25T19:00:00",
          "2018-09-25T20:00:00",
          "2018-09-25T21:00:00",
          "2018-09-25T22:00:00",
          "2018-09-25T23:00:00",
          "2018-09-26T00:00:00",
          "2018-09-26T01:00:00",
          "2018-09-26T02:00:00",
          "2018-09-26T03:00:00",
          "2018-09-26T04:00:00",
          "2018-09-26T05:00:00",
          "2018-09-26T06:00:00",
          "2018-09-26T07:00:00",
          "2018-09-26T08:00:00",
          "2018-09-26T09:00:00",
          "2018-09-26T10:00:00",
          "2018-09-26T11:00:00",
          "2018-09-26T12:00:00",
          "2018-09-26T13:00:00",
          "2018-09-26T14:00:00",
          "2018-09-26T15:00:00",
          "2018-09-26T16:00:00",
          "2018-09-26T17:00:00",
          "2018-09-26T18:00:00",
          "2018-09-26T19:00:00",
          "2018-09-26T20:00:00",
          "2018-09-26T21:00:00",
          "2018-09-26T22:00:00",
          "2018-09-26T23:00:00",
          "2018-09-27T00:00:00",
          "2018-09-27T01:00:00",
          "2018-09-27T02:00:00",
          "2018-09-27T03:00:00",
          "2018-09-27T04:00:00",
          "2018-09-27T05:00:00",
          "2018-09-27T06:00:00",
          "2018-09-27T07:00:00",
          "2018-09-27T08:00:00",
          "2018-09-27T09:00:00",
          "2018-09-27T10:00:00",
          "2018-09-27T11:00:00",
          "2018-09-27T12:00:00",
          "2018-09-27T13:00:00",
          "2018-09-27T14:00:00",
          "2018-09-27T15:00:00",
          "2018-09-27T16:00:00",
          "2018-09-27T17:00:00",
          "2018-09-27T18:00:00",
          "2018-09-27T19:00:00",
          "2018-09-27T20:00:00",
          "2018-09-27T21:00:00",
          "2018-09-27T22:00:00",
          "2018-09-27T23:00:00",
          "2018-09-28T00:00:00",
          "2018-09-28T01:00:00",
          "2018-09-28T02:00:00",
          "2018-09-28T03:00:00",
          "2018-09-28T04:00:00",
          "2018-09-28T05:00:00",
          "2018-09-28T06:00:00",
          "2018-09-28T07:00:00",
          "2018-09-28T08:00:00",
          "2018-09-28T09:00:00",
          "2018-09-28T10:00:00",
          "2018-09-28T11:00:00",
          "2018-09-28T12:00:00",
          "2018-09-28T13:00:00",
          "2018-09-28T14:00:00",
          "2018-09-28T15:00:00",
          "2018-09-28T16:00:00",
          "2018-09-28T17:00:00",
          "2018-09-28T18:00:00",
          "2018-09-28T19:00:00",
          "2018-09-28T20:00:00",
          "2018-09-28T21:00:00",
          "2018-09-28T22:00:00",
          "2018-09-28T23:00:00",
          "2018-09-29T00:00:00",
          "2018-09-29T01:00:00",
          "2018-09-29T02:00:00",
          "2018-09-29T03:00:00",
          "2018-09-29T04:00:00",
          "2018-09-29T05:00:00",
          "2018-09-29T06:00:00",
          "2018-09-29T07:00:00",
          "2018-09-29T08:00:00",
          "2018-09-29T09:00:00",
          "2018-09-29T10:00:00",
          "2018-09-29T11:00:00",
          "2018-09-29T12:00:00",
          "2018-09-29T13:00:00",
          "2018-09-29T14:00:00",
          "2018-09-29T15:00:00",
          "2018-09-29T16:00:00",
          "2018-09-29T17:00:00",
          "2018-09-29T18:00:00",
          "2018-09-29T19:00:00",
          "2018-09-29T20:00:00",
          "2018-09-29T21:00:00",
          "2018-09-29T22:00:00",
          "2018-09-29T23:00:00",
          "2018-09-30T00:00:00",
          "2018-09-30T01:00:00",
          "2018-09-30T02:00:00",
          "2018-09-30T03:00:00",
          "2018-09-30T04:00:00",
          "2018-09-30T05:00:00",
          "2018-09-30T06:00:00",
          "2018-09-30T07:00:00",
          "2018-09-30T08:00:00",
          "2018-09-30T09:00:00",
          "2018-09-30T10:00:00",
          "2018-09-30T11:00:00",
          "2018-09-30T12:00:00",
          "2018-09-30T13:00:00",
          "2018-09-30T14:00:00",
          "2018-09-30T15:00:00",
          "2018-09-30T16:00:00",
          "2018-09-30T17:00:00",
          "2018-09-30T18:00:00",
          "2018-09-30T19:00:00",
          "2018-09-30T20:00:00",
          "2018-09-30T21:00:00",
          "2018-09-30T22:00:00",
          "2018-09-30T23:00:00",
          "2018-10-01T00:00:00",
          "2018-10-01T01:00:00",
          "2018-10-01T02:00:00",
          "2018-10-01T03:00:00",
          "2018-10-01T04:00:00",
          "2018-10-01T05:00:00",
          "2018-10-01T06:00:00",
          "2018-10-01T07:00:00",
          "2018-10-01T08:00:00",
          "2018-10-01T09:00:00",
          "2018-10-01T10:00:00",
          "2018-10-01T11:00:00",
          "2018-10-01T12:00:00",
          "2018-10-01T13:00:00",
          "2018-10-01T14:00:00",
          "2018-10-01T15:00:00",
          "2018-10-01T16:00:00",
          "2018-10-01T17:00:00",
          "2018-10-01T18:00:00",
          "2018-10-01T19:00:00",
          "2018-10-01T20:00:00",
          "2018-10-01T21:00:00",
          "2018-10-01T22:00:00",
          "2018-10-01T23:00:00",
          "2018-10-02T00:00:00",
          "2018-10-02T01:00:00",
          "2018-10-02T02:00:00",
          "2018-10-02T03:00:00",
          "2018-10-02T04:00:00",
          "2018-10-02T05:00:00",
          "2018-10-02T06:00:00",
          "2018-10-02T07:00:00",
          "2018-10-02T08:00:00",
          "2018-10-02T09:00:00",
          "2018-10-02T10:00:00",
          "2018-10-02T11:00:00",
          "2018-10-02T12:00:00",
          "2018-10-02T13:00:00",
          "2018-10-02T14:00:00",
          "2018-10-02T15:00:00",
          "2018-10-02T16:00:00",
          "2018-10-02T17:00:00",
          "2018-10-02T18:00:00",
          "2018-10-02T19:00:00",
          "2018-10-02T20:00:00",
          "2018-10-02T21:00:00",
          "2018-10-02T22:00:00",
          "2018-10-02T23:00:00",
          "2018-10-03T00:00:00",
          "2018-10-03T01:00:00",
          "2018-10-03T02:00:00",
          "2018-10-03T03:00:00",
          "2018-10-03T04:00:00",
          "2018-10-03T05:00:00",
          "2018-10-03T06:00:00",
          "2018-10-03T07:00:00",
          "2018-10-03T08:00:00",
          "2018-10-03T09:00:00",
          "2018-10-03T10:00:00",
          "2018-10-03T11:00:00",
          "2018-10-03T12:00:00",
          "2018-10-03T13:00:00",
          "2018-10-03T14:00:00",
          "2018-10-03T15:00:00",
          "2018-10-03T16:00:00",
          "2018-10-03T17:00:00",
          "2018-10-03T18:00:00",
          "2018-10-03T19:00:00",
          "2018-10-03T20:00:00",
          "2018-10-03T21:00:00",
          "2018-10-03T22:00:00",
          "2018-10-03T23:00:00",
          "2018-10-04T00:00:00",
          "2018-10-04T01:00:00",
          "2018-10-04T02:00:00",
          "2018-10-04T03:00:00",
          "2018-10-04T04:00:00",
          "2018-10-04T05:00:00",
          "2018-10-04T06:00:00",
          "2018-10-04T07:00:00",
          "2018-10-04T08:00:00",
          "2018-10-04T09:00:00",
          "2018-10-04T10:00:00",
          "2018-10-04T11:00:00",
          "2018-10-04T12:00:00",
          "2018-10-04T13:00:00",
          "2018-10-04T14:00:00",
          "2018-10-04T15:00:00",
          "2018-10-04T16:00:00",
          "2018-10-04T17:00:00",
          "2018-10-04T18:00:00",
          "2018-10-04T19:00:00",
          "2018-10-04T20:00:00",
          "2018-10-04T21:00:00",
          "2018-10-04T22:00:00",
          "2018-10-04T23:00:00",
          "2018-10-05T00:00:00",
          "2018-10-05T01:00:00",
          "2018-10-05T02:00:00",
          "2018-10-05T03:00:00",
          "2018-10-05T04:00:00",
          "2018-10-05T05:00:00",
          "2018-10-05T06:00:00",
          "2018-10-05T07:00:00",
          "2018-10-05T08:00:00",
          "2018-10-05T09:00:00",
          "2018-10-05T10:00:00",
          "2018-10-05T11:00:00",
          "2018-10-05T12:00:00",
          "2018-10-05T13:00:00",
          "2018-10-05T14:00:00",
          "2018-10-05T15:00:00",
          "2018-10-05T16:00:00",
          "2018-10-05T17:00:00",
          "2018-10-05T18:00:00",
          "2018-10-05T19:00:00",
          "2018-10-05T20:00:00",
          "2018-10-05T21:00:00",
          "2018-10-05T22:00:00",
          "2018-10-05T23:00:00",
          "2018-10-06T00:00:00",
          "2018-10-06T01:00:00",
          "2018-10-06T02:00:00",
          "2018-10-06T03:00:00",
          "2018-10-06T04:00:00",
          "2018-10-06T05:00:00",
          "2018-10-06T06:00:00",
          "2018-10-06T07:00:00",
          "2018-10-06T08:00:00",
          "2018-10-06T09:00:00",
          "2018-10-06T10:00:00",
          "2018-10-06T11:00:00",
          "2018-10-06T12:00:00",
          "2018-10-06T13:00:00",
          "2018-10-06T14:00:00",
          "2018-10-06T15:00:00",
          "2018-10-06T16:00:00",
          "2018-10-06T17:00:00",
          "2018-10-06T18:00:00",
          "2018-10-06T19:00:00",
          "2018-10-06T20:00:00",
          "2018-10-06T21:00:00",
          "2018-10-06T22:00:00",
          "2018-10-06T23:00:00",
          "2018-10-07T00:00:00",
          "2018-10-07T01:00:00",
          "2018-10-07T02:00:00",
          "2018-10-07T03:00:00",
          "2018-10-07T04:00:00",
          "2018-10-07T05:00:00",
          "2018-10-07T06:00:00",
          "2018-10-07T07:00:00",
          "2018-10-07T08:00:00",
          "2018-10-07T09:00:00",
          "2018-10-07T10:00:00",
          "2018-10-07T11:00:00",
          "2018-10-07T12:00:00",
          "2018-10-07T13:00:00",
          "2018-10-07T14:00:00",
          "2018-10-07T15:00:00",
          "2018-10-07T16:00:00",
          "2018-10-07T17:00:00",
          "2018-10-07T18:00:00",
          "2018-10-07T19:00:00",
          "2018-10-07T20:00:00",
          "2018-10-07T21:00:00",
          "2018-10-07T22:00:00",
          "2018-10-07T23:00:00",
          "2018-10-08T00:00:00",
          "2018-10-08T01:00:00",
          "2018-10-08T02:00:00",
          "2018-10-08T03:00:00",
          "2018-10-08T04:00:00",
          "2018-10-08T05:00:00",
          "2018-10-08T06:00:00",
          "2018-10-08T07:00:00",
          "2018-10-08T08:00:00",
          "2018-10-08T09:00:00",
          "2018-10-08T10:00:00",
          "2018-10-08T11:00:00",
          "2018-10-08T12:00:00",
          "2018-10-08T13:00:00",
          "2018-10-08T14:00:00",
          "2018-10-08T15:00:00",
          "2018-10-08T16:00:00",
          "2018-10-08T17:00:00",
          "2018-10-08T18:00:00",
          "2018-10-08T19:00:00",
          "2018-10-08T20:00:00",
          "2018-10-08T21:00:00",
          "2018-10-08T22:00:00",
          "2018-10-08T23:00:00",
          "2018-10-09T00:00:00",
          "2018-10-09T01:00:00",
          "2018-10-09T02:00:00",
          "2018-10-09T03:00:00",
          "2018-10-09T04:00:00",
          "2018-10-09T05:00:00",
          "2018-10-09T06:00:00",
          "2018-10-09T07:00:00",
          "2018-10-09T08:00:00",
          "2018-10-09T09:00:00",
          "2018-10-09T10:00:00",
          "2018-10-09T11:00:00",
          "2018-10-09T12:00:00",
          "2018-10-09T13:00:00",
          "2018-10-09T14:00:00",
          "2018-10-09T15:00:00",
          "2018-10-09T16:00:00",
          "2018-10-09T17:00:00",
          "2018-10-09T18:00:00",
          "2018-10-09T19:00:00",
          "2018-10-09T20:00:00",
          "2018-10-09T21:00:00",
          "2018-10-09T22:00:00",
          "2018-10-09T23:00:00",
          "2018-10-10T00:00:00",
          "2018-10-10T01:00:00",
          "2018-10-10T02:00:00",
          "2018-10-10T03:00:00",
          "2018-10-10T04:00:00",
          "2018-10-10T05:00:00",
          "2018-10-10T06:00:00",
          "2018-10-10T07:00:00",
          "2018-10-10T08:00:00",
          "2018-10-10T09:00:00",
          "2018-10-10T10:00:00",
          "2018-10-10T11:00:00",
          "2018-10-10T12:00:00",
          "2018-10-10T13:00:00",
          "2018-10-10T14:00:00",
          "2018-10-10T15:00:00",
          "2018-10-10T16:00:00",
          "2018-10-10T17:00:00",
          "2018-10-10T18:00:00",
          "2018-10-10T19:00:00",
          "2018-10-10T20:00:00",
          "2018-10-10T21:00:00",
          "2018-10-10T22:00:00",
          "2018-10-10T23:00:00",
          "2018-10-11T00:00:00",
          "2018-10-11T01:00:00",
          "2018-10-11T02:00:00",
          "2018-10-11T03:00:00",
          "2018-10-11T04:00:00",
          "2018-10-11T05:00:00",
          "2018-10-11T06:00:00",
          "2018-10-11T07:00:00",
          "2018-10-11T08:00:00",
          "2018-10-11T09:00:00",
          "2018-10-11T10:00:00",
          "2018-10-11T11:00:00",
          "2018-10-11T12:00:00",
          "2018-10-11T13:00:00",
          "2018-10-11T14:00:00",
          "2018-10-11T15:00:00",
          "2018-10-11T16:00:00",
          "2018-10-11T17:00:00",
          "2018-10-11T18:00:00",
          "2018-10-11T19:00:00",
          "2018-10-11T20:00:00",
          "2018-10-11T21:00:00",
          "2018-10-11T22:00:00",
          "2018-10-11T23:00:00",
          "2018-10-12T00:00:00",
          "2018-10-12T01:00:00",
          "2018-10-12T02:00:00",
          "2018-10-12T03:00:00",
          "2018-10-12T04:00:00",
          "2018-10-12T05:00:00",
          "2018-10-12T06:00:00",
          "2018-10-12T07:00:00",
          "2018-10-12T08:00:00",
          "2018-10-12T09:00:00",
          "2018-10-12T10:00:00",
          "2018-10-12T11:00:00",
          "2018-10-12T12:00:00",
          "2018-10-12T13:00:00",
          "2018-10-12T14:00:00",
          "2018-10-12T15:00:00",
          "2018-10-12T16:00:00",
          "2018-10-12T17:00:00",
          "2018-10-12T18:00:00",
          "2018-10-12T19:00:00",
          "2018-10-12T20:00:00",
          "2018-10-12T21:00:00",
          "2018-10-12T22:00:00",
          "2018-10-12T23:00:00",
          "2018-10-13T00:00:00",
          "2018-10-13T01:00:00",
          "2018-10-13T02:00:00",
          "2018-10-13T03:00:00",
          "2018-10-13T04:00:00",
          "2018-10-13T05:00:00",
          "2018-10-13T06:00:00",
          "2018-10-13T07:00:00",
          "2018-10-13T08:00:00",
          "2018-10-13T09:00:00",
          "2018-10-13T10:00:00",
          "2018-10-13T11:00:00",
          "2018-10-13T12:00:00",
          "2018-10-13T13:00:00",
          "2018-10-13T14:00:00",
          "2018-10-13T15:00:00",
          "2018-10-13T16:00:00",
          "2018-10-13T17:00:00",
          "2018-10-13T18:00:00",
          "2018-10-13T19:00:00",
          "2018-10-13T20:00:00",
          "2018-10-13T21:00:00",
          "2018-10-13T22:00:00",
          "2018-10-13T23:00:00"
         ],
         "y": [
          0,
          0,
          0,
          0,
          0,
          0,
          3,
          4,
          0,
          0,
          0,
          0,
          0,
          0,
          0,
          0,
          0,
          0,
          0,
          0,
          0,
          0,
          0,
          0,
          0,
          0,
          0,
          0,
          0,
          0,
          0,
          0,
          0,
          0,
          0,
          0,
          0,
          0,
          0,
          0,
          0,
          0,
          0,
          0,
          0,
          0,
          0,
          0,
          0,
          0,
          0,
          0,
          0,
          0,
          0,
          0,
          0,
          0,
          0,
          0,
          0,
          0,
          3,
          6,
          2,
          0,
          0,
          0,
          0,
          0,
          0,
          0,
          0,
          0,
          0,
          0,
          0,
          6,
          49,
          114,
          165,
          279,
          258,
          249,
          235,
          237,
          202,
          48,
          10,
          0,
          0,
          0,
          0,
          0,
          0,
          0,
          0,
          0,
          0,
          0,
          0,
          18,
          107,
          214,
          287,
          333,
          300,
          256,
          271,
          176,
          68,
          43,
          14,
          0,
          0,
          0,
          0,
          0,
          0,
          null,
          null,
          null,
          null,
          null,
          null,
          null,
          null,
          null,
          null,
          null,
          null,
          null,
          null,
          null,
          null,
          null,
          null,
          null,
          null,
          null,
          null,
          null,
          null,
          null,
          null,
          null,
          null,
          null,
          null,
          null,
          null,
          null,
          null,
          null,
          null,
          null,
          null,
          null,
          null,
          null,
          null,
          null,
          null,
          null,
          null,
          null,
          null,
          null,
          null,
          null,
          null,
          null,
          null,
          null,
          null,
          null,
          null,
          null,
          null,
          null,
          null,
          null,
          null,
          null,
          null,
          null,
          null,
          null,
          null,
          null,
          null,
          null,
          null,
          null,
          null,
          null,
          null,
          null,
          null,
          null,
          null,
          null,
          null,
          null,
          null,
          null,
          null,
          null,
          null,
          null,
          null,
          null,
          null,
          null,
          null,
          null,
          null,
          null,
          null,
          null,
          null,
          null,
          null,
          null,
          null,
          null,
          null,
          null,
          null,
          null,
          null,
          null,
          null,
          null,
          null,
          null,
          null,
          null,
          null,
          null,
          null,
          null,
          null,
          null,
          null,
          null,
          null,
          null,
          null,
          null,
          null,
          null,
          null,
          null,
          null,
          null,
          null,
          null,
          null,
          null,
          null,
          null,
          null,
          null,
          null,
          null,
          null,
          null,
          null,
          null,
          null,
          null,
          null,
          null,
          null,
          null,
          null,
          null,
          null,
          null,
          null,
          null,
          null,
          null,
          null,
          null,
          null,
          null,
          null,
          null,
          null,
          null,
          null,
          null,
          null,
          null,
          null,
          null,
          null,
          null,
          null,
          null,
          null,
          null,
          null,
          null,
          null,
          null,
          null,
          null,
          null,
          null,
          null,
          null,
          null,
          null,
          null,
          null,
          null,
          null,
          null,
          null,
          null,
          null,
          null,
          null,
          null,
          null,
          null,
          null,
          null,
          null,
          null,
          null,
          null,
          null,
          null,
          null,
          null,
          null,
          null,
          null,
          null,
          null,
          null,
          null,
          null,
          null,
          null,
          null,
          null,
          null,
          null,
          null,
          null,
          null,
          null,
          null,
          null,
          null,
          null,
          null,
          null,
          null,
          null,
          null,
          null,
          null,
          null,
          null,
          null,
          null,
          null,
          null,
          null,
          null,
          null,
          null,
          null,
          null,
          null,
          null,
          null,
          null,
          null,
          null,
          null,
          null,
          null,
          null,
          null,
          null,
          null,
          null,
          null,
          null,
          null,
          null,
          null,
          null,
          null,
          null,
          null,
          null,
          null,
          null,
          null,
          null,
          null,
          null,
          null,
          null,
          null,
          null,
          null,
          null,
          null,
          null,
          null,
          null,
          null,
          null,
          null,
          null,
          null,
          null,
          null,
          null,
          null,
          null,
          null,
          null,
          null,
          null,
          null,
          null,
          null,
          null,
          null,
          null,
          null,
          null,
          null,
          null,
          null,
          null,
          null,
          null,
          null,
          null,
          null,
          null,
          null,
          null,
          null,
          null,
          null,
          null,
          null,
          null,
          null,
          null,
          null,
          null,
          null,
          null,
          null,
          null,
          null,
          null,
          null,
          null,
          null,
          null,
          null,
          null,
          null,
          null,
          null,
          null,
          null,
          null,
          null,
          null,
          null,
          null,
          null,
          null,
          null,
          null,
          null,
          null,
          null,
          null,
          null,
          null,
          null,
          null,
          null,
          null,
          null,
          null,
          null,
          null,
          null,
          null,
          null,
          null,
          null,
          null,
          null,
          null,
          null,
          null,
          null,
          null,
          null,
          null,
          null,
          null,
          null,
          null,
          null,
          null,
          null,
          null,
          null,
          null,
          null,
          null,
          null,
          null,
          null,
          null,
          null,
          null,
          null,
          null,
          null,
          null,
          null,
          null,
          null,
          null,
          null,
          null,
          null,
          null,
          null,
          null,
          null,
          null,
          null,
          null,
          null,
          null,
          null,
          null,
          null,
          null,
          null,
          null,
          null,
          null,
          null,
          null,
          null,
          null,
          null,
          null,
          null,
          null,
          null,
          null,
          null,
          null,
          null,
          null,
          null,
          null,
          null,
          null,
          null,
          null,
          null,
          null,
          null,
          null,
          null,
          null,
          null,
          null,
          null,
          null,
          null,
          null,
          null,
          null,
          null,
          null,
          null,
          null,
          null,
          null,
          null,
          null,
          null,
          null,
          null,
          null,
          null,
          null,
          null,
          null,
          null,
          null,
          null,
          null,
          null,
          null,
          null,
          null,
          null,
          null,
          null,
          null,
          null,
          null,
          null,
          null,
          null,
          null,
          null,
          null,
          null,
          null,
          null,
          null,
          null,
          null,
          null,
          null,
          null,
          null,
          null,
          null,
          null,
          null,
          null,
          null,
          null,
          null,
          null,
          null,
          null,
          null,
          null,
          null,
          null,
          null,
          null,
          null,
          null,
          null,
          null,
          null,
          null,
          null,
          null,
          null,
          null,
          0,
          0,
          0,
          0,
          0,
          0,
          15,
          125,
          237,
          314,
          361,
          364,
          365,
          344,
          292,
          209,
          99,
          1,
          0,
          0,
          0,
          0,
          0,
          0,
          0,
          0,
          0,
          0,
          0,
          0,
          3,
          54,
          151,
          314,
          360,
          364,
          345,
          187,
          291,
          211,
          97,
          4,
          0,
          0,
          0,
          0,
          0
         ]
        },
        {
         "name": "Hourly Baseline",
         "type": "scatter",
         "x": [
          "2018-09-14T02:00:00",
          "2018-09-14T03:00:00",
          "2018-09-14T04:00:00",
          "2018-09-14T05:00:00",
          "2018-09-14T06:00:00",
          "2018-09-14T07:00:00",
          "2018-09-14T08:00:00",
          "2018-09-14T09:00:00",
          "2018-09-14T10:00:00",
          "2018-09-14T11:00:00",
          "2018-09-14T12:00:00",
          "2018-09-14T13:00:00",
          "2018-09-14T14:00:00",
          "2018-09-14T15:00:00",
          "2018-09-14T16:00:00",
          "2018-09-14T17:00:00",
          "2018-09-14T18:00:00",
          "2018-09-14T19:00:00",
          "2018-09-14T20:00:00",
          "2018-09-14T21:00:00",
          "2018-09-14T22:00:00",
          "2018-09-14T23:00:00",
          "2018-09-15T00:00:00",
          "2018-09-15T01:00:00",
          "2018-09-15T02:00:00",
          "2018-09-15T03:00:00",
          "2018-09-15T04:00:00",
          "2018-09-15T05:00:00",
          "2018-09-15T06:00:00",
          "2018-09-15T07:00:00",
          "2018-09-15T08:00:00",
          "2018-09-15T09:00:00",
          "2018-09-15T10:00:00",
          "2018-09-15T11:00:00",
          "2018-09-15T12:00:00",
          "2018-09-15T13:00:00",
          "2018-09-15T14:00:00",
          "2018-09-15T15:00:00",
          "2018-09-15T16:00:00",
          "2018-09-15T17:00:00",
          "2018-09-15T18:00:00",
          "2018-09-15T19:00:00",
          "2018-09-15T20:00:00",
          "2018-09-15T21:00:00",
          "2018-09-15T22:00:00",
          "2018-09-15T23:00:00",
          "2018-09-16T00:00:00",
          "2018-09-16T01:00:00",
          "2018-09-16T02:00:00",
          "2018-09-16T03:00:00",
          "2018-09-16T04:00:00",
          "2018-09-16T05:00:00",
          "2018-09-16T06:00:00",
          "2018-09-16T07:00:00",
          "2018-09-16T08:00:00",
          "2018-09-16T09:00:00",
          "2018-09-16T10:00:00",
          "2018-09-16T11:00:00",
          "2018-09-16T12:00:00",
          "2018-09-16T13:00:00",
          "2018-09-16T14:00:00",
          "2018-09-16T15:00:00",
          "2018-09-16T16:00:00",
          "2018-09-16T17:00:00",
          "2018-09-16T18:00:00",
          "2018-09-16T19:00:00",
          "2018-09-16T20:00:00",
          "2018-09-16T21:00:00",
          "2018-09-16T22:00:00",
          "2018-09-16T23:00:00",
          "2018-09-17T00:00:00",
          "2018-09-17T01:00:00",
          "2018-09-17T02:00:00",
          "2018-09-17T03:00:00",
          "2018-09-17T04:00:00",
          "2018-09-17T05:00:00",
          "2018-09-17T06:00:00",
          "2018-09-17T07:00:00",
          "2018-09-17T08:00:00",
          "2018-09-17T09:00:00",
          "2018-09-17T10:00:00",
          "2018-09-17T11:00:00",
          "2018-09-17T12:00:00",
          "2018-09-17T13:00:00",
          "2018-09-17T14:00:00",
          "2018-09-17T15:00:00",
          "2018-09-17T16:00:00",
          "2018-09-17T17:00:00",
          "2018-09-17T18:00:00",
          "2018-09-17T19:00:00",
          "2018-09-17T20:00:00",
          "2018-09-17T21:00:00",
          "2018-09-17T22:00:00",
          "2018-09-17T23:00:00",
          "2018-09-18T00:00:00",
          "2018-09-18T01:00:00",
          "2018-09-18T02:00:00",
          "2018-09-18T03:00:00",
          "2018-09-18T04:00:00",
          "2018-09-18T05:00:00",
          "2018-09-18T06:00:00",
          "2018-09-18T07:00:00",
          "2018-09-18T08:00:00",
          "2018-09-18T09:00:00",
          "2018-09-18T10:00:00",
          "2018-09-18T11:00:00",
          "2018-09-18T12:00:00",
          "2018-09-18T13:00:00",
          "2018-09-18T14:00:00",
          "2018-09-18T15:00:00",
          "2018-09-18T16:00:00",
          "2018-09-18T17:00:00",
          "2018-09-18T18:00:00",
          "2018-09-18T19:00:00",
          "2018-09-18T20:00:00",
          "2018-09-18T21:00:00",
          "2018-09-18T22:00:00",
          "2018-09-18T23:00:00",
          "2018-09-19T00:00:00",
          "2018-09-19T01:00:00",
          "2018-09-19T02:00:00",
          "2018-09-19T03:00:00",
          "2018-09-19T04:00:00",
          "2018-09-19T05:00:00",
          "2018-09-19T06:00:00",
          "2018-09-19T07:00:00",
          "2018-09-19T08:00:00",
          "2018-09-19T09:00:00",
          "2018-09-19T10:00:00",
          "2018-09-19T11:00:00",
          "2018-09-19T12:00:00",
          "2018-09-19T13:00:00",
          "2018-09-19T14:00:00",
          "2018-09-19T15:00:00",
          "2018-09-19T16:00:00",
          "2018-09-19T17:00:00",
          "2018-09-19T18:00:00",
          "2018-09-19T19:00:00",
          "2018-09-19T20:00:00",
          "2018-09-19T21:00:00",
          "2018-09-19T22:00:00",
          "2018-09-19T23:00:00",
          "2018-09-20T00:00:00",
          "2018-09-20T01:00:00",
          "2018-09-20T02:00:00",
          "2018-09-20T03:00:00",
          "2018-09-20T04:00:00",
          "2018-09-20T05:00:00",
          "2018-09-20T06:00:00",
          "2018-09-20T07:00:00",
          "2018-09-20T08:00:00",
          "2018-09-20T09:00:00",
          "2018-09-20T10:00:00",
          "2018-09-20T11:00:00",
          "2018-09-20T12:00:00",
          "2018-09-20T13:00:00",
          "2018-09-20T14:00:00",
          "2018-09-20T15:00:00",
          "2018-09-20T16:00:00",
          "2018-09-20T17:00:00",
          "2018-09-20T18:00:00",
          "2018-09-20T19:00:00",
          "2018-09-20T20:00:00",
          "2018-09-20T21:00:00",
          "2018-09-20T22:00:00",
          "2018-09-20T23:00:00",
          "2018-09-21T00:00:00",
          "2018-09-21T01:00:00",
          "2018-09-21T02:00:00",
          "2018-09-21T03:00:00",
          "2018-09-21T04:00:00",
          "2018-09-21T05:00:00",
          "2018-09-21T06:00:00",
          "2018-09-21T07:00:00",
          "2018-09-21T08:00:00",
          "2018-09-21T09:00:00",
          "2018-09-21T10:00:00",
          "2018-09-21T11:00:00",
          "2018-09-21T12:00:00",
          "2018-09-21T13:00:00",
          "2018-09-21T14:00:00",
          "2018-09-21T15:00:00",
          "2018-09-21T16:00:00",
          "2018-09-21T17:00:00",
          "2018-09-21T18:00:00",
          "2018-09-21T19:00:00",
          "2018-09-21T20:00:00",
          "2018-09-21T21:00:00",
          "2018-09-21T22:00:00",
          "2018-09-21T23:00:00",
          "2018-09-22T00:00:00",
          "2018-09-22T01:00:00",
          "2018-09-22T02:00:00",
          "2018-09-22T03:00:00",
          "2018-09-22T04:00:00",
          "2018-09-22T05:00:00",
          "2018-09-22T06:00:00",
          "2018-09-22T07:00:00",
          "2018-09-22T08:00:00",
          "2018-09-22T09:00:00",
          "2018-09-22T10:00:00",
          "2018-09-22T11:00:00",
          "2018-09-22T12:00:00",
          "2018-09-22T13:00:00",
          "2018-09-22T14:00:00",
          "2018-09-22T15:00:00",
          "2018-09-22T16:00:00",
          "2018-09-22T17:00:00",
          "2018-09-22T18:00:00",
          "2018-09-22T19:00:00",
          "2018-09-22T20:00:00",
          "2018-09-22T21:00:00",
          "2018-09-22T22:00:00",
          "2018-09-22T23:00:00",
          "2018-09-23T00:00:00",
          "2018-09-23T01:00:00",
          "2018-09-23T02:00:00",
          "2018-09-23T03:00:00",
          "2018-09-23T04:00:00",
          "2018-09-23T05:00:00",
          "2018-09-23T06:00:00",
          "2018-09-23T07:00:00",
          "2018-09-23T08:00:00",
          "2018-09-23T09:00:00",
          "2018-09-23T10:00:00",
          "2018-09-23T11:00:00",
          "2018-09-23T12:00:00",
          "2018-09-23T13:00:00",
          "2018-09-23T14:00:00",
          "2018-09-23T15:00:00",
          "2018-09-23T16:00:00",
          "2018-09-23T17:00:00",
          "2018-09-23T18:00:00",
          "2018-09-23T19:00:00",
          "2018-09-23T20:00:00",
          "2018-09-23T21:00:00",
          "2018-09-23T22:00:00",
          "2018-09-23T23:00:00",
          "2018-09-24T00:00:00",
          "2018-09-24T01:00:00",
          "2018-09-24T02:00:00",
          "2018-09-24T03:00:00",
          "2018-09-24T04:00:00",
          "2018-09-24T05:00:00",
          "2018-09-24T06:00:00",
          "2018-09-24T07:00:00",
          "2018-09-24T08:00:00",
          "2018-09-24T09:00:00",
          "2018-09-24T10:00:00",
          "2018-09-24T11:00:00",
          "2018-09-24T12:00:00",
          "2018-09-24T13:00:00",
          "2018-09-24T14:00:00",
          "2018-09-24T15:00:00",
          "2018-09-24T16:00:00",
          "2018-09-24T17:00:00",
          "2018-09-24T18:00:00",
          "2018-09-24T19:00:00",
          "2018-09-24T20:00:00",
          "2018-09-24T21:00:00",
          "2018-09-24T22:00:00",
          "2018-09-24T23:00:00",
          "2018-09-25T00:00:00",
          "2018-09-25T01:00:00",
          "2018-09-25T02:00:00",
          "2018-09-25T03:00:00",
          "2018-09-25T04:00:00",
          "2018-09-25T05:00:00",
          "2018-09-25T06:00:00",
          "2018-09-25T07:00:00",
          "2018-09-25T08:00:00",
          "2018-09-25T09:00:00",
          "2018-09-25T10:00:00",
          "2018-09-25T11:00:00",
          "2018-09-25T12:00:00",
          "2018-09-25T13:00:00",
          "2018-09-25T14:00:00",
          "2018-09-25T15:00:00",
          "2018-09-25T16:00:00",
          "2018-09-25T17:00:00",
          "2018-09-25T18:00:00",
          "2018-09-25T19:00:00",
          "2018-09-25T20:00:00",
          "2018-09-25T21:00:00",
          "2018-09-25T22:00:00",
          "2018-09-25T23:00:00",
          "2018-09-26T00:00:00",
          "2018-09-26T01:00:00",
          "2018-09-26T02:00:00",
          "2018-09-26T03:00:00",
          "2018-09-26T04:00:00",
          "2018-09-26T05:00:00",
          "2018-09-26T06:00:00",
          "2018-09-26T07:00:00",
          "2018-09-26T08:00:00",
          "2018-09-26T09:00:00",
          "2018-09-26T10:00:00",
          "2018-09-26T11:00:00",
          "2018-09-26T12:00:00",
          "2018-09-26T13:00:00",
          "2018-09-26T14:00:00",
          "2018-09-26T15:00:00",
          "2018-09-26T16:00:00",
          "2018-09-26T17:00:00",
          "2018-09-26T18:00:00",
          "2018-09-26T19:00:00",
          "2018-09-26T20:00:00",
          "2018-09-26T21:00:00",
          "2018-09-26T22:00:00",
          "2018-09-26T23:00:00",
          "2018-09-27T00:00:00",
          "2018-09-27T01:00:00",
          "2018-09-27T02:00:00",
          "2018-09-27T03:00:00",
          "2018-09-27T04:00:00",
          "2018-09-27T05:00:00",
          "2018-09-27T06:00:00",
          "2018-09-27T07:00:00",
          "2018-09-27T08:00:00",
          "2018-09-27T09:00:00",
          "2018-09-27T10:00:00",
          "2018-09-27T11:00:00",
          "2018-09-27T12:00:00",
          "2018-09-27T13:00:00",
          "2018-09-27T14:00:00",
          "2018-09-27T15:00:00",
          "2018-09-27T16:00:00",
          "2018-09-27T17:00:00",
          "2018-09-27T18:00:00",
          "2018-09-27T19:00:00",
          "2018-09-27T20:00:00",
          "2018-09-27T21:00:00",
          "2018-09-27T22:00:00",
          "2018-09-27T23:00:00",
          "2018-09-28T00:00:00",
          "2018-09-28T01:00:00",
          "2018-09-28T02:00:00",
          "2018-09-28T03:00:00",
          "2018-09-28T04:00:00",
          "2018-09-28T05:00:00",
          "2018-09-28T06:00:00",
          "2018-09-28T07:00:00",
          "2018-09-28T08:00:00",
          "2018-09-28T09:00:00",
          "2018-09-28T10:00:00",
          "2018-09-28T11:00:00",
          "2018-09-28T12:00:00",
          "2018-09-28T13:00:00",
          "2018-09-28T14:00:00",
          "2018-09-28T15:00:00",
          "2018-09-28T16:00:00",
          "2018-09-28T17:00:00",
          "2018-09-28T18:00:00",
          "2018-09-28T19:00:00",
          "2018-09-28T20:00:00",
          "2018-09-28T21:00:00",
          "2018-09-28T22:00:00",
          "2018-09-28T23:00:00",
          "2018-09-29T00:00:00",
          "2018-09-29T01:00:00",
          "2018-09-29T02:00:00",
          "2018-09-29T03:00:00",
          "2018-09-29T04:00:00",
          "2018-09-29T05:00:00",
          "2018-09-29T06:00:00",
          "2018-09-29T07:00:00",
          "2018-09-29T08:00:00",
          "2018-09-29T09:00:00",
          "2018-09-29T10:00:00",
          "2018-09-29T11:00:00",
          "2018-09-29T12:00:00",
          "2018-09-29T13:00:00",
          "2018-09-29T14:00:00",
          "2018-09-29T15:00:00",
          "2018-09-29T16:00:00",
          "2018-09-29T17:00:00",
          "2018-09-29T18:00:00",
          "2018-09-29T19:00:00",
          "2018-09-29T20:00:00",
          "2018-09-29T21:00:00",
          "2018-09-29T22:00:00",
          "2018-09-29T23:00:00",
          "2018-09-30T00:00:00",
          "2018-09-30T01:00:00",
          "2018-09-30T02:00:00",
          "2018-09-30T03:00:00",
          "2018-09-30T04:00:00",
          "2018-09-30T05:00:00",
          "2018-09-30T06:00:00",
          "2018-09-30T07:00:00",
          "2018-09-30T08:00:00",
          "2018-09-30T09:00:00",
          "2018-09-30T10:00:00",
          "2018-09-30T11:00:00",
          "2018-09-30T12:00:00",
          "2018-09-30T13:00:00",
          "2018-09-30T14:00:00",
          "2018-09-30T15:00:00",
          "2018-09-30T16:00:00",
          "2018-09-30T17:00:00",
          "2018-09-30T18:00:00",
          "2018-09-30T19:00:00",
          "2018-09-30T20:00:00",
          "2018-09-30T21:00:00",
          "2018-09-30T22:00:00",
          "2018-09-30T23:00:00",
          "2018-10-01T00:00:00",
          "2018-10-01T01:00:00",
          "2018-10-01T02:00:00",
          "2018-10-01T03:00:00",
          "2018-10-01T04:00:00",
          "2018-10-01T05:00:00",
          "2018-10-01T06:00:00",
          "2018-10-01T07:00:00",
          "2018-10-01T08:00:00",
          "2018-10-01T09:00:00",
          "2018-10-01T10:00:00",
          "2018-10-01T11:00:00",
          "2018-10-01T12:00:00",
          "2018-10-01T13:00:00",
          "2018-10-01T14:00:00",
          "2018-10-01T15:00:00",
          "2018-10-01T16:00:00",
          "2018-10-01T17:00:00",
          "2018-10-01T18:00:00",
          "2018-10-01T19:00:00",
          "2018-10-01T20:00:00",
          "2018-10-01T21:00:00",
          "2018-10-01T22:00:00",
          "2018-10-01T23:00:00",
          "2018-10-02T00:00:00",
          "2018-10-02T01:00:00",
          "2018-10-02T02:00:00",
          "2018-10-02T03:00:00",
          "2018-10-02T04:00:00",
          "2018-10-02T05:00:00",
          "2018-10-02T06:00:00",
          "2018-10-02T07:00:00",
          "2018-10-02T08:00:00",
          "2018-10-02T09:00:00",
          "2018-10-02T10:00:00",
          "2018-10-02T11:00:00",
          "2018-10-02T12:00:00",
          "2018-10-02T13:00:00",
          "2018-10-02T14:00:00",
          "2018-10-02T15:00:00",
          "2018-10-02T16:00:00",
          "2018-10-02T17:00:00",
          "2018-10-02T18:00:00",
          "2018-10-02T19:00:00",
          "2018-10-02T20:00:00",
          "2018-10-02T21:00:00",
          "2018-10-02T22:00:00",
          "2018-10-02T23:00:00",
          "2018-10-03T00:00:00",
          "2018-10-03T01:00:00",
          "2018-10-03T02:00:00",
          "2018-10-03T03:00:00",
          "2018-10-03T04:00:00",
          "2018-10-03T05:00:00",
          "2018-10-03T06:00:00",
          "2018-10-03T07:00:00",
          "2018-10-03T08:00:00",
          "2018-10-03T09:00:00",
          "2018-10-03T10:00:00",
          "2018-10-03T11:00:00",
          "2018-10-03T12:00:00",
          "2018-10-03T13:00:00",
          "2018-10-03T14:00:00",
          "2018-10-03T15:00:00",
          "2018-10-03T16:00:00",
          "2018-10-03T17:00:00",
          "2018-10-03T18:00:00",
          "2018-10-03T19:00:00",
          "2018-10-03T20:00:00",
          "2018-10-03T21:00:00",
          "2018-10-03T22:00:00",
          "2018-10-03T23:00:00",
          "2018-10-04T00:00:00",
          "2018-10-04T01:00:00",
          "2018-10-04T02:00:00",
          "2018-10-04T03:00:00",
          "2018-10-04T04:00:00",
          "2018-10-04T05:00:00",
          "2018-10-04T06:00:00",
          "2018-10-04T07:00:00",
          "2018-10-04T08:00:00",
          "2018-10-04T09:00:00",
          "2018-10-04T10:00:00",
          "2018-10-04T11:00:00",
          "2018-10-04T12:00:00",
          "2018-10-04T13:00:00",
          "2018-10-04T14:00:00",
          "2018-10-04T15:00:00",
          "2018-10-04T16:00:00",
          "2018-10-04T17:00:00",
          "2018-10-04T18:00:00",
          "2018-10-04T19:00:00",
          "2018-10-04T20:00:00",
          "2018-10-04T21:00:00",
          "2018-10-04T22:00:00",
          "2018-10-04T23:00:00",
          "2018-10-05T00:00:00",
          "2018-10-05T01:00:00",
          "2018-10-05T02:00:00",
          "2018-10-05T03:00:00",
          "2018-10-05T04:00:00",
          "2018-10-05T05:00:00",
          "2018-10-05T06:00:00",
          "2018-10-05T07:00:00",
          "2018-10-05T08:00:00",
          "2018-10-05T09:00:00",
          "2018-10-05T10:00:00",
          "2018-10-05T11:00:00",
          "2018-10-05T12:00:00",
          "2018-10-05T13:00:00",
          "2018-10-05T14:00:00",
          "2018-10-05T15:00:00",
          "2018-10-05T16:00:00",
          "2018-10-05T17:00:00",
          "2018-10-05T18:00:00",
          "2018-10-05T19:00:00",
          "2018-10-05T20:00:00",
          "2018-10-05T21:00:00",
          "2018-10-05T22:00:00",
          "2018-10-05T23:00:00",
          "2018-10-06T00:00:00",
          "2018-10-06T01:00:00",
          "2018-10-06T02:00:00",
          "2018-10-06T03:00:00",
          "2018-10-06T04:00:00",
          "2018-10-06T05:00:00",
          "2018-10-06T06:00:00",
          "2018-10-06T07:00:00",
          "2018-10-06T08:00:00",
          "2018-10-06T09:00:00",
          "2018-10-06T10:00:00",
          "2018-10-06T11:00:00",
          "2018-10-06T12:00:00",
          "2018-10-06T13:00:00",
          "2018-10-06T14:00:00",
          "2018-10-06T15:00:00",
          "2018-10-06T16:00:00",
          "2018-10-06T17:00:00",
          "2018-10-06T18:00:00",
          "2018-10-06T19:00:00",
          "2018-10-06T20:00:00",
          "2018-10-06T21:00:00",
          "2018-10-06T22:00:00",
          "2018-10-06T23:00:00",
          "2018-10-07T00:00:00",
          "2018-10-07T01:00:00",
          "2018-10-07T02:00:00",
          "2018-10-07T03:00:00",
          "2018-10-07T04:00:00",
          "2018-10-07T05:00:00",
          "2018-10-07T06:00:00",
          "2018-10-07T07:00:00",
          "2018-10-07T08:00:00",
          "2018-10-07T09:00:00",
          "2018-10-07T10:00:00",
          "2018-10-07T11:00:00",
          "2018-10-07T12:00:00",
          "2018-10-07T13:00:00",
          "2018-10-07T14:00:00",
          "2018-10-07T15:00:00",
          "2018-10-07T16:00:00",
          "2018-10-07T17:00:00",
          "2018-10-07T18:00:00",
          "2018-10-07T19:00:00",
          "2018-10-07T20:00:00",
          "2018-10-07T21:00:00",
          "2018-10-07T22:00:00",
          "2018-10-07T23:00:00",
          "2018-10-08T00:00:00",
          "2018-10-08T01:00:00",
          "2018-10-08T02:00:00",
          "2018-10-08T03:00:00",
          "2018-10-08T04:00:00",
          "2018-10-08T05:00:00",
          "2018-10-08T06:00:00",
          "2018-10-08T07:00:00",
          "2018-10-08T08:00:00",
          "2018-10-08T09:00:00",
          "2018-10-08T10:00:00",
          "2018-10-08T11:00:00",
          "2018-10-08T12:00:00",
          "2018-10-08T13:00:00",
          "2018-10-08T14:00:00",
          "2018-10-08T15:00:00",
          "2018-10-08T16:00:00",
          "2018-10-08T17:00:00",
          "2018-10-08T18:00:00",
          "2018-10-08T19:00:00",
          "2018-10-08T20:00:00",
          "2018-10-08T21:00:00",
          "2018-10-08T22:00:00",
          "2018-10-08T23:00:00",
          "2018-10-09T00:00:00",
          "2018-10-09T01:00:00",
          "2018-10-09T02:00:00",
          "2018-10-09T03:00:00",
          "2018-10-09T04:00:00",
          "2018-10-09T05:00:00",
          "2018-10-09T06:00:00",
          "2018-10-09T07:00:00",
          "2018-10-09T08:00:00",
          "2018-10-09T09:00:00",
          "2018-10-09T10:00:00",
          "2018-10-09T11:00:00",
          "2018-10-09T12:00:00",
          "2018-10-09T13:00:00",
          "2018-10-09T14:00:00",
          "2018-10-09T15:00:00",
          "2018-10-09T16:00:00",
          "2018-10-09T17:00:00",
          "2018-10-09T18:00:00",
          "2018-10-09T19:00:00",
          "2018-10-09T20:00:00",
          "2018-10-09T21:00:00",
          "2018-10-09T22:00:00",
          "2018-10-09T23:00:00",
          "2018-10-10T00:00:00",
          "2018-10-10T01:00:00",
          "2018-10-10T02:00:00",
          "2018-10-10T03:00:00",
          "2018-10-10T04:00:00",
          "2018-10-10T05:00:00",
          "2018-10-10T06:00:00",
          "2018-10-10T07:00:00",
          "2018-10-10T08:00:00",
          "2018-10-10T09:00:00",
          "2018-10-10T10:00:00",
          "2018-10-10T11:00:00",
          "2018-10-10T12:00:00",
          "2018-10-10T13:00:00",
          "2018-10-10T14:00:00",
          "2018-10-10T15:00:00",
          "2018-10-10T16:00:00",
          "2018-10-10T17:00:00",
          "2018-10-10T18:00:00",
          "2018-10-10T19:00:00",
          "2018-10-10T20:00:00",
          "2018-10-10T21:00:00",
          "2018-10-10T22:00:00",
          "2018-10-10T23:00:00",
          "2018-10-11T00:00:00",
          "2018-10-11T01:00:00",
          "2018-10-11T02:00:00",
          "2018-10-11T03:00:00",
          "2018-10-11T04:00:00",
          "2018-10-11T05:00:00",
          "2018-10-11T06:00:00",
          "2018-10-11T07:00:00",
          "2018-10-11T08:00:00",
          "2018-10-11T09:00:00",
          "2018-10-11T10:00:00",
          "2018-10-11T11:00:00",
          "2018-10-11T12:00:00",
          "2018-10-11T13:00:00",
          "2018-10-11T14:00:00",
          "2018-10-11T15:00:00",
          "2018-10-11T16:00:00",
          "2018-10-11T17:00:00",
          "2018-10-11T18:00:00",
          "2018-10-11T19:00:00",
          "2018-10-11T20:00:00",
          "2018-10-11T21:00:00",
          "2018-10-11T22:00:00",
          "2018-10-11T23:00:00",
          "2018-10-12T00:00:00",
          "2018-10-12T01:00:00",
          "2018-10-12T02:00:00",
          "2018-10-12T03:00:00",
          "2018-10-12T04:00:00",
          "2018-10-12T05:00:00",
          "2018-10-12T06:00:00",
          "2018-10-12T07:00:00",
          "2018-10-12T08:00:00",
          "2018-10-12T09:00:00",
          "2018-10-12T10:00:00",
          "2018-10-12T11:00:00",
          "2018-10-12T12:00:00",
          "2018-10-12T13:00:00",
          "2018-10-12T14:00:00",
          "2018-10-12T15:00:00",
          "2018-10-12T16:00:00",
          "2018-10-12T17:00:00",
          "2018-10-12T18:00:00",
          "2018-10-12T19:00:00",
          "2018-10-12T20:00:00",
          "2018-10-12T21:00:00",
          "2018-10-12T22:00:00",
          "2018-10-12T23:00:00",
          "2018-10-13T00:00:00",
          "2018-10-13T01:00:00",
          "2018-10-13T02:00:00",
          "2018-10-13T03:00:00",
          "2018-10-13T04:00:00",
          "2018-10-13T05:00:00",
          "2018-10-13T06:00:00",
          "2018-10-13T07:00:00",
          "2018-10-13T08:00:00",
          "2018-10-13T09:00:00",
          "2018-10-13T10:00:00",
          "2018-10-13T11:00:00",
          "2018-10-13T12:00:00",
          "2018-10-13T13:00:00",
          "2018-10-13T14:00:00",
          "2018-10-13T15:00:00",
          "2018-10-13T16:00:00",
          "2018-10-13T17:00:00",
          "2018-10-13T18:00:00",
          "2018-10-13T19:00:00",
          "2018-10-13T20:00:00",
          "2018-10-13T21:00:00",
          "2018-10-13T22:00:00",
          "2018-10-13T23:00:00"
         ],
         "y": [
          0.16302900421875,
          0.22707854761875,
          0.225822343975,
          1.4668852725937498,
          5.7540007200875,
          5.02547550199375,
          11.523705088375,
          12.01590486925,
          23.7447864771875,
          27.2703182104375,
          21.243235218499997,
          20.8620263090625,
          18.074848603750002,
          11.25968253,
          0,
          0,
          0,
          0,
          0,
          0,
          0,
          0,
          0,
          0,
          0,
          0,
          0,
          0,
          0,
          0,
          0,
          0,
          0,
          0,
          0,
          0,
          0,
          0,
          0,
          0,
          0,
          0,
          0,
          0,
          0,
          0,
          0,
          0,
          0,
          0,
          0,
          0,
          0,
          0,
          0,
          0,
          0,
          0,
          0,
          0,
          0,
          12.1658696403125,
          9.952746717875,
          1.4283063967437502,
          0.062774442475,
          0.0127359182625,
          0.14254649917500004,
          0.0065944290375,
          0.0741648838125,
          0.0088527818625,
          0.0429094064375,
          0.3219561782375,
          0.24309120588125002,
          0.24679035305000002,
          0.1921215302625,
          3.1185451529562505,
          37.56309056825,
          98.004038331875,
          188.11221456562498,
          296.47648371624996,
          369.77413119625004,
          387.66284675124996,
          281.321975333125,
          358.801407245625,
          279.10452709749995,
          158.30896157812498,
          26.868763584437502,
          4.047592285575,
          0.0001805344375,
          0,
          0.001715603575,
          0.0040632974875,
          0,
          0.006863386150000001,
          0.00722453625,
          0.05770300676875,
          0.033682036962499995,
          0.0009029455499999999,
          0,
          9.78428997629375,
          89.0556642999375,
          207.7289459325,
          320.896202865,
          406.68686273937504,
          441.726009376875,
          363.88393478374996,
          429.21587734124995,
          284.819361786875,
          135.87820801750001,
          60.225867416875005,
          42.169397513125,
          7.108944544118749,
          0,
          0.058326338818750004,
          0.04415300073125,
          0.09291109404374999,
          0.02022556068125,
          0.0008126320187499999,
          0,
          0,
          0,
          0,
          0,
          0,
          0,
          0,
          0,
          0,
          0,
          0,
          0,
          0,
          0,
          0,
          0,
          0,
          0,
          0,
          0,
          0,
          0,
          0,
          0,
          0,
          0,
          0,
          0,
          0,
          0,
          0,
          0,
          0,
          0,
          0,
          0,
          0,
          0,
          0,
          0,
          0,
          0,
          0,
          0,
          0,
          0,
          0,
          0,
          0,
          0,
          0,
          0,
          0,
          0,
          0,
          0,
          0,
          0,
          0,
          0,
          0,
          0,
          0,
          0,
          0,
          0,
          0,
          0,
          0,
          0,
          0,
          0,
          0,
          0,
          0,
          0,
          0,
          0,
          0,
          0,
          0,
          0,
          0,
          0,
          0,
          0,
          0,
          0,
          0,
          0,
          0,
          0,
          0,
          0,
          0,
          0,
          0,
          0,
          0,
          0,
          0,
          0,
          0,
          0,
          0,
          0,
          0,
          0,
          0,
          0,
          0,
          0,
          0,
          0,
          0,
          0,
          0,
          0,
          0,
          0,
          0,
          0,
          0,
          0,
          0,
          0,
          0,
          0,
          0,
          0,
          0,
          0,
          0,
          0,
          0,
          0,
          0,
          0,
          0,
          0,
          0,
          0,
          0,
          0,
          0,
          0,
          0,
          0,
          0,
          0,
          0,
          0,
          0,
          0,
          0,
          0,
          0,
          0,
          0,
          0,
          0,
          0,
          0,
          0,
          0,
          0,
          0,
          0,
          0,
          0,
          0,
          0,
          0,
          0,
          0,
          0,
          0,
          0,
          0,
          0,
          0,
          0,
          0,
          0,
          0,
          0,
          0,
          0,
          0,
          0,
          0,
          0,
          0,
          0,
          0,
          0,
          0,
          0,
          0,
          0,
          0,
          0,
          0,
          0,
          0,
          0,
          0,
          0,
          0,
          0,
          0,
          0,
          0,
          0,
          0,
          0,
          0,
          0,
          0,
          0,
          0,
          0,
          0,
          0,
          0,
          0,
          0,
          0,
          0,
          0,
          0,
          0,
          0,
          0,
          0,
          0,
          0,
          0,
          0,
          0,
          0,
          0,
          0,
          0,
          0,
          0,
          0,
          0,
          0,
          0,
          0,
          0,
          0,
          0,
          0,
          0,
          0,
          0,
          0,
          0,
          0,
          0,
          0,
          0,
          0,
          0,
          0,
          0,
          0,
          0,
          0,
          0,
          0,
          0,
          0,
          0,
          0,
          0,
          0,
          0,
          0,
          0,
          0,
          0,
          0,
          0,
          0,
          0,
          0,
          0,
          0,
          0,
          0,
          0,
          0,
          0,
          0,
          0,
          0,
          0,
          0,
          0,
          0,
          0,
          0,
          0,
          0,
          0,
          0,
          0,
          0,
          0,
          0,
          0,
          0,
          0,
          0,
          0,
          0,
          0,
          0,
          0,
          0,
          0,
          0,
          0,
          0,
          0,
          0,
          0,
          0,
          0,
          0,
          0,
          0,
          0,
          0,
          0,
          0,
          0,
          0,
          0,
          0,
          0,
          0,
          0,
          0,
          0,
          0,
          0,
          0,
          0,
          0,
          0,
          0,
          0,
          0,
          0,
          0,
          0,
          0,
          0,
          0,
          0,
          0,
          0,
          0,
          0,
          0,
          0,
          0,
          0,
          0,
          0,
          0,
          0,
          0,
          0,
          0,
          0,
          0,
          0,
          0,
          0,
          0,
          0,
          0,
          0,
          0,
          0,
          0,
          0,
          0,
          0,
          0,
          0,
          0,
          0,
          0,
          0,
          0,
          0,
          0,
          0,
          0,
          0,
          0,
          0,
          0,
          0,
          0,
          0,
          0,
          0,
          0,
          0,
          0,
          0,
          0,
          0,
          0,
          0,
          0,
          0,
          0,
          0,
          0,
          0,
          0,
          0,
          0,
          0,
          0,
          0,
          0,
          0,
          0,
          0,
          0,
          0,
          0,
          0,
          0,
          0,
          0,
          0,
          0,
          0,
          0,
          0,
          0,
          0,
          0,
          0,
          0,
          0,
          0,
          0,
          0,
          0,
          0,
          0,
          0,
          0,
          0,
          0,
          0,
          0,
          0,
          0,
          0,
          0,
          0,
          0,
          0,
          0,
          0,
          0,
          0,
          0,
          0,
          0,
          0,
          0,
          0,
          0,
          0,
          0,
          0,
          0,
          0,
          0,
          0,
          0,
          0,
          0,
          0,
          0,
          0,
          0,
          0,
          0,
          0,
          0,
          0,
          0,
          0,
          0,
          0,
          0,
          0,
          0,
          0,
          0,
          0,
          0,
          0,
          0,
          0,
          0,
          0,
          0,
          0,
          0,
          0,
          0,
          0,
          0,
          0,
          0,
          0,
          0,
          0,
          0,
          0,
          0,
          0,
          0,
          0,
          0,
          0,
          0,
          0,
          0,
          0,
          0,
          0,
          0,
          0,
          0,
          0,
          0,
          0,
          0,
          0,
          0,
          5.354398427687499,
          94.456029199625,
          226.55315113999995,
          342.0151264225,
          428.900791921875,
          479.836170593125,
          492.1950491625,
          465.126829775625,
          401.225337605625,
          306.12974108875,
          187.02217559999997,
          50.22390280355,
          0.07569579076249999,
          0,
          0,
          0.0013562183375000003,
          0.00009041624999999999,
          0,
          0,
          0,
          0.0012668040999999999,
          0,
          0,
          0.10668258925625,
          2.90622422964375,
          38.15415135931249,
          86.39486140624999,
          317.536814159375,
          418.363302241875,
          471.77360796937506,
          491.45489121875,
          385.101422871875,
          285.162592701875,
          325.28272666625,
          180.06068696375002,
          63.08396779375,
          0.29112731249374996,
          0,
          0,
          0,
          0,
          0,
          0
         ]
        },
        {
         "fill": "tozeroy",
         "fillcolor": "rgba(190,0,0,.15)",
         "hoverinfo": "none",
         "line": {
          "width": 0
         },
         "marker": {
          "size": [
           0,
           0
          ]
         },
         "mode": "markers+lines",
         "name": "OM Ticket",
         "showlegend": false,
         "type": "scatter",
         "x": [
          "2018-09-14T10:00:00",
          "2018-09-16T16:00:00"
         ],
         "y": [
          516.804801620625,
          516.804801620625
         ]
        },
        {
         "fill": "tozeroy",
         "fillcolor": "rgba(190,0,0,.15)",
         "hoverinfo": "none",
         "line": {
          "width": 0
         },
         "marker": {
          "size": [
           0,
           0
          ]
         },
         "mode": "markers+lines",
         "name": "OM Ticket",
         "showlegend": false,
         "type": "scatter",
         "x": [
          "2018-09-19T07:00:00",
          "2018-10-11T20:00:00"
         ],
         "y": [
          516.804801620625,
          516.804801620625
         ]
        },
        {
         "fill": "tozeroy",
         "fillcolor": "rgba(190,0,0,.15)",
         "hoverinfo": "none",
         "line": {
          "width": 0
         },
         "marker": {
          "size": [
           0,
           0
          ]
         },
         "mode": "markers+lines",
         "name": "OM Ticket",
         "showlegend": false,
         "type": "scatter",
         "x": [
          "2018-10-13T12:00:00",
          "2018-10-13T17:00:00"
         ],
         "y": [
          516.804801620625,
          516.804801620625
         ]
        },
        {
         "hovertemplate": [
          "Start: %{x} <br>WO#: 1<br>Type: corrective<br>Asset: Facility<br>Nearest Prod Dip:  Sep 15, 2018",
          "Start: %{x} <br>WO#: 3<br>Type: corrective<br>Asset: Other<br>Nearest Prod Dip:  Sep 18, 2018",
          "Start: %{x} <br>WO#: 4<br>Type: preventive<br>Asset: Facility<br>Nearest Prod Dip:  Oct 13, 2018"
         ],
         "mode": "markers",
         "name": "OM_start",
         "type": "scatter",
         "x": [
          "2018-09-14T10:00:00",
          "2018-09-19T07:00:00",
          "2018-10-13T12:00:00"
         ],
         "y": [
          273.75,
          273.75,
          273.75
         ]
        },
        {
         "hovertemplate": [
          "End: %{x} <br>WO#: 1<br>Type: corrective<br>Asset: Facility",
          "End: %{x} <br>WO#: 3<br>Type: corrective<br>Asset: Other",
          "End: %{x} <br>WO#: 4<br>Type: preventive<br>Asset: Facility"
         ],
         "mode": "markers",
         "name": "OM_end",
         "type": "scatter",
         "x": [
          "2018-09-16T16:00:00",
          "2018-10-11T20:00:00",
          "2018-10-13T17:00:00"
         ],
         "y": [
          182.5,
          182.5,
          182.5
         ]
        }
       ],
       "layout": {
        "template": {
         "data": {
          "bar": [
           {
            "error_x": {
             "color": "#2a3f5f"
            },
            "error_y": {
             "color": "#2a3f5f"
            },
            "marker": {
             "line": {
              "color": "#E5ECF6",
              "width": 0.5
             }
            },
            "type": "bar"
           }
          ],
          "barpolar": [
           {
            "marker": {
             "line": {
              "color": "#E5ECF6",
              "width": 0.5
             }
            },
            "type": "barpolar"
           }
          ],
          "carpet": [
           {
            "aaxis": {
             "endlinecolor": "#2a3f5f",
             "gridcolor": "white",
             "linecolor": "white",
             "minorgridcolor": "white",
             "startlinecolor": "#2a3f5f"
            },
            "baxis": {
             "endlinecolor": "#2a3f5f",
             "gridcolor": "white",
             "linecolor": "white",
             "minorgridcolor": "white",
             "startlinecolor": "#2a3f5f"
            },
            "type": "carpet"
           }
          ],
          "choropleth": [
           {
            "colorbar": {
             "outlinewidth": 0,
             "ticks": ""
            },
            "type": "choropleth"
           }
          ],
          "contour": [
           {
            "colorbar": {
             "outlinewidth": 0,
             "ticks": ""
            },
            "colorscale": [
             [
              0,
              "#0d0887"
             ],
             [
              0.1111111111111111,
              "#46039f"
             ],
             [
              0.2222222222222222,
              "#7201a8"
             ],
             [
              0.3333333333333333,
              "#9c179e"
             ],
             [
              0.4444444444444444,
              "#bd3786"
             ],
             [
              0.5555555555555556,
              "#d8576b"
             ],
             [
              0.6666666666666666,
              "#ed7953"
             ],
             [
              0.7777777777777778,
              "#fb9f3a"
             ],
             [
              0.8888888888888888,
              "#fdca26"
             ],
             [
              1,
              "#f0f921"
             ]
            ],
            "type": "contour"
           }
          ],
          "contourcarpet": [
           {
            "colorbar": {
             "outlinewidth": 0,
             "ticks": ""
            },
            "type": "contourcarpet"
           }
          ],
          "heatmap": [
           {
            "colorbar": {
             "outlinewidth": 0,
             "ticks": ""
            },
            "colorscale": [
             [
              0,
              "#0d0887"
             ],
             [
              0.1111111111111111,
              "#46039f"
             ],
             [
              0.2222222222222222,
              "#7201a8"
             ],
             [
              0.3333333333333333,
              "#9c179e"
             ],
             [
              0.4444444444444444,
              "#bd3786"
             ],
             [
              0.5555555555555556,
              "#d8576b"
             ],
             [
              0.6666666666666666,
              "#ed7953"
             ],
             [
              0.7777777777777778,
              "#fb9f3a"
             ],
             [
              0.8888888888888888,
              "#fdca26"
             ],
             [
              1,
              "#f0f921"
             ]
            ],
            "type": "heatmap"
           }
          ],
          "heatmapgl": [
           {
            "colorbar": {
             "outlinewidth": 0,
             "ticks": ""
            },
            "colorscale": [
             [
              0,
              "#0d0887"
             ],
             [
              0.1111111111111111,
              "#46039f"
             ],
             [
              0.2222222222222222,
              "#7201a8"
             ],
             [
              0.3333333333333333,
              "#9c179e"
             ],
             [
              0.4444444444444444,
              "#bd3786"
             ],
             [
              0.5555555555555556,
              "#d8576b"
             ],
             [
              0.6666666666666666,
              "#ed7953"
             ],
             [
              0.7777777777777778,
              "#fb9f3a"
             ],
             [
              0.8888888888888888,
              "#fdca26"
             ],
             [
              1,
              "#f0f921"
             ]
            ],
            "type": "heatmapgl"
           }
          ],
          "histogram": [
           {
            "marker": {
             "colorbar": {
              "outlinewidth": 0,
              "ticks": ""
             }
            },
            "type": "histogram"
           }
          ],
          "histogram2d": [
           {
            "colorbar": {
             "outlinewidth": 0,
             "ticks": ""
            },
            "colorscale": [
             [
              0,
              "#0d0887"
             ],
             [
              0.1111111111111111,
              "#46039f"
             ],
             [
              0.2222222222222222,
              "#7201a8"
             ],
             [
              0.3333333333333333,
              "#9c179e"
             ],
             [
              0.4444444444444444,
              "#bd3786"
             ],
             [
              0.5555555555555556,
              "#d8576b"
             ],
             [
              0.6666666666666666,
              "#ed7953"
             ],
             [
              0.7777777777777778,
              "#fb9f3a"
             ],
             [
              0.8888888888888888,
              "#fdca26"
             ],
             [
              1,
              "#f0f921"
             ]
            ],
            "type": "histogram2d"
           }
          ],
          "histogram2dcontour": [
           {
            "colorbar": {
             "outlinewidth": 0,
             "ticks": ""
            },
            "colorscale": [
             [
              0,
              "#0d0887"
             ],
             [
              0.1111111111111111,
              "#46039f"
             ],
             [
              0.2222222222222222,
              "#7201a8"
             ],
             [
              0.3333333333333333,
              "#9c179e"
             ],
             [
              0.4444444444444444,
              "#bd3786"
             ],
             [
              0.5555555555555556,
              "#d8576b"
             ],
             [
              0.6666666666666666,
              "#ed7953"
             ],
             [
              0.7777777777777778,
              "#fb9f3a"
             ],
             [
              0.8888888888888888,
              "#fdca26"
             ],
             [
              1,
              "#f0f921"
             ]
            ],
            "type": "histogram2dcontour"
           }
          ],
          "mesh3d": [
           {
            "colorbar": {
             "outlinewidth": 0,
             "ticks": ""
            },
            "type": "mesh3d"
           }
          ],
          "parcoords": [
           {
            "line": {
             "colorbar": {
              "outlinewidth": 0,
              "ticks": ""
             }
            },
            "type": "parcoords"
           }
          ],
          "pie": [
           {
            "automargin": true,
            "type": "pie"
           }
          ],
          "scatter": [
           {
            "marker": {
             "colorbar": {
              "outlinewidth": 0,
              "ticks": ""
             }
            },
            "type": "scatter"
           }
          ],
          "scatter3d": [
           {
            "line": {
             "colorbar": {
              "outlinewidth": 0,
              "ticks": ""
             }
            },
            "marker": {
             "colorbar": {
              "outlinewidth": 0,
              "ticks": ""
             }
            },
            "type": "scatter3d"
           }
          ],
          "scattercarpet": [
           {
            "marker": {
             "colorbar": {
              "outlinewidth": 0,
              "ticks": ""
             }
            },
            "type": "scattercarpet"
           }
          ],
          "scattergeo": [
           {
            "marker": {
             "colorbar": {
              "outlinewidth": 0,
              "ticks": ""
             }
            },
            "type": "scattergeo"
           }
          ],
          "scattergl": [
           {
            "marker": {
             "colorbar": {
              "outlinewidth": 0,
              "ticks": ""
             }
            },
            "type": "scattergl"
           }
          ],
          "scattermapbox": [
           {
            "marker": {
             "colorbar": {
              "outlinewidth": 0,
              "ticks": ""
             }
            },
            "type": "scattermapbox"
           }
          ],
          "scatterpolar": [
           {
            "marker": {
             "colorbar": {
              "outlinewidth": 0,
              "ticks": ""
             }
            },
            "type": "scatterpolar"
           }
          ],
          "scatterpolargl": [
           {
            "marker": {
             "colorbar": {
              "outlinewidth": 0,
              "ticks": ""
             }
            },
            "type": "scatterpolargl"
           }
          ],
          "scatterternary": [
           {
            "marker": {
             "colorbar": {
              "outlinewidth": 0,
              "ticks": ""
             }
            },
            "type": "scatterternary"
           }
          ],
          "surface": [
           {
            "colorbar": {
             "outlinewidth": 0,
             "ticks": ""
            },
            "colorscale": [
             [
              0,
              "#0d0887"
             ],
             [
              0.1111111111111111,
              "#46039f"
             ],
             [
              0.2222222222222222,
              "#7201a8"
             ],
             [
              0.3333333333333333,
              "#9c179e"
             ],
             [
              0.4444444444444444,
              "#bd3786"
             ],
             [
              0.5555555555555556,
              "#d8576b"
             ],
             [
              0.6666666666666666,
              "#ed7953"
             ],
             [
              0.7777777777777778,
              "#fb9f3a"
             ],
             [
              0.8888888888888888,
              "#fdca26"
             ],
             [
              1,
              "#f0f921"
             ]
            ],
            "type": "surface"
           }
          ],
          "table": [
           {
            "cells": {
             "fill": {
              "color": "#EBF0F8"
             },
             "line": {
              "color": "white"
             }
            },
            "header": {
             "fill": {
              "color": "#C8D4E3"
             },
             "line": {
              "color": "white"
             }
            },
            "type": "table"
           }
          ]
         },
         "layout": {
          "annotationdefaults": {
           "arrowcolor": "#2a3f5f",
           "arrowhead": 0,
           "arrowwidth": 1
          },
          "coloraxis": {
           "colorbar": {
            "outlinewidth": 0,
            "ticks": ""
           }
          },
          "colorscale": {
           "diverging": [
            [
             0,
             "#8e0152"
            ],
            [
             0.1,
             "#c51b7d"
            ],
            [
             0.2,
             "#de77ae"
            ],
            [
             0.3,
             "#f1b6da"
            ],
            [
             0.4,
             "#fde0ef"
            ],
            [
             0.5,
             "#f7f7f7"
            ],
            [
             0.6,
             "#e6f5d0"
            ],
            [
             0.7,
             "#b8e186"
            ],
            [
             0.8,
             "#7fbc41"
            ],
            [
             0.9,
             "#4d9221"
            ],
            [
             1,
             "#276419"
            ]
           ],
           "sequential": [
            [
             0,
             "#0d0887"
            ],
            [
             0.1111111111111111,
             "#46039f"
            ],
            [
             0.2222222222222222,
             "#7201a8"
            ],
            [
             0.3333333333333333,
             "#9c179e"
            ],
            [
             0.4444444444444444,
             "#bd3786"
            ],
            [
             0.5555555555555556,
             "#d8576b"
            ],
            [
             0.6666666666666666,
             "#ed7953"
            ],
            [
             0.7777777777777778,
             "#fb9f3a"
            ],
            [
             0.8888888888888888,
             "#fdca26"
            ],
            [
             1,
             "#f0f921"
            ]
           ],
           "sequentialminus": [
            [
             0,
             "#0d0887"
            ],
            [
             0.1111111111111111,
             "#46039f"
            ],
            [
             0.2222222222222222,
             "#7201a8"
            ],
            [
             0.3333333333333333,
             "#9c179e"
            ],
            [
             0.4444444444444444,
             "#bd3786"
            ],
            [
             0.5555555555555556,
             "#d8576b"
            ],
            [
             0.6666666666666666,
             "#ed7953"
            ],
            [
             0.7777777777777778,
             "#fb9f3a"
            ],
            [
             0.8888888888888888,
             "#fdca26"
            ],
            [
             1,
             "#f0f921"
            ]
           ]
          },
          "colorway": [
           "#636efa",
           "#EF553B",
           "#00cc96",
           "#ab63fa",
           "#FFA15A",
           "#19d3f3",
           "#FF6692",
           "#B6E880",
           "#FF97FF",
           "#FECB52"
          ],
          "font": {
           "color": "#2a3f5f"
          },
          "geo": {
           "bgcolor": "white",
           "lakecolor": "white",
           "landcolor": "#E5ECF6",
           "showlakes": true,
           "showland": true,
           "subunitcolor": "white"
          },
          "hoverlabel": {
           "align": "left"
          },
          "hovermode": "closest",
          "mapbox": {
           "style": "light"
          },
          "paper_bgcolor": "white",
          "plot_bgcolor": "#E5ECF6",
          "polar": {
           "angularaxis": {
            "gridcolor": "white",
            "linecolor": "white",
            "ticks": ""
           },
           "bgcolor": "#E5ECF6",
           "radialaxis": {
            "gridcolor": "white",
            "linecolor": "white",
            "ticks": ""
           }
          },
          "scene": {
           "xaxis": {
            "backgroundcolor": "#E5ECF6",
            "gridcolor": "white",
            "gridwidth": 2,
            "linecolor": "white",
            "showbackground": true,
            "ticks": "",
            "zerolinecolor": "white"
           },
           "yaxis": {
            "backgroundcolor": "#E5ECF6",
            "gridcolor": "white",
            "gridwidth": 2,
            "linecolor": "white",
            "showbackground": true,
            "ticks": "",
            "zerolinecolor": "white"
           },
           "zaxis": {
            "backgroundcolor": "#E5ECF6",
            "gridcolor": "white",
            "gridwidth": 2,
            "linecolor": "white",
            "showbackground": true,
            "ticks": "",
            "zerolinecolor": "white"
           }
          },
          "shapedefaults": {
           "line": {
            "color": "#2a3f5f"
           }
          },
          "ternary": {
           "aaxis": {
            "gridcolor": "white",
            "linecolor": "white",
            "ticks": ""
           },
           "baxis": {
            "gridcolor": "white",
            "linecolor": "white",
            "ticks": ""
           },
           "bgcolor": "#E5ECF6",
           "caxis": {
            "gridcolor": "white",
            "linecolor": "white",
            "ticks": ""
           }
          },
          "title": {
           "x": 0.05
          },
          "xaxis": {
           "automargin": true,
           "gridcolor": "white",
           "linecolor": "white",
           "ticks": "",
           "title": {
            "standoff": 15
           },
           "zerolinecolor": "white",
           "zerolinewidth": 2
          },
          "yaxis": {
           "automargin": true,
           "gridcolor": "white",
           "linecolor": "white",
           "ticks": "",
           "title": {
            "standoff": 15
           },
           "zerolinecolor": "white",
           "zerolinewidth": 2
          }
         }
        },
        "title": {
         "text": "Site: R27"
        },
        "yaxis": {
         "range": [
          -5,
          516.804801620625
         ],
         "title": {
          "text": "Energy Delivered (kWh)"
         }
        }
       }
      }
     },
     "metadata": {}
    }
   ],
   "source": [
    "for i in range(len(figs)):\n",
    "    figs[i].show()"
   ]
  },
  {
   "cell_type": "markdown",
   "metadata": {},
   "source": [
    "### 5.2 Calculate additional O&M metrics and generate relevant plots"
   ]
  },
  {
   "cell_type": "markdown",
   "metadata": {},
   "source": [
    "Calculating individual event duration and age of system at time of event occurence"
   ]
  },
  {
   "cell_type": "code",
   "execution_count": 39,
   "metadata": {},
   "outputs": [
    {
     "output_type": "execute_result",
     "data": {
      "text/plain": [
       "  randid     Asset          date_start            date_end  WONumber  \\\n",
       "0    R23  Facility 2018-07-21 04:45:00 2018-07-21 13:15:00       104   \n",
       "1    R23  Inverter 2018-07-21 13:16:00 2018-07-21 14:25:00       105   \n",
       "2    R23  Inverter 2018-07-25 14:20:00 2018-07-25 16:40:00       106   \n",
       "3    R23  Facility 2018-08-02 01:05:00 2018-08-02 09:28:00       108   \n",
       "4    R27  Facility 2018-09-14 10:00:00 2018-09-16 16:00:00         1   \n",
       "5    R27     Other 2018-09-19 07:00:00 2018-10-11 20:00:00         3   \n",
       "6    R27  Facility 2018-10-13 12:00:00 2018-10-13 17:00:00         4   \n",
       "\n",
       "       WOType                                        GeneralDesc   EventDur  \\\n",
       "0  Vegetation               Site tripped due to grid disturbance   8.500000   \n",
       "1  Corrective      Inverter failed to start following plant trip   1.150000   \n",
       "2  Corrective    inverter offline due to high ambient temp fault   2.333333   \n",
       "3  Corrective                  Site trip due to grid disturbance   8.383333   \n",
       "4  corrective  hurricane florence outages/response. complete ...   6.000000   \n",
       "5  corrective  hurricane response. perform site inspection to...  13.000000   \n",
       "6  preventive                          Monthly visual inspection   5.000000   \n",
       "\n",
       "   MonthStart        COD  AgeStart  \n",
       "0           7 2013-10-20      1735  \n",
       "1           7 2013-10-20      1736  \n",
       "2           7 2013-10-20      1740  \n",
       "3           8 2013-10-20      1747  \n",
       "4           9 2017-10-21       328  \n",
       "5           9 2017-10-21       333  \n",
       "6          10 2017-10-21       358  "
      ],
      "text/html": "<div>\n<style scoped>\n    .dataframe tbody tr th:only-of-type {\n        vertical-align: middle;\n    }\n\n    .dataframe tbody tr th {\n        vertical-align: top;\n    }\n\n    .dataframe thead th {\n        text-align: right;\n    }\n</style>\n<table border=\"1\" class=\"dataframe\">\n  <thead>\n    <tr style=\"text-align: right;\">\n      <th></th>\n      <th>randid</th>\n      <th>Asset</th>\n      <th>date_start</th>\n      <th>date_end</th>\n      <th>WONumber</th>\n      <th>WOType</th>\n      <th>GeneralDesc</th>\n      <th>EventDur</th>\n      <th>MonthStart</th>\n      <th>COD</th>\n      <th>AgeStart</th>\n    </tr>\n  </thead>\n  <tbody>\n    <tr>\n      <th>0</th>\n      <td>R23</td>\n      <td>Facility</td>\n      <td>2018-07-21 04:45:00</td>\n      <td>2018-07-21 13:15:00</td>\n      <td>104</td>\n      <td>Vegetation</td>\n      <td>Site tripped due to grid disturbance</td>\n      <td>8.500000</td>\n      <td>7</td>\n      <td>2013-10-20</td>\n      <td>1735</td>\n    </tr>\n    <tr>\n      <th>1</th>\n      <td>R23</td>\n      <td>Inverter</td>\n      <td>2018-07-21 13:16:00</td>\n      <td>2018-07-21 14:25:00</td>\n      <td>105</td>\n      <td>Corrective</td>\n      <td>Inverter failed to start following plant trip</td>\n      <td>1.150000</td>\n      <td>7</td>\n      <td>2013-10-20</td>\n      <td>1736</td>\n    </tr>\n    <tr>\n      <th>2</th>\n      <td>R23</td>\n      <td>Inverter</td>\n      <td>2018-07-25 14:20:00</td>\n      <td>2018-07-25 16:40:00</td>\n      <td>106</td>\n      <td>Corrective</td>\n      <td>inverter offline due to high ambient temp fault</td>\n      <td>2.333333</td>\n      <td>7</td>\n      <td>2013-10-20</td>\n      <td>1740</td>\n    </tr>\n    <tr>\n      <th>3</th>\n      <td>R23</td>\n      <td>Facility</td>\n      <td>2018-08-02 01:05:00</td>\n      <td>2018-08-02 09:28:00</td>\n      <td>108</td>\n      <td>Corrective</td>\n      <td>Site trip due to grid disturbance</td>\n      <td>8.383333</td>\n      <td>8</td>\n      <td>2013-10-20</td>\n      <td>1747</td>\n    </tr>\n    <tr>\n      <th>4</th>\n      <td>R27</td>\n      <td>Facility</td>\n      <td>2018-09-14 10:00:00</td>\n      <td>2018-09-16 16:00:00</td>\n      <td>1</td>\n      <td>corrective</td>\n      <td>hurricane florence outages/response. complete ...</td>\n      <td>6.000000</td>\n      <td>9</td>\n      <td>2017-10-21</td>\n      <td>328</td>\n    </tr>\n    <tr>\n      <th>5</th>\n      <td>R27</td>\n      <td>Other</td>\n      <td>2018-09-19 07:00:00</td>\n      <td>2018-10-11 20:00:00</td>\n      <td>3</td>\n      <td>corrective</td>\n      <td>hurricane response. perform site inspection to...</td>\n      <td>13.000000</td>\n      <td>9</td>\n      <td>2017-10-21</td>\n      <td>333</td>\n    </tr>\n    <tr>\n      <th>6</th>\n      <td>R27</td>\n      <td>Facility</td>\n      <td>2018-10-13 12:00:00</td>\n      <td>2018-10-13 17:00:00</td>\n      <td>4</td>\n      <td>preventive</td>\n      <td>Monthly visual inspection</td>\n      <td>5.000000</td>\n      <td>10</td>\n      <td>2017-10-21</td>\n      <td>358</td>\n    </tr>\n  </tbody>\n</table>\n</div>"
     },
     "metadata": {},
     "execution_count": 39
    }
   ],
   "source": [
    "om_data_update = utils.om_summary_stats(om_data_clean, metadata, om_col_dict, metad_col_dict)\n",
    "om_data_update #Quick look at post-processed data"
   ]
  },
  {
   "cell_type": "markdown",
   "metadata": {},
   "source": [
    "Setting Seaborn fig and font settings (inputs to count_fig and catscat_fig below)"
   ]
  },
  {
   "cell_type": "code",
   "execution_count": 40,
   "metadata": {},
   "outputs": [],
   "source": [
    "my_figsize = (12,10)\n",
    "my_fontsize = 20\n",
    "my_savedpi = 300\n",
    "fig_sets = {'figsize': my_figsize, \n",
    "            'fontsize': my_fontsize \n",
    "            }"
   ]
  },
  {
   "cell_type": "markdown",
   "metadata": {},
   "source": [
    "Creating scatter-plot of system age at beginning of each event, per site"
   ]
  },
  {
   "cell_type": "code",
   "execution_count": 41,
   "metadata": {},
   "outputs": [
    {
     "output_type": "display_data",
     "data": {
      "text/plain": "<Figure size 864x720 with 1 Axes>",
      "image/svg+xml": "<?xml version=\"1.0\" encoding=\"utf-8\" standalone=\"no\"?>\r\n<!DOCTYPE svg PUBLIC \"-//W3C//DTD SVG 1.1//EN\"\r\n  \"http://www.w3.org/Graphics/SVG/1.1/DTD/svg11.dtd\">\r\n<!-- Created with matplotlib (https://matplotlib.org/) -->\r\n<svg height=\"712.881352pt\" version=\"1.1\" viewBox=\"0 0 856.96625 712.881352\" width=\"856.96625pt\" xmlns=\"http://www.w3.org/2000/svg\" xmlns:xlink=\"http://www.w3.org/1999/xlink\">\r\n <defs>\r\n  <style type=\"text/css\">\r\n*{stroke-linecap:butt;stroke-linejoin:round;}\r\n  </style>\r\n </defs>\r\n <g id=\"figure_1\">\r\n  <g id=\"patch_1\">\r\n   <path d=\"M 0 712.881352 \r\nL 856.96625 712.881352 \r\nL 856.96625 0 \r\nL 0 0 \r\nz\r\n\" style=\"fill:none;\"/>\r\n  </g>\r\n  <g id=\"axes_1\">\r\n   <g id=\"patch_2\">\r\n    <path d=\"M 83.36625 637.966662 \r\nL 849.76625 637.966662 \r\nL 849.76625 28.396875 \r\nL 83.36625 28.396875 \r\nz\r\n\" style=\"fill:#ffffff;\"/>\r\n   </g>\r\n   <g id=\"matplotlib.axis_1\">\r\n    <g id=\"xtick_1\">\r\n     <g id=\"line2d_1\">\r\n      <defs>\r\n       <path d=\"M 0 0 \r\nL 0 3.5 \r\n\" id=\"m752aacb6f3\" style=\"stroke:#000000;stroke-width:0.8;\"/>\r\n      </defs>\r\n      <g>\r\n       <use style=\"stroke:#000000;stroke-width:0.8;\" x=\"274.96625\" xlink:href=\"#m752aacb6f3\" y=\"637.966662\"/>\r\n      </g>\r\n     </g>\r\n     <g id=\"text_1\">\r\n      <!-- R23 -->\r\n      <defs>\r\n       <path d=\"M 44.390625 34.1875 \r\nQ 47.5625 33.109375 50.5625 29.59375 \r\nQ 53.5625 26.078125 56.59375 19.921875 \r\nL 66.609375 0 \r\nL 56 0 \r\nL 46.6875 18.703125 \r\nQ 43.0625 26.03125 39.671875 28.421875 \r\nQ 36.28125 30.8125 30.421875 30.8125 \r\nL 19.671875 30.8125 \r\nL 19.671875 0 \r\nL 9.8125 0 \r\nL 9.8125 72.90625 \r\nL 32.078125 72.90625 \r\nQ 44.578125 72.90625 50.734375 67.671875 \r\nQ 56.890625 62.453125 56.890625 51.90625 \r\nQ 56.890625 45.015625 53.6875 40.46875 \r\nQ 50.484375 35.9375 44.390625 34.1875 \r\nz\r\nM 19.671875 64.796875 \r\nL 19.671875 38.921875 \r\nL 32.078125 38.921875 \r\nQ 39.203125 38.921875 42.84375 42.21875 \r\nQ 46.484375 45.515625 46.484375 51.90625 \r\nQ 46.484375 58.296875 42.84375 61.546875 \r\nQ 39.203125 64.796875 32.078125 64.796875 \r\nz\r\n\" id=\"DejaVuSans-82\"/>\r\n       <path d=\"M 19.1875 8.296875 \r\nL 53.609375 8.296875 \r\nL 53.609375 0 \r\nL 7.328125 0 \r\nL 7.328125 8.296875 \r\nQ 12.9375 14.109375 22.625 23.890625 \r\nQ 32.328125 33.6875 34.8125 36.53125 \r\nQ 39.546875 41.84375 41.421875 45.53125 \r\nQ 43.3125 49.21875 43.3125 52.78125 \r\nQ 43.3125 58.59375 39.234375 62.25 \r\nQ 35.15625 65.921875 28.609375 65.921875 \r\nQ 23.96875 65.921875 18.8125 64.3125 \r\nQ 13.671875 62.703125 7.8125 59.421875 \r\nL 7.8125 69.390625 \r\nQ 13.765625 71.78125 18.9375 73 \r\nQ 24.125 74.21875 28.421875 74.21875 \r\nQ 39.75 74.21875 46.484375 68.546875 \r\nQ 53.21875 62.890625 53.21875 53.421875 \r\nQ 53.21875 48.921875 51.53125 44.890625 \r\nQ 49.859375 40.875 45.40625 35.40625 \r\nQ 44.1875 33.984375 37.640625 27.21875 \r\nQ 31.109375 20.453125 19.1875 8.296875 \r\nz\r\n\" id=\"DejaVuSans-50\"/>\r\n       <path d=\"M 40.578125 39.3125 \r\nQ 47.65625 37.796875 51.625 33 \r\nQ 55.609375 28.21875 55.609375 21.1875 \r\nQ 55.609375 10.40625 48.1875 4.484375 \r\nQ 40.765625 -1.421875 27.09375 -1.421875 \r\nQ 22.515625 -1.421875 17.65625 -0.515625 \r\nQ 12.796875 0.390625 7.625 2.203125 \r\nL 7.625 11.71875 \r\nQ 11.71875 9.328125 16.59375 8.109375 \r\nQ 21.484375 6.890625 26.8125 6.890625 \r\nQ 36.078125 6.890625 40.9375 10.546875 \r\nQ 45.796875 14.203125 45.796875 21.1875 \r\nQ 45.796875 27.640625 41.28125 31.265625 \r\nQ 36.765625 34.90625 28.71875 34.90625 \r\nL 20.21875 34.90625 \r\nL 20.21875 43.015625 \r\nL 29.109375 43.015625 \r\nQ 36.375 43.015625 40.234375 45.921875 \r\nQ 44.09375 48.828125 44.09375 54.296875 \r\nQ 44.09375 59.90625 40.109375 62.90625 \r\nQ 36.140625 65.921875 28.71875 65.921875 \r\nQ 24.65625 65.921875 20.015625 65.03125 \r\nQ 15.375 64.15625 9.8125 62.3125 \r\nL 9.8125 71.09375 \r\nQ 15.4375 72.65625 20.34375 73.4375 \r\nQ 25.25 74.21875 29.59375 74.21875 \r\nQ 40.828125 74.21875 47.359375 69.109375 \r\nQ 53.90625 64.015625 53.90625 55.328125 \r\nQ 53.90625 49.265625 50.4375 45.09375 \r\nQ 46.96875 40.921875 40.578125 39.3125 \r\nz\r\n\" id=\"DejaVuSans-51\"/>\r\n      </defs>\r\n      <g transform=\"translate(265.958262 679.678092)rotate(-45)scale(0.18 -0.18)\">\r\n       <use xlink:href=\"#DejaVuSans-82\"/>\r\n       <use x=\"69.482422\" xlink:href=\"#DejaVuSans-50\"/>\r\n       <use x=\"133.105469\" xlink:href=\"#DejaVuSans-51\"/>\r\n      </g>\r\n     </g>\r\n    </g>\r\n    <g id=\"xtick_2\">\r\n     <g id=\"line2d_2\">\r\n      <g>\r\n       <use style=\"stroke:#000000;stroke-width:0.8;\" x=\"658.16625\" xlink:href=\"#m752aacb6f3\" y=\"637.966662\"/>\r\n      </g>\r\n     </g>\r\n     <g id=\"text_2\">\r\n      <!-- R27 -->\r\n      <defs>\r\n       <path d=\"M 8.203125 72.90625 \r\nL 55.078125 72.90625 \r\nL 55.078125 68.703125 \r\nL 28.609375 0 \r\nL 18.3125 0 \r\nL 43.21875 64.59375 \r\nL 8.203125 64.59375 \r\nz\r\n\" id=\"DejaVuSans-55\"/>\r\n      </defs>\r\n      <g transform=\"translate(649.158262 679.678092)rotate(-45)scale(0.18 -0.18)\">\r\n       <use xlink:href=\"#DejaVuSans-82\"/>\r\n       <use x=\"69.482422\" xlink:href=\"#DejaVuSans-50\"/>\r\n       <use x=\"133.105469\" xlink:href=\"#DejaVuSans-55\"/>\r\n      </g>\r\n     </g>\r\n    </g>\r\n    <g id=\"text_3\">\r\n     <!-- Site ID -->\r\n     <defs>\r\n      <path d=\"M 59.90625 70.609375 \r\nL 59.90625 55.171875 \r\nQ 53.90625 57.859375 48.1875 59.21875 \r\nQ 42.484375 60.59375 37.40625 60.59375 \r\nQ 30.671875 60.59375 27.4375 58.734375 \r\nQ 24.21875 56.890625 24.21875 52.984375 \r\nQ 24.21875 50.046875 26.390625 48.40625 \r\nQ 28.5625 46.78125 34.28125 45.609375 \r\nL 42.28125 44 \r\nQ 54.4375 41.546875 59.5625 36.5625 \r\nQ 64.703125 31.59375 64.703125 22.40625 \r\nQ 64.703125 10.359375 57.546875 4.46875 \r\nQ 50.390625 -1.421875 35.6875 -1.421875 \r\nQ 28.765625 -1.421875 21.78125 -0.09375 \r\nQ 14.796875 1.21875 7.8125 3.8125 \r\nL 7.8125 19.671875 \r\nQ 14.796875 15.96875 21.3125 14.078125 \r\nQ 27.828125 12.203125 33.890625 12.203125 \r\nQ 40.046875 12.203125 43.3125 14.25 \r\nQ 46.578125 16.3125 46.578125 20.125 \r\nQ 46.578125 23.53125 44.359375 25.390625 \r\nQ 42.140625 27.25 35.5 28.71875 \r\nL 28.21875 30.328125 \r\nQ 17.28125 32.671875 12.21875 37.796875 \r\nQ 7.171875 42.921875 7.171875 51.609375 \r\nQ 7.171875 62.5 14.203125 68.359375 \r\nQ 21.234375 74.21875 34.421875 74.21875 \r\nQ 40.4375 74.21875 46.78125 73.3125 \r\nQ 53.125 72.40625 59.90625 70.609375 \r\nz\r\n\" id=\"DejaVuSans-Bold-83\"/>\r\n      <path d=\"M 8.40625 54.6875 \r\nL 25.875 54.6875 \r\nL 25.875 0 \r\nL 8.40625 0 \r\nz\r\nM 8.40625 75.984375 \r\nL 25.875 75.984375 \r\nL 25.875 61.71875 \r\nL 8.40625 61.71875 \r\nz\r\n\" id=\"DejaVuSans-Bold-105\"/>\r\n      <path d=\"M 27.484375 70.21875 \r\nL 27.484375 54.6875 \r\nL 45.515625 54.6875 \r\nL 45.515625 42.1875 \r\nL 27.484375 42.1875 \r\nL 27.484375 19 \r\nQ 27.484375 15.1875 29 13.84375 \r\nQ 30.515625 12.5 35.015625 12.5 \r\nL 44 12.5 \r\nL 44 0 \r\nL 29 0 \r\nQ 18.65625 0 14.328125 4.3125 \r\nQ 10.015625 8.640625 10.015625 19 \r\nL 10.015625 42.1875 \r\nL 1.3125 42.1875 \r\nL 1.3125 54.6875 \r\nL 10.015625 54.6875 \r\nL 10.015625 70.21875 \r\nz\r\n\" id=\"DejaVuSans-Bold-116\"/>\r\n      <path d=\"M 62.984375 27.484375 \r\nL 62.984375 22.515625 \r\nL 22.125 22.515625 \r\nQ 22.75 16.359375 26.5625 13.28125 \r\nQ 30.375 10.203125 37.203125 10.203125 \r\nQ 42.71875 10.203125 48.5 11.84375 \r\nQ 54.296875 13.484375 60.40625 16.796875 \r\nL 60.40625 3.328125 \r\nQ 54.203125 0.984375 48 -0.21875 \r\nQ 41.796875 -1.421875 35.59375 -1.421875 \r\nQ 20.75 -1.421875 12.515625 6.125 \r\nQ 4.296875 13.671875 4.296875 27.296875 \r\nQ 4.296875 40.671875 12.375 48.328125 \r\nQ 20.453125 56 34.625 56 \r\nQ 47.515625 56 55.25 48.234375 \r\nQ 62.984375 40.484375 62.984375 27.484375 \r\nz\r\nM 45.015625 33.296875 \r\nQ 45.015625 38.28125 42.109375 41.328125 \r\nQ 39.203125 44.390625 34.515625 44.390625 \r\nQ 29.4375 44.390625 26.265625 41.53125 \r\nQ 23.09375 38.671875 22.3125 33.296875 \r\nz\r\n\" id=\"DejaVuSans-Bold-101\"/>\r\n      <path id=\"DejaVuSans-Bold-32\"/>\r\n      <path d=\"M 9.1875 72.90625 \r\nL 27.984375 72.90625 \r\nL 27.984375 0 \r\nL 9.1875 0 \r\nz\r\n\" id=\"DejaVuSans-Bold-73\"/>\r\n      <path d=\"M 27.984375 58.6875 \r\nL 27.984375 14.203125 \r\nL 34.71875 14.203125 \r\nQ 46.234375 14.203125 52.3125 19.921875 \r\nQ 58.40625 25.640625 58.40625 36.53125 \r\nQ 58.40625 47.359375 52.34375 53.015625 \r\nQ 46.296875 58.6875 34.71875 58.6875 \r\nz\r\nM 9.1875 72.90625 \r\nL 29 72.90625 \r\nQ 45.609375 72.90625 53.734375 70.53125 \r\nQ 61.859375 68.171875 67.671875 62.5 \r\nQ 72.796875 57.5625 75.28125 51.109375 \r\nQ 77.78125 44.671875 77.78125 36.53125 \r\nQ 77.78125 28.265625 75.28125 21.796875 \r\nQ 72.796875 15.328125 67.671875 10.40625 \r\nQ 61.8125 4.734375 53.609375 2.359375 \r\nQ 45.40625 0 29 0 \r\nL 9.1875 0 \r\nz\r\n\" id=\"DejaVuSans-Bold-68\"/>\r\n     </defs>\r\n     <g transform=\"translate(428.870937 701.521977)scale(0.2 -0.2)\">\r\n      <use xlink:href=\"#DejaVuSans-Bold-83\"/>\r\n      <use x=\"72.021484\" xlink:href=\"#DejaVuSans-Bold-105\"/>\r\n      <use x=\"106.298828\" xlink:href=\"#DejaVuSans-Bold-116\"/>\r\n      <use x=\"154.101562\" xlink:href=\"#DejaVuSans-Bold-101\"/>\r\n      <use x=\"221.923828\" xlink:href=\"#DejaVuSans-Bold-32\"/>\r\n      <use x=\"256.738281\" xlink:href=\"#DejaVuSans-Bold-73\"/>\r\n      <use x=\"293.945312\" xlink:href=\"#DejaVuSans-Bold-68\"/>\r\n     </g>\r\n    </g>\r\n   </g>\r\n   <g id=\"matplotlib.axis_2\">\r\n    <g id=\"ytick_1\">\r\n     <g id=\"line2d_3\">\r\n      <defs>\r\n       <path d=\"M 0 0 \r\nL -3.5 0 \r\n\" id=\"m9c76e7f324\" style=\"stroke:#000000;stroke-width:0.8;\"/>\r\n      </defs>\r\n      <g>\r\n       <use style=\"stroke:#000000;stroke-width:0.8;\" x=\"83.36625\" xlink:href=\"#m9c76e7f324\" y=\"637.966662\"/>\r\n      </g>\r\n     </g>\r\n     <g id=\"text_4\">\r\n      <!-- 200 -->\r\n      <defs>\r\n       <path d=\"M 31.78125 66.40625 \r\nQ 24.171875 66.40625 20.328125 58.90625 \r\nQ 16.5 51.421875 16.5 36.375 \r\nQ 16.5 21.390625 20.328125 13.890625 \r\nQ 24.171875 6.390625 31.78125 6.390625 \r\nQ 39.453125 6.390625 43.28125 13.890625 \r\nQ 47.125 21.390625 47.125 36.375 \r\nQ 47.125 51.421875 43.28125 58.90625 \r\nQ 39.453125 66.40625 31.78125 66.40625 \r\nz\r\nM 31.78125 74.21875 \r\nQ 44.046875 74.21875 50.515625 64.515625 \r\nQ 56.984375 54.828125 56.984375 36.375 \r\nQ 56.984375 17.96875 50.515625 8.265625 \r\nQ 44.046875 -1.421875 31.78125 -1.421875 \r\nQ 19.53125 -1.421875 13.0625 8.265625 \r\nQ 6.59375 17.96875 6.59375 36.375 \r\nQ 6.59375 54.828125 13.0625 64.515625 \r\nQ 19.53125 74.21875 31.78125 74.21875 \r\nz\r\n\" id=\"DejaVuSans-48\"/>\r\n      </defs>\r\n      <g transform=\"translate(42.00875 642.933537)scale(0.18 -0.18)\">\r\n       <use xlink:href=\"#DejaVuSans-50\"/>\r\n       <use x=\"63.623047\" xlink:href=\"#DejaVuSans-48\"/>\r\n       <use x=\"127.246094\" xlink:href=\"#DejaVuSans-48\"/>\r\n      </g>\r\n     </g>\r\n    </g>\r\n    <g id=\"ytick_2\">\r\n     <g id=\"line2d_4\">\r\n      <g>\r\n       <use style=\"stroke:#000000;stroke-width:0.8;\" x=\"83.36625\" xlink:href=\"#m9c76e7f324\" y=\"570.236686\"/>\r\n      </g>\r\n     </g>\r\n     <g id=\"text_5\">\r\n      <!-- 400 -->\r\n      <defs>\r\n       <path d=\"M 37.796875 64.3125 \r\nL 12.890625 25.390625 \r\nL 37.796875 25.390625 \r\nz\r\nM 35.203125 72.90625 \r\nL 47.609375 72.90625 \r\nL 47.609375 25.390625 \r\nL 58.015625 25.390625 \r\nL 58.015625 17.1875 \r\nL 47.609375 17.1875 \r\nL 47.609375 0 \r\nL 37.796875 0 \r\nL 37.796875 17.1875 \r\nL 4.890625 17.1875 \r\nL 4.890625 26.703125 \r\nz\r\n\" id=\"DejaVuSans-52\"/>\r\n      </defs>\r\n      <g transform=\"translate(42.00875 575.203561)scale(0.18 -0.18)\">\r\n       <use xlink:href=\"#DejaVuSans-52\"/>\r\n       <use x=\"63.623047\" xlink:href=\"#DejaVuSans-48\"/>\r\n       <use x=\"127.246094\" xlink:href=\"#DejaVuSans-48\"/>\r\n      </g>\r\n     </g>\r\n    </g>\r\n    <g id=\"ytick_3\">\r\n     <g id=\"line2d_5\">\r\n      <g>\r\n       <use style=\"stroke:#000000;stroke-width:0.8;\" x=\"83.36625\" xlink:href=\"#m9c76e7f324\" y=\"502.506709\"/>\r\n      </g>\r\n     </g>\r\n     <g id=\"text_6\">\r\n      <!-- 600 -->\r\n      <defs>\r\n       <path d=\"M 33.015625 40.375 \r\nQ 26.375 40.375 22.484375 35.828125 \r\nQ 18.609375 31.296875 18.609375 23.390625 \r\nQ 18.609375 15.53125 22.484375 10.953125 \r\nQ 26.375 6.390625 33.015625 6.390625 \r\nQ 39.65625 6.390625 43.53125 10.953125 \r\nQ 47.40625 15.53125 47.40625 23.390625 \r\nQ 47.40625 31.296875 43.53125 35.828125 \r\nQ 39.65625 40.375 33.015625 40.375 \r\nz\r\nM 52.59375 71.296875 \r\nL 52.59375 62.3125 \r\nQ 48.875 64.0625 45.09375 64.984375 \r\nQ 41.3125 65.921875 37.59375 65.921875 \r\nQ 27.828125 65.921875 22.671875 59.328125 \r\nQ 17.53125 52.734375 16.796875 39.40625 \r\nQ 19.671875 43.65625 24.015625 45.921875 \r\nQ 28.375 48.1875 33.59375 48.1875 \r\nQ 44.578125 48.1875 50.953125 41.515625 \r\nQ 57.328125 34.859375 57.328125 23.390625 \r\nQ 57.328125 12.15625 50.6875 5.359375 \r\nQ 44.046875 -1.421875 33.015625 -1.421875 \r\nQ 20.359375 -1.421875 13.671875 8.265625 \r\nQ 6.984375 17.96875 6.984375 36.375 \r\nQ 6.984375 53.65625 15.1875 63.9375 \r\nQ 23.390625 74.21875 37.203125 74.21875 \r\nQ 40.921875 74.21875 44.703125 73.484375 \r\nQ 48.484375 72.75 52.59375 71.296875 \r\nz\r\n\" id=\"DejaVuSans-54\"/>\r\n      </defs>\r\n      <g transform=\"translate(42.00875 507.473584)scale(0.18 -0.18)\">\r\n       <use xlink:href=\"#DejaVuSans-54\"/>\r\n       <use x=\"63.623047\" xlink:href=\"#DejaVuSans-48\"/>\r\n       <use x=\"127.246094\" xlink:href=\"#DejaVuSans-48\"/>\r\n      </g>\r\n     </g>\r\n    </g>\r\n    <g id=\"ytick_4\">\r\n     <g id=\"line2d_6\">\r\n      <g>\r\n       <use style=\"stroke:#000000;stroke-width:0.8;\" x=\"83.36625\" xlink:href=\"#m9c76e7f324\" y=\"434.776733\"/>\r\n      </g>\r\n     </g>\r\n     <g id=\"text_7\">\r\n      <!-- 800 -->\r\n      <defs>\r\n       <path d=\"M 31.78125 34.625 \r\nQ 24.75 34.625 20.71875 30.859375 \r\nQ 16.703125 27.09375 16.703125 20.515625 \r\nQ 16.703125 13.921875 20.71875 10.15625 \r\nQ 24.75 6.390625 31.78125 6.390625 \r\nQ 38.8125 6.390625 42.859375 10.171875 \r\nQ 46.921875 13.96875 46.921875 20.515625 \r\nQ 46.921875 27.09375 42.890625 30.859375 \r\nQ 38.875 34.625 31.78125 34.625 \r\nz\r\nM 21.921875 38.8125 \r\nQ 15.578125 40.375 12.03125 44.71875 \r\nQ 8.5 49.078125 8.5 55.328125 \r\nQ 8.5 64.0625 14.71875 69.140625 \r\nQ 20.953125 74.21875 31.78125 74.21875 \r\nQ 42.671875 74.21875 48.875 69.140625 \r\nQ 55.078125 64.0625 55.078125 55.328125 \r\nQ 55.078125 49.078125 51.53125 44.71875 \r\nQ 48 40.375 41.703125 38.8125 \r\nQ 48.828125 37.15625 52.796875 32.3125 \r\nQ 56.78125 27.484375 56.78125 20.515625 \r\nQ 56.78125 9.90625 50.3125 4.234375 \r\nQ 43.84375 -1.421875 31.78125 -1.421875 \r\nQ 19.734375 -1.421875 13.25 4.234375 \r\nQ 6.78125 9.90625 6.78125 20.515625 \r\nQ 6.78125 27.484375 10.78125 32.3125 \r\nQ 14.796875 37.15625 21.921875 38.8125 \r\nz\r\nM 18.3125 54.390625 \r\nQ 18.3125 48.734375 21.84375 45.5625 \r\nQ 25.390625 42.390625 31.78125 42.390625 \r\nQ 38.140625 42.390625 41.71875 45.5625 \r\nQ 45.3125 48.734375 45.3125 54.390625 \r\nQ 45.3125 60.0625 41.71875 63.234375 \r\nQ 38.140625 66.40625 31.78125 66.40625 \r\nQ 25.390625 66.40625 21.84375 63.234375 \r\nQ 18.3125 60.0625 18.3125 54.390625 \r\nz\r\n\" id=\"DejaVuSans-56\"/>\r\n      </defs>\r\n      <g transform=\"translate(42.00875 439.743608)scale(0.18 -0.18)\">\r\n       <use xlink:href=\"#DejaVuSans-56\"/>\r\n       <use x=\"63.623047\" xlink:href=\"#DejaVuSans-48\"/>\r\n       <use x=\"127.246094\" xlink:href=\"#DejaVuSans-48\"/>\r\n      </g>\r\n     </g>\r\n    </g>\r\n    <g id=\"ytick_5\">\r\n     <g id=\"line2d_7\">\r\n      <g>\r\n       <use style=\"stroke:#000000;stroke-width:0.8;\" x=\"83.36625\" xlink:href=\"#m9c76e7f324\" y=\"367.046757\"/>\r\n      </g>\r\n     </g>\r\n     <g id=\"text_8\">\r\n      <!-- 1000 -->\r\n      <defs>\r\n       <path d=\"M 12.40625 8.296875 \r\nL 28.515625 8.296875 \r\nL 28.515625 63.921875 \r\nL 10.984375 60.40625 \r\nL 10.984375 69.390625 \r\nL 28.421875 72.90625 \r\nL 38.28125 72.90625 \r\nL 38.28125 8.296875 \r\nL 54.390625 8.296875 \r\nL 54.390625 0 \r\nL 12.40625 0 \r\nz\r\n\" id=\"DejaVuSans-49\"/>\r\n      </defs>\r\n      <g transform=\"translate(30.55625 372.013632)scale(0.18 -0.18)\">\r\n       <use xlink:href=\"#DejaVuSans-49\"/>\r\n       <use x=\"63.623047\" xlink:href=\"#DejaVuSans-48\"/>\r\n       <use x=\"127.246094\" xlink:href=\"#DejaVuSans-48\"/>\r\n       <use x=\"190.869141\" xlink:href=\"#DejaVuSans-48\"/>\r\n      </g>\r\n     </g>\r\n    </g>\r\n    <g id=\"ytick_6\">\r\n     <g id=\"line2d_8\">\r\n      <g>\r\n       <use style=\"stroke:#000000;stroke-width:0.8;\" x=\"83.36625\" xlink:href=\"#m9c76e7f324\" y=\"299.31678\"/>\r\n      </g>\r\n     </g>\r\n     <g id=\"text_9\">\r\n      <!-- 1200 -->\r\n      <g transform=\"translate(30.55625 304.283655)scale(0.18 -0.18)\">\r\n       <use xlink:href=\"#DejaVuSans-49\"/>\r\n       <use x=\"63.623047\" xlink:href=\"#DejaVuSans-50\"/>\r\n       <use x=\"127.246094\" xlink:href=\"#DejaVuSans-48\"/>\r\n       <use x=\"190.869141\" xlink:href=\"#DejaVuSans-48\"/>\r\n      </g>\r\n     </g>\r\n    </g>\r\n    <g id=\"ytick_7\">\r\n     <g id=\"line2d_9\">\r\n      <g>\r\n       <use style=\"stroke:#000000;stroke-width:0.8;\" x=\"83.36625\" xlink:href=\"#m9c76e7f324\" y=\"231.586804\"/>\r\n      </g>\r\n     </g>\r\n     <g id=\"text_10\">\r\n      <!-- 1400 -->\r\n      <g transform=\"translate(30.55625 236.553679)scale(0.18 -0.18)\">\r\n       <use xlink:href=\"#DejaVuSans-49\"/>\r\n       <use x=\"63.623047\" xlink:href=\"#DejaVuSans-52\"/>\r\n       <use x=\"127.246094\" xlink:href=\"#DejaVuSans-48\"/>\r\n       <use x=\"190.869141\" xlink:href=\"#DejaVuSans-48\"/>\r\n      </g>\r\n     </g>\r\n    </g>\r\n    <g id=\"ytick_8\">\r\n     <g id=\"line2d_10\">\r\n      <g>\r\n       <use style=\"stroke:#000000;stroke-width:0.8;\" x=\"83.36625\" xlink:href=\"#m9c76e7f324\" y=\"163.856828\"/>\r\n      </g>\r\n     </g>\r\n     <g id=\"text_11\">\r\n      <!-- 1600 -->\r\n      <g transform=\"translate(30.55625 168.823703)scale(0.18 -0.18)\">\r\n       <use xlink:href=\"#DejaVuSans-49\"/>\r\n       <use x=\"63.623047\" xlink:href=\"#DejaVuSans-54\"/>\r\n       <use x=\"127.246094\" xlink:href=\"#DejaVuSans-48\"/>\r\n       <use x=\"190.869141\" xlink:href=\"#DejaVuSans-48\"/>\r\n      </g>\r\n     </g>\r\n    </g>\r\n    <g id=\"ytick_9\">\r\n     <g id=\"line2d_11\">\r\n      <g>\r\n       <use style=\"stroke:#000000;stroke-width:0.8;\" x=\"83.36625\" xlink:href=\"#m9c76e7f324\" y=\"96.126851\"/>\r\n      </g>\r\n     </g>\r\n     <g id=\"text_12\">\r\n      <!-- 1800 -->\r\n      <g transform=\"translate(30.55625 101.093726)scale(0.18 -0.18)\">\r\n       <use xlink:href=\"#DejaVuSans-49\"/>\r\n       <use x=\"63.623047\" xlink:href=\"#DejaVuSans-56\"/>\r\n       <use x=\"127.246094\" xlink:href=\"#DejaVuSans-48\"/>\r\n       <use x=\"190.869141\" xlink:href=\"#DejaVuSans-48\"/>\r\n      </g>\r\n     </g>\r\n    </g>\r\n    <g id=\"ytick_10\">\r\n     <g id=\"line2d_12\">\r\n      <g>\r\n       <use style=\"stroke:#000000;stroke-width:0.8;\" x=\"83.36625\" xlink:href=\"#m9c76e7f324\" y=\"28.396875\"/>\r\n      </g>\r\n     </g>\r\n     <g id=\"text_13\">\r\n      <!-- 2000 -->\r\n      <g transform=\"translate(30.55625 33.36375)scale(0.18 -0.18)\">\r\n       <use xlink:href=\"#DejaVuSans-50\"/>\r\n       <use x=\"63.623047\" xlink:href=\"#DejaVuSans-48\"/>\r\n       <use x=\"127.246094\" xlink:href=\"#DejaVuSans-48\"/>\r\n       <use x=\"190.869141\" xlink:href=\"#DejaVuSans-48\"/>\r\n      </g>\r\n     </g>\r\n    </g>\r\n    <g id=\"text_14\">\r\n     <!-- Days -->\r\n     <defs>\r\n      <path d=\"M 32.90625 24.609375 \r\nQ 27.4375 24.609375 24.671875 22.75 \r\nQ 21.921875 20.90625 21.921875 17.28125 \r\nQ 21.921875 13.96875 24.140625 12.078125 \r\nQ 26.375 10.203125 30.328125 10.203125 \r\nQ 35.25 10.203125 38.625 13.734375 \r\nQ 42 17.28125 42 22.609375 \r\nL 42 24.609375 \r\nz\r\nM 59.625 31.203125 \r\nL 59.625 0 \r\nL 42 0 \r\nL 42 8.109375 \r\nQ 38.484375 3.125 34.078125 0.84375 \r\nQ 29.6875 -1.421875 23.390625 -1.421875 \r\nQ 14.890625 -1.421875 9.59375 3.53125 \r\nQ 4.296875 8.5 4.296875 16.40625 \r\nQ 4.296875 26.03125 10.90625 30.515625 \r\nQ 17.53125 35.015625 31.6875 35.015625 \r\nL 42 35.015625 \r\nL 42 36.375 \r\nQ 42 40.53125 38.71875 42.453125 \r\nQ 35.453125 44.390625 28.515625 44.390625 \r\nQ 22.90625 44.390625 18.0625 43.265625 \r\nQ 13.234375 42.140625 9.078125 39.890625 \r\nL 9.078125 53.21875 \r\nQ 14.703125 54.59375 20.359375 55.296875 \r\nQ 26.03125 56 31.6875 56 \r\nQ 46.484375 56 53.046875 50.171875 \r\nQ 59.625 44.34375 59.625 31.203125 \r\nz\r\n\" id=\"DejaVuSans-Bold-97\"/>\r\n      <path d=\"M 1.21875 54.6875 \r\nL 18.703125 54.6875 \r\nL 33.40625 17.578125 \r\nL 45.90625 54.6875 \r\nL 63.375 54.6875 \r\nL 40.375 -5.171875 \r\nQ 36.921875 -14.3125 32.296875 -17.9375 \r\nQ 27.6875 -21.578125 20.125 -21.578125 \r\nL 10.015625 -21.578125 \r\nL 10.015625 -10.109375 \r\nL 15.484375 -10.109375 \r\nQ 19.921875 -10.109375 21.9375 -8.6875 \r\nQ 23.96875 -7.28125 25.09375 -3.609375 \r\nL 25.59375 -2.09375 \r\nz\r\n\" id=\"DejaVuSans-Bold-121\"/>\r\n      <path d=\"M 51.125 52.984375 \r\nL 51.125 39.703125 \r\nQ 45.515625 42.046875 40.28125 43.21875 \r\nQ 35.0625 44.390625 30.421875 44.390625 \r\nQ 25.4375 44.390625 23.015625 43.140625 \r\nQ 20.609375 41.890625 20.609375 39.3125 \r\nQ 20.609375 37.203125 22.4375 36.078125 \r\nQ 24.265625 34.96875 29 34.421875 \r\nL 32.078125 33.984375 \r\nQ 45.515625 32.28125 50.140625 28.375 \r\nQ 54.78125 24.46875 54.78125 16.109375 \r\nQ 54.78125 7.375 48.328125 2.96875 \r\nQ 41.890625 -1.421875 29.109375 -1.421875 \r\nQ 23.6875 -1.421875 17.890625 -0.5625 \r\nQ 12.109375 0.296875 6 2 \r\nL 6 15.28125 \r\nQ 11.234375 12.75 16.71875 11.46875 \r\nQ 22.21875 10.203125 27.875 10.203125 \r\nQ 33.015625 10.203125 35.59375 11.609375 \r\nQ 38.1875 13.03125 38.1875 15.828125 \r\nQ 38.1875 18.171875 36.40625 19.3125 \r\nQ 34.625 20.453125 29.296875 21.09375 \r\nL 26.21875 21.484375 \r\nQ 14.546875 22.953125 9.859375 26.90625 \r\nQ 5.171875 30.859375 5.171875 38.921875 \r\nQ 5.171875 47.609375 11.125 51.796875 \r\nQ 17.09375 56 29.390625 56 \r\nQ 34.234375 56 39.546875 55.265625 \r\nQ 44.875 54.546875 51.125 52.984375 \r\nz\r\n\" id=\"DejaVuSans-Bold-115\"/>\r\n     </defs>\r\n     <g transform=\"translate(22.240625 360.389581)rotate(-90)scale(0.2 -0.2)\">\r\n      <use xlink:href=\"#DejaVuSans-Bold-68\"/>\r\n      <use x=\"83.007812\" xlink:href=\"#DejaVuSans-Bold-97\"/>\r\n      <use x=\"147.363281\" xlink:href=\"#DejaVuSans-Bold-121\"/>\r\n      <use x=\"212.548828\" xlink:href=\"#DejaVuSans-Bold-115\"/>\r\n     </g>\r\n    </g>\r\n   </g>\r\n   <g id=\"patch_3\">\r\n    <path d=\"M 83.36625 637.966662 \r\nL 83.36625 28.396875 \r\n\" style=\"fill:none;stroke:#000000;stroke-linecap:square;stroke-linejoin:miter;stroke-width:0.8;\"/>\r\n   </g>\r\n   <g id=\"patch_4\">\r\n    <path d=\"M 83.36625 637.966662 \r\nL 849.76625 637.966662 \r\n\" style=\"fill:none;stroke:#000000;stroke-linecap:square;stroke-linejoin:miter;stroke-width:0.8;\"/>\r\n   </g>\r\n   <g id=\"PathCollection_1\">\r\n    <defs>\r\n     <path d=\"M 0 2.5 \r\nC 0.663008 2.5 1.29895 2.236584 1.767767 1.767767 \r\nC 2.236584 1.29895 2.5 0.663008 2.5 0 \r\nC 2.5 -0.663008 2.236584 -1.29895 1.767767 -1.767767 \r\nC 1.29895 -2.236584 0.663008 -2.5 0 -2.5 \r\nC -0.663008 -2.5 -1.29895 -2.236584 -1.767767 -1.767767 \r\nC -2.236584 -1.29895 -2.5 -0.663008 -2.5 0 \r\nC -2.5 0.663008 -2.236584 1.29895 -1.767767 1.767767 \r\nC -1.29895 2.236584 -0.663008 2.5 0 2.5 \r\nz\r\n\" id=\"C0_0_ea0b8d4816\"/>\r\n    </defs>\r\n    <g clip-path=\"url(#p5c729b46ba)\">\r\n     <use style=\"fill:#1f77b4;\" x=\"264.068621\" xlink:href=\"#C0_0_ea0b8d4816\" y=\"118.139094\"/>\r\n    </g>\r\n    <g clip-path=\"url(#p5c729b46ba)\">\r\n     <use style=\"fill:#1f77b4;\" x=\"306.367222\" xlink:href=\"#C0_0_ea0b8d4816\" y=\"117.800444\"/>\r\n    </g>\r\n    <g clip-path=\"url(#p5c729b46ba)\">\r\n     <use style=\"fill:#1f77b4;\" x=\"249.635354\" xlink:href=\"#C0_0_ea0b8d4816\" y=\"116.445844\"/>\r\n    </g>\r\n    <g clip-path=\"url(#p5c729b46ba)\">\r\n     <use style=\"fill:#1f77b4;\" x=\"268.297719\" xlink:href=\"#C0_0_ea0b8d4816\" y=\"114.075295\"/>\r\n    </g>\r\n   </g>\r\n   <g id=\"PathCollection_2\">\r\n    <defs>\r\n     <path d=\"M 0 2.5 \r\nC 0.663008 2.5 1.29895 2.236584 1.767767 1.767767 \r\nC 2.236584 1.29895 2.5 0.663008 2.5 0 \r\nC 2.5 -0.663008 2.236584 -1.29895 1.767767 -1.767767 \r\nC 1.29895 -2.236584 0.663008 -2.5 0 -2.5 \r\nC -0.663008 -2.5 -1.29895 -2.236584 -1.767767 -1.767767 \r\nC -2.236584 -1.29895 -2.5 -0.663008 -2.5 0 \r\nC -2.5 0.663008 -2.236584 1.29895 -1.767767 1.767767 \r\nC -1.29895 2.236584 -0.663008 2.5 0 2.5 \r\nz\r\n\" id=\"C1_0_bbbec834ba\"/>\r\n    </defs>\r\n    <g clip-path=\"url(#p5c729b46ba)\">\r\n     <use style=\"fill:#ff7f0e;\" x=\"663.95489\" xlink:href=\"#C1_0_bbbec834ba\" y=\"594.619477\"/>\r\n    </g>\r\n    <g clip-path=\"url(#p5c729b46ba)\">\r\n     <use style=\"fill:#ff7f0e;\" x=\"690.513318\" xlink:href=\"#C1_0_bbbec834ba\" y=\"592.926228\"/>\r\n    </g>\r\n    <g clip-path=\"url(#p5c729b46ba)\">\r\n     <use style=\"fill:#ff7f0e;\" x=\"632.225846\" xlink:href=\"#C1_0_bbbec834ba\" y=\"584.459981\"/>\r\n    </g>\r\n   </g>\r\n   <g id=\"text_15\">\r\n    <!-- Age of System at Event Occurence -->\r\n    <defs>\r\n     <path d=\"M 34.1875 63.1875 \r\nL 20.796875 26.90625 \r\nL 47.609375 26.90625 \r\nz\r\nM 28.609375 72.90625 \r\nL 39.796875 72.90625 \r\nL 67.578125 0 \r\nL 57.328125 0 \r\nL 50.6875 18.703125 \r\nL 17.828125 18.703125 \r\nL 11.1875 0 \r\nL 0.78125 0 \r\nz\r\n\" id=\"DejaVuSans-65\"/>\r\n     <path d=\"M 45.40625 27.984375 \r\nQ 45.40625 37.75 41.375 43.109375 \r\nQ 37.359375 48.484375 30.078125 48.484375 \r\nQ 22.859375 48.484375 18.828125 43.109375 \r\nQ 14.796875 37.75 14.796875 27.984375 \r\nQ 14.796875 18.265625 18.828125 12.890625 \r\nQ 22.859375 7.515625 30.078125 7.515625 \r\nQ 37.359375 7.515625 41.375 12.890625 \r\nQ 45.40625 18.265625 45.40625 27.984375 \r\nz\r\nM 54.390625 6.78125 \r\nQ 54.390625 -7.171875 48.1875 -13.984375 \r\nQ 42 -20.796875 29.203125 -20.796875 \r\nQ 24.46875 -20.796875 20.265625 -20.09375 \r\nQ 16.0625 -19.390625 12.109375 -17.921875 \r\nL 12.109375 -9.1875 \r\nQ 16.0625 -11.328125 19.921875 -12.34375 \r\nQ 23.78125 -13.375 27.78125 -13.375 \r\nQ 36.625 -13.375 41.015625 -8.765625 \r\nQ 45.40625 -4.15625 45.40625 5.171875 \r\nL 45.40625 9.625 \r\nQ 42.625 4.78125 38.28125 2.390625 \r\nQ 33.9375 0 27.875 0 \r\nQ 17.828125 0 11.671875 7.65625 \r\nQ 5.515625 15.328125 5.515625 27.984375 \r\nQ 5.515625 40.671875 11.671875 48.328125 \r\nQ 17.828125 56 27.875 56 \r\nQ 33.9375 56 38.28125 53.609375 \r\nQ 42.625 51.21875 45.40625 46.390625 \r\nL 45.40625 54.6875 \r\nL 54.390625 54.6875 \r\nz\r\n\" id=\"DejaVuSans-103\"/>\r\n     <path d=\"M 56.203125 29.59375 \r\nL 56.203125 25.203125 \r\nL 14.890625 25.203125 \r\nQ 15.484375 15.921875 20.484375 11.0625 \r\nQ 25.484375 6.203125 34.421875 6.203125 \r\nQ 39.59375 6.203125 44.453125 7.46875 \r\nQ 49.3125 8.734375 54.109375 11.28125 \r\nL 54.109375 2.78125 \r\nQ 49.265625 0.734375 44.1875 -0.34375 \r\nQ 39.109375 -1.421875 33.890625 -1.421875 \r\nQ 20.796875 -1.421875 13.15625 6.1875 \r\nQ 5.515625 13.8125 5.515625 26.8125 \r\nQ 5.515625 40.234375 12.765625 48.109375 \r\nQ 20.015625 56 32.328125 56 \r\nQ 43.359375 56 49.78125 48.890625 \r\nQ 56.203125 41.796875 56.203125 29.59375 \r\nz\r\nM 47.21875 32.234375 \r\nQ 47.125 39.59375 43.09375 43.984375 \r\nQ 39.0625 48.390625 32.421875 48.390625 \r\nQ 24.90625 48.390625 20.390625 44.140625 \r\nQ 15.875 39.890625 15.1875 32.171875 \r\nz\r\n\" id=\"DejaVuSans-101\"/>\r\n     <path id=\"DejaVuSans-32\"/>\r\n     <path d=\"M 30.609375 48.390625 \r\nQ 23.390625 48.390625 19.1875 42.75 \r\nQ 14.984375 37.109375 14.984375 27.296875 \r\nQ 14.984375 17.484375 19.15625 11.84375 \r\nQ 23.34375 6.203125 30.609375 6.203125 \r\nQ 37.796875 6.203125 41.984375 11.859375 \r\nQ 46.1875 17.53125 46.1875 27.296875 \r\nQ 46.1875 37.015625 41.984375 42.703125 \r\nQ 37.796875 48.390625 30.609375 48.390625 \r\nz\r\nM 30.609375 56 \r\nQ 42.328125 56 49.015625 48.375 \r\nQ 55.71875 40.765625 55.71875 27.296875 \r\nQ 55.71875 13.875 49.015625 6.21875 \r\nQ 42.328125 -1.421875 30.609375 -1.421875 \r\nQ 18.84375 -1.421875 12.171875 6.21875 \r\nQ 5.515625 13.875 5.515625 27.296875 \r\nQ 5.515625 40.765625 12.171875 48.375 \r\nQ 18.84375 56 30.609375 56 \r\nz\r\n\" id=\"DejaVuSans-111\"/>\r\n     <path d=\"M 37.109375 75.984375 \r\nL 37.109375 68.5 \r\nL 28.515625 68.5 \r\nQ 23.6875 68.5 21.796875 66.546875 \r\nQ 19.921875 64.59375 19.921875 59.515625 \r\nL 19.921875 54.6875 \r\nL 34.71875 54.6875 \r\nL 34.71875 47.703125 \r\nL 19.921875 47.703125 \r\nL 19.921875 0 \r\nL 10.890625 0 \r\nL 10.890625 47.703125 \r\nL 2.296875 47.703125 \r\nL 2.296875 54.6875 \r\nL 10.890625 54.6875 \r\nL 10.890625 58.5 \r\nQ 10.890625 67.625 15.140625 71.796875 \r\nQ 19.390625 75.984375 28.609375 75.984375 \r\nz\r\n\" id=\"DejaVuSans-102\"/>\r\n     <path d=\"M 53.515625 70.515625 \r\nL 53.515625 60.890625 \r\nQ 47.90625 63.578125 42.921875 64.890625 \r\nQ 37.9375 66.21875 33.296875 66.21875 \r\nQ 25.25 66.21875 20.875 63.09375 \r\nQ 16.5 59.96875 16.5 54.203125 \r\nQ 16.5 49.359375 19.40625 46.890625 \r\nQ 22.3125 44.4375 30.421875 42.921875 \r\nL 36.375 41.703125 \r\nQ 47.40625 39.59375 52.65625 34.296875 \r\nQ 57.90625 29 57.90625 20.125 \r\nQ 57.90625 9.515625 50.796875 4.046875 \r\nQ 43.703125 -1.421875 29.984375 -1.421875 \r\nQ 24.8125 -1.421875 18.96875 -0.25 \r\nQ 13.140625 0.921875 6.890625 3.21875 \r\nL 6.890625 13.375 \r\nQ 12.890625 10.015625 18.65625 8.296875 \r\nQ 24.421875 6.59375 29.984375 6.59375 \r\nQ 38.421875 6.59375 43.015625 9.90625 \r\nQ 47.609375 13.234375 47.609375 19.390625 \r\nQ 47.609375 24.75 44.3125 27.78125 \r\nQ 41.015625 30.8125 33.5 32.328125 \r\nL 27.484375 33.5 \r\nQ 16.453125 35.6875 11.515625 40.375 \r\nQ 6.59375 45.0625 6.59375 53.421875 \r\nQ 6.59375 63.09375 13.40625 68.65625 \r\nQ 20.21875 74.21875 32.171875 74.21875 \r\nQ 37.3125 74.21875 42.625 73.28125 \r\nQ 47.953125 72.359375 53.515625 70.515625 \r\nz\r\n\" id=\"DejaVuSans-83\"/>\r\n     <path d=\"M 32.171875 -5.078125 \r\nQ 28.375 -14.84375 24.75 -17.8125 \r\nQ 21.140625 -20.796875 15.09375 -20.796875 \r\nL 7.90625 -20.796875 \r\nL 7.90625 -13.28125 \r\nL 13.1875 -13.28125 \r\nQ 16.890625 -13.28125 18.9375 -11.515625 \r\nQ 21 -9.765625 23.484375 -3.21875 \r\nL 25.09375 0.875 \r\nL 2.984375 54.6875 \r\nL 12.5 54.6875 \r\nL 29.59375 11.921875 \r\nL 46.6875 54.6875 \r\nL 56.203125 54.6875 \r\nz\r\n\" id=\"DejaVuSans-121\"/>\r\n     <path d=\"M 44.28125 53.078125 \r\nL 44.28125 44.578125 \r\nQ 40.484375 46.53125 36.375 47.5 \r\nQ 32.28125 48.484375 27.875 48.484375 \r\nQ 21.1875 48.484375 17.84375 46.4375 \r\nQ 14.5 44.390625 14.5 40.28125 \r\nQ 14.5 37.15625 16.890625 35.375 \r\nQ 19.28125 33.59375 26.515625 31.984375 \r\nL 29.59375 31.296875 \r\nQ 39.15625 29.25 43.1875 25.515625 \r\nQ 47.21875 21.78125 47.21875 15.09375 \r\nQ 47.21875 7.46875 41.1875 3.015625 \r\nQ 35.15625 -1.421875 24.609375 -1.421875 \r\nQ 20.21875 -1.421875 15.453125 -0.5625 \r\nQ 10.6875 0.296875 5.421875 2 \r\nL 5.421875 11.28125 \r\nQ 10.40625 8.6875 15.234375 7.390625 \r\nQ 20.0625 6.109375 24.8125 6.109375 \r\nQ 31.15625 6.109375 34.5625 8.28125 \r\nQ 37.984375 10.453125 37.984375 14.40625 \r\nQ 37.984375 18.0625 35.515625 20.015625 \r\nQ 33.0625 21.96875 24.703125 23.78125 \r\nL 21.578125 24.515625 \r\nQ 13.234375 26.265625 9.515625 29.90625 \r\nQ 5.8125 33.546875 5.8125 39.890625 \r\nQ 5.8125 47.609375 11.28125 51.796875 \r\nQ 16.75 56 26.8125 56 \r\nQ 31.78125 56 36.171875 55.265625 \r\nQ 40.578125 54.546875 44.28125 53.078125 \r\nz\r\n\" id=\"DejaVuSans-115\"/>\r\n     <path d=\"M 18.3125 70.21875 \r\nL 18.3125 54.6875 \r\nL 36.8125 54.6875 \r\nL 36.8125 47.703125 \r\nL 18.3125 47.703125 \r\nL 18.3125 18.015625 \r\nQ 18.3125 11.328125 20.140625 9.421875 \r\nQ 21.96875 7.515625 27.59375 7.515625 \r\nL 36.8125 7.515625 \r\nL 36.8125 0 \r\nL 27.59375 0 \r\nQ 17.1875 0 13.234375 3.875 \r\nQ 9.28125 7.765625 9.28125 18.015625 \r\nL 9.28125 47.703125 \r\nL 2.6875 47.703125 \r\nL 2.6875 54.6875 \r\nL 9.28125 54.6875 \r\nL 9.28125 70.21875 \r\nz\r\n\" id=\"DejaVuSans-116\"/>\r\n     <path d=\"M 52 44.1875 \r\nQ 55.375 50.25 60.0625 53.125 \r\nQ 64.75 56 71.09375 56 \r\nQ 79.640625 56 84.28125 50.015625 \r\nQ 88.921875 44.046875 88.921875 33.015625 \r\nL 88.921875 0 \r\nL 79.890625 0 \r\nL 79.890625 32.71875 \r\nQ 79.890625 40.578125 77.09375 44.375 \r\nQ 74.3125 48.1875 68.609375 48.1875 \r\nQ 61.625 48.1875 57.5625 43.546875 \r\nQ 53.515625 38.921875 53.515625 30.90625 \r\nL 53.515625 0 \r\nL 44.484375 0 \r\nL 44.484375 32.71875 \r\nQ 44.484375 40.625 41.703125 44.40625 \r\nQ 38.921875 48.1875 33.109375 48.1875 \r\nQ 26.21875 48.1875 22.15625 43.53125 \r\nQ 18.109375 38.875 18.109375 30.90625 \r\nL 18.109375 0 \r\nL 9.078125 0 \r\nL 9.078125 54.6875 \r\nL 18.109375 54.6875 \r\nL 18.109375 46.1875 \r\nQ 21.1875 51.21875 25.484375 53.609375 \r\nQ 29.78125 56 35.6875 56 \r\nQ 41.65625 56 45.828125 52.96875 \r\nQ 50 49.953125 52 44.1875 \r\nz\r\n\" id=\"DejaVuSans-109\"/>\r\n     <path d=\"M 34.28125 27.484375 \r\nQ 23.390625 27.484375 19.1875 25 \r\nQ 14.984375 22.515625 14.984375 16.5 \r\nQ 14.984375 11.71875 18.140625 8.90625 \r\nQ 21.296875 6.109375 26.703125 6.109375 \r\nQ 34.1875 6.109375 38.703125 11.40625 \r\nQ 43.21875 16.703125 43.21875 25.484375 \r\nL 43.21875 27.484375 \r\nz\r\nM 52.203125 31.203125 \r\nL 52.203125 0 \r\nL 43.21875 0 \r\nL 43.21875 8.296875 \r\nQ 40.140625 3.328125 35.546875 0.953125 \r\nQ 30.953125 -1.421875 24.3125 -1.421875 \r\nQ 15.921875 -1.421875 10.953125 3.296875 \r\nQ 6 8.015625 6 15.921875 \r\nQ 6 25.140625 12.171875 29.828125 \r\nQ 18.359375 34.515625 30.609375 34.515625 \r\nL 43.21875 34.515625 \r\nL 43.21875 35.40625 \r\nQ 43.21875 41.609375 39.140625 45 \r\nQ 35.0625 48.390625 27.6875 48.390625 \r\nQ 23 48.390625 18.546875 47.265625 \r\nQ 14.109375 46.140625 10.015625 43.890625 \r\nL 10.015625 52.203125 \r\nQ 14.9375 54.109375 19.578125 55.046875 \r\nQ 24.21875 56 28.609375 56 \r\nQ 40.484375 56 46.34375 49.84375 \r\nQ 52.203125 43.703125 52.203125 31.203125 \r\nz\r\n\" id=\"DejaVuSans-97\"/>\r\n     <path d=\"M 9.8125 72.90625 \r\nL 55.90625 72.90625 \r\nL 55.90625 64.59375 \r\nL 19.671875 64.59375 \r\nL 19.671875 43.015625 \r\nL 54.390625 43.015625 \r\nL 54.390625 34.71875 \r\nL 19.671875 34.71875 \r\nL 19.671875 8.296875 \r\nL 56.78125 8.296875 \r\nL 56.78125 0 \r\nL 9.8125 0 \r\nz\r\n\" id=\"DejaVuSans-69\"/>\r\n     <path d=\"M 2.984375 54.6875 \r\nL 12.5 54.6875 \r\nL 29.59375 8.796875 \r\nL 46.6875 54.6875 \r\nL 56.203125 54.6875 \r\nL 35.6875 0 \r\nL 23.484375 0 \r\nz\r\n\" id=\"DejaVuSans-118\"/>\r\n     <path d=\"M 54.890625 33.015625 \r\nL 54.890625 0 \r\nL 45.90625 0 \r\nL 45.90625 32.71875 \r\nQ 45.90625 40.484375 42.875 44.328125 \r\nQ 39.84375 48.1875 33.796875 48.1875 \r\nQ 26.515625 48.1875 22.3125 43.546875 \r\nQ 18.109375 38.921875 18.109375 30.90625 \r\nL 18.109375 0 \r\nL 9.078125 0 \r\nL 9.078125 54.6875 \r\nL 18.109375 54.6875 \r\nL 18.109375 46.1875 \r\nQ 21.34375 51.125 25.703125 53.5625 \r\nQ 30.078125 56 35.796875 56 \r\nQ 45.21875 56 50.046875 50.171875 \r\nQ 54.890625 44.34375 54.890625 33.015625 \r\nz\r\n\" id=\"DejaVuSans-110\"/>\r\n     <path d=\"M 39.40625 66.21875 \r\nQ 28.65625 66.21875 22.328125 58.203125 \r\nQ 16.015625 50.203125 16.015625 36.375 \r\nQ 16.015625 22.609375 22.328125 14.59375 \r\nQ 28.65625 6.59375 39.40625 6.59375 \r\nQ 50.140625 6.59375 56.421875 14.59375 \r\nQ 62.703125 22.609375 62.703125 36.375 \r\nQ 62.703125 50.203125 56.421875 58.203125 \r\nQ 50.140625 66.21875 39.40625 66.21875 \r\nz\r\nM 39.40625 74.21875 \r\nQ 54.734375 74.21875 63.90625 63.9375 \r\nQ 73.09375 53.65625 73.09375 36.375 \r\nQ 73.09375 19.140625 63.90625 8.859375 \r\nQ 54.734375 -1.421875 39.40625 -1.421875 \r\nQ 24.03125 -1.421875 14.8125 8.828125 \r\nQ 5.609375 19.09375 5.609375 36.375 \r\nQ 5.609375 53.65625 14.8125 63.9375 \r\nQ 24.03125 74.21875 39.40625 74.21875 \r\nz\r\n\" id=\"DejaVuSans-79\"/>\r\n     <path d=\"M 48.78125 52.59375 \r\nL 48.78125 44.1875 \r\nQ 44.96875 46.296875 41.140625 47.34375 \r\nQ 37.3125 48.390625 33.40625 48.390625 \r\nQ 24.65625 48.390625 19.8125 42.84375 \r\nQ 14.984375 37.3125 14.984375 27.296875 \r\nQ 14.984375 17.28125 19.8125 11.734375 \r\nQ 24.65625 6.203125 33.40625 6.203125 \r\nQ 37.3125 6.203125 41.140625 7.25 \r\nQ 44.96875 8.296875 48.78125 10.40625 \r\nL 48.78125 2.09375 \r\nQ 45.015625 0.34375 40.984375 -0.53125 \r\nQ 36.96875 -1.421875 32.421875 -1.421875 \r\nQ 20.0625 -1.421875 12.78125 6.34375 \r\nQ 5.515625 14.109375 5.515625 27.296875 \r\nQ 5.515625 40.671875 12.859375 48.328125 \r\nQ 20.21875 56 33.015625 56 \r\nQ 37.15625 56 41.109375 55.140625 \r\nQ 45.0625 54.296875 48.78125 52.59375 \r\nz\r\n\" id=\"DejaVuSans-99\"/>\r\n     <path d=\"M 8.5 21.578125 \r\nL 8.5 54.6875 \r\nL 17.484375 54.6875 \r\nL 17.484375 21.921875 \r\nQ 17.484375 14.15625 20.5 10.265625 \r\nQ 23.53125 6.390625 29.59375 6.390625 \r\nQ 36.859375 6.390625 41.078125 11.03125 \r\nQ 45.3125 15.671875 45.3125 23.6875 \r\nL 45.3125 54.6875 \r\nL 54.296875 54.6875 \r\nL 54.296875 0 \r\nL 45.3125 0 \r\nL 45.3125 8.40625 \r\nQ 42.046875 3.421875 37.71875 1 \r\nQ 33.40625 -1.421875 27.6875 -1.421875 \r\nQ 18.265625 -1.421875 13.375 4.4375 \r\nQ 8.5 10.296875 8.5 21.578125 \r\nz\r\nM 31.109375 56 \r\nz\r\n\" id=\"DejaVuSans-117\"/>\r\n     <path d=\"M 41.109375 46.296875 \r\nQ 39.59375 47.171875 37.8125 47.578125 \r\nQ 36.03125 48 33.890625 48 \r\nQ 26.265625 48 22.1875 43.046875 \r\nQ 18.109375 38.09375 18.109375 28.8125 \r\nL 18.109375 0 \r\nL 9.078125 0 \r\nL 9.078125 54.6875 \r\nL 18.109375 54.6875 \r\nL 18.109375 46.1875 \r\nQ 20.953125 51.171875 25.484375 53.578125 \r\nQ 30.03125 56 36.53125 56 \r\nQ 37.453125 56 38.578125 55.875 \r\nQ 39.703125 55.765625 41.0625 55.515625 \r\nz\r\n\" id=\"DejaVuSans-114\"/>\r\n    </defs>\r\n    <g transform=\"translate(292.4725 22.396875)scale(0.2 -0.2)\">\r\n     <use xlink:href=\"#DejaVuSans-65\"/>\r\n     <use x=\"68.408203\" xlink:href=\"#DejaVuSans-103\"/>\r\n     <use x=\"131.884766\" xlink:href=\"#DejaVuSans-101\"/>\r\n     <use x=\"193.408203\" xlink:href=\"#DejaVuSans-32\"/>\r\n     <use x=\"225.195312\" xlink:href=\"#DejaVuSans-111\"/>\r\n     <use x=\"286.376953\" xlink:href=\"#DejaVuSans-102\"/>\r\n     <use x=\"321.582031\" xlink:href=\"#DejaVuSans-32\"/>\r\n     <use x=\"353.369141\" xlink:href=\"#DejaVuSans-83\"/>\r\n     <use x=\"416.845703\" xlink:href=\"#DejaVuSans-121\"/>\r\n     <use x=\"476.025391\" xlink:href=\"#DejaVuSans-115\"/>\r\n     <use x=\"528.125\" xlink:href=\"#DejaVuSans-116\"/>\r\n     <use x=\"567.333984\" xlink:href=\"#DejaVuSans-101\"/>\r\n     <use x=\"628.857422\" xlink:href=\"#DejaVuSans-109\"/>\r\n     <use x=\"726.269531\" xlink:href=\"#DejaVuSans-32\"/>\r\n     <use x=\"758.056641\" xlink:href=\"#DejaVuSans-97\"/>\r\n     <use x=\"819.335938\" xlink:href=\"#DejaVuSans-116\"/>\r\n     <use x=\"858.544922\" xlink:href=\"#DejaVuSans-32\"/>\r\n     <use x=\"890.332031\" xlink:href=\"#DejaVuSans-69\"/>\r\n     <use x=\"953.515625\" xlink:href=\"#DejaVuSans-118\"/>\r\n     <use x=\"1012.695312\" xlink:href=\"#DejaVuSans-101\"/>\r\n     <use x=\"1074.21875\" xlink:href=\"#DejaVuSans-110\"/>\r\n     <use x=\"1137.597656\" xlink:href=\"#DejaVuSans-116\"/>\r\n     <use x=\"1176.806641\" xlink:href=\"#DejaVuSans-32\"/>\r\n     <use x=\"1208.59375\" xlink:href=\"#DejaVuSans-79\"/>\r\n     <use x=\"1287.304688\" xlink:href=\"#DejaVuSans-99\"/>\r\n     <use x=\"1342.285156\" xlink:href=\"#DejaVuSans-99\"/>\r\n     <use x=\"1397.265625\" xlink:href=\"#DejaVuSans-117\"/>\r\n     <use x=\"1460.644531\" xlink:href=\"#DejaVuSans-114\"/>\r\n     <use x=\"1499.507812\" xlink:href=\"#DejaVuSans-101\"/>\r\n     <use x=\"1561.03125\" xlink:href=\"#DejaVuSans-110\"/>\r\n     <use x=\"1624.410156\" xlink:href=\"#DejaVuSans-99\"/>\r\n     <use x=\"1679.390625\" xlink:href=\"#DejaVuSans-101\"/>\r\n    </g>\r\n   </g>\r\n  </g>\r\n </g>\r\n <defs>\r\n  <clipPath id=\"p5c729b46ba\">\r\n   <rect height=\"609.569787\" width=\"766.4\" x=\"83.36625\" y=\"28.396875\"/>\r\n  </clipPath>\r\n </defs>\r\n</svg>\r\n",
      "image/png": "[encoded data removed]"
     },
     "metadata": {
      "needs_background": "light"
     }
    }
   ],
   "source": [
    "cat_varx = om_col_dict['siteid']\n",
    "cat_vary= om_col_dict['agedatestart']\n",
    "sv_nm = 'system_age.png'\n",
    "myfig = visualize.visualize_categorical_scatter(om_data_update, om_col_dict, cat_varx, cat_vary, fig_sets)\n",
    "myfig.savefig(os.path.join(site_fldr,sv_nm), dpi=my_savedpi)"
   ]
  },
  {
   "cell_type": "markdown",
   "metadata": {},
   "source": [
    "Creating scatter-plot of each event-duration, per site"
   ]
  },
  {
   "cell_type": "code",
   "execution_count": 42,
   "metadata": {},
   "outputs": [
    {
     "output_type": "display_data",
     "data": {
      "text/plain": "<Figure size 864x720 with 1 Axes>",
      "image/svg+xml": "<?xml version=\"1.0\" encoding=\"utf-8\" standalone=\"no\"?>\r\n<!DOCTYPE svg PUBLIC \"-//W3C//DTD SVG 1.1//EN\"\r\n  \"http://www.w3.org/Graphics/SVG/1.1/DTD/svg11.dtd\">\r\n<!-- Created with matplotlib (https://matplotlib.org/) -->\r\n<svg height=\"712.881352pt\" version=\"1.1\" viewBox=\"0 0 857.06125 712.881352\" width=\"857.06125pt\" xmlns=\"http://www.w3.org/2000/svg\" xmlns:xlink=\"http://www.w3.org/1999/xlink\">\r\n <defs>\r\n  <style type=\"text/css\">\r\n*{stroke-linecap:butt;stroke-linejoin:round;}\r\n  </style>\r\n </defs>\r\n <g id=\"figure_1\">\r\n  <g id=\"patch_1\">\r\n   <path d=\"M 0 712.881352 \r\nL 857.06125 712.881352 \r\nL 857.06125 0 \r\nL 0 0 \r\nz\r\n\" style=\"fill:none;\"/>\r\n  </g>\r\n  <g id=\"axes_1\">\r\n   <g id=\"patch_2\">\r\n    <path d=\"M 60.46125 637.966662 \r\nL 849.86125 637.966662 \r\nL 849.86125 28.396875 \r\nL 60.46125 28.396875 \r\nz\r\n\" style=\"fill:#ffffff;\"/>\r\n   </g>\r\n   <g id=\"matplotlib.axis_1\">\r\n    <g id=\"xtick_1\">\r\n     <g id=\"line2d_1\">\r\n      <defs>\r\n       <path d=\"M 0 0 \r\nL 0 3.5 \r\n\" id=\"m7e46fcbfe8\" style=\"stroke:#000000;stroke-width:0.8;\"/>\r\n      </defs>\r\n      <g>\r\n       <use style=\"stroke:#000000;stroke-width:0.8;\" x=\"257.81125\" xlink:href=\"#m7e46fcbfe8\" y=\"637.966662\"/>\r\n      </g>\r\n     </g>\r\n     <g id=\"text_1\">\r\n      <!-- R23 -->\r\n      <defs>\r\n       <path d=\"M 44.390625 34.1875 \r\nQ 47.5625 33.109375 50.5625 29.59375 \r\nQ 53.5625 26.078125 56.59375 19.921875 \r\nL 66.609375 0 \r\nL 56 0 \r\nL 46.6875 18.703125 \r\nQ 43.0625 26.03125 39.671875 28.421875 \r\nQ 36.28125 30.8125 30.421875 30.8125 \r\nL 19.671875 30.8125 \r\nL 19.671875 0 \r\nL 9.8125 0 \r\nL 9.8125 72.90625 \r\nL 32.078125 72.90625 \r\nQ 44.578125 72.90625 50.734375 67.671875 \r\nQ 56.890625 62.453125 56.890625 51.90625 \r\nQ 56.890625 45.015625 53.6875 40.46875 \r\nQ 50.484375 35.9375 44.390625 34.1875 \r\nz\r\nM 19.671875 64.796875 \r\nL 19.671875 38.921875 \r\nL 32.078125 38.921875 \r\nQ 39.203125 38.921875 42.84375 42.21875 \r\nQ 46.484375 45.515625 46.484375 51.90625 \r\nQ 46.484375 58.296875 42.84375 61.546875 \r\nQ 39.203125 64.796875 32.078125 64.796875 \r\nz\r\n\" id=\"DejaVuSans-82\"/>\r\n       <path d=\"M 19.1875 8.296875 \r\nL 53.609375 8.296875 \r\nL 53.609375 0 \r\nL 7.328125 0 \r\nL 7.328125 8.296875 \r\nQ 12.9375 14.109375 22.625 23.890625 \r\nQ 32.328125 33.6875 34.8125 36.53125 \r\nQ 39.546875 41.84375 41.421875 45.53125 \r\nQ 43.3125 49.21875 43.3125 52.78125 \r\nQ 43.3125 58.59375 39.234375 62.25 \r\nQ 35.15625 65.921875 28.609375 65.921875 \r\nQ 23.96875 65.921875 18.8125 64.3125 \r\nQ 13.671875 62.703125 7.8125 59.421875 \r\nL 7.8125 69.390625 \r\nQ 13.765625 71.78125 18.9375 73 \r\nQ 24.125 74.21875 28.421875 74.21875 \r\nQ 39.75 74.21875 46.484375 68.546875 \r\nQ 53.21875 62.890625 53.21875 53.421875 \r\nQ 53.21875 48.921875 51.53125 44.890625 \r\nQ 49.859375 40.875 45.40625 35.40625 \r\nQ 44.1875 33.984375 37.640625 27.21875 \r\nQ 31.109375 20.453125 19.1875 8.296875 \r\nz\r\n\" id=\"DejaVuSans-50\"/>\r\n       <path d=\"M 40.578125 39.3125 \r\nQ 47.65625 37.796875 51.625 33 \r\nQ 55.609375 28.21875 55.609375 21.1875 \r\nQ 55.609375 10.40625 48.1875 4.484375 \r\nQ 40.765625 -1.421875 27.09375 -1.421875 \r\nQ 22.515625 -1.421875 17.65625 -0.515625 \r\nQ 12.796875 0.390625 7.625 2.203125 \r\nL 7.625 11.71875 \r\nQ 11.71875 9.328125 16.59375 8.109375 \r\nQ 21.484375 6.890625 26.8125 6.890625 \r\nQ 36.078125 6.890625 40.9375 10.546875 \r\nQ 45.796875 14.203125 45.796875 21.1875 \r\nQ 45.796875 27.640625 41.28125 31.265625 \r\nQ 36.765625 34.90625 28.71875 34.90625 \r\nL 20.21875 34.90625 \r\nL 20.21875 43.015625 \r\nL 29.109375 43.015625 \r\nQ 36.375 43.015625 40.234375 45.921875 \r\nQ 44.09375 48.828125 44.09375 54.296875 \r\nQ 44.09375 59.90625 40.109375 62.90625 \r\nQ 36.140625 65.921875 28.71875 65.921875 \r\nQ 24.65625 65.921875 20.015625 65.03125 \r\nQ 15.375 64.15625 9.8125 62.3125 \r\nL 9.8125 71.09375 \r\nQ 15.4375 72.65625 20.34375 73.4375 \r\nQ 25.25 74.21875 29.59375 74.21875 \r\nQ 40.828125 74.21875 47.359375 69.109375 \r\nQ 53.90625 64.015625 53.90625 55.328125 \r\nQ 53.90625 49.265625 50.4375 45.09375 \r\nQ 46.96875 40.921875 40.578125 39.3125 \r\nz\r\n\" id=\"DejaVuSans-51\"/>\r\n      </defs>\r\n      <g transform=\"translate(248.803262 679.678092)rotate(-45)scale(0.18 -0.18)\">\r\n       <use xlink:href=\"#DejaVuSans-82\"/>\r\n       <use x=\"69.482422\" xlink:href=\"#DejaVuSans-50\"/>\r\n       <use x=\"133.105469\" xlink:href=\"#DejaVuSans-51\"/>\r\n      </g>\r\n     </g>\r\n    </g>\r\n    <g id=\"xtick_2\">\r\n     <g id=\"line2d_2\">\r\n      <g>\r\n       <use style=\"stroke:#000000;stroke-width:0.8;\" x=\"652.51125\" xlink:href=\"#m7e46fcbfe8\" y=\"637.966662\"/>\r\n      </g>\r\n     </g>\r\n     <g id=\"text_2\">\r\n      <!-- R27 -->\r\n      <defs>\r\n       <path d=\"M 8.203125 72.90625 \r\nL 55.078125 72.90625 \r\nL 55.078125 68.703125 \r\nL 28.609375 0 \r\nL 18.3125 0 \r\nL 43.21875 64.59375 \r\nL 8.203125 64.59375 \r\nz\r\n\" id=\"DejaVuSans-55\"/>\r\n      </defs>\r\n      <g transform=\"translate(643.503262 679.678092)rotate(-45)scale(0.18 -0.18)\">\r\n       <use xlink:href=\"#DejaVuSans-82\"/>\r\n       <use x=\"69.482422\" xlink:href=\"#DejaVuSans-50\"/>\r\n       <use x=\"133.105469\" xlink:href=\"#DejaVuSans-55\"/>\r\n      </g>\r\n     </g>\r\n    </g>\r\n    <g id=\"text_3\">\r\n     <!-- Site ID -->\r\n     <defs>\r\n      <path d=\"M 59.90625 70.609375 \r\nL 59.90625 55.171875 \r\nQ 53.90625 57.859375 48.1875 59.21875 \r\nQ 42.484375 60.59375 37.40625 60.59375 \r\nQ 30.671875 60.59375 27.4375 58.734375 \r\nQ 24.21875 56.890625 24.21875 52.984375 \r\nQ 24.21875 50.046875 26.390625 48.40625 \r\nQ 28.5625 46.78125 34.28125 45.609375 \r\nL 42.28125 44 \r\nQ 54.4375 41.546875 59.5625 36.5625 \r\nQ 64.703125 31.59375 64.703125 22.40625 \r\nQ 64.703125 10.359375 57.546875 4.46875 \r\nQ 50.390625 -1.421875 35.6875 -1.421875 \r\nQ 28.765625 -1.421875 21.78125 -0.09375 \r\nQ 14.796875 1.21875 7.8125 3.8125 \r\nL 7.8125 19.671875 \r\nQ 14.796875 15.96875 21.3125 14.078125 \r\nQ 27.828125 12.203125 33.890625 12.203125 \r\nQ 40.046875 12.203125 43.3125 14.25 \r\nQ 46.578125 16.3125 46.578125 20.125 \r\nQ 46.578125 23.53125 44.359375 25.390625 \r\nQ 42.140625 27.25 35.5 28.71875 \r\nL 28.21875 30.328125 \r\nQ 17.28125 32.671875 12.21875 37.796875 \r\nQ 7.171875 42.921875 7.171875 51.609375 \r\nQ 7.171875 62.5 14.203125 68.359375 \r\nQ 21.234375 74.21875 34.421875 74.21875 \r\nQ 40.4375 74.21875 46.78125 73.3125 \r\nQ 53.125 72.40625 59.90625 70.609375 \r\nz\r\n\" id=\"DejaVuSans-Bold-83\"/>\r\n      <path d=\"M 8.40625 54.6875 \r\nL 25.875 54.6875 \r\nL 25.875 0 \r\nL 8.40625 0 \r\nz\r\nM 8.40625 75.984375 \r\nL 25.875 75.984375 \r\nL 25.875 61.71875 \r\nL 8.40625 61.71875 \r\nz\r\n\" id=\"DejaVuSans-Bold-105\"/>\r\n      <path d=\"M 27.484375 70.21875 \r\nL 27.484375 54.6875 \r\nL 45.515625 54.6875 \r\nL 45.515625 42.1875 \r\nL 27.484375 42.1875 \r\nL 27.484375 19 \r\nQ 27.484375 15.1875 29 13.84375 \r\nQ 30.515625 12.5 35.015625 12.5 \r\nL 44 12.5 \r\nL 44 0 \r\nL 29 0 \r\nQ 18.65625 0 14.328125 4.3125 \r\nQ 10.015625 8.640625 10.015625 19 \r\nL 10.015625 42.1875 \r\nL 1.3125 42.1875 \r\nL 1.3125 54.6875 \r\nL 10.015625 54.6875 \r\nL 10.015625 70.21875 \r\nz\r\n\" id=\"DejaVuSans-Bold-116\"/>\r\n      <path d=\"M 62.984375 27.484375 \r\nL 62.984375 22.515625 \r\nL 22.125 22.515625 \r\nQ 22.75 16.359375 26.5625 13.28125 \r\nQ 30.375 10.203125 37.203125 10.203125 \r\nQ 42.71875 10.203125 48.5 11.84375 \r\nQ 54.296875 13.484375 60.40625 16.796875 \r\nL 60.40625 3.328125 \r\nQ 54.203125 0.984375 48 -0.21875 \r\nQ 41.796875 -1.421875 35.59375 -1.421875 \r\nQ 20.75 -1.421875 12.515625 6.125 \r\nQ 4.296875 13.671875 4.296875 27.296875 \r\nQ 4.296875 40.671875 12.375 48.328125 \r\nQ 20.453125 56 34.625 56 \r\nQ 47.515625 56 55.25 48.234375 \r\nQ 62.984375 40.484375 62.984375 27.484375 \r\nz\r\nM 45.015625 33.296875 \r\nQ 45.015625 38.28125 42.109375 41.328125 \r\nQ 39.203125 44.390625 34.515625 44.390625 \r\nQ 29.4375 44.390625 26.265625 41.53125 \r\nQ 23.09375 38.671875 22.3125 33.296875 \r\nz\r\n\" id=\"DejaVuSans-Bold-101\"/>\r\n      <path id=\"DejaVuSans-Bold-32\"/>\r\n      <path d=\"M 9.1875 72.90625 \r\nL 27.984375 72.90625 \r\nL 27.984375 0 \r\nL 9.1875 0 \r\nz\r\n\" id=\"DejaVuSans-Bold-73\"/>\r\n      <path d=\"M 27.984375 58.6875 \r\nL 27.984375 14.203125 \r\nL 34.71875 14.203125 \r\nQ 46.234375 14.203125 52.3125 19.921875 \r\nQ 58.40625 25.640625 58.40625 36.53125 \r\nQ 58.40625 47.359375 52.34375 53.015625 \r\nQ 46.296875 58.6875 34.71875 58.6875 \r\nz\r\nM 9.1875 72.90625 \r\nL 29 72.90625 \r\nQ 45.609375 72.90625 53.734375 70.53125 \r\nQ 61.859375 68.171875 67.671875 62.5 \r\nQ 72.796875 57.5625 75.28125 51.109375 \r\nQ 77.78125 44.671875 77.78125 36.53125 \r\nQ 77.78125 28.265625 75.28125 21.796875 \r\nQ 72.796875 15.328125 67.671875 10.40625 \r\nQ 61.8125 4.734375 53.609375 2.359375 \r\nQ 45.40625 0 29 0 \r\nL 9.1875 0 \r\nz\r\n\" id=\"DejaVuSans-Bold-68\"/>\r\n     </defs>\r\n     <g transform=\"translate(417.465938 701.521977)scale(0.2 -0.2)\">\r\n      <use xlink:href=\"#DejaVuSans-Bold-83\"/>\r\n      <use x=\"72.021484\" xlink:href=\"#DejaVuSans-Bold-105\"/>\r\n      <use x=\"106.298828\" xlink:href=\"#DejaVuSans-Bold-116\"/>\r\n      <use x=\"154.101562\" xlink:href=\"#DejaVuSans-Bold-101\"/>\r\n      <use x=\"221.923828\" xlink:href=\"#DejaVuSans-Bold-32\"/>\r\n      <use x=\"256.738281\" xlink:href=\"#DejaVuSans-Bold-73\"/>\r\n      <use x=\"293.945312\" xlink:href=\"#DejaVuSans-Bold-68\"/>\r\n     </g>\r\n    </g>\r\n   </g>\r\n   <g id=\"matplotlib.axis_2\">\r\n    <g id=\"ytick_1\">\r\n     <g id=\"line2d_3\">\r\n      <defs>\r\n       <path d=\"M 0 0 \r\nL -3.5 0 \r\n\" id=\"m7296d21756\" style=\"stroke:#000000;stroke-width:0.8;\"/>\r\n      </defs>\r\n      <g>\r\n       <use style=\"stroke:#000000;stroke-width:0.8;\" x=\"60.46125\" xlink:href=\"#m7296d21756\" y=\"637.966662\"/>\r\n      </g>\r\n     </g>\r\n     <g id=\"text_4\">\r\n      <!-- 0 -->\r\n      <defs>\r\n       <path d=\"M 31.78125 66.40625 \r\nQ 24.171875 66.40625 20.328125 58.90625 \r\nQ 16.5 51.421875 16.5 36.375 \r\nQ 16.5 21.390625 20.328125 13.890625 \r\nQ 24.171875 6.390625 31.78125 6.390625 \r\nQ 39.453125 6.390625 43.28125 13.890625 \r\nQ 47.125 21.390625 47.125 36.375 \r\nQ 47.125 51.421875 43.28125 58.90625 \r\nQ 39.453125 66.40625 31.78125 66.40625 \r\nz\r\nM 31.78125 74.21875 \r\nQ 44.046875 74.21875 50.515625 64.515625 \r\nQ 56.984375 54.828125 56.984375 36.375 \r\nQ 56.984375 17.96875 50.515625 8.265625 \r\nQ 44.046875 -1.421875 31.78125 -1.421875 \r\nQ 19.53125 -1.421875 13.0625 8.265625 \r\nQ 6.59375 17.96875 6.59375 36.375 \r\nQ 6.59375 54.828125 13.0625 64.515625 \r\nQ 19.53125 74.21875 31.78125 74.21875 \r\nz\r\n\" id=\"DejaVuSans-48\"/>\r\n      </defs>\r\n      <g transform=\"translate(42.00875 642.933537)scale(0.18 -0.18)\">\r\n       <use xlink:href=\"#DejaVuSans-48\"/>\r\n      </g>\r\n     </g>\r\n    </g>\r\n    <g id=\"ytick_2\">\r\n     <g id=\"line2d_4\">\r\n      <g>\r\n       <use style=\"stroke:#000000;stroke-width:0.8;\" x=\"60.46125\" xlink:href=\"#m7296d21756\" y=\"550.885264\"/>\r\n      </g>\r\n     </g>\r\n     <g id=\"text_5\">\r\n      <!-- 2 -->\r\n      <g transform=\"translate(42.00875 555.852139)scale(0.18 -0.18)\">\r\n       <use xlink:href=\"#DejaVuSans-50\"/>\r\n      </g>\r\n     </g>\r\n    </g>\r\n    <g id=\"ytick_3\">\r\n     <g id=\"line2d_5\">\r\n      <g>\r\n       <use style=\"stroke:#000000;stroke-width:0.8;\" x=\"60.46125\" xlink:href=\"#m7296d21756\" y=\"463.803866\"/>\r\n      </g>\r\n     </g>\r\n     <g id=\"text_6\">\r\n      <!-- 4 -->\r\n      <defs>\r\n       <path d=\"M 37.796875 64.3125 \r\nL 12.890625 25.390625 \r\nL 37.796875 25.390625 \r\nz\r\nM 35.203125 72.90625 \r\nL 47.609375 72.90625 \r\nL 47.609375 25.390625 \r\nL 58.015625 25.390625 \r\nL 58.015625 17.1875 \r\nL 47.609375 17.1875 \r\nL 47.609375 0 \r\nL 37.796875 0 \r\nL 37.796875 17.1875 \r\nL 4.890625 17.1875 \r\nL 4.890625 26.703125 \r\nz\r\n\" id=\"DejaVuSans-52\"/>\r\n      </defs>\r\n      <g transform=\"translate(42.00875 468.770741)scale(0.18 -0.18)\">\r\n       <use xlink:href=\"#DejaVuSans-52\"/>\r\n      </g>\r\n     </g>\r\n    </g>\r\n    <g id=\"ytick_4\">\r\n     <g id=\"line2d_6\">\r\n      <g>\r\n       <use style=\"stroke:#000000;stroke-width:0.8;\" x=\"60.46125\" xlink:href=\"#m7296d21756\" y=\"376.722468\"/>\r\n      </g>\r\n     </g>\r\n     <g id=\"text_7\">\r\n      <!-- 6 -->\r\n      <defs>\r\n       <path d=\"M 33.015625 40.375 \r\nQ 26.375 40.375 22.484375 35.828125 \r\nQ 18.609375 31.296875 18.609375 23.390625 \r\nQ 18.609375 15.53125 22.484375 10.953125 \r\nQ 26.375 6.390625 33.015625 6.390625 \r\nQ 39.65625 6.390625 43.53125 10.953125 \r\nQ 47.40625 15.53125 47.40625 23.390625 \r\nQ 47.40625 31.296875 43.53125 35.828125 \r\nQ 39.65625 40.375 33.015625 40.375 \r\nz\r\nM 52.59375 71.296875 \r\nL 52.59375 62.3125 \r\nQ 48.875 64.0625 45.09375 64.984375 \r\nQ 41.3125 65.921875 37.59375 65.921875 \r\nQ 27.828125 65.921875 22.671875 59.328125 \r\nQ 17.53125 52.734375 16.796875 39.40625 \r\nQ 19.671875 43.65625 24.015625 45.921875 \r\nQ 28.375 48.1875 33.59375 48.1875 \r\nQ 44.578125 48.1875 50.953125 41.515625 \r\nQ 57.328125 34.859375 57.328125 23.390625 \r\nQ 57.328125 12.15625 50.6875 5.359375 \r\nQ 44.046875 -1.421875 33.015625 -1.421875 \r\nQ 20.359375 -1.421875 13.671875 8.265625 \r\nQ 6.984375 17.96875 6.984375 36.375 \r\nQ 6.984375 53.65625 15.1875 63.9375 \r\nQ 23.390625 74.21875 37.203125 74.21875 \r\nQ 40.921875 74.21875 44.703125 73.484375 \r\nQ 48.484375 72.75 52.59375 71.296875 \r\nz\r\n\" id=\"DejaVuSans-54\"/>\r\n      </defs>\r\n      <g transform=\"translate(42.00875 381.689343)scale(0.18 -0.18)\">\r\n       <use xlink:href=\"#DejaVuSans-54\"/>\r\n      </g>\r\n     </g>\r\n    </g>\r\n    <g id=\"ytick_5\">\r\n     <g id=\"line2d_7\">\r\n      <g>\r\n       <use style=\"stroke:#000000;stroke-width:0.8;\" x=\"60.46125\" xlink:href=\"#m7296d21756\" y=\"289.64107\"/>\r\n      </g>\r\n     </g>\r\n     <g id=\"text_8\">\r\n      <!-- 8 -->\r\n      <defs>\r\n       <path d=\"M 31.78125 34.625 \r\nQ 24.75 34.625 20.71875 30.859375 \r\nQ 16.703125 27.09375 16.703125 20.515625 \r\nQ 16.703125 13.921875 20.71875 10.15625 \r\nQ 24.75 6.390625 31.78125 6.390625 \r\nQ 38.8125 6.390625 42.859375 10.171875 \r\nQ 46.921875 13.96875 46.921875 20.515625 \r\nQ 46.921875 27.09375 42.890625 30.859375 \r\nQ 38.875 34.625 31.78125 34.625 \r\nz\r\nM 21.921875 38.8125 \r\nQ 15.578125 40.375 12.03125 44.71875 \r\nQ 8.5 49.078125 8.5 55.328125 \r\nQ 8.5 64.0625 14.71875 69.140625 \r\nQ 20.953125 74.21875 31.78125 74.21875 \r\nQ 42.671875 74.21875 48.875 69.140625 \r\nQ 55.078125 64.0625 55.078125 55.328125 \r\nQ 55.078125 49.078125 51.53125 44.71875 \r\nQ 48 40.375 41.703125 38.8125 \r\nQ 48.828125 37.15625 52.796875 32.3125 \r\nQ 56.78125 27.484375 56.78125 20.515625 \r\nQ 56.78125 9.90625 50.3125 4.234375 \r\nQ 43.84375 -1.421875 31.78125 -1.421875 \r\nQ 19.734375 -1.421875 13.25 4.234375 \r\nQ 6.78125 9.90625 6.78125 20.515625 \r\nQ 6.78125 27.484375 10.78125 32.3125 \r\nQ 14.796875 37.15625 21.921875 38.8125 \r\nz\r\nM 18.3125 54.390625 \r\nQ 18.3125 48.734375 21.84375 45.5625 \r\nQ 25.390625 42.390625 31.78125 42.390625 \r\nQ 38.140625 42.390625 41.71875 45.5625 \r\nQ 45.3125 48.734375 45.3125 54.390625 \r\nQ 45.3125 60.0625 41.71875 63.234375 \r\nQ 38.140625 66.40625 31.78125 66.40625 \r\nQ 25.390625 66.40625 21.84375 63.234375 \r\nQ 18.3125 60.0625 18.3125 54.390625 \r\nz\r\n\" id=\"DejaVuSans-56\"/>\r\n      </defs>\r\n      <g transform=\"translate(42.00875 294.607945)scale(0.18 -0.18)\">\r\n       <use xlink:href=\"#DejaVuSans-56\"/>\r\n      </g>\r\n     </g>\r\n    </g>\r\n    <g id=\"ytick_6\">\r\n     <g id=\"line2d_8\">\r\n      <g>\r\n       <use style=\"stroke:#000000;stroke-width:0.8;\" x=\"60.46125\" xlink:href=\"#m7296d21756\" y=\"202.559671\"/>\r\n      </g>\r\n     </g>\r\n     <g id=\"text_9\">\r\n      <!-- 10 -->\r\n      <defs>\r\n       <path d=\"M 12.40625 8.296875 \r\nL 28.515625 8.296875 \r\nL 28.515625 63.921875 \r\nL 10.984375 60.40625 \r\nL 10.984375 69.390625 \r\nL 28.421875 72.90625 \r\nL 38.28125 72.90625 \r\nL 38.28125 8.296875 \r\nL 54.390625 8.296875 \r\nL 54.390625 0 \r\nL 12.40625 0 \r\nz\r\n\" id=\"DejaVuSans-49\"/>\r\n      </defs>\r\n      <g transform=\"translate(30.55625 207.526546)scale(0.18 -0.18)\">\r\n       <use xlink:href=\"#DejaVuSans-49\"/>\r\n       <use x=\"63.623047\" xlink:href=\"#DejaVuSans-48\"/>\r\n      </g>\r\n     </g>\r\n    </g>\r\n    <g id=\"ytick_7\">\r\n     <g id=\"line2d_9\">\r\n      <g>\r\n       <use style=\"stroke:#000000;stroke-width:0.8;\" x=\"60.46125\" xlink:href=\"#m7296d21756\" y=\"115.478273\"/>\r\n      </g>\r\n     </g>\r\n     <g id=\"text_10\">\r\n      <!-- 12 -->\r\n      <g transform=\"translate(30.55625 120.445148)scale(0.18 -0.18)\">\r\n       <use xlink:href=\"#DejaVuSans-49\"/>\r\n       <use x=\"63.623047\" xlink:href=\"#DejaVuSans-50\"/>\r\n      </g>\r\n     </g>\r\n    </g>\r\n    <g id=\"ytick_8\">\r\n     <g id=\"line2d_10\">\r\n      <g>\r\n       <use style=\"stroke:#000000;stroke-width:0.8;\" x=\"60.46125\" xlink:href=\"#m7296d21756\" y=\"28.396875\"/>\r\n      </g>\r\n     </g>\r\n     <g id=\"text_11\">\r\n      <!-- 14 -->\r\n      <g transform=\"translate(30.55625 33.36375)scale(0.18 -0.18)\">\r\n       <use xlink:href=\"#DejaVuSans-49\"/>\r\n       <use x=\"63.623047\" xlink:href=\"#DejaVuSans-52\"/>\r\n      </g>\r\n     </g>\r\n    </g>\r\n    <g id=\"text_12\">\r\n     <!-- Days -->\r\n     <defs>\r\n      <path d=\"M 32.90625 24.609375 \r\nQ 27.4375 24.609375 24.671875 22.75 \r\nQ 21.921875 20.90625 21.921875 17.28125 \r\nQ 21.921875 13.96875 24.140625 12.078125 \r\nQ 26.375 10.203125 30.328125 10.203125 \r\nQ 35.25 10.203125 38.625 13.734375 \r\nQ 42 17.28125 42 22.609375 \r\nL 42 24.609375 \r\nz\r\nM 59.625 31.203125 \r\nL 59.625 0 \r\nL 42 0 \r\nL 42 8.109375 \r\nQ 38.484375 3.125 34.078125 0.84375 \r\nQ 29.6875 -1.421875 23.390625 -1.421875 \r\nQ 14.890625 -1.421875 9.59375 3.53125 \r\nQ 4.296875 8.5 4.296875 16.40625 \r\nQ 4.296875 26.03125 10.90625 30.515625 \r\nQ 17.53125 35.015625 31.6875 35.015625 \r\nL 42 35.015625 \r\nL 42 36.375 \r\nQ 42 40.53125 38.71875 42.453125 \r\nQ 35.453125 44.390625 28.515625 44.390625 \r\nQ 22.90625 44.390625 18.0625 43.265625 \r\nQ 13.234375 42.140625 9.078125 39.890625 \r\nL 9.078125 53.21875 \r\nQ 14.703125 54.59375 20.359375 55.296875 \r\nQ 26.03125 56 31.6875 56 \r\nQ 46.484375 56 53.046875 50.171875 \r\nQ 59.625 44.34375 59.625 31.203125 \r\nz\r\n\" id=\"DejaVuSans-Bold-97\"/>\r\n      <path d=\"M 1.21875 54.6875 \r\nL 18.703125 54.6875 \r\nL 33.40625 17.578125 \r\nL 45.90625 54.6875 \r\nL 63.375 54.6875 \r\nL 40.375 -5.171875 \r\nQ 36.921875 -14.3125 32.296875 -17.9375 \r\nQ 27.6875 -21.578125 20.125 -21.578125 \r\nL 10.015625 -21.578125 \r\nL 10.015625 -10.109375 \r\nL 15.484375 -10.109375 \r\nQ 19.921875 -10.109375 21.9375 -8.6875 \r\nQ 23.96875 -7.28125 25.09375 -3.609375 \r\nL 25.59375 -2.09375 \r\nz\r\n\" id=\"DejaVuSans-Bold-121\"/>\r\n      <path d=\"M 51.125 52.984375 \r\nL 51.125 39.703125 \r\nQ 45.515625 42.046875 40.28125 43.21875 \r\nQ 35.0625 44.390625 30.421875 44.390625 \r\nQ 25.4375 44.390625 23.015625 43.140625 \r\nQ 20.609375 41.890625 20.609375 39.3125 \r\nQ 20.609375 37.203125 22.4375 36.078125 \r\nQ 24.265625 34.96875 29 34.421875 \r\nL 32.078125 33.984375 \r\nQ 45.515625 32.28125 50.140625 28.375 \r\nQ 54.78125 24.46875 54.78125 16.109375 \r\nQ 54.78125 7.375 48.328125 2.96875 \r\nQ 41.890625 -1.421875 29.109375 -1.421875 \r\nQ 23.6875 -1.421875 17.890625 -0.5625 \r\nQ 12.109375 0.296875 6 2 \r\nL 6 15.28125 \r\nQ 11.234375 12.75 16.71875 11.46875 \r\nQ 22.21875 10.203125 27.875 10.203125 \r\nQ 33.015625 10.203125 35.59375 11.609375 \r\nQ 38.1875 13.03125 38.1875 15.828125 \r\nQ 38.1875 18.171875 36.40625 19.3125 \r\nQ 34.625 20.453125 29.296875 21.09375 \r\nL 26.21875 21.484375 \r\nQ 14.546875 22.953125 9.859375 26.90625 \r\nQ 5.171875 30.859375 5.171875 38.921875 \r\nQ 5.171875 47.609375 11.125 51.796875 \r\nQ 17.09375 56 29.390625 56 \r\nQ 34.234375 56 39.546875 55.265625 \r\nQ 44.875 54.546875 51.125 52.984375 \r\nz\r\n\" id=\"DejaVuSans-Bold-115\"/>\r\n     </defs>\r\n     <g transform=\"translate(22.240625 360.389581)rotate(-90)scale(0.2 -0.2)\">\r\n      <use xlink:href=\"#DejaVuSans-Bold-68\"/>\r\n      <use x=\"83.007812\" xlink:href=\"#DejaVuSans-Bold-97\"/>\r\n      <use x=\"147.363281\" xlink:href=\"#DejaVuSans-Bold-121\"/>\r\n      <use x=\"212.548828\" xlink:href=\"#DejaVuSans-Bold-115\"/>\r\n     </g>\r\n    </g>\r\n   </g>\r\n   <g id=\"patch_3\">\r\n    <path d=\"M 60.46125 637.966662 \r\nL 60.46125 28.396875 \r\n\" style=\"fill:none;stroke:#000000;stroke-linecap:square;stroke-linejoin:miter;stroke-width:0.8;\"/>\r\n   </g>\r\n   <g id=\"patch_4\">\r\n    <path d=\"M 60.46125 637.966662 \r\nL 849.86125 637.966662 \r\n\" style=\"fill:none;stroke:#000000;stroke-linecap:square;stroke-linejoin:miter;stroke-width:0.8;\"/>\r\n   </g>\r\n   <g id=\"PathCollection_1\">\r\n    <defs>\r\n     <path d=\"M 0 2.5 \r\nC 0.663008 2.5 1.29895 2.236584 1.767767 1.767767 \r\nC 2.236584 1.29895 2.5 0.663008 2.5 0 \r\nC 2.5 -0.663008 2.236584 -1.29895 1.767767 -1.767767 \r\nC 1.29895 -2.236584 0.663008 -2.5 0 -2.5 \r\nC -0.663008 -2.5 -1.29895 -2.236584 -1.767767 -1.767767 \r\nC -2.236584 -1.29895 -2.5 -0.663008 -2.5 0 \r\nC -2.5 0.663008 -2.236584 1.29895 -1.767767 1.767767 \r\nC -1.29895 2.236584 -0.663008 2.5 0 2.5 \r\nz\r\n\" id=\"C0_0_44522104ad\"/>\r\n    </defs>\r\n    <g clip-path=\"url(#p2807cbb7a1)\">\r\n     <use style=\"fill:#1f77b4;\" x=\"262.908679\" xlink:href=\"#C0_0_44522104ad\" y=\"267.87072\"/>\r\n    </g>\r\n    <g clip-path=\"url(#p2807cbb7a1)\">\r\n     <use style=\"fill:#1f77b4;\" x=\"234.781822\" xlink:href=\"#C0_0_44522104ad\" y=\"587.894858\"/>\r\n    </g>\r\n    <g clip-path=\"url(#p2807cbb7a1)\">\r\n     <use style=\"fill:#1f77b4;\" x=\"266.950283\" xlink:href=\"#C0_0_44522104ad\" y=\"536.371698\"/>\r\n    </g>\r\n    <g clip-path=\"url(#p2807cbb7a1)\">\r\n     <use style=\"fill:#1f77b4;\" x=\"266.002161\" xlink:href=\"#C0_0_44522104ad\" y=\"272.950468\"/>\r\n    </g>\r\n   </g>\r\n   <g id=\"PathCollection_2\">\r\n    <defs>\r\n     <path d=\"M 0 2.5 \r\nC 0.663008 2.5 1.29895 2.236584 1.767767 1.767767 \r\nC 2.236584 1.29895 2.5 0.663008 2.5 0 \r\nC 2.5 -0.663008 2.236584 -1.29895 1.767767 -1.767767 \r\nC 1.29895 -2.236584 0.663008 -2.5 0 -2.5 \r\nC -0.663008 -2.5 -1.29895 -2.236584 -1.767767 -1.767767 \r\nC -2.236584 -1.29895 -2.5 -0.663008 -2.5 0 \r\nC -2.5 0.663008 -2.236584 1.29895 -1.767767 1.767767 \r\nC -1.29895 2.236584 -0.663008 2.5 0 2.5 \r\nz\r\n\" id=\"C1_0_dba0542377\"/>\r\n    </defs>\r\n    <g clip-path=\"url(#p2807cbb7a1)\">\r\n     <use style=\"fill:#ff7f0e;\" x=\"614.01553\" xlink:href=\"#C1_0_dba0542377\" y=\"376.722468\"/>\r\n    </g>\r\n    <g clip-path=\"url(#p2807cbb7a1)\">\r\n     <use style=\"fill:#ff7f0e;\" x=\"626.891691\" xlink:href=\"#C1_0_dba0542377\" y=\"71.937574\"/>\r\n    </g>\r\n    <g clip-path=\"url(#p2807cbb7a1)\">\r\n     <use style=\"fill:#ff7f0e;\" x=\"639.887643\" xlink:href=\"#C1_0_dba0542377\" y=\"420.263167\"/>\r\n    </g>\r\n   </g>\r\n   <g id=\"text_13\">\r\n    <!-- Duration of Event -->\r\n    <defs>\r\n     <path d=\"M 19.671875 64.796875 \r\nL 19.671875 8.109375 \r\nL 31.59375 8.109375 \r\nQ 46.6875 8.109375 53.6875 14.9375 \r\nQ 60.6875 21.78125 60.6875 36.53125 \r\nQ 60.6875 51.171875 53.6875 57.984375 \r\nQ 46.6875 64.796875 31.59375 64.796875 \r\nz\r\nM 9.8125 72.90625 \r\nL 30.078125 72.90625 \r\nQ 51.265625 72.90625 61.171875 64.09375 \r\nQ 71.09375 55.28125 71.09375 36.53125 \r\nQ 71.09375 17.671875 61.125 8.828125 \r\nQ 51.171875 0 30.078125 0 \r\nL 9.8125 0 \r\nz\r\n\" id=\"DejaVuSans-68\"/>\r\n     <path d=\"M 8.5 21.578125 \r\nL 8.5 54.6875 \r\nL 17.484375 54.6875 \r\nL 17.484375 21.921875 \r\nQ 17.484375 14.15625 20.5 10.265625 \r\nQ 23.53125 6.390625 29.59375 6.390625 \r\nQ 36.859375 6.390625 41.078125 11.03125 \r\nQ 45.3125 15.671875 45.3125 23.6875 \r\nL 45.3125 54.6875 \r\nL 54.296875 54.6875 \r\nL 54.296875 0 \r\nL 45.3125 0 \r\nL 45.3125 8.40625 \r\nQ 42.046875 3.421875 37.71875 1 \r\nQ 33.40625 -1.421875 27.6875 -1.421875 \r\nQ 18.265625 -1.421875 13.375 4.4375 \r\nQ 8.5 10.296875 8.5 21.578125 \r\nz\r\nM 31.109375 56 \r\nz\r\n\" id=\"DejaVuSans-117\"/>\r\n     <path d=\"M 41.109375 46.296875 \r\nQ 39.59375 47.171875 37.8125 47.578125 \r\nQ 36.03125 48 33.890625 48 \r\nQ 26.265625 48 22.1875 43.046875 \r\nQ 18.109375 38.09375 18.109375 28.8125 \r\nL 18.109375 0 \r\nL 9.078125 0 \r\nL 9.078125 54.6875 \r\nL 18.109375 54.6875 \r\nL 18.109375 46.1875 \r\nQ 20.953125 51.171875 25.484375 53.578125 \r\nQ 30.03125 56 36.53125 56 \r\nQ 37.453125 56 38.578125 55.875 \r\nQ 39.703125 55.765625 41.0625 55.515625 \r\nz\r\n\" id=\"DejaVuSans-114\"/>\r\n     <path d=\"M 34.28125 27.484375 \r\nQ 23.390625 27.484375 19.1875 25 \r\nQ 14.984375 22.515625 14.984375 16.5 \r\nQ 14.984375 11.71875 18.140625 8.90625 \r\nQ 21.296875 6.109375 26.703125 6.109375 \r\nQ 34.1875 6.109375 38.703125 11.40625 \r\nQ 43.21875 16.703125 43.21875 25.484375 \r\nL 43.21875 27.484375 \r\nz\r\nM 52.203125 31.203125 \r\nL 52.203125 0 \r\nL 43.21875 0 \r\nL 43.21875 8.296875 \r\nQ 40.140625 3.328125 35.546875 0.953125 \r\nQ 30.953125 -1.421875 24.3125 -1.421875 \r\nQ 15.921875 -1.421875 10.953125 3.296875 \r\nQ 6 8.015625 6 15.921875 \r\nQ 6 25.140625 12.171875 29.828125 \r\nQ 18.359375 34.515625 30.609375 34.515625 \r\nL 43.21875 34.515625 \r\nL 43.21875 35.40625 \r\nQ 43.21875 41.609375 39.140625 45 \r\nQ 35.0625 48.390625 27.6875 48.390625 \r\nQ 23 48.390625 18.546875 47.265625 \r\nQ 14.109375 46.140625 10.015625 43.890625 \r\nL 10.015625 52.203125 \r\nQ 14.9375 54.109375 19.578125 55.046875 \r\nQ 24.21875 56 28.609375 56 \r\nQ 40.484375 56 46.34375 49.84375 \r\nQ 52.203125 43.703125 52.203125 31.203125 \r\nz\r\n\" id=\"DejaVuSans-97\"/>\r\n     <path d=\"M 18.3125 70.21875 \r\nL 18.3125 54.6875 \r\nL 36.8125 54.6875 \r\nL 36.8125 47.703125 \r\nL 18.3125 47.703125 \r\nL 18.3125 18.015625 \r\nQ 18.3125 11.328125 20.140625 9.421875 \r\nQ 21.96875 7.515625 27.59375 7.515625 \r\nL 36.8125 7.515625 \r\nL 36.8125 0 \r\nL 27.59375 0 \r\nQ 17.1875 0 13.234375 3.875 \r\nQ 9.28125 7.765625 9.28125 18.015625 \r\nL 9.28125 47.703125 \r\nL 2.6875 47.703125 \r\nL 2.6875 54.6875 \r\nL 9.28125 54.6875 \r\nL 9.28125 70.21875 \r\nz\r\n\" id=\"DejaVuSans-116\"/>\r\n     <path d=\"M 9.421875 54.6875 \r\nL 18.40625 54.6875 \r\nL 18.40625 0 \r\nL 9.421875 0 \r\nz\r\nM 9.421875 75.984375 \r\nL 18.40625 75.984375 \r\nL 18.40625 64.59375 \r\nL 9.421875 64.59375 \r\nz\r\n\" id=\"DejaVuSans-105\"/>\r\n     <path d=\"M 30.609375 48.390625 \r\nQ 23.390625 48.390625 19.1875 42.75 \r\nQ 14.984375 37.109375 14.984375 27.296875 \r\nQ 14.984375 17.484375 19.15625 11.84375 \r\nQ 23.34375 6.203125 30.609375 6.203125 \r\nQ 37.796875 6.203125 41.984375 11.859375 \r\nQ 46.1875 17.53125 46.1875 27.296875 \r\nQ 46.1875 37.015625 41.984375 42.703125 \r\nQ 37.796875 48.390625 30.609375 48.390625 \r\nz\r\nM 30.609375 56 \r\nQ 42.328125 56 49.015625 48.375 \r\nQ 55.71875 40.765625 55.71875 27.296875 \r\nQ 55.71875 13.875 49.015625 6.21875 \r\nQ 42.328125 -1.421875 30.609375 -1.421875 \r\nQ 18.84375 -1.421875 12.171875 6.21875 \r\nQ 5.515625 13.875 5.515625 27.296875 \r\nQ 5.515625 40.765625 12.171875 48.375 \r\nQ 18.84375 56 30.609375 56 \r\nz\r\n\" id=\"DejaVuSans-111\"/>\r\n     <path d=\"M 54.890625 33.015625 \r\nL 54.890625 0 \r\nL 45.90625 0 \r\nL 45.90625 32.71875 \r\nQ 45.90625 40.484375 42.875 44.328125 \r\nQ 39.84375 48.1875 33.796875 48.1875 \r\nQ 26.515625 48.1875 22.3125 43.546875 \r\nQ 18.109375 38.921875 18.109375 30.90625 \r\nL 18.109375 0 \r\nL 9.078125 0 \r\nL 9.078125 54.6875 \r\nL 18.109375 54.6875 \r\nL 18.109375 46.1875 \r\nQ 21.34375 51.125 25.703125 53.5625 \r\nQ 30.078125 56 35.796875 56 \r\nQ 45.21875 56 50.046875 50.171875 \r\nQ 54.890625 44.34375 54.890625 33.015625 \r\nz\r\n\" id=\"DejaVuSans-110\"/>\r\n     <path id=\"DejaVuSans-32\"/>\r\n     <path d=\"M 37.109375 75.984375 \r\nL 37.109375 68.5 \r\nL 28.515625 68.5 \r\nQ 23.6875 68.5 21.796875 66.546875 \r\nQ 19.921875 64.59375 19.921875 59.515625 \r\nL 19.921875 54.6875 \r\nL 34.71875 54.6875 \r\nL 34.71875 47.703125 \r\nL 19.921875 47.703125 \r\nL 19.921875 0 \r\nL 10.890625 0 \r\nL 10.890625 47.703125 \r\nL 2.296875 47.703125 \r\nL 2.296875 54.6875 \r\nL 10.890625 54.6875 \r\nL 10.890625 58.5 \r\nQ 10.890625 67.625 15.140625 71.796875 \r\nQ 19.390625 75.984375 28.609375 75.984375 \r\nz\r\n\" id=\"DejaVuSans-102\"/>\r\n     <path d=\"M 9.8125 72.90625 \r\nL 55.90625 72.90625 \r\nL 55.90625 64.59375 \r\nL 19.671875 64.59375 \r\nL 19.671875 43.015625 \r\nL 54.390625 43.015625 \r\nL 54.390625 34.71875 \r\nL 19.671875 34.71875 \r\nL 19.671875 8.296875 \r\nL 56.78125 8.296875 \r\nL 56.78125 0 \r\nL 9.8125 0 \r\nz\r\n\" id=\"DejaVuSans-69\"/>\r\n     <path d=\"M 2.984375 54.6875 \r\nL 12.5 54.6875 \r\nL 29.59375 8.796875 \r\nL 46.6875 54.6875 \r\nL 56.203125 54.6875 \r\nL 35.6875 0 \r\nL 23.484375 0 \r\nz\r\n\" id=\"DejaVuSans-118\"/>\r\n     <path d=\"M 56.203125 29.59375 \r\nL 56.203125 25.203125 \r\nL 14.890625 25.203125 \r\nQ 15.484375 15.921875 20.484375 11.0625 \r\nQ 25.484375 6.203125 34.421875 6.203125 \r\nQ 39.59375 6.203125 44.453125 7.46875 \r\nQ 49.3125 8.734375 54.109375 11.28125 \r\nL 54.109375 2.78125 \r\nQ 49.265625 0.734375 44.1875 -0.34375 \r\nQ 39.109375 -1.421875 33.890625 -1.421875 \r\nQ 20.796875 -1.421875 13.15625 6.1875 \r\nQ 5.515625 13.8125 5.515625 26.8125 \r\nQ 5.515625 40.234375 12.765625 48.109375 \r\nQ 20.015625 56 32.328125 56 \r\nQ 43.359375 56 49.78125 48.890625 \r\nQ 56.203125 41.796875 56.203125 29.59375 \r\nz\r\nM 47.21875 32.234375 \r\nQ 47.125 39.59375 43.09375 43.984375 \r\nQ 39.0625 48.390625 32.421875 48.390625 \r\nQ 24.90625 48.390625 20.390625 44.140625 \r\nQ 15.875 39.890625 15.1875 32.171875 \r\nz\r\n\" id=\"DejaVuSans-101\"/>\r\n    </defs>\r\n    <g transform=\"translate(367.08625 22.396875)scale(0.2 -0.2)\">\r\n     <use xlink:href=\"#DejaVuSans-68\"/>\r\n     <use x=\"77.001953\" xlink:href=\"#DejaVuSans-117\"/>\r\n     <use x=\"140.380859\" xlink:href=\"#DejaVuSans-114\"/>\r\n     <use x=\"181.494141\" xlink:href=\"#DejaVuSans-97\"/>\r\n     <use x=\"242.773438\" xlink:href=\"#DejaVuSans-116\"/>\r\n     <use x=\"281.982422\" xlink:href=\"#DejaVuSans-105\"/>\r\n     <use x=\"309.765625\" xlink:href=\"#DejaVuSans-111\"/>\r\n     <use x=\"370.947266\" xlink:href=\"#DejaVuSans-110\"/>\r\n     <use x=\"434.326172\" xlink:href=\"#DejaVuSans-32\"/>\r\n     <use x=\"466.113281\" xlink:href=\"#DejaVuSans-111\"/>\r\n     <use x=\"527.294922\" xlink:href=\"#DejaVuSans-102\"/>\r\n     <use x=\"562.5\" xlink:href=\"#DejaVuSans-32\"/>\r\n     <use x=\"594.287109\" xlink:href=\"#DejaVuSans-69\"/>\r\n     <use x=\"657.470703\" xlink:href=\"#DejaVuSans-118\"/>\r\n     <use x=\"716.650391\" xlink:href=\"#DejaVuSans-101\"/>\r\n     <use x=\"778.173828\" xlink:href=\"#DejaVuSans-110\"/>\r\n     <use x=\"841.552734\" xlink:href=\"#DejaVuSans-116\"/>\r\n    </g>\r\n   </g>\r\n  </g>\r\n </g>\r\n <defs>\r\n  <clipPath id=\"p2807cbb7a1\">\r\n   <rect height=\"609.569787\" width=\"789.4\" x=\"60.46125\" y=\"28.396875\"/>\r\n  </clipPath>\r\n </defs>\r\n</svg>\r\n",
      "image/png": "[encoded data removed]"
     },
     "metadata": {
      "needs_background": "light"
     }
    }
   ],
   "source": [
    "cat_varx = om_col_dict['siteid']\n",
    "cat_vary= om_col_dict['eventdur']\n",
    "sv_nm = 'event_dur.png'\n",
    "myfig = visualize.visualize_categorical_scatter(om_data_update, om_col_dict, cat_varx, cat_vary, fig_sets)\n",
    "myfig.savefig(os.path.join(site_fldr,sv_nm), dpi=my_savedpi)"
   ]
  },
  {
   "cell_type": "markdown",
   "metadata": {},
   "source": [
    "Count-plot of # of events, per site"
   ]
  },
  {
   "cell_type": "code",
   "execution_count": 43,
   "metadata": {
    "scrolled": false
   },
   "outputs": [
    {
     "output_type": "display_data",
     "data": {
      "text/plain": "<Figure size 864x720 with 1 Axes>",
      "image/svg+xml": "<?xml version=\"1.0\" encoding=\"utf-8\" standalone=\"no\"?>\r\n<!DOCTYPE svg PUBLIC \"-//W3C//DTD SVG 1.1//EN\"\r\n  \"http://www.w3.org/Graphics/SVG/1.1/DTD/svg11.dtd\">\r\n<!-- Created with matplotlib (https://matplotlib.org/) -->\r\n<svg height=\"712.881352pt\" version=\"1.1\" viewBox=\"0 0 857.10875 712.881352\" width=\"857.10875pt\" xmlns=\"http://www.w3.org/2000/svg\" xmlns:xlink=\"http://www.w3.org/1999/xlink\">\r\n <defs>\r\n  <style type=\"text/css\">\r\n*{stroke-linecap:butt;stroke-linejoin:round;}\r\n  </style>\r\n </defs>\r\n <g id=\"figure_1\">\r\n  <g id=\"patch_1\">\r\n   <path d=\"M 0 712.881352 \r\nL 857.10875 712.881352 \r\nL 857.10875 0 \r\nL 0 0 \r\nz\r\n\" style=\"fill:none;\"/>\r\n  </g>\r\n  <g id=\"axes_1\">\r\n   <g id=\"patch_2\">\r\n    <path d=\"M 49.00875 637.966662 \r\nL 849.90875 637.966662 \r\nL 849.90875 28.396875 \r\nL 49.00875 28.396875 \r\nz\r\n\" style=\"fill:#ffffff;\"/>\r\n   </g>\r\n   <g id=\"patch_3\">\r\n    <path clip-path=\"url(#p8967ce2fa5)\" d=\"M 89.05375 637.966662 \r\nL 409.41375 637.966662 \r\nL 409.41375 57.424008 \r\nL 89.05375 57.424008 \r\nz\r\n\" style=\"fill:#3274a1;\"/>\r\n   </g>\r\n   <g id=\"patch_4\">\r\n    <path clip-path=\"url(#p8967ce2fa5)\" d=\"M 489.50375 637.966662 \r\nL 809.86375 637.966662 \r\nL 809.86375 202.559671 \r\nL 489.50375 202.559671 \r\nz\r\n\" style=\"fill:#e1812c;\"/>\r\n   </g>\r\n   <g id=\"matplotlib.axis_1\">\r\n    <g id=\"xtick_1\">\r\n     <g id=\"line2d_1\">\r\n      <defs>\r\n       <path d=\"M 0 0 \r\nL 0 3.5 \r\n\" id=\"m11a5707e72\" style=\"stroke:#000000;stroke-width:0.8;\"/>\r\n      </defs>\r\n      <g>\r\n       <use style=\"stroke:#000000;stroke-width:0.8;\" x=\"249.23375\" xlink:href=\"#m11a5707e72\" y=\"637.966662\"/>\r\n      </g>\r\n     </g>\r\n     <g id=\"text_1\">\r\n      <!-- R23 -->\r\n      <defs>\r\n       <path d=\"M 44.390625 34.1875 \r\nQ 47.5625 33.109375 50.5625 29.59375 \r\nQ 53.5625 26.078125 56.59375 19.921875 \r\nL 66.609375 0 \r\nL 56 0 \r\nL 46.6875 18.703125 \r\nQ 43.0625 26.03125 39.671875 28.421875 \r\nQ 36.28125 30.8125 30.421875 30.8125 \r\nL 19.671875 30.8125 \r\nL 19.671875 0 \r\nL 9.8125 0 \r\nL 9.8125 72.90625 \r\nL 32.078125 72.90625 \r\nQ 44.578125 72.90625 50.734375 67.671875 \r\nQ 56.890625 62.453125 56.890625 51.90625 \r\nQ 56.890625 45.015625 53.6875 40.46875 \r\nQ 50.484375 35.9375 44.390625 34.1875 \r\nz\r\nM 19.671875 64.796875 \r\nL 19.671875 38.921875 \r\nL 32.078125 38.921875 \r\nQ 39.203125 38.921875 42.84375 42.21875 \r\nQ 46.484375 45.515625 46.484375 51.90625 \r\nQ 46.484375 58.296875 42.84375 61.546875 \r\nQ 39.203125 64.796875 32.078125 64.796875 \r\nz\r\n\" id=\"DejaVuSans-82\"/>\r\n       <path d=\"M 19.1875 8.296875 \r\nL 53.609375 8.296875 \r\nL 53.609375 0 \r\nL 7.328125 0 \r\nL 7.328125 8.296875 \r\nQ 12.9375 14.109375 22.625 23.890625 \r\nQ 32.328125 33.6875 34.8125 36.53125 \r\nQ 39.546875 41.84375 41.421875 45.53125 \r\nQ 43.3125 49.21875 43.3125 52.78125 \r\nQ 43.3125 58.59375 39.234375 62.25 \r\nQ 35.15625 65.921875 28.609375 65.921875 \r\nQ 23.96875 65.921875 18.8125 64.3125 \r\nQ 13.671875 62.703125 7.8125 59.421875 \r\nL 7.8125 69.390625 \r\nQ 13.765625 71.78125 18.9375 73 \r\nQ 24.125 74.21875 28.421875 74.21875 \r\nQ 39.75 74.21875 46.484375 68.546875 \r\nQ 53.21875 62.890625 53.21875 53.421875 \r\nQ 53.21875 48.921875 51.53125 44.890625 \r\nQ 49.859375 40.875 45.40625 35.40625 \r\nQ 44.1875 33.984375 37.640625 27.21875 \r\nQ 31.109375 20.453125 19.1875 8.296875 \r\nz\r\n\" id=\"DejaVuSans-50\"/>\r\n       <path d=\"M 40.578125 39.3125 \r\nQ 47.65625 37.796875 51.625 33 \r\nQ 55.609375 28.21875 55.609375 21.1875 \r\nQ 55.609375 10.40625 48.1875 4.484375 \r\nQ 40.765625 -1.421875 27.09375 -1.421875 \r\nQ 22.515625 -1.421875 17.65625 -0.515625 \r\nQ 12.796875 0.390625 7.625 2.203125 \r\nL 7.625 11.71875 \r\nQ 11.71875 9.328125 16.59375 8.109375 \r\nQ 21.484375 6.890625 26.8125 6.890625 \r\nQ 36.078125 6.890625 40.9375 10.546875 \r\nQ 45.796875 14.203125 45.796875 21.1875 \r\nQ 45.796875 27.640625 41.28125 31.265625 \r\nQ 36.765625 34.90625 28.71875 34.90625 \r\nL 20.21875 34.90625 \r\nL 20.21875 43.015625 \r\nL 29.109375 43.015625 \r\nQ 36.375 43.015625 40.234375 45.921875 \r\nQ 44.09375 48.828125 44.09375 54.296875 \r\nQ 44.09375 59.90625 40.109375 62.90625 \r\nQ 36.140625 65.921875 28.71875 65.921875 \r\nQ 24.65625 65.921875 20.015625 65.03125 \r\nQ 15.375 64.15625 9.8125 62.3125 \r\nL 9.8125 71.09375 \r\nQ 15.4375 72.65625 20.34375 73.4375 \r\nQ 25.25 74.21875 29.59375 74.21875 \r\nQ 40.828125 74.21875 47.359375 69.109375 \r\nQ 53.90625 64.015625 53.90625 55.328125 \r\nQ 53.90625 49.265625 50.4375 45.09375 \r\nQ 46.96875 40.921875 40.578125 39.3125 \r\nz\r\n\" id=\"DejaVuSans-51\"/>\r\n      </defs>\r\n      <g transform=\"translate(240.225762 679.678092)rotate(-45)scale(0.18 -0.18)\">\r\n       <use xlink:href=\"#DejaVuSans-82\"/>\r\n       <use x=\"69.482422\" xlink:href=\"#DejaVuSans-50\"/>\r\n       <use x=\"133.105469\" xlink:href=\"#DejaVuSans-51\"/>\r\n      </g>\r\n     </g>\r\n    </g>\r\n    <g id=\"xtick_2\">\r\n     <g id=\"line2d_2\">\r\n      <g>\r\n       <use style=\"stroke:#000000;stroke-width:0.8;\" x=\"649.68375\" xlink:href=\"#m11a5707e72\" y=\"637.966662\"/>\r\n      </g>\r\n     </g>\r\n     <g id=\"text_2\">\r\n      <!-- R27 -->\r\n      <defs>\r\n       <path d=\"M 8.203125 72.90625 \r\nL 55.078125 72.90625 \r\nL 55.078125 68.703125 \r\nL 28.609375 0 \r\nL 18.3125 0 \r\nL 43.21875 64.59375 \r\nL 8.203125 64.59375 \r\nz\r\n\" id=\"DejaVuSans-55\"/>\r\n      </defs>\r\n      <g transform=\"translate(640.675762 679.678092)rotate(-45)scale(0.18 -0.18)\">\r\n       <use xlink:href=\"#DejaVuSans-82\"/>\r\n       <use x=\"69.482422\" xlink:href=\"#DejaVuSans-50\"/>\r\n       <use x=\"133.105469\" xlink:href=\"#DejaVuSans-55\"/>\r\n      </g>\r\n     </g>\r\n    </g>\r\n    <g id=\"text_3\">\r\n     <!-- randid -->\r\n     <defs>\r\n      <path d=\"M 49.03125 39.796875 \r\nQ 46.734375 40.875 44.453125 41.375 \r\nQ 42.1875 41.890625 39.890625 41.890625 \r\nQ 33.15625 41.890625 29.515625 37.5625 \r\nQ 25.875 33.25 25.875 25.203125 \r\nL 25.875 0 \r\nL 8.40625 0 \r\nL 8.40625 54.6875 \r\nL 25.875 54.6875 \r\nL 25.875 45.703125 \r\nQ 29.25 51.078125 33.609375 53.53125 \r\nQ 37.984375 56 44.09375 56 \r\nQ 44.96875 56 45.984375 55.921875 \r\nQ 47.015625 55.859375 48.96875 55.609375 \r\nz\r\n\" id=\"DejaVuSans-Bold-114\"/>\r\n      <path d=\"M 32.90625 24.609375 \r\nQ 27.4375 24.609375 24.671875 22.75 \r\nQ 21.921875 20.90625 21.921875 17.28125 \r\nQ 21.921875 13.96875 24.140625 12.078125 \r\nQ 26.375 10.203125 30.328125 10.203125 \r\nQ 35.25 10.203125 38.625 13.734375 \r\nQ 42 17.28125 42 22.609375 \r\nL 42 24.609375 \r\nz\r\nM 59.625 31.203125 \r\nL 59.625 0 \r\nL 42 0 \r\nL 42 8.109375 \r\nQ 38.484375 3.125 34.078125 0.84375 \r\nQ 29.6875 -1.421875 23.390625 -1.421875 \r\nQ 14.890625 -1.421875 9.59375 3.53125 \r\nQ 4.296875 8.5 4.296875 16.40625 \r\nQ 4.296875 26.03125 10.90625 30.515625 \r\nQ 17.53125 35.015625 31.6875 35.015625 \r\nL 42 35.015625 \r\nL 42 36.375 \r\nQ 42 40.53125 38.71875 42.453125 \r\nQ 35.453125 44.390625 28.515625 44.390625 \r\nQ 22.90625 44.390625 18.0625 43.265625 \r\nQ 13.234375 42.140625 9.078125 39.890625 \r\nL 9.078125 53.21875 \r\nQ 14.703125 54.59375 20.359375 55.296875 \r\nQ 26.03125 56 31.6875 56 \r\nQ 46.484375 56 53.046875 50.171875 \r\nQ 59.625 44.34375 59.625 31.203125 \r\nz\r\n\" id=\"DejaVuSans-Bold-97\"/>\r\n      <path d=\"M 63.375 33.296875 \r\nL 63.375 0 \r\nL 45.796875 0 \r\nL 45.796875 5.421875 \r\nL 45.796875 25.484375 \r\nQ 45.796875 32.5625 45.484375 35.25 \r\nQ 45.171875 37.9375 44.390625 39.203125 \r\nQ 43.359375 40.921875 41.59375 41.875 \r\nQ 39.84375 42.828125 37.59375 42.828125 \r\nQ 32.125 42.828125 29 38.59375 \r\nQ 25.875 34.375 25.875 26.90625 \r\nL 25.875 0 \r\nL 8.40625 0 \r\nL 8.40625 54.6875 \r\nL 25.875 54.6875 \r\nL 25.875 46.6875 \r\nQ 29.828125 51.46875 34.265625 53.734375 \r\nQ 38.71875 56 44.09375 56 \r\nQ 53.5625 56 58.46875 50.1875 \r\nQ 63.375 44.390625 63.375 33.296875 \r\nz\r\n\" id=\"DejaVuSans-Bold-110\"/>\r\n      <path d=\"M 45.609375 46.6875 \r\nL 45.609375 75.984375 \r\nL 63.1875 75.984375 \r\nL 63.1875 0 \r\nL 45.609375 0 \r\nL 45.609375 7.90625 \r\nQ 42 3.078125 37.640625 0.828125 \r\nQ 33.296875 -1.421875 27.59375 -1.421875 \r\nQ 17.484375 -1.421875 10.984375 6.609375 \r\nQ 4.5 14.65625 4.5 27.296875 \r\nQ 4.5 39.9375 10.984375 47.96875 \r\nQ 17.484375 56 27.59375 56 \r\nQ 33.25 56 37.625 53.734375 \r\nQ 42 51.46875 45.609375 46.6875 \r\nz\r\nM 34.078125 11.28125 \r\nQ 39.703125 11.28125 42.65625 15.375 \r\nQ 45.609375 19.484375 45.609375 27.296875 \r\nQ 45.609375 35.109375 42.65625 39.203125 \r\nQ 39.703125 43.3125 34.078125 43.3125 \r\nQ 28.515625 43.3125 25.5625 39.203125 \r\nQ 22.609375 35.109375 22.609375 27.296875 \r\nQ 22.609375 19.484375 25.5625 15.375 \r\nQ 28.515625 11.28125 34.078125 11.28125 \r\nz\r\n\" id=\"DejaVuSans-Bold-100\"/>\r\n      <path d=\"M 8.40625 54.6875 \r\nL 25.875 54.6875 \r\nL 25.875 0 \r\nL 8.40625 0 \r\nz\r\nM 8.40625 75.984375 \r\nL 25.875 75.984375 \r\nL 25.875 61.71875 \r\nL 8.40625 61.71875 \r\nz\r\n\" id=\"DejaVuSans-Bold-105\"/>\r\n     </defs>\r\n     <g transform=\"translate(412.916563 701.521977)scale(0.2 -0.2)\">\r\n      <use xlink:href=\"#DejaVuSans-Bold-114\"/>\r\n      <use x=\"49.316406\" xlink:href=\"#DejaVuSans-Bold-97\"/>\r\n      <use x=\"116.796875\" xlink:href=\"#DejaVuSans-Bold-110\"/>\r\n      <use x=\"187.988281\" xlink:href=\"#DejaVuSans-Bold-100\"/>\r\n      <use x=\"259.570312\" xlink:href=\"#DejaVuSans-Bold-105\"/>\r\n      <use x=\"293.847656\" xlink:href=\"#DejaVuSans-Bold-100\"/>\r\n     </g>\r\n    </g>\r\n   </g>\r\n   <g id=\"matplotlib.axis_2\">\r\n    <g id=\"ytick_1\">\r\n     <g id=\"line2d_3\">\r\n      <defs>\r\n       <path d=\"M 0 0 \r\nL -3.5 0 \r\n\" id=\"m3ce3152e38\" style=\"stroke:#000000;stroke-width:0.8;\"/>\r\n      </defs>\r\n      <g>\r\n       <use style=\"stroke:#000000;stroke-width:0.8;\" x=\"49.00875\" xlink:href=\"#m3ce3152e38\" y=\"637.966662\"/>\r\n      </g>\r\n     </g>\r\n     <g id=\"text_4\">\r\n      <!-- 0 -->\r\n      <defs>\r\n       <path d=\"M 31.78125 66.40625 \r\nQ 24.171875 66.40625 20.328125 58.90625 \r\nQ 16.5 51.421875 16.5 36.375 \r\nQ 16.5 21.390625 20.328125 13.890625 \r\nQ 24.171875 6.390625 31.78125 6.390625 \r\nQ 39.453125 6.390625 43.28125 13.890625 \r\nQ 47.125 21.390625 47.125 36.375 \r\nQ 47.125 51.421875 43.28125 58.90625 \r\nQ 39.453125 66.40625 31.78125 66.40625 \r\nz\r\nM 31.78125 74.21875 \r\nQ 44.046875 74.21875 50.515625 64.515625 \r\nQ 56.984375 54.828125 56.984375 36.375 \r\nQ 56.984375 17.96875 50.515625 8.265625 \r\nQ 44.046875 -1.421875 31.78125 -1.421875 \r\nQ 19.53125 -1.421875 13.0625 8.265625 \r\nQ 6.59375 17.96875 6.59375 36.375 \r\nQ 6.59375 54.828125 13.0625 64.515625 \r\nQ 19.53125 74.21875 31.78125 74.21875 \r\nz\r\n\" id=\"DejaVuSans-48\"/>\r\n      </defs>\r\n      <g transform=\"translate(30.55625 642.933537)scale(0.18 -0.18)\">\r\n       <use xlink:href=\"#DejaVuSans-48\"/>\r\n      </g>\r\n     </g>\r\n    </g>\r\n    <g id=\"ytick_2\">\r\n     <g id=\"line2d_4\">\r\n      <g>\r\n       <use style=\"stroke:#000000;stroke-width:0.8;\" x=\"49.00875\" xlink:href=\"#m3ce3152e38\" y=\"492.830999\"/>\r\n      </g>\r\n     </g>\r\n     <g id=\"text_5\">\r\n      <!-- 0 -->\r\n      <g transform=\"translate(30.55625 497.797874)scale(0.18 -0.18)\">\r\n       <use xlink:href=\"#DejaVuSans-48\"/>\r\n      </g>\r\n     </g>\r\n    </g>\r\n    <g id=\"ytick_3\">\r\n     <g id=\"line2d_5\">\r\n      <g>\r\n       <use style=\"stroke:#000000;stroke-width:0.8;\" x=\"49.00875\" xlink:href=\"#m3ce3152e38\" y=\"347.695335\"/>\r\n      </g>\r\n     </g>\r\n     <g id=\"text_6\">\r\n      <!-- 1 -->\r\n      <defs>\r\n       <path d=\"M 12.40625 8.296875 \r\nL 28.515625 8.296875 \r\nL 28.515625 63.921875 \r\nL 10.984375 60.40625 \r\nL 10.984375 69.390625 \r\nL 28.421875 72.90625 \r\nL 38.28125 72.90625 \r\nL 38.28125 8.296875 \r\nL 54.390625 8.296875 \r\nL 54.390625 0 \r\nL 12.40625 0 \r\nz\r\n\" id=\"DejaVuSans-49\"/>\r\n      </defs>\r\n      <g transform=\"translate(30.55625 352.66221)scale(0.18 -0.18)\">\r\n       <use xlink:href=\"#DejaVuSans-49\"/>\r\n      </g>\r\n     </g>\r\n    </g>\r\n    <g id=\"ytick_4\">\r\n     <g id=\"line2d_6\">\r\n      <g>\r\n       <use style=\"stroke:#000000;stroke-width:0.8;\" x=\"49.00875\" xlink:href=\"#m3ce3152e38\" y=\"202.559671\"/>\r\n      </g>\r\n     </g>\r\n     <g id=\"text_7\">\r\n      <!-- 1 -->\r\n      <g transform=\"translate(30.55625 207.526546)scale(0.18 -0.18)\">\r\n       <use xlink:href=\"#DejaVuSans-49\"/>\r\n      </g>\r\n     </g>\r\n    </g>\r\n    <g id=\"ytick_5\">\r\n     <g id=\"line2d_7\">\r\n      <g>\r\n       <use style=\"stroke:#000000;stroke-width:0.8;\" x=\"49.00875\" xlink:href=\"#m3ce3152e38\" y=\"57.424008\"/>\r\n      </g>\r\n     </g>\r\n     <g id=\"text_8\">\r\n      <!-- 2 -->\r\n      <g transform=\"translate(30.55625 62.390883)scale(0.18 -0.18)\">\r\n       <use xlink:href=\"#DejaVuSans-50\"/>\r\n      </g>\r\n     </g>\r\n    </g>\r\n    <g id=\"text_9\">\r\n     <!-- Count -->\r\n     <defs>\r\n      <path d=\"M 67 4 \r\nQ 61.8125 1.3125 56.203125 -0.046875 \r\nQ 50.59375 -1.421875 44.484375 -1.421875 \r\nQ 26.265625 -1.421875 15.625 8.765625 \r\nQ 4.984375 18.953125 4.984375 36.375 \r\nQ 4.984375 53.859375 15.625 64.03125 \r\nQ 26.265625 74.21875 44.484375 74.21875 \r\nQ 50.59375 74.21875 56.203125 72.84375 \r\nQ 61.8125 71.484375 67 68.796875 \r\nL 67 53.71875 \r\nQ 61.765625 57.28125 56.6875 58.9375 \r\nQ 51.609375 60.59375 46 60.59375 \r\nQ 35.9375 60.59375 30.171875 54.140625 \r\nQ 24.421875 47.703125 24.421875 36.375 \r\nQ 24.421875 25.09375 30.171875 18.640625 \r\nQ 35.9375 12.203125 46 12.203125 \r\nQ 51.609375 12.203125 56.6875 13.859375 \r\nQ 61.765625 15.53125 67 19.09375 \r\nz\r\n\" id=\"DejaVuSans-Bold-67\"/>\r\n      <path d=\"M 34.421875 43.5 \r\nQ 28.609375 43.5 25.5625 39.328125 \r\nQ 22.515625 35.15625 22.515625 27.296875 \r\nQ 22.515625 19.4375 25.5625 15.25 \r\nQ 28.609375 11.078125 34.421875 11.078125 \r\nQ 40.140625 11.078125 43.15625 15.25 \r\nQ 46.1875 19.4375 46.1875 27.296875 \r\nQ 46.1875 35.15625 43.15625 39.328125 \r\nQ 40.140625 43.5 34.421875 43.5 \r\nz\r\nM 34.421875 56 \r\nQ 48.53125 56 56.46875 48.375 \r\nQ 64.40625 40.765625 64.40625 27.296875 \r\nQ 64.40625 13.8125 56.46875 6.1875 \r\nQ 48.53125 -1.421875 34.421875 -1.421875 \r\nQ 20.265625 -1.421875 12.28125 6.1875 \r\nQ 4.296875 13.8125 4.296875 27.296875 \r\nQ 4.296875 40.765625 12.28125 48.375 \r\nQ 20.265625 56 34.421875 56 \r\nz\r\n\" id=\"DejaVuSans-Bold-111\"/>\r\n      <path d=\"M 7.8125 21.296875 \r\nL 7.8125 54.6875 \r\nL 25.390625 54.6875 \r\nL 25.390625 49.21875 \r\nQ 25.390625 44.78125 25.34375 38.0625 \r\nQ 25.296875 31.34375 25.296875 29.109375 \r\nQ 25.296875 22.515625 25.640625 19.609375 \r\nQ 25.984375 16.703125 26.8125 15.375 \r\nQ 27.875 13.671875 29.609375 12.734375 \r\nQ 31.34375 11.8125 33.59375 11.8125 \r\nQ 39.0625 11.8125 42.1875 16.015625 \r\nQ 45.3125 20.21875 45.3125 27.6875 \r\nL 45.3125 54.6875 \r\nL 62.796875 54.6875 \r\nL 62.796875 0 \r\nL 45.3125 0 \r\nL 45.3125 7.90625 \r\nQ 41.359375 3.125 36.9375 0.84375 \r\nQ 32.515625 -1.421875 27.203125 -1.421875 \r\nQ 17.71875 -1.421875 12.765625 4.390625 \r\nQ 7.8125 10.203125 7.8125 21.296875 \r\nz\r\n\" id=\"DejaVuSans-Bold-117\"/>\r\n      <path d=\"M 27.484375 70.21875 \r\nL 27.484375 54.6875 \r\nL 45.515625 54.6875 \r\nL 45.515625 42.1875 \r\nL 27.484375 42.1875 \r\nL 27.484375 19 \r\nQ 27.484375 15.1875 29 13.84375 \r\nQ 30.515625 12.5 35.015625 12.5 \r\nL 44 12.5 \r\nL 44 0 \r\nL 29 0 \r\nQ 18.65625 0 14.328125 4.3125 \r\nQ 10.015625 8.640625 10.015625 19 \r\nL 10.015625 42.1875 \r\nL 1.3125 42.1875 \r\nL 1.3125 54.6875 \r\nL 10.015625 54.6875 \r\nL 10.015625 70.21875 \r\nz\r\n\" id=\"DejaVuSans-Bold-116\"/>\r\n     </defs>\r\n     <g transform=\"translate(22.396875 366.408331)rotate(-90)scale(0.2 -0.2)\">\r\n      <use xlink:href=\"#DejaVuSans-Bold-67\"/>\r\n      <use x=\"73.388672\" xlink:href=\"#DejaVuSans-Bold-111\"/>\r\n      <use x=\"142.089844\" xlink:href=\"#DejaVuSans-Bold-117\"/>\r\n      <use x=\"213.28125\" xlink:href=\"#DejaVuSans-Bold-110\"/>\r\n      <use x=\"284.472656\" xlink:href=\"#DejaVuSans-Bold-116\"/>\r\n     </g>\r\n    </g>\r\n   </g>\r\n   <g id=\"patch_5\">\r\n    <path d=\"M 49.00875 637.966662 \r\nL 49.00875 28.396875 \r\n\" style=\"fill:none;stroke:#000000;stroke-linecap:square;stroke-linejoin:miter;stroke-width:0.8;\"/>\r\n   </g>\r\n   <g id=\"patch_6\">\r\n    <path d=\"M 849.90875 637.966662 \r\nL 849.90875 28.396875 \r\n\" style=\"fill:none;stroke:#000000;stroke-linecap:square;stroke-linejoin:miter;stroke-width:0.8;\"/>\r\n   </g>\r\n   <g id=\"patch_7\">\r\n    <path d=\"M 49.00875 637.966662 \r\nL 849.90875 637.966662 \r\n\" style=\"fill:none;stroke:#000000;stroke-linecap:square;stroke-linejoin:miter;stroke-width:0.8;\"/>\r\n   </g>\r\n   <g id=\"patch_8\">\r\n    <path d=\"M 49.00875 28.396875 \r\nL 849.90875 28.396875 \r\n\" style=\"fill:none;stroke:#000000;stroke-linecap:square;stroke-linejoin:miter;stroke-width:0.8;\"/>\r\n   </g>\r\n   <g id=\"text_10\">\r\n    <!-- Number of Reported Events by Site -->\r\n    <defs>\r\n     <path d=\"M 9.8125 72.90625 \r\nL 23.09375 72.90625 \r\nL 55.421875 11.921875 \r\nL 55.421875 72.90625 \r\nL 64.984375 72.90625 \r\nL 64.984375 0 \r\nL 51.703125 0 \r\nL 19.390625 60.984375 \r\nL 19.390625 0 \r\nL 9.8125 0 \r\nz\r\n\" id=\"DejaVuSans-78\"/>\r\n     <path d=\"M 8.5 21.578125 \r\nL 8.5 54.6875 \r\nL 17.484375 54.6875 \r\nL 17.484375 21.921875 \r\nQ 17.484375 14.15625 20.5 10.265625 \r\nQ 23.53125 6.390625 29.59375 6.390625 \r\nQ 36.859375 6.390625 41.078125 11.03125 \r\nQ 45.3125 15.671875 45.3125 23.6875 \r\nL 45.3125 54.6875 \r\nL 54.296875 54.6875 \r\nL 54.296875 0 \r\nL 45.3125 0 \r\nL 45.3125 8.40625 \r\nQ 42.046875 3.421875 37.71875 1 \r\nQ 33.40625 -1.421875 27.6875 -1.421875 \r\nQ 18.265625 -1.421875 13.375 4.4375 \r\nQ 8.5 10.296875 8.5 21.578125 \r\nz\r\nM 31.109375 56 \r\nz\r\n\" id=\"DejaVuSans-117\"/>\r\n     <path d=\"M 52 44.1875 \r\nQ 55.375 50.25 60.0625 53.125 \r\nQ 64.75 56 71.09375 56 \r\nQ 79.640625 56 84.28125 50.015625 \r\nQ 88.921875 44.046875 88.921875 33.015625 \r\nL 88.921875 0 \r\nL 79.890625 0 \r\nL 79.890625 32.71875 \r\nQ 79.890625 40.578125 77.09375 44.375 \r\nQ 74.3125 48.1875 68.609375 48.1875 \r\nQ 61.625 48.1875 57.5625 43.546875 \r\nQ 53.515625 38.921875 53.515625 30.90625 \r\nL 53.515625 0 \r\nL 44.484375 0 \r\nL 44.484375 32.71875 \r\nQ 44.484375 40.625 41.703125 44.40625 \r\nQ 38.921875 48.1875 33.109375 48.1875 \r\nQ 26.21875 48.1875 22.15625 43.53125 \r\nQ 18.109375 38.875 18.109375 30.90625 \r\nL 18.109375 0 \r\nL 9.078125 0 \r\nL 9.078125 54.6875 \r\nL 18.109375 54.6875 \r\nL 18.109375 46.1875 \r\nQ 21.1875 51.21875 25.484375 53.609375 \r\nQ 29.78125 56 35.6875 56 \r\nQ 41.65625 56 45.828125 52.96875 \r\nQ 50 49.953125 52 44.1875 \r\nz\r\n\" id=\"DejaVuSans-109\"/>\r\n     <path d=\"M 48.6875 27.296875 \r\nQ 48.6875 37.203125 44.609375 42.84375 \r\nQ 40.53125 48.484375 33.40625 48.484375 \r\nQ 26.265625 48.484375 22.1875 42.84375 \r\nQ 18.109375 37.203125 18.109375 27.296875 \r\nQ 18.109375 17.390625 22.1875 11.75 \r\nQ 26.265625 6.109375 33.40625 6.109375 \r\nQ 40.53125 6.109375 44.609375 11.75 \r\nQ 48.6875 17.390625 48.6875 27.296875 \r\nz\r\nM 18.109375 46.390625 \r\nQ 20.953125 51.265625 25.265625 53.625 \r\nQ 29.59375 56 35.59375 56 \r\nQ 45.5625 56 51.78125 48.09375 \r\nQ 58.015625 40.1875 58.015625 27.296875 \r\nQ 58.015625 14.40625 51.78125 6.484375 \r\nQ 45.5625 -1.421875 35.59375 -1.421875 \r\nQ 29.59375 -1.421875 25.265625 0.953125 \r\nQ 20.953125 3.328125 18.109375 8.203125 \r\nL 18.109375 0 \r\nL 9.078125 0 \r\nL 9.078125 75.984375 \r\nL 18.109375 75.984375 \r\nz\r\n\" id=\"DejaVuSans-98\"/>\r\n     <path d=\"M 56.203125 29.59375 \r\nL 56.203125 25.203125 \r\nL 14.890625 25.203125 \r\nQ 15.484375 15.921875 20.484375 11.0625 \r\nQ 25.484375 6.203125 34.421875 6.203125 \r\nQ 39.59375 6.203125 44.453125 7.46875 \r\nQ 49.3125 8.734375 54.109375 11.28125 \r\nL 54.109375 2.78125 \r\nQ 49.265625 0.734375 44.1875 -0.34375 \r\nQ 39.109375 -1.421875 33.890625 -1.421875 \r\nQ 20.796875 -1.421875 13.15625 6.1875 \r\nQ 5.515625 13.8125 5.515625 26.8125 \r\nQ 5.515625 40.234375 12.765625 48.109375 \r\nQ 20.015625 56 32.328125 56 \r\nQ 43.359375 56 49.78125 48.890625 \r\nQ 56.203125 41.796875 56.203125 29.59375 \r\nz\r\nM 47.21875 32.234375 \r\nQ 47.125 39.59375 43.09375 43.984375 \r\nQ 39.0625 48.390625 32.421875 48.390625 \r\nQ 24.90625 48.390625 20.390625 44.140625 \r\nQ 15.875 39.890625 15.1875 32.171875 \r\nz\r\n\" id=\"DejaVuSans-101\"/>\r\n     <path d=\"M 41.109375 46.296875 \r\nQ 39.59375 47.171875 37.8125 47.578125 \r\nQ 36.03125 48 33.890625 48 \r\nQ 26.265625 48 22.1875 43.046875 \r\nQ 18.109375 38.09375 18.109375 28.8125 \r\nL 18.109375 0 \r\nL 9.078125 0 \r\nL 9.078125 54.6875 \r\nL 18.109375 54.6875 \r\nL 18.109375 46.1875 \r\nQ 20.953125 51.171875 25.484375 53.578125 \r\nQ 30.03125 56 36.53125 56 \r\nQ 37.453125 56 38.578125 55.875 \r\nQ 39.703125 55.765625 41.0625 55.515625 \r\nz\r\n\" id=\"DejaVuSans-114\"/>\r\n     <path id=\"DejaVuSans-32\"/>\r\n     <path d=\"M 30.609375 48.390625 \r\nQ 23.390625 48.390625 19.1875 42.75 \r\nQ 14.984375 37.109375 14.984375 27.296875 \r\nQ 14.984375 17.484375 19.15625 11.84375 \r\nQ 23.34375 6.203125 30.609375 6.203125 \r\nQ 37.796875 6.203125 41.984375 11.859375 \r\nQ 46.1875 17.53125 46.1875 27.296875 \r\nQ 46.1875 37.015625 41.984375 42.703125 \r\nQ 37.796875 48.390625 30.609375 48.390625 \r\nz\r\nM 30.609375 56 \r\nQ 42.328125 56 49.015625 48.375 \r\nQ 55.71875 40.765625 55.71875 27.296875 \r\nQ 55.71875 13.875 49.015625 6.21875 \r\nQ 42.328125 -1.421875 30.609375 -1.421875 \r\nQ 18.84375 -1.421875 12.171875 6.21875 \r\nQ 5.515625 13.875 5.515625 27.296875 \r\nQ 5.515625 40.765625 12.171875 48.375 \r\nQ 18.84375 56 30.609375 56 \r\nz\r\n\" id=\"DejaVuSans-111\"/>\r\n     <path d=\"M 37.109375 75.984375 \r\nL 37.109375 68.5 \r\nL 28.515625 68.5 \r\nQ 23.6875 68.5 21.796875 66.546875 \r\nQ 19.921875 64.59375 19.921875 59.515625 \r\nL 19.921875 54.6875 \r\nL 34.71875 54.6875 \r\nL 34.71875 47.703125 \r\nL 19.921875 47.703125 \r\nL 19.921875 0 \r\nL 10.890625 0 \r\nL 10.890625 47.703125 \r\nL 2.296875 47.703125 \r\nL 2.296875 54.6875 \r\nL 10.890625 54.6875 \r\nL 10.890625 58.5 \r\nQ 10.890625 67.625 15.140625 71.796875 \r\nQ 19.390625 75.984375 28.609375 75.984375 \r\nz\r\n\" id=\"DejaVuSans-102\"/>\r\n     <path d=\"M 18.109375 8.203125 \r\nL 18.109375 -20.796875 \r\nL 9.078125 -20.796875 \r\nL 9.078125 54.6875 \r\nL 18.109375 54.6875 \r\nL 18.109375 46.390625 \r\nQ 20.953125 51.265625 25.265625 53.625 \r\nQ 29.59375 56 35.59375 56 \r\nQ 45.5625 56 51.78125 48.09375 \r\nQ 58.015625 40.1875 58.015625 27.296875 \r\nQ 58.015625 14.40625 51.78125 6.484375 \r\nQ 45.5625 -1.421875 35.59375 -1.421875 \r\nQ 29.59375 -1.421875 25.265625 0.953125 \r\nQ 20.953125 3.328125 18.109375 8.203125 \r\nz\r\nM 48.6875 27.296875 \r\nQ 48.6875 37.203125 44.609375 42.84375 \r\nQ 40.53125 48.484375 33.40625 48.484375 \r\nQ 26.265625 48.484375 22.1875 42.84375 \r\nQ 18.109375 37.203125 18.109375 27.296875 \r\nQ 18.109375 17.390625 22.1875 11.75 \r\nQ 26.265625 6.109375 33.40625 6.109375 \r\nQ 40.53125 6.109375 44.609375 11.75 \r\nQ 48.6875 17.390625 48.6875 27.296875 \r\nz\r\n\" id=\"DejaVuSans-112\"/>\r\n     <path d=\"M 18.3125 70.21875 \r\nL 18.3125 54.6875 \r\nL 36.8125 54.6875 \r\nL 36.8125 47.703125 \r\nL 18.3125 47.703125 \r\nL 18.3125 18.015625 \r\nQ 18.3125 11.328125 20.140625 9.421875 \r\nQ 21.96875 7.515625 27.59375 7.515625 \r\nL 36.8125 7.515625 \r\nL 36.8125 0 \r\nL 27.59375 0 \r\nQ 17.1875 0 13.234375 3.875 \r\nQ 9.28125 7.765625 9.28125 18.015625 \r\nL 9.28125 47.703125 \r\nL 2.6875 47.703125 \r\nL 2.6875 54.6875 \r\nL 9.28125 54.6875 \r\nL 9.28125 70.21875 \r\nz\r\n\" id=\"DejaVuSans-116\"/>\r\n     <path d=\"M 45.40625 46.390625 \r\nL 45.40625 75.984375 \r\nL 54.390625 75.984375 \r\nL 54.390625 0 \r\nL 45.40625 0 \r\nL 45.40625 8.203125 \r\nQ 42.578125 3.328125 38.25 0.953125 \r\nQ 33.9375 -1.421875 27.875 -1.421875 \r\nQ 17.96875 -1.421875 11.734375 6.484375 \r\nQ 5.515625 14.40625 5.515625 27.296875 \r\nQ 5.515625 40.1875 11.734375 48.09375 \r\nQ 17.96875 56 27.875 56 \r\nQ 33.9375 56 38.25 53.625 \r\nQ 42.578125 51.265625 45.40625 46.390625 \r\nz\r\nM 14.796875 27.296875 \r\nQ 14.796875 17.390625 18.875 11.75 \r\nQ 22.953125 6.109375 30.078125 6.109375 \r\nQ 37.203125 6.109375 41.296875 11.75 \r\nQ 45.40625 17.390625 45.40625 27.296875 \r\nQ 45.40625 37.203125 41.296875 42.84375 \r\nQ 37.203125 48.484375 30.078125 48.484375 \r\nQ 22.953125 48.484375 18.875 42.84375 \r\nQ 14.796875 37.203125 14.796875 27.296875 \r\nz\r\n\" id=\"DejaVuSans-100\"/>\r\n     <path d=\"M 9.8125 72.90625 \r\nL 55.90625 72.90625 \r\nL 55.90625 64.59375 \r\nL 19.671875 64.59375 \r\nL 19.671875 43.015625 \r\nL 54.390625 43.015625 \r\nL 54.390625 34.71875 \r\nL 19.671875 34.71875 \r\nL 19.671875 8.296875 \r\nL 56.78125 8.296875 \r\nL 56.78125 0 \r\nL 9.8125 0 \r\nz\r\n\" id=\"DejaVuSans-69\"/>\r\n     <path d=\"M 2.984375 54.6875 \r\nL 12.5 54.6875 \r\nL 29.59375 8.796875 \r\nL 46.6875 54.6875 \r\nL 56.203125 54.6875 \r\nL 35.6875 0 \r\nL 23.484375 0 \r\nz\r\n\" id=\"DejaVuSans-118\"/>\r\n     <path d=\"M 54.890625 33.015625 \r\nL 54.890625 0 \r\nL 45.90625 0 \r\nL 45.90625 32.71875 \r\nQ 45.90625 40.484375 42.875 44.328125 \r\nQ 39.84375 48.1875 33.796875 48.1875 \r\nQ 26.515625 48.1875 22.3125 43.546875 \r\nQ 18.109375 38.921875 18.109375 30.90625 \r\nL 18.109375 0 \r\nL 9.078125 0 \r\nL 9.078125 54.6875 \r\nL 18.109375 54.6875 \r\nL 18.109375 46.1875 \r\nQ 21.34375 51.125 25.703125 53.5625 \r\nQ 30.078125 56 35.796875 56 \r\nQ 45.21875 56 50.046875 50.171875 \r\nQ 54.890625 44.34375 54.890625 33.015625 \r\nz\r\n\" id=\"DejaVuSans-110\"/>\r\n     <path d=\"M 44.28125 53.078125 \r\nL 44.28125 44.578125 \r\nQ 40.484375 46.53125 36.375 47.5 \r\nQ 32.28125 48.484375 27.875 48.484375 \r\nQ 21.1875 48.484375 17.84375 46.4375 \r\nQ 14.5 44.390625 14.5 40.28125 \r\nQ 14.5 37.15625 16.890625 35.375 \r\nQ 19.28125 33.59375 26.515625 31.984375 \r\nL 29.59375 31.296875 \r\nQ 39.15625 29.25 43.1875 25.515625 \r\nQ 47.21875 21.78125 47.21875 15.09375 \r\nQ 47.21875 7.46875 41.1875 3.015625 \r\nQ 35.15625 -1.421875 24.609375 -1.421875 \r\nQ 20.21875 -1.421875 15.453125 -0.5625 \r\nQ 10.6875 0.296875 5.421875 2 \r\nL 5.421875 11.28125 \r\nQ 10.40625 8.6875 15.234375 7.390625 \r\nQ 20.0625 6.109375 24.8125 6.109375 \r\nQ 31.15625 6.109375 34.5625 8.28125 \r\nQ 37.984375 10.453125 37.984375 14.40625 \r\nQ 37.984375 18.0625 35.515625 20.015625 \r\nQ 33.0625 21.96875 24.703125 23.78125 \r\nL 21.578125 24.515625 \r\nQ 13.234375 26.265625 9.515625 29.90625 \r\nQ 5.8125 33.546875 5.8125 39.890625 \r\nQ 5.8125 47.609375 11.28125 51.796875 \r\nQ 16.75 56 26.8125 56 \r\nQ 31.78125 56 36.171875 55.265625 \r\nQ 40.578125 54.546875 44.28125 53.078125 \r\nz\r\n\" id=\"DejaVuSans-115\"/>\r\n     <path d=\"M 32.171875 -5.078125 \r\nQ 28.375 -14.84375 24.75 -17.8125 \r\nQ 21.140625 -20.796875 15.09375 -20.796875 \r\nL 7.90625 -20.796875 \r\nL 7.90625 -13.28125 \r\nL 13.1875 -13.28125 \r\nQ 16.890625 -13.28125 18.9375 -11.515625 \r\nQ 21 -9.765625 23.484375 -3.21875 \r\nL 25.09375 0.875 \r\nL 2.984375 54.6875 \r\nL 12.5 54.6875 \r\nL 29.59375 11.921875 \r\nL 46.6875 54.6875 \r\nL 56.203125 54.6875 \r\nz\r\n\" id=\"DejaVuSans-121\"/>\r\n     <path d=\"M 53.515625 70.515625 \r\nL 53.515625 60.890625 \r\nQ 47.90625 63.578125 42.921875 64.890625 \r\nQ 37.9375 66.21875 33.296875 66.21875 \r\nQ 25.25 66.21875 20.875 63.09375 \r\nQ 16.5 59.96875 16.5 54.203125 \r\nQ 16.5 49.359375 19.40625 46.890625 \r\nQ 22.3125 44.4375 30.421875 42.921875 \r\nL 36.375 41.703125 \r\nQ 47.40625 39.59375 52.65625 34.296875 \r\nQ 57.90625 29 57.90625 20.125 \r\nQ 57.90625 9.515625 50.796875 4.046875 \r\nQ 43.703125 -1.421875 29.984375 -1.421875 \r\nQ 24.8125 -1.421875 18.96875 -0.25 \r\nQ 13.140625 0.921875 6.890625 3.21875 \r\nL 6.890625 13.375 \r\nQ 12.890625 10.015625 18.65625 8.296875 \r\nQ 24.421875 6.59375 29.984375 6.59375 \r\nQ 38.421875 6.59375 43.015625 9.90625 \r\nQ 47.609375 13.234375 47.609375 19.390625 \r\nQ 47.609375 24.75 44.3125 27.78125 \r\nQ 41.015625 30.8125 33.5 32.328125 \r\nL 27.484375 33.5 \r\nQ 16.453125 35.6875 11.515625 40.375 \r\nQ 6.59375 45.0625 6.59375 53.421875 \r\nQ 6.59375 63.09375 13.40625 68.65625 \r\nQ 20.21875 74.21875 32.171875 74.21875 \r\nQ 37.3125 74.21875 42.625 73.28125 \r\nQ 47.953125 72.359375 53.515625 70.515625 \r\nz\r\n\" id=\"DejaVuSans-83\"/>\r\n     <path d=\"M 9.421875 54.6875 \r\nL 18.40625 54.6875 \r\nL 18.40625 0 \r\nL 9.421875 0 \r\nz\r\nM 9.421875 75.984375 \r\nL 18.40625 75.984375 \r\nL 18.40625 64.59375 \r\nL 9.421875 64.59375 \r\nz\r\n\" id=\"DejaVuSans-105\"/>\r\n    </defs>\r\n    <g transform=\"translate(272.780625 22.396875)scale(0.2 -0.2)\">\r\n     <use xlink:href=\"#DejaVuSans-78\"/>\r\n     <use x=\"74.804688\" xlink:href=\"#DejaVuSans-117\"/>\r\n     <use x=\"138.183594\" xlink:href=\"#DejaVuSans-109\"/>\r\n     <use x=\"235.595703\" xlink:href=\"#DejaVuSans-98\"/>\r\n     <use x=\"299.072266\" xlink:href=\"#DejaVuSans-101\"/>\r\n     <use x=\"360.595703\" xlink:href=\"#DejaVuSans-114\"/>\r\n     <use x=\"401.708984\" xlink:href=\"#DejaVuSans-32\"/>\r\n     <use x=\"433.496094\" xlink:href=\"#DejaVuSans-111\"/>\r\n     <use x=\"494.677734\" xlink:href=\"#DejaVuSans-102\"/>\r\n     <use x=\"529.882812\" xlink:href=\"#DejaVuSans-32\"/>\r\n     <use x=\"561.669922\" xlink:href=\"#DejaVuSans-82\"/>\r\n     <use x=\"626.652344\" xlink:href=\"#DejaVuSans-101\"/>\r\n     <use x=\"688.175781\" xlink:href=\"#DejaVuSans-112\"/>\r\n     <use x=\"751.652344\" xlink:href=\"#DejaVuSans-111\"/>\r\n     <use x=\"812.833984\" xlink:href=\"#DejaVuSans-114\"/>\r\n     <use x=\"853.947266\" xlink:href=\"#DejaVuSans-116\"/>\r\n     <use x=\"893.15625\" xlink:href=\"#DejaVuSans-101\"/>\r\n     <use x=\"954.679688\" xlink:href=\"#DejaVuSans-100\"/>\r\n     <use x=\"1018.15625\" xlink:href=\"#DejaVuSans-32\"/>\r\n     <use x=\"1049.943359\" xlink:href=\"#DejaVuSans-69\"/>\r\n     <use x=\"1113.126953\" xlink:href=\"#DejaVuSans-118\"/>\r\n     <use x=\"1172.306641\" xlink:href=\"#DejaVuSans-101\"/>\r\n     <use x=\"1233.830078\" xlink:href=\"#DejaVuSans-110\"/>\r\n     <use x=\"1297.208984\" xlink:href=\"#DejaVuSans-116\"/>\r\n     <use x=\"1336.417969\" xlink:href=\"#DejaVuSans-115\"/>\r\n     <use x=\"1388.517578\" xlink:href=\"#DejaVuSans-32\"/>\r\n     <use x=\"1420.304688\" xlink:href=\"#DejaVuSans-98\"/>\r\n     <use x=\"1483.78125\" xlink:href=\"#DejaVuSans-121\"/>\r\n     <use x=\"1542.960938\" xlink:href=\"#DejaVuSans-32\"/>\r\n     <use x=\"1574.748047\" xlink:href=\"#DejaVuSans-83\"/>\r\n     <use x=\"1638.224609\" xlink:href=\"#DejaVuSans-105\"/>\r\n     <use x=\"1666.007812\" xlink:href=\"#DejaVuSans-116\"/>\r\n     <use x=\"1705.216797\" xlink:href=\"#DejaVuSans-101\"/>\r\n    </g>\r\n   </g>\r\n  </g>\r\n </g>\r\n <defs>\r\n  <clipPath id=\"p8967ce2fa5\">\r\n   <rect height=\"609.569787\" width=\"800.9\" x=\"49.00875\" y=\"28.396875\"/>\r\n  </clipPath>\r\n </defs>\r\n</svg>\r\n",
      "image/png": "[encoded data removed]"
     },
     "metadata": {
      "needs_background": "light"
     }
    }
   ],
   "source": [
    "count_var = om_col_dict['siteid']\n",
    "sv_nm = 'event_count_per_site.png'\n",
    "myfig = visualize.visualize_counts(om_data_update, om_col_dict, count_var, fig_sets)\n",
    "myfig.savefig(os.path.join(site_fldr,sv_nm), dpi=my_savedpi)"
   ]
  },
  {
   "cell_type": "markdown",
   "metadata": {},
   "source": [
    "Count-plot of # of events, per month"
   ]
  },
  {
   "cell_type": "code",
   "execution_count": 44,
   "metadata": {},
   "outputs": [
    {
     "output_type": "display_data",
     "data": {
      "text/plain": "<Figure size 864x720 with 1 Axes>",
      "image/svg+xml": "<?xml version=\"1.0\" encoding=\"utf-8\" standalone=\"no\"?>\r\n<!DOCTYPE svg PUBLIC \"-//W3C//DTD SVG 1.1//EN\"\r\n  \"http://www.w3.org/Graphics/SVG/1.1/DTD/svg11.dtd\">\r\n<!-- Created with matplotlib (https://matplotlib.org/) -->\r\n<svg height=\"712.87627pt\" version=\"1.1\" viewBox=\"0 0 857.10875 712.87627\" width=\"857.10875pt\" xmlns=\"http://www.w3.org/2000/svg\" xmlns:xlink=\"http://www.w3.org/1999/xlink\">\r\n <defs>\r\n  <style type=\"text/css\">\r\n*{stroke-linecap:butt;stroke-linejoin:round;}\r\n  </style>\r\n </defs>\r\n <g id=\"figure_1\">\r\n  <g id=\"patch_1\">\r\n   <path d=\"M 0 712.87627 \r\nL 857.10875 712.87627 \r\nL 857.10875 0 \r\nL 0 0 \r\nz\r\n\" style=\"fill:none;\"/>\r\n  </g>\r\n  <g id=\"axes_1\">\r\n   <g id=\"patch_2\">\r\n    <path d=\"M 49.00875 646.805497 \r\nL 849.90875 646.805497 \r\nL 849.90875 28.396875 \r\nL 49.00875 28.396875 \r\nz\r\n\" style=\"fill:#ffffff;\"/>\r\n   </g>\r\n   <g id=\"patch_3\">\r\n    <path clip-path=\"url(#pe2ae7d54be)\" d=\"M 69.03125 646.805497 \r\nL 149.12125 646.805497 \r\nL 149.12125 57.844905 \r\nL 69.03125 57.844905 \r\nz\r\n\" style=\"fill:#3274a1;\"/>\r\n   </g>\r\n   <g id=\"patch_4\">\r\n    <path clip-path=\"url(#pe2ae7d54be)\" d=\"M 269.25625 646.805497 \r\nL 349.34625 646.805497 \r\nL 349.34625 450.4853 \r\nL 269.25625 450.4853 \r\nz\r\n\" style=\"fill:#3274a1;\"/>\r\n   </g>\r\n   <g id=\"patch_5\">\r\n    <path clip-path=\"url(#pe2ae7d54be)\" d=\"z\r\n\" style=\"fill:#3274a1;\"/>\r\n   </g>\r\n   <g id=\"patch_6\">\r\n    <path clip-path=\"url(#pe2ae7d54be)\" d=\"z\r\n\" style=\"fill:#3274a1;\"/>\r\n   </g>\r\n   <g id=\"patch_7\">\r\n    <path clip-path=\"url(#pe2ae7d54be)\" d=\"z\r\n\" style=\"fill:#e1812c;\"/>\r\n   </g>\r\n   <g id=\"patch_8\">\r\n    <path clip-path=\"url(#pe2ae7d54be)\" d=\"z\r\n\" style=\"fill:#e1812c;\"/>\r\n   </g>\r\n   <g id=\"patch_9\">\r\n    <path clip-path=\"url(#pe2ae7d54be)\" d=\"M 549.57125 646.805497 \r\nL 629.66125 646.805497 \r\nL 629.66125 254.165102 \r\nL 549.57125 254.165102 \r\nz\r\n\" style=\"fill:#e1812c;\"/>\r\n   </g>\r\n   <g id=\"patch_10\">\r\n    <path clip-path=\"url(#pe2ae7d54be)\" d=\"M 749.79625 646.805497 \r\nL 829.88625 646.805497 \r\nL 829.88625 450.4853 \r\nL 749.79625 450.4853 \r\nz\r\n\" style=\"fill:#e1812c;\"/>\r\n   </g>\r\n   <g id=\"matplotlib.axis_1\">\r\n    <g id=\"xtick_1\">\r\n     <g id=\"line2d_1\">\r\n      <defs>\r\n       <path d=\"M 0 0 \r\nL 0 3.5 \r\n\" id=\"m3d39249b54\" style=\"stroke:#000000;stroke-width:0.8;\"/>\r\n      </defs>\r\n      <g>\r\n       <use style=\"stroke:#000000;stroke-width:0.8;\" x=\"149.12125\" xlink:href=\"#m3d39249b54\" y=\"646.805497\"/>\r\n      </g>\r\n     </g>\r\n     <g id=\"text_1\">\r\n      <!-- 7 -->\r\n      <defs>\r\n       <path d=\"M 8.203125 72.90625 \r\nL 55.078125 72.90625 \r\nL 55.078125 68.703125 \r\nL 28.609375 0 \r\nL 18.3125 0 \r\nL 43.21875 64.59375 \r\nL 8.203125 64.59375 \r\nz\r\n\" id=\"DejaVuSans-55\"/>\r\n      </defs>\r\n      <g transform=\"translate(148.584291 671.574869)rotate(-45)scale(0.18 -0.18)\">\r\n       <use xlink:href=\"#DejaVuSans-55\"/>\r\n      </g>\r\n     </g>\r\n    </g>\r\n    <g id=\"xtick_2\">\r\n     <g id=\"line2d_2\">\r\n      <g>\r\n       <use style=\"stroke:#000000;stroke-width:0.8;\" x=\"349.34625\" xlink:href=\"#m3d39249b54\" y=\"646.805497\"/>\r\n      </g>\r\n     </g>\r\n     <g id=\"text_2\">\r\n      <!-- 8 -->\r\n      <defs>\r\n       <path d=\"M 31.78125 34.625 \r\nQ 24.75 34.625 20.71875 30.859375 \r\nQ 16.703125 27.09375 16.703125 20.515625 \r\nQ 16.703125 13.921875 20.71875 10.15625 \r\nQ 24.75 6.390625 31.78125 6.390625 \r\nQ 38.8125 6.390625 42.859375 10.171875 \r\nQ 46.921875 13.96875 46.921875 20.515625 \r\nQ 46.921875 27.09375 42.890625 30.859375 \r\nQ 38.875 34.625 31.78125 34.625 \r\nz\r\nM 21.921875 38.8125 \r\nQ 15.578125 40.375 12.03125 44.71875 \r\nQ 8.5 49.078125 8.5 55.328125 \r\nQ 8.5 64.0625 14.71875 69.140625 \r\nQ 20.953125 74.21875 31.78125 74.21875 \r\nQ 42.671875 74.21875 48.875 69.140625 \r\nQ 55.078125 64.0625 55.078125 55.328125 \r\nQ 55.078125 49.078125 51.53125 44.71875 \r\nQ 48 40.375 41.703125 38.8125 \r\nQ 48.828125 37.15625 52.796875 32.3125 \r\nQ 56.78125 27.484375 56.78125 20.515625 \r\nQ 56.78125 9.90625 50.3125 4.234375 \r\nQ 43.84375 -1.421875 31.78125 -1.421875 \r\nQ 19.734375 -1.421875 13.25 4.234375 \r\nQ 6.78125 9.90625 6.78125 20.515625 \r\nQ 6.78125 27.484375 10.78125 32.3125 \r\nQ 14.796875 37.15625 21.921875 38.8125 \r\nz\r\nM 18.3125 54.390625 \r\nQ 18.3125 48.734375 21.84375 45.5625 \r\nQ 25.390625 42.390625 31.78125 42.390625 \r\nQ 38.140625 42.390625 41.71875 45.5625 \r\nQ 45.3125 48.734375 45.3125 54.390625 \r\nQ 45.3125 60.0625 41.71875 63.234375 \r\nQ 38.140625 66.40625 31.78125 66.40625 \r\nQ 25.390625 66.40625 21.84375 63.234375 \r\nQ 18.3125 60.0625 18.3125 54.390625 \r\nz\r\n\" id=\"DejaVuSans-56\"/>\r\n      </defs>\r\n      <g transform=\"translate(348.809291 671.574869)rotate(-45)scale(0.18 -0.18)\">\r\n       <use xlink:href=\"#DejaVuSans-56\"/>\r\n      </g>\r\n     </g>\r\n    </g>\r\n    <g id=\"xtick_3\">\r\n     <g id=\"line2d_3\">\r\n      <g>\r\n       <use style=\"stroke:#000000;stroke-width:0.8;\" x=\"549.57125\" xlink:href=\"#m3d39249b54\" y=\"646.805497\"/>\r\n      </g>\r\n     </g>\r\n     <g id=\"text_3\">\r\n      <!-- 9 -->\r\n      <defs>\r\n       <path d=\"M 10.984375 1.515625 \r\nL 10.984375 10.5 \r\nQ 14.703125 8.734375 18.5 7.8125 \r\nQ 22.3125 6.890625 25.984375 6.890625 \r\nQ 35.75 6.890625 40.890625 13.453125 \r\nQ 46.046875 20.015625 46.78125 33.40625 \r\nQ 43.953125 29.203125 39.59375 26.953125 \r\nQ 35.25 24.703125 29.984375 24.703125 \r\nQ 19.046875 24.703125 12.671875 31.3125 \r\nQ 6.296875 37.9375 6.296875 49.421875 \r\nQ 6.296875 60.640625 12.9375 67.421875 \r\nQ 19.578125 74.21875 30.609375 74.21875 \r\nQ 43.265625 74.21875 49.921875 64.515625 \r\nQ 56.59375 54.828125 56.59375 36.375 \r\nQ 56.59375 19.140625 48.40625 8.859375 \r\nQ 40.234375 -1.421875 26.421875 -1.421875 \r\nQ 22.703125 -1.421875 18.890625 -0.6875 \r\nQ 15.09375 0.046875 10.984375 1.515625 \r\nz\r\nM 30.609375 32.421875 \r\nQ 37.25 32.421875 41.125 36.953125 \r\nQ 45.015625 41.5 45.015625 49.421875 \r\nQ 45.015625 57.28125 41.125 61.84375 \r\nQ 37.25 66.40625 30.609375 66.40625 \r\nQ 23.96875 66.40625 20.09375 61.84375 \r\nQ 16.21875 57.28125 16.21875 49.421875 \r\nQ 16.21875 41.5 20.09375 36.953125 \r\nQ 23.96875 32.421875 30.609375 32.421875 \r\nz\r\n\" id=\"DejaVuSans-57\"/>\r\n      </defs>\r\n      <g transform=\"translate(549.034291 671.574869)rotate(-45)scale(0.18 -0.18)\">\r\n       <use xlink:href=\"#DejaVuSans-57\"/>\r\n      </g>\r\n     </g>\r\n    </g>\r\n    <g id=\"xtick_4\">\r\n     <g id=\"line2d_4\">\r\n      <g>\r\n       <use style=\"stroke:#000000;stroke-width:0.8;\" x=\"749.79625\" xlink:href=\"#m3d39249b54\" y=\"646.805497\"/>\r\n      </g>\r\n     </g>\r\n     <g id=\"text_4\">\r\n      <!-- 10 -->\r\n      <defs>\r\n       <path d=\"M 12.40625 8.296875 \r\nL 28.515625 8.296875 \r\nL 28.515625 63.921875 \r\nL 10.984375 60.40625 \r\nL 10.984375 69.390625 \r\nL 28.421875 72.90625 \r\nL 38.28125 72.90625 \r\nL 38.28125 8.296875 \r\nL 54.390625 8.296875 \r\nL 54.390625 0 \r\nL 12.40625 0 \r\nz\r\n\" id=\"DejaVuSans-49\"/>\r\n       <path d=\"M 31.78125 66.40625 \r\nQ 24.171875 66.40625 20.328125 58.90625 \r\nQ 16.5 51.421875 16.5 36.375 \r\nQ 16.5 21.390625 20.328125 13.890625 \r\nQ 24.171875 6.390625 31.78125 6.390625 \r\nQ 39.453125 6.390625 43.28125 13.890625 \r\nQ 47.125 21.390625 47.125 36.375 \r\nQ 47.125 51.421875 43.28125 58.90625 \r\nQ 39.453125 66.40625 31.78125 66.40625 \r\nz\r\nM 31.78125 74.21875 \r\nQ 44.046875 74.21875 50.515625 64.515625 \r\nQ 56.984375 54.828125 56.984375 36.375 \r\nQ 56.984375 17.96875 50.515625 8.265625 \r\nQ 44.046875 -1.421875 31.78125 -1.421875 \r\nQ 19.53125 -1.421875 13.0625 8.265625 \r\nQ 6.59375 17.96875 6.59375 36.375 \r\nQ 6.59375 54.828125 13.0625 64.515625 \r\nQ 19.53125 74.21875 31.78125 74.21875 \r\nz\r\n\" id=\"DejaVuSans-48\"/>\r\n      </defs>\r\n      <g transform=\"translate(745.210221 679.67301)rotate(-45)scale(0.18 -0.18)\">\r\n       <use xlink:href=\"#DejaVuSans-49\"/>\r\n       <use x=\"63.623047\" xlink:href=\"#DejaVuSans-48\"/>\r\n      </g>\r\n     </g>\r\n    </g>\r\n    <g id=\"text_5\">\r\n     <!-- MonthStart -->\r\n     <defs>\r\n      <path d=\"M 9.1875 72.90625 \r\nL 33.109375 72.90625 \r\nL 49.703125 33.890625 \r\nL 66.40625 72.90625 \r\nL 90.28125 72.90625 \r\nL 90.28125 0 \r\nL 72.515625 0 \r\nL 72.515625 53.328125 \r\nL 55.71875 14.015625 \r\nL 43.796875 14.015625 \r\nL 27 53.328125 \r\nL 27 0 \r\nL 9.1875 0 \r\nz\r\n\" id=\"DejaVuSans-Bold-77\"/>\r\n      <path d=\"M 34.421875 43.5 \r\nQ 28.609375 43.5 25.5625 39.328125 \r\nQ 22.515625 35.15625 22.515625 27.296875 \r\nQ 22.515625 19.4375 25.5625 15.25 \r\nQ 28.609375 11.078125 34.421875 11.078125 \r\nQ 40.140625 11.078125 43.15625 15.25 \r\nQ 46.1875 19.4375 46.1875 27.296875 \r\nQ 46.1875 35.15625 43.15625 39.328125 \r\nQ 40.140625 43.5 34.421875 43.5 \r\nz\r\nM 34.421875 56 \r\nQ 48.53125 56 56.46875 48.375 \r\nQ 64.40625 40.765625 64.40625 27.296875 \r\nQ 64.40625 13.8125 56.46875 6.1875 \r\nQ 48.53125 -1.421875 34.421875 -1.421875 \r\nQ 20.265625 -1.421875 12.28125 6.1875 \r\nQ 4.296875 13.8125 4.296875 27.296875 \r\nQ 4.296875 40.765625 12.28125 48.375 \r\nQ 20.265625 56 34.421875 56 \r\nz\r\n\" id=\"DejaVuSans-Bold-111\"/>\r\n      <path d=\"M 63.375 33.296875 \r\nL 63.375 0 \r\nL 45.796875 0 \r\nL 45.796875 5.421875 \r\nL 45.796875 25.484375 \r\nQ 45.796875 32.5625 45.484375 35.25 \r\nQ 45.171875 37.9375 44.390625 39.203125 \r\nQ 43.359375 40.921875 41.59375 41.875 \r\nQ 39.84375 42.828125 37.59375 42.828125 \r\nQ 32.125 42.828125 29 38.59375 \r\nQ 25.875 34.375 25.875 26.90625 \r\nL 25.875 0 \r\nL 8.40625 0 \r\nL 8.40625 54.6875 \r\nL 25.875 54.6875 \r\nL 25.875 46.6875 \r\nQ 29.828125 51.46875 34.265625 53.734375 \r\nQ 38.71875 56 44.09375 56 \r\nQ 53.5625 56 58.46875 50.1875 \r\nQ 63.375 44.390625 63.375 33.296875 \r\nz\r\n\" id=\"DejaVuSans-Bold-110\"/>\r\n      <path d=\"M 27.484375 70.21875 \r\nL 27.484375 54.6875 \r\nL 45.515625 54.6875 \r\nL 45.515625 42.1875 \r\nL 27.484375 42.1875 \r\nL 27.484375 19 \r\nQ 27.484375 15.1875 29 13.84375 \r\nQ 30.515625 12.5 35.015625 12.5 \r\nL 44 12.5 \r\nL 44 0 \r\nL 29 0 \r\nQ 18.65625 0 14.328125 4.3125 \r\nQ 10.015625 8.640625 10.015625 19 \r\nL 10.015625 42.1875 \r\nL 1.3125 42.1875 \r\nL 1.3125 54.6875 \r\nL 10.015625 54.6875 \r\nL 10.015625 70.21875 \r\nz\r\n\" id=\"DejaVuSans-Bold-116\"/>\r\n      <path d=\"M 63.375 33.296875 \r\nL 63.375 0 \r\nL 45.796875 0 \r\nL 45.796875 5.421875 \r\nL 45.796875 25.390625 \r\nQ 45.796875 32.5625 45.484375 35.25 \r\nQ 45.171875 37.9375 44.390625 39.203125 \r\nQ 43.359375 40.921875 41.59375 41.875 \r\nQ 39.84375 42.828125 37.59375 42.828125 \r\nQ 32.125 42.828125 29 38.59375 \r\nQ 25.875 34.375 25.875 26.90625 \r\nL 25.875 0 \r\nL 8.40625 0 \r\nL 8.40625 75.984375 \r\nL 25.875 75.984375 \r\nL 25.875 46.6875 \r\nQ 29.828125 51.46875 34.265625 53.734375 \r\nQ 38.71875 56 44.09375 56 \r\nQ 53.5625 56 58.46875 50.1875 \r\nQ 63.375 44.390625 63.375 33.296875 \r\nz\r\n\" id=\"DejaVuSans-Bold-104\"/>\r\n      <path d=\"M 59.90625 70.609375 \r\nL 59.90625 55.171875 \r\nQ 53.90625 57.859375 48.1875 59.21875 \r\nQ 42.484375 60.59375 37.40625 60.59375 \r\nQ 30.671875 60.59375 27.4375 58.734375 \r\nQ 24.21875 56.890625 24.21875 52.984375 \r\nQ 24.21875 50.046875 26.390625 48.40625 \r\nQ 28.5625 46.78125 34.28125 45.609375 \r\nL 42.28125 44 \r\nQ 54.4375 41.546875 59.5625 36.5625 \r\nQ 64.703125 31.59375 64.703125 22.40625 \r\nQ 64.703125 10.359375 57.546875 4.46875 \r\nQ 50.390625 -1.421875 35.6875 -1.421875 \r\nQ 28.765625 -1.421875 21.78125 -0.09375 \r\nQ 14.796875 1.21875 7.8125 3.8125 \r\nL 7.8125 19.671875 \r\nQ 14.796875 15.96875 21.3125 14.078125 \r\nQ 27.828125 12.203125 33.890625 12.203125 \r\nQ 40.046875 12.203125 43.3125 14.25 \r\nQ 46.578125 16.3125 46.578125 20.125 \r\nQ 46.578125 23.53125 44.359375 25.390625 \r\nQ 42.140625 27.25 35.5 28.71875 \r\nL 28.21875 30.328125 \r\nQ 17.28125 32.671875 12.21875 37.796875 \r\nQ 7.171875 42.921875 7.171875 51.609375 \r\nQ 7.171875 62.5 14.203125 68.359375 \r\nQ 21.234375 74.21875 34.421875 74.21875 \r\nQ 40.4375 74.21875 46.78125 73.3125 \r\nQ 53.125 72.40625 59.90625 70.609375 \r\nz\r\n\" id=\"DejaVuSans-Bold-83\"/>\r\n      <path d=\"M 32.90625 24.609375 \r\nQ 27.4375 24.609375 24.671875 22.75 \r\nQ 21.921875 20.90625 21.921875 17.28125 \r\nQ 21.921875 13.96875 24.140625 12.078125 \r\nQ 26.375 10.203125 30.328125 10.203125 \r\nQ 35.25 10.203125 38.625 13.734375 \r\nQ 42 17.28125 42 22.609375 \r\nL 42 24.609375 \r\nz\r\nM 59.625 31.203125 \r\nL 59.625 0 \r\nL 42 0 \r\nL 42 8.109375 \r\nQ 38.484375 3.125 34.078125 0.84375 \r\nQ 29.6875 -1.421875 23.390625 -1.421875 \r\nQ 14.890625 -1.421875 9.59375 3.53125 \r\nQ 4.296875 8.5 4.296875 16.40625 \r\nQ 4.296875 26.03125 10.90625 30.515625 \r\nQ 17.53125 35.015625 31.6875 35.015625 \r\nL 42 35.015625 \r\nL 42 36.375 \r\nQ 42 40.53125 38.71875 42.453125 \r\nQ 35.453125 44.390625 28.515625 44.390625 \r\nQ 22.90625 44.390625 18.0625 43.265625 \r\nQ 13.234375 42.140625 9.078125 39.890625 \r\nL 9.078125 53.21875 \r\nQ 14.703125 54.59375 20.359375 55.296875 \r\nQ 26.03125 56 31.6875 56 \r\nQ 46.484375 56 53.046875 50.171875 \r\nQ 59.625 44.34375 59.625 31.203125 \r\nz\r\n\" id=\"DejaVuSans-Bold-97\"/>\r\n      <path d=\"M 49.03125 39.796875 \r\nQ 46.734375 40.875 44.453125 41.375 \r\nQ 42.1875 41.890625 39.890625 41.890625 \r\nQ 33.15625 41.890625 29.515625 37.5625 \r\nQ 25.875 33.25 25.875 25.203125 \r\nL 25.875 0 \r\nL 8.40625 0 \r\nL 8.40625 54.6875 \r\nL 25.875 54.6875 \r\nL 25.875 45.703125 \r\nQ 29.25 51.078125 33.609375 53.53125 \r\nQ 37.984375 56 44.09375 56 \r\nQ 44.96875 56 45.984375 55.921875 \r\nQ 47.015625 55.859375 48.96875 55.609375 \r\nz\r\n\" id=\"DejaVuSans-Bold-114\"/>\r\n     </defs>\r\n     <g transform=\"translate(385.179063 701.516895)scale(0.2 -0.2)\">\r\n      <use xlink:href=\"#DejaVuSans-Bold-77\"/>\r\n      <use x=\"99.511719\" xlink:href=\"#DejaVuSans-Bold-111\"/>\r\n      <use x=\"168.212891\" xlink:href=\"#DejaVuSans-Bold-110\"/>\r\n      <use x=\"239.404297\" xlink:href=\"#DejaVuSans-Bold-116\"/>\r\n      <use x=\"287.207031\" xlink:href=\"#DejaVuSans-Bold-104\"/>\r\n      <use x=\"358.398438\" xlink:href=\"#DejaVuSans-Bold-83\"/>\r\n      <use x=\"430.419922\" xlink:href=\"#DejaVuSans-Bold-116\"/>\r\n      <use x=\"478.222656\" xlink:href=\"#DejaVuSans-Bold-97\"/>\r\n      <use x=\"545.703125\" xlink:href=\"#DejaVuSans-Bold-114\"/>\r\n      <use x=\"595.019531\" xlink:href=\"#DejaVuSans-Bold-116\"/>\r\n     </g>\r\n    </g>\r\n   </g>\r\n   <g id=\"matplotlib.axis_2\">\r\n    <g id=\"ytick_1\">\r\n     <g id=\"line2d_5\">\r\n      <defs>\r\n       <path d=\"M 0 0 \r\nL -3.5 0 \r\n\" id=\"m41f67cdd00\" style=\"stroke:#000000;stroke-width:0.8;\"/>\r\n      </defs>\r\n      <g>\r\n       <use style=\"stroke:#000000;stroke-width:0.8;\" x=\"49.00875\" xlink:href=\"#m41f67cdd00\" y=\"646.805497\"/>\r\n      </g>\r\n     </g>\r\n     <g id=\"text_6\">\r\n      <!-- 0 -->\r\n      <g transform=\"translate(30.55625 651.772372)scale(0.18 -0.18)\">\r\n       <use xlink:href=\"#DejaVuSans-48\"/>\r\n      </g>\r\n     </g>\r\n    </g>\r\n    <g id=\"ytick_2\">\r\n     <g id=\"line2d_6\">\r\n      <g>\r\n       <use style=\"stroke:#000000;stroke-width:0.8;\" x=\"49.00875\" xlink:href=\"#m41f67cdd00\" y=\"450.4853\"/>\r\n      </g>\r\n     </g>\r\n     <g id=\"text_7\">\r\n      <!-- 0 -->\r\n      <g transform=\"translate(30.55625 455.452175)scale(0.18 -0.18)\">\r\n       <use xlink:href=\"#DejaVuSans-48\"/>\r\n      </g>\r\n     </g>\r\n    </g>\r\n    <g id=\"ytick_3\">\r\n     <g id=\"line2d_7\">\r\n      <g>\r\n       <use style=\"stroke:#000000;stroke-width:0.8;\" x=\"49.00875\" xlink:href=\"#m41f67cdd00\" y=\"254.165102\"/>\r\n      </g>\r\n     </g>\r\n     <g id=\"text_8\">\r\n      <!-- 1 -->\r\n      <g transform=\"translate(30.55625 259.131977)scale(0.18 -0.18)\">\r\n       <use xlink:href=\"#DejaVuSans-49\"/>\r\n      </g>\r\n     </g>\r\n    </g>\r\n    <g id=\"ytick_4\">\r\n     <g id=\"line2d_8\">\r\n      <g>\r\n       <use style=\"stroke:#000000;stroke-width:0.8;\" x=\"49.00875\" xlink:href=\"#m41f67cdd00\" y=\"57.844905\"/>\r\n      </g>\r\n     </g>\r\n     <g id=\"text_9\">\r\n      <!-- 1 -->\r\n      <g transform=\"translate(30.55625 62.81178)scale(0.18 -0.18)\">\r\n       <use xlink:href=\"#DejaVuSans-49\"/>\r\n      </g>\r\n     </g>\r\n    </g>\r\n    <g id=\"text_10\">\r\n     <!-- Count -->\r\n     <defs>\r\n      <path d=\"M 67 4 \r\nQ 61.8125 1.3125 56.203125 -0.046875 \r\nQ 50.59375 -1.421875 44.484375 -1.421875 \r\nQ 26.265625 -1.421875 15.625 8.765625 \r\nQ 4.984375 18.953125 4.984375 36.375 \r\nQ 4.984375 53.859375 15.625 64.03125 \r\nQ 26.265625 74.21875 44.484375 74.21875 \r\nQ 50.59375 74.21875 56.203125 72.84375 \r\nQ 61.8125 71.484375 67 68.796875 \r\nL 67 53.71875 \r\nQ 61.765625 57.28125 56.6875 58.9375 \r\nQ 51.609375 60.59375 46 60.59375 \r\nQ 35.9375 60.59375 30.171875 54.140625 \r\nQ 24.421875 47.703125 24.421875 36.375 \r\nQ 24.421875 25.09375 30.171875 18.640625 \r\nQ 35.9375 12.203125 46 12.203125 \r\nQ 51.609375 12.203125 56.6875 13.859375 \r\nQ 61.765625 15.53125 67 19.09375 \r\nz\r\n\" id=\"DejaVuSans-Bold-67\"/>\r\n      <path d=\"M 7.8125 21.296875 \r\nL 7.8125 54.6875 \r\nL 25.390625 54.6875 \r\nL 25.390625 49.21875 \r\nQ 25.390625 44.78125 25.34375 38.0625 \r\nQ 25.296875 31.34375 25.296875 29.109375 \r\nQ 25.296875 22.515625 25.640625 19.609375 \r\nQ 25.984375 16.703125 26.8125 15.375 \r\nQ 27.875 13.671875 29.609375 12.734375 \r\nQ 31.34375 11.8125 33.59375 11.8125 \r\nQ 39.0625 11.8125 42.1875 16.015625 \r\nQ 45.3125 20.21875 45.3125 27.6875 \r\nL 45.3125 54.6875 \r\nL 62.796875 54.6875 \r\nL 62.796875 0 \r\nL 45.3125 0 \r\nL 45.3125 7.90625 \r\nQ 41.359375 3.125 36.9375 0.84375 \r\nQ 32.515625 -1.421875 27.203125 -1.421875 \r\nQ 17.71875 -1.421875 12.765625 4.390625 \r\nQ 7.8125 10.203125 7.8125 21.296875 \r\nz\r\n\" id=\"DejaVuSans-Bold-117\"/>\r\n     </defs>\r\n     <g transform=\"translate(22.396875 370.827748)rotate(-90)scale(0.2 -0.2)\">\r\n      <use xlink:href=\"#DejaVuSans-Bold-67\"/>\r\n      <use x=\"73.388672\" xlink:href=\"#DejaVuSans-Bold-111\"/>\r\n      <use x=\"142.089844\" xlink:href=\"#DejaVuSans-Bold-117\"/>\r\n      <use x=\"213.28125\" xlink:href=\"#DejaVuSans-Bold-110\"/>\r\n      <use x=\"284.472656\" xlink:href=\"#DejaVuSans-Bold-116\"/>\r\n     </g>\r\n    </g>\r\n   </g>\r\n   <g id=\"patch_11\">\r\n    <path d=\"M 49.00875 646.805497 \r\nL 49.00875 28.396875 \r\n\" style=\"fill:none;stroke:#000000;stroke-linecap:square;stroke-linejoin:miter;stroke-width:0.8;\"/>\r\n   </g>\r\n   <g id=\"patch_12\">\r\n    <path d=\"M 849.90875 646.805497 \r\nL 849.90875 28.396875 \r\n\" style=\"fill:none;stroke:#000000;stroke-linecap:square;stroke-linejoin:miter;stroke-width:0.8;\"/>\r\n   </g>\r\n   <g id=\"patch_13\">\r\n    <path d=\"M 49.00875 646.805497 \r\nL 849.90875 646.805497 \r\n\" style=\"fill:none;stroke:#000000;stroke-linecap:square;stroke-linejoin:miter;stroke-width:0.8;\"/>\r\n   </g>\r\n   <g id=\"patch_14\">\r\n    <path d=\"M 49.00875 28.396875 \r\nL 849.90875 28.396875 \r\n\" style=\"fill:none;stroke:#000000;stroke-linecap:square;stroke-linejoin:miter;stroke-width:0.8;\"/>\r\n   </g>\r\n   <g id=\"text_11\">\r\n    <!-- Number of Reported Events by Month -->\r\n    <defs>\r\n     <path d=\"M 9.8125 72.90625 \r\nL 23.09375 72.90625 \r\nL 55.421875 11.921875 \r\nL 55.421875 72.90625 \r\nL 64.984375 72.90625 \r\nL 64.984375 0 \r\nL 51.703125 0 \r\nL 19.390625 60.984375 \r\nL 19.390625 0 \r\nL 9.8125 0 \r\nz\r\n\" id=\"DejaVuSans-78\"/>\r\n     <path d=\"M 8.5 21.578125 \r\nL 8.5 54.6875 \r\nL 17.484375 54.6875 \r\nL 17.484375 21.921875 \r\nQ 17.484375 14.15625 20.5 10.265625 \r\nQ 23.53125 6.390625 29.59375 6.390625 \r\nQ 36.859375 6.390625 41.078125 11.03125 \r\nQ 45.3125 15.671875 45.3125 23.6875 \r\nL 45.3125 54.6875 \r\nL 54.296875 54.6875 \r\nL 54.296875 0 \r\nL 45.3125 0 \r\nL 45.3125 8.40625 \r\nQ 42.046875 3.421875 37.71875 1 \r\nQ 33.40625 -1.421875 27.6875 -1.421875 \r\nQ 18.265625 -1.421875 13.375 4.4375 \r\nQ 8.5 10.296875 8.5 21.578125 \r\nz\r\nM 31.109375 56 \r\nz\r\n\" id=\"DejaVuSans-117\"/>\r\n     <path d=\"M 52 44.1875 \r\nQ 55.375 50.25 60.0625 53.125 \r\nQ 64.75 56 71.09375 56 \r\nQ 79.640625 56 84.28125 50.015625 \r\nQ 88.921875 44.046875 88.921875 33.015625 \r\nL 88.921875 0 \r\nL 79.890625 0 \r\nL 79.890625 32.71875 \r\nQ 79.890625 40.578125 77.09375 44.375 \r\nQ 74.3125 48.1875 68.609375 48.1875 \r\nQ 61.625 48.1875 57.5625 43.546875 \r\nQ 53.515625 38.921875 53.515625 30.90625 \r\nL 53.515625 0 \r\nL 44.484375 0 \r\nL 44.484375 32.71875 \r\nQ 44.484375 40.625 41.703125 44.40625 \r\nQ 38.921875 48.1875 33.109375 48.1875 \r\nQ 26.21875 48.1875 22.15625 43.53125 \r\nQ 18.109375 38.875 18.109375 30.90625 \r\nL 18.109375 0 \r\nL 9.078125 0 \r\nL 9.078125 54.6875 \r\nL 18.109375 54.6875 \r\nL 18.109375 46.1875 \r\nQ 21.1875 51.21875 25.484375 53.609375 \r\nQ 29.78125 56 35.6875 56 \r\nQ 41.65625 56 45.828125 52.96875 \r\nQ 50 49.953125 52 44.1875 \r\nz\r\n\" id=\"DejaVuSans-109\"/>\r\n     <path d=\"M 48.6875 27.296875 \r\nQ 48.6875 37.203125 44.609375 42.84375 \r\nQ 40.53125 48.484375 33.40625 48.484375 \r\nQ 26.265625 48.484375 22.1875 42.84375 \r\nQ 18.109375 37.203125 18.109375 27.296875 \r\nQ 18.109375 17.390625 22.1875 11.75 \r\nQ 26.265625 6.109375 33.40625 6.109375 \r\nQ 40.53125 6.109375 44.609375 11.75 \r\nQ 48.6875 17.390625 48.6875 27.296875 \r\nz\r\nM 18.109375 46.390625 \r\nQ 20.953125 51.265625 25.265625 53.625 \r\nQ 29.59375 56 35.59375 56 \r\nQ 45.5625 56 51.78125 48.09375 \r\nQ 58.015625 40.1875 58.015625 27.296875 \r\nQ 58.015625 14.40625 51.78125 6.484375 \r\nQ 45.5625 -1.421875 35.59375 -1.421875 \r\nQ 29.59375 -1.421875 25.265625 0.953125 \r\nQ 20.953125 3.328125 18.109375 8.203125 \r\nL 18.109375 0 \r\nL 9.078125 0 \r\nL 9.078125 75.984375 \r\nL 18.109375 75.984375 \r\nz\r\n\" id=\"DejaVuSans-98\"/>\r\n     <path d=\"M 56.203125 29.59375 \r\nL 56.203125 25.203125 \r\nL 14.890625 25.203125 \r\nQ 15.484375 15.921875 20.484375 11.0625 \r\nQ 25.484375 6.203125 34.421875 6.203125 \r\nQ 39.59375 6.203125 44.453125 7.46875 \r\nQ 49.3125 8.734375 54.109375 11.28125 \r\nL 54.109375 2.78125 \r\nQ 49.265625 0.734375 44.1875 -0.34375 \r\nQ 39.109375 -1.421875 33.890625 -1.421875 \r\nQ 20.796875 -1.421875 13.15625 6.1875 \r\nQ 5.515625 13.8125 5.515625 26.8125 \r\nQ 5.515625 40.234375 12.765625 48.109375 \r\nQ 20.015625 56 32.328125 56 \r\nQ 43.359375 56 49.78125 48.890625 \r\nQ 56.203125 41.796875 56.203125 29.59375 \r\nz\r\nM 47.21875 32.234375 \r\nQ 47.125 39.59375 43.09375 43.984375 \r\nQ 39.0625 48.390625 32.421875 48.390625 \r\nQ 24.90625 48.390625 20.390625 44.140625 \r\nQ 15.875 39.890625 15.1875 32.171875 \r\nz\r\n\" id=\"DejaVuSans-101\"/>\r\n     <path d=\"M 41.109375 46.296875 \r\nQ 39.59375 47.171875 37.8125 47.578125 \r\nQ 36.03125 48 33.890625 48 \r\nQ 26.265625 48 22.1875 43.046875 \r\nQ 18.109375 38.09375 18.109375 28.8125 \r\nL 18.109375 0 \r\nL 9.078125 0 \r\nL 9.078125 54.6875 \r\nL 18.109375 54.6875 \r\nL 18.109375 46.1875 \r\nQ 20.953125 51.171875 25.484375 53.578125 \r\nQ 30.03125 56 36.53125 56 \r\nQ 37.453125 56 38.578125 55.875 \r\nQ 39.703125 55.765625 41.0625 55.515625 \r\nz\r\n\" id=\"DejaVuSans-114\"/>\r\n     <path id=\"DejaVuSans-32\"/>\r\n     <path d=\"M 30.609375 48.390625 \r\nQ 23.390625 48.390625 19.1875 42.75 \r\nQ 14.984375 37.109375 14.984375 27.296875 \r\nQ 14.984375 17.484375 19.15625 11.84375 \r\nQ 23.34375 6.203125 30.609375 6.203125 \r\nQ 37.796875 6.203125 41.984375 11.859375 \r\nQ 46.1875 17.53125 46.1875 27.296875 \r\nQ 46.1875 37.015625 41.984375 42.703125 \r\nQ 37.796875 48.390625 30.609375 48.390625 \r\nz\r\nM 30.609375 56 \r\nQ 42.328125 56 49.015625 48.375 \r\nQ 55.71875 40.765625 55.71875 27.296875 \r\nQ 55.71875 13.875 49.015625 6.21875 \r\nQ 42.328125 -1.421875 30.609375 -1.421875 \r\nQ 18.84375 -1.421875 12.171875 6.21875 \r\nQ 5.515625 13.875 5.515625 27.296875 \r\nQ 5.515625 40.765625 12.171875 48.375 \r\nQ 18.84375 56 30.609375 56 \r\nz\r\n\" id=\"DejaVuSans-111\"/>\r\n     <path d=\"M 37.109375 75.984375 \r\nL 37.109375 68.5 \r\nL 28.515625 68.5 \r\nQ 23.6875 68.5 21.796875 66.546875 \r\nQ 19.921875 64.59375 19.921875 59.515625 \r\nL 19.921875 54.6875 \r\nL 34.71875 54.6875 \r\nL 34.71875 47.703125 \r\nL 19.921875 47.703125 \r\nL 19.921875 0 \r\nL 10.890625 0 \r\nL 10.890625 47.703125 \r\nL 2.296875 47.703125 \r\nL 2.296875 54.6875 \r\nL 10.890625 54.6875 \r\nL 10.890625 58.5 \r\nQ 10.890625 67.625 15.140625 71.796875 \r\nQ 19.390625 75.984375 28.609375 75.984375 \r\nz\r\n\" id=\"DejaVuSans-102\"/>\r\n     <path d=\"M 44.390625 34.1875 \r\nQ 47.5625 33.109375 50.5625 29.59375 \r\nQ 53.5625 26.078125 56.59375 19.921875 \r\nL 66.609375 0 \r\nL 56 0 \r\nL 46.6875 18.703125 \r\nQ 43.0625 26.03125 39.671875 28.421875 \r\nQ 36.28125 30.8125 30.421875 30.8125 \r\nL 19.671875 30.8125 \r\nL 19.671875 0 \r\nL 9.8125 0 \r\nL 9.8125 72.90625 \r\nL 32.078125 72.90625 \r\nQ 44.578125 72.90625 50.734375 67.671875 \r\nQ 56.890625 62.453125 56.890625 51.90625 \r\nQ 56.890625 45.015625 53.6875 40.46875 \r\nQ 50.484375 35.9375 44.390625 34.1875 \r\nz\r\nM 19.671875 64.796875 \r\nL 19.671875 38.921875 \r\nL 32.078125 38.921875 \r\nQ 39.203125 38.921875 42.84375 42.21875 \r\nQ 46.484375 45.515625 46.484375 51.90625 \r\nQ 46.484375 58.296875 42.84375 61.546875 \r\nQ 39.203125 64.796875 32.078125 64.796875 \r\nz\r\n\" id=\"DejaVuSans-82\"/>\r\n     <path d=\"M 18.109375 8.203125 \r\nL 18.109375 -20.796875 \r\nL 9.078125 -20.796875 \r\nL 9.078125 54.6875 \r\nL 18.109375 54.6875 \r\nL 18.109375 46.390625 \r\nQ 20.953125 51.265625 25.265625 53.625 \r\nQ 29.59375 56 35.59375 56 \r\nQ 45.5625 56 51.78125 48.09375 \r\nQ 58.015625 40.1875 58.015625 27.296875 \r\nQ 58.015625 14.40625 51.78125 6.484375 \r\nQ 45.5625 -1.421875 35.59375 -1.421875 \r\nQ 29.59375 -1.421875 25.265625 0.953125 \r\nQ 20.953125 3.328125 18.109375 8.203125 \r\nz\r\nM 48.6875 27.296875 \r\nQ 48.6875 37.203125 44.609375 42.84375 \r\nQ 40.53125 48.484375 33.40625 48.484375 \r\nQ 26.265625 48.484375 22.1875 42.84375 \r\nQ 18.109375 37.203125 18.109375 27.296875 \r\nQ 18.109375 17.390625 22.1875 11.75 \r\nQ 26.265625 6.109375 33.40625 6.109375 \r\nQ 40.53125 6.109375 44.609375 11.75 \r\nQ 48.6875 17.390625 48.6875 27.296875 \r\nz\r\n\" id=\"DejaVuSans-112\"/>\r\n     <path d=\"M 18.3125 70.21875 \r\nL 18.3125 54.6875 \r\nL 36.8125 54.6875 \r\nL 36.8125 47.703125 \r\nL 18.3125 47.703125 \r\nL 18.3125 18.015625 \r\nQ 18.3125 11.328125 20.140625 9.421875 \r\nQ 21.96875 7.515625 27.59375 7.515625 \r\nL 36.8125 7.515625 \r\nL 36.8125 0 \r\nL 27.59375 0 \r\nQ 17.1875 0 13.234375 3.875 \r\nQ 9.28125 7.765625 9.28125 18.015625 \r\nL 9.28125 47.703125 \r\nL 2.6875 47.703125 \r\nL 2.6875 54.6875 \r\nL 9.28125 54.6875 \r\nL 9.28125 70.21875 \r\nz\r\n\" id=\"DejaVuSans-116\"/>\r\n     <path d=\"M 45.40625 46.390625 \r\nL 45.40625 75.984375 \r\nL 54.390625 75.984375 \r\nL 54.390625 0 \r\nL 45.40625 0 \r\nL 45.40625 8.203125 \r\nQ 42.578125 3.328125 38.25 0.953125 \r\nQ 33.9375 -1.421875 27.875 -1.421875 \r\nQ 17.96875 -1.421875 11.734375 6.484375 \r\nQ 5.515625 14.40625 5.515625 27.296875 \r\nQ 5.515625 40.1875 11.734375 48.09375 \r\nQ 17.96875 56 27.875 56 \r\nQ 33.9375 56 38.25 53.625 \r\nQ 42.578125 51.265625 45.40625 46.390625 \r\nz\r\nM 14.796875 27.296875 \r\nQ 14.796875 17.390625 18.875 11.75 \r\nQ 22.953125 6.109375 30.078125 6.109375 \r\nQ 37.203125 6.109375 41.296875 11.75 \r\nQ 45.40625 17.390625 45.40625 27.296875 \r\nQ 45.40625 37.203125 41.296875 42.84375 \r\nQ 37.203125 48.484375 30.078125 48.484375 \r\nQ 22.953125 48.484375 18.875 42.84375 \r\nQ 14.796875 37.203125 14.796875 27.296875 \r\nz\r\n\" id=\"DejaVuSans-100\"/>\r\n     <path d=\"M 9.8125 72.90625 \r\nL 55.90625 72.90625 \r\nL 55.90625 64.59375 \r\nL 19.671875 64.59375 \r\nL 19.671875 43.015625 \r\nL 54.390625 43.015625 \r\nL 54.390625 34.71875 \r\nL 19.671875 34.71875 \r\nL 19.671875 8.296875 \r\nL 56.78125 8.296875 \r\nL 56.78125 0 \r\nL 9.8125 0 \r\nz\r\n\" id=\"DejaVuSans-69\"/>\r\n     <path d=\"M 2.984375 54.6875 \r\nL 12.5 54.6875 \r\nL 29.59375 8.796875 \r\nL 46.6875 54.6875 \r\nL 56.203125 54.6875 \r\nL 35.6875 0 \r\nL 23.484375 0 \r\nz\r\n\" id=\"DejaVuSans-118\"/>\r\n     <path d=\"M 54.890625 33.015625 \r\nL 54.890625 0 \r\nL 45.90625 0 \r\nL 45.90625 32.71875 \r\nQ 45.90625 40.484375 42.875 44.328125 \r\nQ 39.84375 48.1875 33.796875 48.1875 \r\nQ 26.515625 48.1875 22.3125 43.546875 \r\nQ 18.109375 38.921875 18.109375 30.90625 \r\nL 18.109375 0 \r\nL 9.078125 0 \r\nL 9.078125 54.6875 \r\nL 18.109375 54.6875 \r\nL 18.109375 46.1875 \r\nQ 21.34375 51.125 25.703125 53.5625 \r\nQ 30.078125 56 35.796875 56 \r\nQ 45.21875 56 50.046875 50.171875 \r\nQ 54.890625 44.34375 54.890625 33.015625 \r\nz\r\n\" id=\"DejaVuSans-110\"/>\r\n     <path d=\"M 44.28125 53.078125 \r\nL 44.28125 44.578125 \r\nQ 40.484375 46.53125 36.375 47.5 \r\nQ 32.28125 48.484375 27.875 48.484375 \r\nQ 21.1875 48.484375 17.84375 46.4375 \r\nQ 14.5 44.390625 14.5 40.28125 \r\nQ 14.5 37.15625 16.890625 35.375 \r\nQ 19.28125 33.59375 26.515625 31.984375 \r\nL 29.59375 31.296875 \r\nQ 39.15625 29.25 43.1875 25.515625 \r\nQ 47.21875 21.78125 47.21875 15.09375 \r\nQ 47.21875 7.46875 41.1875 3.015625 \r\nQ 35.15625 -1.421875 24.609375 -1.421875 \r\nQ 20.21875 -1.421875 15.453125 -0.5625 \r\nQ 10.6875 0.296875 5.421875 2 \r\nL 5.421875 11.28125 \r\nQ 10.40625 8.6875 15.234375 7.390625 \r\nQ 20.0625 6.109375 24.8125 6.109375 \r\nQ 31.15625 6.109375 34.5625 8.28125 \r\nQ 37.984375 10.453125 37.984375 14.40625 \r\nQ 37.984375 18.0625 35.515625 20.015625 \r\nQ 33.0625 21.96875 24.703125 23.78125 \r\nL 21.578125 24.515625 \r\nQ 13.234375 26.265625 9.515625 29.90625 \r\nQ 5.8125 33.546875 5.8125 39.890625 \r\nQ 5.8125 47.609375 11.28125 51.796875 \r\nQ 16.75 56 26.8125 56 \r\nQ 31.78125 56 36.171875 55.265625 \r\nQ 40.578125 54.546875 44.28125 53.078125 \r\nz\r\n\" id=\"DejaVuSans-115\"/>\r\n     <path d=\"M 32.171875 -5.078125 \r\nQ 28.375 -14.84375 24.75 -17.8125 \r\nQ 21.140625 -20.796875 15.09375 -20.796875 \r\nL 7.90625 -20.796875 \r\nL 7.90625 -13.28125 \r\nL 13.1875 -13.28125 \r\nQ 16.890625 -13.28125 18.9375 -11.515625 \r\nQ 21 -9.765625 23.484375 -3.21875 \r\nL 25.09375 0.875 \r\nL 2.984375 54.6875 \r\nL 12.5 54.6875 \r\nL 29.59375 11.921875 \r\nL 46.6875 54.6875 \r\nL 56.203125 54.6875 \r\nz\r\n\" id=\"DejaVuSans-121\"/>\r\n     <path d=\"M 9.8125 72.90625 \r\nL 24.515625 72.90625 \r\nL 43.109375 23.296875 \r\nL 61.8125 72.90625 \r\nL 76.515625 72.90625 \r\nL 76.515625 0 \r\nL 66.890625 0 \r\nL 66.890625 64.015625 \r\nL 48.09375 14.015625 \r\nL 38.1875 14.015625 \r\nL 19.390625 64.015625 \r\nL 19.390625 0 \r\nL 9.8125 0 \r\nz\r\n\" id=\"DejaVuSans-77\"/>\r\n     <path d=\"M 54.890625 33.015625 \r\nL 54.890625 0 \r\nL 45.90625 0 \r\nL 45.90625 32.71875 \r\nQ 45.90625 40.484375 42.875 44.328125 \r\nQ 39.84375 48.1875 33.796875 48.1875 \r\nQ 26.515625 48.1875 22.3125 43.546875 \r\nQ 18.109375 38.921875 18.109375 30.90625 \r\nL 18.109375 0 \r\nL 9.078125 0 \r\nL 9.078125 75.984375 \r\nL 18.109375 75.984375 \r\nL 18.109375 46.1875 \r\nQ 21.34375 51.125 25.703125 53.5625 \r\nQ 30.078125 56 35.796875 56 \r\nQ 45.21875 56 50.046875 50.171875 \r\nQ 54.890625 44.34375 54.890625 33.015625 \r\nz\r\n\" id=\"DejaVuSans-104\"/>\r\n    </defs>\r\n    <g transform=\"translate(260.638438 22.396875)scale(0.2 -0.2)\">\r\n     <use xlink:href=\"#DejaVuSans-78\"/>\r\n     <use x=\"74.804688\" xlink:href=\"#DejaVuSans-117\"/>\r\n     <use x=\"138.183594\" xlink:href=\"#DejaVuSans-109\"/>\r\n     <use x=\"235.595703\" xlink:href=\"#DejaVuSans-98\"/>\r\n     <use x=\"299.072266\" xlink:href=\"#DejaVuSans-101\"/>\r\n     <use x=\"360.595703\" xlink:href=\"#DejaVuSans-114\"/>\r\n     <use x=\"401.708984\" xlink:href=\"#DejaVuSans-32\"/>\r\n     <use x=\"433.496094\" xlink:href=\"#DejaVuSans-111\"/>\r\n     <use x=\"494.677734\" xlink:href=\"#DejaVuSans-102\"/>\r\n     <use x=\"529.882812\" xlink:href=\"#DejaVuSans-32\"/>\r\n     <use x=\"561.669922\" xlink:href=\"#DejaVuSans-82\"/>\r\n     <use x=\"626.652344\" xlink:href=\"#DejaVuSans-101\"/>\r\n     <use x=\"688.175781\" xlink:href=\"#DejaVuSans-112\"/>\r\n     <use x=\"751.652344\" xlink:href=\"#DejaVuSans-111\"/>\r\n     <use x=\"812.833984\" xlink:href=\"#DejaVuSans-114\"/>\r\n     <use x=\"853.947266\" xlink:href=\"#DejaVuSans-116\"/>\r\n     <use x=\"893.15625\" xlink:href=\"#DejaVuSans-101\"/>\r\n     <use x=\"954.679688\" xlink:href=\"#DejaVuSans-100\"/>\r\n     <use x=\"1018.15625\" xlink:href=\"#DejaVuSans-32\"/>\r\n     <use x=\"1049.943359\" xlink:href=\"#DejaVuSans-69\"/>\r\n     <use x=\"1113.126953\" xlink:href=\"#DejaVuSans-118\"/>\r\n     <use x=\"1172.306641\" xlink:href=\"#DejaVuSans-101\"/>\r\n     <use x=\"1233.830078\" xlink:href=\"#DejaVuSans-110\"/>\r\n     <use x=\"1297.208984\" xlink:href=\"#DejaVuSans-116\"/>\r\n     <use x=\"1336.417969\" xlink:href=\"#DejaVuSans-115\"/>\r\n     <use x=\"1388.517578\" xlink:href=\"#DejaVuSans-32\"/>\r\n     <use x=\"1420.304688\" xlink:href=\"#DejaVuSans-98\"/>\r\n     <use x=\"1483.78125\" xlink:href=\"#DejaVuSans-121\"/>\r\n     <use x=\"1542.960938\" xlink:href=\"#DejaVuSans-32\"/>\r\n     <use x=\"1574.748047\" xlink:href=\"#DejaVuSans-77\"/>\r\n     <use x=\"1661.027344\" xlink:href=\"#DejaVuSans-111\"/>\r\n     <use x=\"1722.208984\" xlink:href=\"#DejaVuSans-110\"/>\r\n     <use x=\"1785.587891\" xlink:href=\"#DejaVuSans-116\"/>\r\n     <use x=\"1824.796875\" xlink:href=\"#DejaVuSans-104\"/>\r\n    </g>\r\n   </g>\r\n   <g id=\"legend_1\">\r\n    <g id=\"patch_15\">\r\n     <path d=\"M 791.235313 80.43125 \r\nL 842.90875 80.43125 \r\nQ 844.90875 80.43125 844.90875 78.43125 \r\nL 844.90875 35.396875 \r\nQ 844.90875 33.396875 842.90875 33.396875 \r\nL 791.235313 33.396875 \r\nQ 789.235313 33.396875 789.235313 35.396875 \r\nL 789.235313 78.43125 \r\nQ 789.235313 80.43125 791.235313 80.43125 \r\nz\r\n\" style=\"fill:#ffffff;opacity:0.8;stroke:#cccccc;stroke-linejoin:miter;\"/>\r\n    </g>\r\n    <g id=\"text_12\">\r\n     <!-- randid -->\r\n     <defs>\r\n      <path d=\"M 34.28125 27.484375 \r\nQ 23.390625 27.484375 19.1875 25 \r\nQ 14.984375 22.515625 14.984375 16.5 \r\nQ 14.984375 11.71875 18.140625 8.90625 \r\nQ 21.296875 6.109375 26.703125 6.109375 \r\nQ 34.1875 6.109375 38.703125 11.40625 \r\nQ 43.21875 16.703125 43.21875 25.484375 \r\nL 43.21875 27.484375 \r\nz\r\nM 52.203125 31.203125 \r\nL 52.203125 0 \r\nL 43.21875 0 \r\nL 43.21875 8.296875 \r\nQ 40.140625 3.328125 35.546875 0.953125 \r\nQ 30.953125 -1.421875 24.3125 -1.421875 \r\nQ 15.921875 -1.421875 10.953125 3.296875 \r\nQ 6 8.015625 6 15.921875 \r\nQ 6 25.140625 12.171875 29.828125 \r\nQ 18.359375 34.515625 30.609375 34.515625 \r\nL 43.21875 34.515625 \r\nL 43.21875 35.40625 \r\nQ 43.21875 41.609375 39.140625 45 \r\nQ 35.0625 48.390625 27.6875 48.390625 \r\nQ 23 48.390625 18.546875 47.265625 \r\nQ 14.109375 46.140625 10.015625 43.890625 \r\nL 10.015625 52.203125 \r\nQ 14.9375 54.109375 19.578125 55.046875 \r\nQ 24.21875 56 28.609375 56 \r\nQ 40.484375 56 46.34375 49.84375 \r\nQ 52.203125 43.703125 52.203125 31.203125 \r\nz\r\n\" id=\"DejaVuSans-97\"/>\r\n      <path d=\"M 9.421875 54.6875 \r\nL 18.40625 54.6875 \r\nL 18.40625 0 \r\nL 9.421875 0 \r\nz\r\nM 9.421875 75.984375 \r\nL 18.40625 75.984375 \r\nL 18.40625 64.59375 \r\nL 9.421875 64.59375 \r\nz\r\n\" id=\"DejaVuSans-105\"/>\r\n     </defs>\r\n     <g transform=\"translate(801.04625 44.995312)scale(0.1 -0.1)\">\r\n      <use xlink:href=\"#DejaVuSans-114\"/>\r\n      <use x=\"41.113281\" xlink:href=\"#DejaVuSans-97\"/>\r\n      <use x=\"102.392578\" xlink:href=\"#DejaVuSans-110\"/>\r\n      <use x=\"165.771484\" xlink:href=\"#DejaVuSans-100\"/>\r\n      <use x=\"229.248047\" xlink:href=\"#DejaVuSans-105\"/>\r\n      <use x=\"257.03125\" xlink:href=\"#DejaVuSans-100\"/>\r\n     </g>\r\n    </g>\r\n    <g id=\"patch_16\">\r\n     <path d=\"M 793.235313 59.673437 \r\nL 813.235313 59.673437 \r\nL 813.235313 52.673437 \r\nL 793.235313 52.673437 \r\nz\r\n\" style=\"fill:#3274a1;\"/>\r\n    </g>\r\n    <g id=\"text_13\">\r\n     <!-- R23 -->\r\n     <defs>\r\n      <path d=\"M 19.1875 8.296875 \r\nL 53.609375 8.296875 \r\nL 53.609375 0 \r\nL 7.328125 0 \r\nL 7.328125 8.296875 \r\nQ 12.9375 14.109375 22.625 23.890625 \r\nQ 32.328125 33.6875 34.8125 36.53125 \r\nQ 39.546875 41.84375 41.421875 45.53125 \r\nQ 43.3125 49.21875 43.3125 52.78125 \r\nQ 43.3125 58.59375 39.234375 62.25 \r\nQ 35.15625 65.921875 28.609375 65.921875 \r\nQ 23.96875 65.921875 18.8125 64.3125 \r\nQ 13.671875 62.703125 7.8125 59.421875 \r\nL 7.8125 69.390625 \r\nQ 13.765625 71.78125 18.9375 73 \r\nQ 24.125 74.21875 28.421875 74.21875 \r\nQ 39.75 74.21875 46.484375 68.546875 \r\nQ 53.21875 62.890625 53.21875 53.421875 \r\nQ 53.21875 48.921875 51.53125 44.890625 \r\nQ 49.859375 40.875 45.40625 35.40625 \r\nQ 44.1875 33.984375 37.640625 27.21875 \r\nQ 31.109375 20.453125 19.1875 8.296875 \r\nz\r\n\" id=\"DejaVuSans-50\"/>\r\n      <path d=\"M 40.578125 39.3125 \r\nQ 47.65625 37.796875 51.625 33 \r\nQ 55.609375 28.21875 55.609375 21.1875 \r\nQ 55.609375 10.40625 48.1875 4.484375 \r\nQ 40.765625 -1.421875 27.09375 -1.421875 \r\nQ 22.515625 -1.421875 17.65625 -0.515625 \r\nQ 12.796875 0.390625 7.625 2.203125 \r\nL 7.625 11.71875 \r\nQ 11.71875 9.328125 16.59375 8.109375 \r\nQ 21.484375 6.890625 26.8125 6.890625 \r\nQ 36.078125 6.890625 40.9375 10.546875 \r\nQ 45.796875 14.203125 45.796875 21.1875 \r\nQ 45.796875 27.640625 41.28125 31.265625 \r\nQ 36.765625 34.90625 28.71875 34.90625 \r\nL 20.21875 34.90625 \r\nL 20.21875 43.015625 \r\nL 29.109375 43.015625 \r\nQ 36.375 43.015625 40.234375 45.921875 \r\nQ 44.09375 48.828125 44.09375 54.296875 \r\nQ 44.09375 59.90625 40.109375 62.90625 \r\nQ 36.140625 65.921875 28.71875 65.921875 \r\nQ 24.65625 65.921875 20.015625 65.03125 \r\nQ 15.375 64.15625 9.8125 62.3125 \r\nL 9.8125 71.09375 \r\nQ 15.4375 72.65625 20.34375 73.4375 \r\nQ 25.25 74.21875 29.59375 74.21875 \r\nQ 40.828125 74.21875 47.359375 69.109375 \r\nQ 53.90625 64.015625 53.90625 55.328125 \r\nQ 53.90625 49.265625 50.4375 45.09375 \r\nQ 46.96875 40.921875 40.578125 39.3125 \r\nz\r\n\" id=\"DejaVuSans-51\"/>\r\n     </defs>\r\n     <g transform=\"translate(821.235313 59.673437)scale(0.1 -0.1)\">\r\n      <use xlink:href=\"#DejaVuSans-82\"/>\r\n      <use x=\"69.482422\" xlink:href=\"#DejaVuSans-50\"/>\r\n      <use x=\"133.105469\" xlink:href=\"#DejaVuSans-51\"/>\r\n     </g>\r\n    </g>\r\n    <g id=\"patch_17\">\r\n     <path d=\"M 793.235313 74.351562 \r\nL 813.235313 74.351562 \r\nL 813.235313 67.351562 \r\nL 793.235313 67.351562 \r\nz\r\n\" style=\"fill:#e1812c;\"/>\r\n    </g>\r\n    <g id=\"text_14\">\r\n     <!-- R27 -->\r\n     <g transform=\"translate(821.235313 74.351562)scale(0.1 -0.1)\">\r\n      <use xlink:href=\"#DejaVuSans-82\"/>\r\n      <use x=\"69.482422\" xlink:href=\"#DejaVuSans-50\"/>\r\n      <use x=\"133.105469\" xlink:href=\"#DejaVuSans-55\"/>\r\n     </g>\r\n    </g>\r\n   </g>\r\n  </g>\r\n </g>\r\n <defs>\r\n  <clipPath id=\"pe2ae7d54be\">\r\n   <rect height=\"618.408622\" width=\"800.9\" x=\"49.00875\" y=\"28.396875\"/>\r\n  </clipPath>\r\n </defs>\r\n</svg>\r\n",
      "image/png": "[encoded data removed]"
     },
     "metadata": {
      "needs_background": "light"
     }
    }
   ],
   "source": [
    "count_var = om_col_dict['modatestart']\n",
    "sv_nm = 'event_count_per_month.png'\n",
    "myfig = visualize.visualize_counts(om_data_update, om_col_dict, count_var, fig_sets)\n",
    "myfig.savefig(os.path.join(site_fldr,sv_nm), dpi=my_savedpi)"
   ]
  },
  {
   "cell_type": "code",
   "execution_count": null,
   "metadata": {},
   "outputs": [],
   "source": []
  }
 ],
 "metadata": {
  "kernelspec": {
   "name": "python368jvsc74a57bd0815358f67539739ea43e1bd62f6f94d99b16687a0e3ec9b848ac47ecc4d8fa27",
   "display_name": "Python 3.6.8 64-bit"
  },
  "language_info": {
   "codemirror_mode": {
    "name": "ipython",
    "version": 3
   },
   "file_extension": ".py",
   "mimetype": "text/x-python",
   "name": "python",
   "nbconvert_exporter": "python",
   "pygments_lexer": "ipython3",
   "version": "3.6.8"
  }
 },
 "nbformat": 4,
 "nbformat_minor": 4
}