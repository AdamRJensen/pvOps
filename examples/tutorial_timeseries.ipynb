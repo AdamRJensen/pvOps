{
 "metadata": {
  "language_info": {
   "codemirror_mode": {
    "name": "ipython",
    "version": 3
   },
   "file_extension": ".py",
   "mimetype": "text/x-python",
   "name": "python",
   "nbconvert_exporter": "python",
   "pygments_lexer": "ipython3",
   "version": "3.6.8"
  },
  "orig_nbformat": 2,
  "kernelspec": {
   "name": "python368jvsc74a57bd0815358f67539739ea43e1bd62f6f94d99b16687a0e3ec9b848ac47ecc4d8fa27",
   "display_name": "Python 3.6.8 64-bit"
  }
 },
 "nbformat": 4,
 "nbformat_minor": 2,
 "cells": [
  {
   "cell_type": "code",
   "execution_count": 1,
   "metadata": {},
   "outputs": [],
   "source": [
    "import numpy as np\n",
    "import pandas as pd\n",
    "import matplotlib.pyplot as plt\n",
    "import sys\n",
    "import os"
   ]
  },
  {
   "cell_type": "code",
   "execution_count": 2,
   "metadata": {},
   "outputs": [],
   "source": [
    "timeseries_path = os.path.join('..', 'pvops', 'timeseries')\n",
    "sys.path.append('..')\n",
    "sys.path.append(timeseries_path)"
   ]
  },
  {
   "cell_type": "code",
   "execution_count": 3,
   "metadata": {},
   "outputs": [],
   "source": [
    "from pvops.timeseries import utils, preprocess\n",
    "from pvops.timeseries.models import linear\n",
    "from pvops.text2time import utils as t2t_utils, preprocess as t2t_preprocess"
   ]
  },
  {
   "cell_type": "code",
   "execution_count": 4,
   "metadata": {},
   "outputs": [],
   "source": [
    "example_OMpath = os.path.join('example_data', 'example_om_data2.csv')\n",
    "example_prodpath = os.path.join('example_data', 'example_prod_with_covariates.csv')\n",
    "example_metapath = os.path.join('example_data', 'example_metadata2.csv')"
   ]
  },
  {
   "cell_type": "code",
   "execution_count": 5,
   "metadata": {},
   "outputs": [],
   "source": [
    "prod_data = pd.read_csv(example_prodpath, error_bad_lines=False, engine='python')\n",
    "om_data = pd.read_csv(example_OMpath, error_bad_lines=False, engine='python')\n",
    "metadata = pd.read_csv(example_metapath, error_bad_lines=False, engine='python')"
   ]
  },
  {
   "cell_type": "code",
   "execution_count": 6,
   "metadata": {},
   "outputs": [
    {
     "output_type": "execute_result",
     "data": {
      "text/plain": [
       "                  date randid  generated_kW   expected_kW  irrad_poa_Wm2  \\\n",
       "0  2018-04-01 07:00:00    R15         0.475      0.527845        0.02775   \n",
       "1  2018-04-01 08:00:00    R15      1332.547   1685.979445       87.91450   \n",
       "2  2018-04-01 09:00:00    R15      6616.573   7343.981135      367.90350   \n",
       "3  2018-04-01 10:00:00    R15      8847.800  10429.876422      508.28700   \n",
       "4  2018-04-01 11:00:00    R15     11607.389  12981.228814      618.79450   \n",
       "\n",
       "   temp_amb_C  wind_speed_ms  temp_mod_C  \n",
       "0      16.570         4.2065     14.1270  \n",
       "1      16.998         4.1065     15.8610  \n",
       "2      20.168         4.5095     24.5745  \n",
       "3      21.987         4.9785     30.7740  \n",
       "4      23.417         4.6410     35.8695  "
      ],
      "text/html": "<div>\n<style scoped>\n    .dataframe tbody tr th:only-of-type {\n        vertical-align: middle;\n    }\n\n    .dataframe tbody tr th {\n        vertical-align: top;\n    }\n\n    .dataframe thead th {\n        text-align: right;\n    }\n</style>\n<table border=\"1\" class=\"dataframe\">\n  <thead>\n    <tr style=\"text-align: right;\">\n      <th></th>\n      <th>date</th>\n      <th>randid</th>\n      <th>generated_kW</th>\n      <th>expected_kW</th>\n      <th>irrad_poa_Wm2</th>\n      <th>temp_amb_C</th>\n      <th>wind_speed_ms</th>\n      <th>temp_mod_C</th>\n    </tr>\n  </thead>\n  <tbody>\n    <tr>\n      <th>0</th>\n      <td>2018-04-01 07:00:00</td>\n      <td>R15</td>\n      <td>0.475</td>\n      <td>0.527845</td>\n      <td>0.02775</td>\n      <td>16.570</td>\n      <td>4.2065</td>\n      <td>14.1270</td>\n    </tr>\n    <tr>\n      <th>1</th>\n      <td>2018-04-01 08:00:00</td>\n      <td>R15</td>\n      <td>1332.547</td>\n      <td>1685.979445</td>\n      <td>87.91450</td>\n      <td>16.998</td>\n      <td>4.1065</td>\n      <td>15.8610</td>\n    </tr>\n    <tr>\n      <th>2</th>\n      <td>2018-04-01 09:00:00</td>\n      <td>R15</td>\n      <td>6616.573</td>\n      <td>7343.981135</td>\n      <td>367.90350</td>\n      <td>20.168</td>\n      <td>4.5095</td>\n      <td>24.5745</td>\n    </tr>\n    <tr>\n      <th>3</th>\n      <td>2018-04-01 10:00:00</td>\n      <td>R15</td>\n      <td>8847.800</td>\n      <td>10429.876422</td>\n      <td>508.28700</td>\n      <td>21.987</td>\n      <td>4.9785</td>\n      <td>30.7740</td>\n    </tr>\n    <tr>\n      <th>4</th>\n      <td>2018-04-01 11:00:00</td>\n      <td>R15</td>\n      <td>11607.389</td>\n      <td>12981.228814</td>\n      <td>618.79450</td>\n      <td>23.417</td>\n      <td>4.6410</td>\n      <td>35.8695</td>\n    </tr>\n  </tbody>\n</table>\n</div>"
     },
     "metadata": {},
     "execution_count": 6
    }
   ],
   "source": [
    "prod_data.head()"
   ]
  },
  {
   "cell_type": "code",
   "execution_count": 7,
   "metadata": {},
   "outputs": [],
   "source": [
    "#Format for dictionaries is {pvops variable: user-specific column names}\n",
    "prod_col_dict = {'siteid': 'randid', \n",
    "                 'timestamp': 'date', \n",
    "                 'powerprod': 'generated_kW',\n",
    "                 'irradiance':'irrad_poa_Wm2',\n",
    "                 'temperature':'temp_mod_C', # Optional parameter, used by one of the modeling structures\n",
    "                 'baseline': 'IEC_pstep', #user's name choice for new column (baseline expected energy defined by user or calculated based on IEC)\n",
    "                 'dcsize': 'dcsize', #user's name choice for new column (System DC-size, extracted from meta-data)\n",
    "                 'compared': 'Compared',#user's name choice for new column\n",
    "                 'energy_pstep': 'Energy_pstep'} #user's name choice for new column\n",
    "\n",
    "metad_col_dict = {'siteid': 'randid',\n",
    "                  'dcsize': 'DC_Size_kW',\n",
    "                  'COD': 'COD'}"
   ]
  },
  {
   "cell_type": "code",
   "execution_count": 8,
   "metadata": {},
   "outputs": [],
   "source": [
    "prod_data_converted = t2t_preprocess.prod_date_convert(prod_data, prod_col_dict)\n",
    "prod_data_datena_d, _ = t2t_preprocess.prod_nadate_process(prod_data_converted, prod_col_dict, pnadrop=True)"
   ]
  },
  {
   "cell_type": "code",
   "execution_count": 9,
   "metadata": {},
   "outputs": [],
   "source": [
    "# for xcol in ['irrad_poa_Wm2', 'temp_mod_C', 'wind_speed_ms']:\n",
    "#     plt.scatter(prod_data_datena_d[xcol], prod_data_datena_d[prod_col_dict['powerprod']])\n",
    "#     plt.title(xcol)\n",
    "#     plt.grid()\n",
    "#     plt.show()"
   ]
  },
  {
   "cell_type": "code",
   "execution_count": 10,
   "metadata": {},
   "outputs": [
    {
     "output_type": "stream",
     "name": "stdout",
     "text": [
      "\nBegin training.\n[OLS] Mean squared error: 2932190.66\n[OLS] Coefficient of determination: 0.92\n[RANSAC] Mean squared error: 3031673.62\n[RANSAC] Coefficient of determination: 0.92\n\nBegin testing.\n[OLS] Mean squared error: 8895298.09\n[OLS] Coefficient of determination: 0.79\n[RANSAC] Mean squared error: 9474790.17\n[RANSAC] Coefficient of determination: 0.78\n"
     ]
    }
   ],
   "source": [
    "model_prod_data = prod_data_datena_d.dropna(subset=['irrad_poa_Wm2', 'temp_amb_C', 'wind_speed_ms']+[prod_col_dict['powerprod']])\n",
    "model_prod_data = model_prod_data[model_prod_data['randid'] == 'R15']\n",
    "\n",
    "model = linear.modeller(model_prod_data,\n",
    "                prod_col_dict,\n",
    "                metadata,\n",
    "                metad_col_dict,\n",
    "                kernel_type='polynomial',\n",
    "                X_parameters=['irrad_poa_Wm2', 'temp_amb_C', 'wind_speed_ms'],\n",
    "                degree=2,\n",
    "                verbose=1)"
   ]
  },
  {
   "cell_type": "code",
   "execution_count": 13,
   "metadata": {},
   "outputs": [
    {
     "output_type": "execute_result",
     "data": {
      "text/plain": [
       "[('OLS', LinearRegression()), ('RANSAC', RANSACRegressor(random_state=42))]"
      ]
     },
     "metadata": {},
     "execution_count": 13
    }
   ],
   "source": [
    "model.estimators"
   ]
  }
 ]
}